{
 "cells": [
  {
   "cell_type": "code",
   "execution_count": 1,
   "metadata": {},
   "outputs": [],
   "source": [
    "import pandas as pd\n",
    "import numpy as np\n",
    "import matplotlib.pyplot as plt\n",
    "import seaborn as sns\n",
    "from scipy import sparse\n",
    "\n",
    "# ML Libraries\n",
    "from sklearn.model_selection import train_test_split\n",
    "from sklearn.linear_model import LogisticRegression\n",
    "from sklearn.ensemble import RandomForestClassifier\n",
    "import random\n",
    "from sklearn.neural_network import MLPClassifier\n",
    "from sklearn.metrics.pairwise import cosine_similarity\n",
    "%matplotlib inline"
   ]
  },
  {
   "cell_type": "markdown",
   "metadata": {},
   "source": [
    "# Create a model that uses one-hot encoding of the topics"
   ]
  },
  {
   "cell_type": "markdown",
   "metadata": {},
   "source": [
    "### Load in the project data"
   ]
  },
  {
   "cell_type": "code",
   "execution_count": 2,
   "metadata": {},
   "outputs": [],
   "source": [
    "all_projects = pd.read_pickle(\"../Data/project_topics_data\")"
   ]
  },
  {
   "cell_type": "code",
   "execution_count": 3,
   "metadata": {},
   "outputs": [
    {
     "data": {
      "text/html": [
       "<div>\n",
       "<style scoped>\n",
       "    .dataframe tbody tr th:only-of-type {\n",
       "        vertical-align: middle;\n",
       "    }\n",
       "\n",
       "    .dataframe tbody tr th {\n",
       "        vertical-align: top;\n",
       "    }\n",
       "\n",
       "    .dataframe thead th {\n",
       "        text-align: right;\n",
       "    }\n",
       "</style>\n",
       "<table border=\"1\" class=\"dataframe\">\n",
       "  <thead>\n",
       "    <tr style=\"text-align: right;\">\n",
       "      <th></th>\n",
       "      <th>UN_regions</th>\n",
       "      <th>country</th>\n",
       "      <th>description</th>\n",
       "      <th>error</th>\n",
       "      <th>guid</th>\n",
       "      <th>origin</th>\n",
       "      <th>regions</th>\n",
       "      <th>tags</th>\n",
       "      <th>title</th>\n",
       "      <th>topics</th>\n",
       "      <th>...</th>\n",
       "      <th>topics_Sound</th>\n",
       "      <th>topics_Psychology</th>\n",
       "      <th>topics_Chemistry</th>\n",
       "      <th>topics_Animals</th>\n",
       "      <th>topics_Food</th>\n",
       "      <th>topics_Astronomy_and_Space</th>\n",
       "      <th>topics_Archeology_and_Cultural</th>\n",
       "      <th>topics_Geography</th>\n",
       "      <th>topics_Geology_and_Earth_Science</th>\n",
       "      <th>topics_Biology</th>\n",
       "    </tr>\n",
       "  </thead>\n",
       "  <tbody>\n",
       "    <tr>\n",
       "      <th>0</th>\n",
       "      <td>[]</td>\n",
       "      <td></td>\n",
       "      <td>Foldit is a revolutionary new computer game en...</td>\n",
       "      <td>NaN</td>\n",
       "      <td>5f80760d-8398-5091-b3c6-f34c39216e88</td>\n",
       "      <td>scistarter</td>\n",
       "      <td>[]</td>\n",
       "      <td>[dna, protein]</td>\n",
       "      <td>Foldit</td>\n",
       "      <td>[topics_Computers_and_Technology, topics_Biolo...</td>\n",
       "      <td>...</td>\n",
       "      <td>0</td>\n",
       "      <td>0</td>\n",
       "      <td>1</td>\n",
       "      <td>0</td>\n",
       "      <td>0</td>\n",
       "      <td>0</td>\n",
       "      <td>0</td>\n",
       "      <td>0</td>\n",
       "      <td>0</td>\n",
       "      <td>1</td>\n",
       "    </tr>\n",
       "    <tr>\n",
       "      <th>1</th>\n",
       "      <td>[]</td>\n",
       "      <td></td>\n",
       "      <td>Firefly Watch combines an annual summer evenin...</td>\n",
       "      <td>NaN</td>\n",
       "      <td>c9664e0c-819a-5a42-b4bb-5f25d83a486d</td>\n",
       "      <td>scistarter</td>\n",
       "      <td>[{'geometry': {'type': 'MultiPolygon', 'coordi...</td>\n",
       "      <td>[boston, cambridge, fireflies, insects, lightn...</td>\n",
       "      <td>Firefly Watch</td>\n",
       "      <td>[topics_Nature_and_Outdoors, topics_Animals, t...</td>\n",
       "      <td>...</td>\n",
       "      <td>0</td>\n",
       "      <td>0</td>\n",
       "      <td>0</td>\n",
       "      <td>1</td>\n",
       "      <td>0</td>\n",
       "      <td>0</td>\n",
       "      <td>0</td>\n",
       "      <td>0</td>\n",
       "      <td>0</td>\n",
       "      <td>1</td>\n",
       "    </tr>\n",
       "    <tr>\n",
       "      <th>2</th>\n",
       "      <td>[]</td>\n",
       "      <td></td>\n",
       "      <td>Galaxy Zoo needs your help to classify galaxie...</td>\n",
       "      <td>NaN</td>\n",
       "      <td>11f65e99-b463-5e01-ac11-ae59c021dfe7</td>\n",
       "      <td>scistarter</td>\n",
       "      <td>[]</td>\n",
       "      <td>[astronomy &amp; space, space, space science, zoon...</td>\n",
       "      <td>Galaxy Zoo</td>\n",
       "      <td>[topics_Astronomy_and_Space, topics_Computers_...</td>\n",
       "      <td>...</td>\n",
       "      <td>0</td>\n",
       "      <td>0</td>\n",
       "      <td>0</td>\n",
       "      <td>0</td>\n",
       "      <td>0</td>\n",
       "      <td>1</td>\n",
       "      <td>0</td>\n",
       "      <td>0</td>\n",
       "      <td>0</td>\n",
       "      <td>0</td>\n",
       "    </tr>\n",
       "    <tr>\n",
       "      <th>3</th>\n",
       "      <td>[]</td>\n",
       "      <td>None</td>\n",
       "      <td>Pay attention to the plants and animals in you...</td>\n",
       "      <td>NaN</td>\n",
       "      <td>wilsoncenter:27-107</td>\n",
       "      <td>scistarter</td>\n",
       "      <td>[{'geometry': {'type': 'MultiPolygon', 'coordi...</td>\n",
       "      <td>[android, animal, animals, app, biology, clima...</td>\n",
       "      <td>Nature's Notebook</td>\n",
       "      <td>[topics_Ocean,_Water,_Marine_and_Terrestrial, ...</td>\n",
       "      <td>...</td>\n",
       "      <td>0</td>\n",
       "      <td>0</td>\n",
       "      <td>0</td>\n",
       "      <td>1</td>\n",
       "      <td>0</td>\n",
       "      <td>0</td>\n",
       "      <td>0</td>\n",
       "      <td>0</td>\n",
       "      <td>0</td>\n",
       "      <td>1</td>\n",
       "    </tr>\n",
       "    <tr>\n",
       "      <th>4</th>\n",
       "      <td>[]</td>\n",
       "      <td></td>\n",
       "      <td>A recent issue of Make magazine (http://makezi...</td>\n",
       "      <td>NaN</td>\n",
       "      <td>ae91e967-6eec-5aef-ab3a-7d86ceff737a</td>\n",
       "      <td>scistarter</td>\n",
       "      <td>[]</td>\n",
       "      <td>[]</td>\n",
       "      <td>Laser Harp: Build It Yourself</td>\n",
       "      <td>[topics_Computers_and_Technology, topics_Sound...</td>\n",
       "      <td>...</td>\n",
       "      <td>1</td>\n",
       "      <td>0</td>\n",
       "      <td>0</td>\n",
       "      <td>0</td>\n",
       "      <td>0</td>\n",
       "      <td>0</td>\n",
       "      <td>0</td>\n",
       "      <td>0</td>\n",
       "      <td>0</td>\n",
       "      <td>0</td>\n",
       "    </tr>\n",
       "  </tbody>\n",
       "</table>\n",
       "<p>5 rows × 39 columns</p>\n",
       "</div>"
      ],
      "text/plain": [
       "  UN_regions country                                        description error  \\\n",
       "0         []          Foldit is a revolutionary new computer game en...   NaN   \n",
       "1         []          Firefly Watch combines an annual summer evenin...   NaN   \n",
       "2         []          Galaxy Zoo needs your help to classify galaxie...   NaN   \n",
       "3         []    None  Pay attention to the plants and animals in you...   NaN   \n",
       "4         []          A recent issue of Make magazine (http://makezi...   NaN   \n",
       "\n",
       "                                   guid      origin  \\\n",
       "0  5f80760d-8398-5091-b3c6-f34c39216e88  scistarter   \n",
       "1  c9664e0c-819a-5a42-b4bb-5f25d83a486d  scistarter   \n",
       "2  11f65e99-b463-5e01-ac11-ae59c021dfe7  scistarter   \n",
       "3                   wilsoncenter:27-107  scistarter   \n",
       "4  ae91e967-6eec-5aef-ab3a-7d86ceff737a  scistarter   \n",
       "\n",
       "                                             regions  \\\n",
       "0                                                 []   \n",
       "1  [{'geometry': {'type': 'MultiPolygon', 'coordi...   \n",
       "2                                                 []   \n",
       "3  [{'geometry': {'type': 'MultiPolygon', 'coordi...   \n",
       "4                                                 []   \n",
       "\n",
       "                                                tags  \\\n",
       "0                                     [dna, protein]   \n",
       "1  [boston, cambridge, fireflies, insects, lightn...   \n",
       "2  [astronomy & space, space, space science, zoon...   \n",
       "3  [android, animal, animals, app, biology, clima...   \n",
       "4                                                 []   \n",
       "\n",
       "                           title  \\\n",
       "0                         Foldit   \n",
       "1                  Firefly Watch   \n",
       "2                     Galaxy Zoo   \n",
       "3              Nature's Notebook   \n",
       "4  Laser Harp: Build It Yourself   \n",
       "\n",
       "                                              topics  ... topics_Sound  \\\n",
       "0  [topics_Computers_and_Technology, topics_Biolo...  ...            0   \n",
       "1  [topics_Nature_and_Outdoors, topics_Animals, t...  ...            0   \n",
       "2  [topics_Astronomy_and_Space, topics_Computers_...  ...            0   \n",
       "3  [topics_Ocean,_Water,_Marine_and_Terrestrial, ...  ...            0   \n",
       "4  [topics_Computers_and_Technology, topics_Sound...  ...            1   \n",
       "\n",
       "   topics_Psychology  topics_Chemistry  topics_Animals  topics_Food  \\\n",
       "0                  0                 1               0            0   \n",
       "1                  0                 0               1            0   \n",
       "2                  0                 0               0            0   \n",
       "3                  0                 0               1            0   \n",
       "4                  0                 0               0            0   \n",
       "\n",
       "   topics_Astronomy_and_Space  topics_Archeology_and_Cultural  \\\n",
       "0                           0                               0   \n",
       "1                           0                               0   \n",
       "2                           1                               0   \n",
       "3                           0                               0   \n",
       "4                           0                               0   \n",
       "\n",
       "   topics_Geography  topics_Geology_and_Earth_Science  topics_Biology  \n",
       "0                 0                                 0               1  \n",
       "1                 0                                 0               1  \n",
       "2                 0                                 0               0  \n",
       "3                 0                                 0               1  \n",
       "4                 0                                 0               0  \n",
       "\n",
       "[5 rows x 39 columns]"
      ]
     },
     "execution_count": 3,
     "metadata": {},
     "output_type": "execute_result"
    }
   ],
   "source": [
    "all_projects.head()"
   ]
  },
  {
   "cell_type": "markdown",
   "metadata": {},
   "source": [
    "### Get arrays for topics"
   ]
  },
  {
   "cell_type": "code",
   "execution_count": 4,
   "metadata": {},
   "outputs": [],
   "source": [
    "topic_cols = [col for col in all_projects.columns if 'topics_' in col]"
   ]
  },
  {
   "cell_type": "code",
   "execution_count": 5,
   "metadata": {},
   "outputs": [],
   "source": [
    "# Combine the topics columns into an array\n",
    "all_projects['combined'] = all_projects[topic_cols].values.tolist()"
   ]
  },
  {
   "cell_type": "code",
   "execution_count": 6,
   "metadata": {},
   "outputs": [
    {
     "data": {
      "text/plain": [
       "1781"
      ]
     },
     "execution_count": 6,
     "metadata": {},
     "output_type": "execute_result"
    }
   ],
   "source": [
    "len(all_projects)"
   ]
  },
  {
   "cell_type": "code",
   "execution_count": 7,
   "metadata": {},
   "outputs": [],
   "source": [
    "# Filter out the project we are going to test using\n",
    "test_project_id = 169\n",
    "filtered_projects = all_projects[all_projects['project_id'] != test_project_id]"
   ]
  },
  {
   "cell_type": "markdown",
   "metadata": {},
   "source": [
    "### Generate user profile topic vectors"
   ]
  },
  {
   "cell_type": "code",
   "execution_count": 8,
   "metadata": {},
   "outputs": [],
   "source": [
    "profilesProjects = pd.read_pickle('../Data/useful_profile_project_adj')"
   ]
  },
  {
   "cell_type": "code",
   "execution_count": 9,
   "metadata": {},
   "outputs": [],
   "source": [
    "def generateProfile(projects, userProjects):\n",
    "    # Get the ids of projects that the user has interacted with\n",
    "    project_ids = list(userProjects[userProjects == 1].index)\n",
    "\n",
    "    project_topics = []\n",
    "\n",
    "    for project_id in project_ids:       \n",
    "        project_topics.extend(projects[projects['project_id'] == int(project_id)]['combined'].tolist())\n",
    "        \n",
    "    # Make a 'user profile' out of these projects\n",
    "    projects_fields_combined = [ sum(x) for x in zip(*project_topics) ]\n",
    "\n",
    "    # Set this part of the profile to the user profile\n",
    "    return projects_fields_combined"
   ]
  },
  {
   "cell_type": "code",
   "execution_count": 10,
   "metadata": {},
   "outputs": [],
   "source": [
    "profilesProjects['profile_topics'] = profilesProjects.apply(lambda x: generateProfile(filtered_projects, x), axis=1)\n",
    "profilesProjects = profilesProjects.reset_index()"
   ]
  },
  {
   "cell_type": "code",
   "execution_count": 11,
   "metadata": {},
   "outputs": [
    {
     "data": {
      "text/plain": [
       "0    [2, 3, 4, 0, 0, 0, 4, 6, 4, 2, 1, 10, 9, 0, 0,...\n",
       "1    [1, 0, 1, 0, 0, 0, 0, 0, 3, 1, 0, 0, 0, 0, 1, ...\n",
       "2    [1, 2, 3, 0, 1, 1, 3, 2, 2, 1, 2, 3, 3, 0, 1, ...\n",
       "3    [0, 0, 1, 0, 0, 0, 0, 0, 1, 0, 0, 2, 2, 0, 1, ...\n",
       "4    [0, 0, 0, 0, 0, 0, 0, 0, 0, 0, 0, 0, 0, 0, 0, ...\n",
       "Name: profile_topics, dtype: object"
      ]
     },
     "execution_count": 11,
     "metadata": {},
     "output_type": "execute_result"
    }
   ],
   "source": [
    "profilesProjects['profile_topics'].head()"
   ]
  },
  {
   "cell_type": "markdown",
   "metadata": {},
   "source": [
    "### Construct our list of vectors to find similarity"
   ]
  },
  {
   "cell_type": "code",
   "execution_count": 42,
   "metadata": {},
   "outputs": [],
   "source": [
    "# Convert all the user profile titles into a list of strings\n",
    "fields = profilesProjects['profile_topics'].tolist()\n",
    "\n",
    "# Get the title of the project that we are trying to predict\n",
    "new_project_topics = all_projects[all_projects['project_id'] == test_project_id].iloc[0]['combined']\n",
    "\n",
    "# Complete the list of titles\n",
    "fields = fields + [new_project_topics]"
   ]
  },
  {
   "cell_type": "code",
   "execution_count": 45,
   "metadata": {},
   "outputs": [],
   "source": [
    "fields = np.array([np.array(xi) for xi in fields])"
   ]
  },
  {
   "cell_type": "code",
   "execution_count": 46,
   "metadata": {},
   "outputs": [
    {
     "data": {
      "text/plain": [
       "(4867, 27)"
      ]
     },
     "execution_count": 46,
     "metadata": {},
     "output_type": "execute_result"
    }
   ],
   "source": [
    "fields.shape"
   ]
  },
  {
   "cell_type": "code",
   "execution_count": 47,
   "metadata": {},
   "outputs": [],
   "source": [
    "fields = sparse.csr_matrix(np.array(fields)) "
   ]
  },
  {
   "cell_type": "markdown",
   "metadata": {},
   "source": [
    "### Generate Cosin Similarities for the vectors"
   ]
  },
  {
   "cell_type": "code",
   "execution_count": 48,
   "metadata": {},
   "outputs": [],
   "source": [
    "# Generate the cosine similarities for all the fields\n",
    "cosine_similarities = cosine_similarity(fields, Y=None, dense_output=True)"
   ]
  },
  {
   "cell_type": "markdown",
   "metadata": {},
   "source": [
    "### Make predictions"
   ]
  },
  {
   "cell_type": "code",
   "execution_count": 49,
   "metadata": {},
   "outputs": [],
   "source": [
    "predictions = cosine_similarities[-1][:-1]"
   ]
  },
  {
   "cell_type": "code",
   "execution_count": 50,
   "metadata": {},
   "outputs": [
    {
     "name": "stdout",
     "output_type": "stream",
     "text": [
      "(4866,)\n",
      "(4866, 1222)\n"
     ]
    }
   ],
   "source": [
    "print(predictions.shape)\n",
    "print(profilesProjects.shape)"
   ]
  },
  {
   "cell_type": "markdown",
   "metadata": {},
   "source": [
    "# Precision and Recall"
   ]
  },
  {
   "cell_type": "code",
   "execution_count": 51,
   "metadata": {},
   "outputs": [
    {
     "name": "stdout",
     "output_type": "stream",
     "text": [
      "169\n"
     ]
    }
   ],
   "source": [
    "print(test_project_id)"
   ]
  },
  {
   "cell_type": "code",
   "execution_count": 52,
   "metadata": {},
   "outputs": [],
   "source": [
    "# Extract the true values for this project\n",
    "y_true = profilesProjects[test_project_id]"
   ]
  },
  {
   "cell_type": "code",
   "execution_count": 62,
   "metadata": {},
   "outputs": [],
   "source": [
    "# Get the predicted values for this project\n",
    "y_pred = (predictions > 0.5)*1"
   ]
  },
  {
   "cell_type": "code",
   "execution_count": 63,
   "metadata": {},
   "outputs": [
    {
     "name": "stdout",
     "output_type": "stream",
     "text": [
      "True\n"
     ]
    }
   ],
   "source": [
    "# Check the sizes\n",
    "print(y_true.shape == y_pred.shape)"
   ]
  },
  {
   "cell_type": "code",
   "execution_count": 64,
   "metadata": {},
   "outputs": [
    {
     "data": {
      "text/plain": [
       "(0.5200611934416226, 0.5383792429254713, 0.44395599814311537, None)"
      ]
     },
     "execution_count": 64,
     "metadata": {},
     "output_type": "execute_result"
    }
   ],
   "source": [
    "from sklearn.metrics import precision_recall_fscore_support\n",
    "precision_recall_fscore_support(y_true, y_pred, average='macro')"
   ]
  },
  {
   "cell_type": "markdown",
   "metadata": {},
   "source": [
    "### Review the ids of profiles"
   ]
  },
  {
   "cell_type": "code",
   "execution_count": 65,
   "metadata": {},
   "outputs": [
    {
     "name": "stdout",
     "output_type": "stream",
     "text": [
      "749\n",
      "['001bedb58aa43c8d3596b5b522ba1040', '00536e1575193e409e255cd02ed9d205', '009e5dfe604e3dc2568717dccc438392', '00d4005887bcce01071866724babfe28', '012c7142fd399d7eaf7cb0e933d27593', '02ef22d6e0457a15e725755722fd1ae9', '031620af1a9bf80899f701432ea1fe78', '0348d3fd3368aec4c52f54ca6347555d', '040cac92698a77a5e1e999fdd65d3121', '0455a6da9d6491a526c87062681b22a5', '04b445275781a10310b19fed6ee94172', '0504ffa689ac23ca0ab0d5553f07cbfd', '0510761b7894865537070a1511629c99', '055d2fe39f4c06a8c6c3ae1c4c336d33', '0573cab0f18af5b59dce30bcbac61bc8', '0574aac1b04ac557c1ec936a2f94c0e8', '06218b96c81734acf53ca0be9428758f', '064ed8e79a321aa1b352c799348eba6e', '075b86d756561f8eedce820564db87f3', '07c5f66554a2e9697ed7a413bae2247c', '07f91ce1ac65934c95a83f78ec82d65e', '0858addc162ee5d95aa5d21887984e7f', '087df1d77a390412129203fa5b39ce1b', '094906e6a2d185ea0d1d9e644386a85b', '095c506355e8ffb386433f18f57f9d00', '0972d5ac1f7bdfbb0cf5605fbfbfdd77', '09d134a07f769f2da2b425b5129c3e10', '0a31886a18b1637f3a1333461cbc9a6f', '0a50b364143f230aa999575133f68c77', '0a5847ac66dde5f168bbbdebe57303a4', '0b4b3da2e834c6a9cf2d65a66801b2af', '0b7ce178531a9db949a5d192c8e12ca6', '0bf825c41dd581ec3c639cb8e5ff53c4', '0c2f78ce6f0f07a85e8e24950da30562', '0c48287f0affadf9ad6840295373baab', '0c6a4a950068cf5a100231f2939e6ee0', '0c736077a9ec09e2ec93ec775732fbc4', '0cbb38be1f73cb15bd2e6d79e29c19f1', '0d943cddee098f02ec0e84c527ca607c', '0e181b83d54abe5ed53779a90f7b471e', '0e52525734f57247b39fb83fff8b2733', '0edd26ad15b5787d0d53f722a4f37e7d', '0f663714e41172a5f828828ce999b6da', '1074ce05454136788fb4812e1ef6ea7c', '10a34a5fa885bd9162a6ddd634dc00fc', '10b83569669ce68bb466898f6ccb58e3', '110f8681185bf35e6b9b274f921df37d', '1113640aa4d5a70dec461d85deba2df5', '114da8c3511c36ba02eeba48a03d299c', '1211caec5018a0e82c81004aae22fce8', '128691b2b0fb90f09ba7e4a3088e02e6', '12c24a9ff3f84fc447e1341956e909cd', '134b3c0c9a51d050709d6df426b730f8', '136591631c4f745c86c8a33fb3dc90fd', '13f6a2cbc7a1c16ff2c7d8b057498fe1', '14283d0e06d41b1d63de1dfae57348a2', '1512e7fae37b547527e157d219335f24', '1566cbaab382bcdf9dd190350e55c9c7', '15f17df65d30a8deb20446f0f9d07cdc', '160326df9f9b127dd0f19b9413ff7db0', '169baebdc1625ae8f5fb9f4e3e834cd0', '16cb7f3a7c82bb56995f422b32037a8a', '170b103e715596af8db021d44852f396', '1717550c19ec68523a53e00ce103c0a2', '182a63b9d8c9b6908d3c1afd020ec7fa', '184a09b2ebedb87b961961beda7f78be', '197772725592aa23ce79bb934e4e7fc9', '1a223fb79e20f9e5aefa3e96b32952fc', '1a5bcbb6018074fdecb686c4efe9568d', '1a7fcba2f38215c1a6036ed9d92d37a9', '1ab72d36fef787a41ef93aee6d84412f', '1b3a6f58cdec972348b75933b8f30c33', '1b9e79191451e8edcfb04789c3a60db0', '1bb705f58ab341f2bd8a7cd65d0766b3', '1c2affa838c52cdaebcd1fa554ff76b4', '1c92ca3430cc506e420204ce9d102b6c', '1c9f4a548bbb67af0b5a94e35cd11be9', '1d1254978297bb04d373b9a34c09d8f8', '1d1fe56de305692db47e060e2792b7e2', '1d76d09aea69b065b9d65012ebbfe346', '1d7dddaa088496373800930d91f4aa14', '1da013ae2647fff7fb60d33b236d06d8', '1e90c129c0fe47f834dd641a14f76b36', '1f75b275f1fbbe58b14c43d2c6e44e8b', '1f9a799ab0394e65b903b55100188e99', '1f9f304a44f14e8b421770e6875b6f86', '1fa96d2b4731cca9cc3d356123a58787', '20a4a44b4e7a316ac0718f5166efd807', '2141c910dea1e351510b821203bc1261', '2145674ab3d1bd4e2d12e1719688c121', '21525d374b7b67788eb037b510c3ebb5', '21b03610ef682fe9142cbf7c72689e50', '21dc2e1bb9ba1b79bd0bd41422eb74c9', '2244b9cc9ee6afd6463aee38ef7c31ea', '2262c1e84a6ee6770755d01962af08ba', '229a82057c578b8c3be56318cbb19b3b', '22ab4fdca1d700e715295461bdaf5dd1', '238327386faf183017d2c94f32a7a3cf', '23cadcd809e84202e69cfe11092dab2a', '24384a5d0f2239b9c56fd7cc85ce00fe', '24c45c1cd4c147537148ed17be791d01', '24f190e6462baa8a703955e6ae26e414', '252a742804b12bf45f35d06a0c4c6638', '25424316f7c09c843c2ad9ae4e06fa16', '256a2bdd146045a531244fde4da212d3', '25a5900dd1b4514d0316bb13d9f7a34e', '25b75b7fbd6979a44bb2aee3ed55130b', '25ead23592e443ba6c2058912b02da56', '2609e9e279748668672de691e4e6a7c9', '26a3546dc6f7b2e0f3643e8390691ffe', '27b7636927f1bd0ffcbb3e69b93d391f', '27bba25fbc12c16265bbc2ad62e1cf94', '285698a0da43afddf8dced46be9fbc44', '28ebe037abe0a66af06cbe8fbf247de7', '290eec50da004629a641760d73b56bc1', '29a1b84f1dcf921a38b24a448f289c29', '29f443366c915665b58f6ac822a5156d', '2a3470547d62c8a9a37d2370fea54983', '2a809fe7eb4c52cac7b57fc277ad1450', '2a8a8b6ea79a6f93049df68e66b8c397', '2ac7d7baec367098c5b08f30e9f9d9a0', '2afe02b2e09d69a99eb6abc0231f3a06', '2c6e8938232b8c59e0e191339ef819d4', '2c9f9bd1786c13b74998bc32ce2aff13', '2cd18e9ff7757517f9e68b468b2efa8b', '2d528eecd3f11e1e032259a2c35360f0', '2e2a802ca4c311956e67c11da093289e', '2e42161f00544666ab9887f7ebddf606', '2e555391c4fe0ff44520c0c6bbcb8235', '2eea381c4d414efd6e02cf3c06702562', '2f6c15c5c912616a0d8798c487161b6e', '2f86fc7958bd1c25239c80ab739b5bf5', '2f99b35da8956b6e048be293d5f8354a', '301a1c85a56550b23ba99a19f14e71fe', '3066b2b045c274975914c171747dd779', '30b51a0976b6c37dcca2f7b6ccce48f0', '30c236039ac39043fd24857263bfa53f', '30e7641fbb46b8034c0d2dd73c61b2d3', '320ddd6c1bfbc07555166553e0e0895b', '32d6e63a92306a376e75f7b484e59c0e', '3311e1e2fe5e3ecc93ee3a44b04b5864', '339c625784dd6a2d7682b1cd0aac0f7e', '33a0317375c12e080d0714a1902ee45e', '348cd8ac76e62a78fe9dfd6817fe1b61', '34be6f251030a55498a1a85286718c92', '3562303db509868110b10e5ce582ac58', '35655d8c50c868655bd02912dc66778b', '3619147f320a2d2e858cdb9c7760e1b2', '362a09937b159364cd13e2c023483a62', '362c96454a21e28518504fe92ede2d71', '36396abe53e951a0efa4cdada8be5f83', '36a42dee4ef8384b3f4769633c7c361a', '36d7235b4bc2f485c10bfc6ed1833d19', '36ee56f05d74a196e49ffb1c7bc3b5af', '371d675c9c1e07fac4ebb1de67d1d620', '3765e64f66b542d5988b160d603f9d88', '3789f736a56a55cb7482fd9389764cab', '37d27db854b8b12da0d8891fe2fb1ee3', '38699511b30c3471b8f8863a9cd6c373', '386c0db1b34678f7137ff2f659f05e07', '38d5fdf008cf4644170b1fa0798aa18c', '3905c63c4be09605a2ded27d21b21ccc', '3a163ce24f1e58054f342113e8364033', '3a2ceee160a0ae1f5798c965dac3e2e1', '3a7b0d3d76307e1fbaef4d44a63124aa', '3ac2940e1567242ca01598862ce70dcc', '3ae993f5c47be1a4ae9ccd238b539ab9', '3b1db92b481ae4ebf234aa69df58806f', '3b6a08a3fd3ea4e4cff79e08d66754ba', '3b8e139ca3921718050a9bcbd4bf378c', '3c157e2df145675cddb8914447286e63', '3cc8fb13d4c382012f35ceaaf40e8162', '3da03127f3f9fa1181d73306bc4aa6d5', '3e15f2c438360bc266c9492bf011e0d1', '3e6c7c8e8b0c082dce74a090475b7977', '3ee644e1f2179ea8b9f5f8020b5248b3', '3f86773dd99cf4c25d21be49a9771a77', '3f91075be3eefc53c153ebea5798c4a3', '3fb45b731728737f4d38e02062e50d6f', '401aa9b3843be584710efb8e4223a501', '4024d954dd54814014a8f453efc13334', '40446e268ddb2f0ceecd3f5980d44b24', '41662b0cc1f6a7e8913a491841d665e2', '417c302b01db2d93ffdd46a0a93f0620', '41abb8b6c251b3eb7e2e111a6bf67448', '41e5a81c8af7515bb87dc15f8aff7193', '424472695fe396dc36ef0074c0e3fa9c', '425e668070181c1d82caf68b7e7a6774', '426d0f83eac12dad1d7cd698072b07ae', '427eee8ce117ee048793f4ae4179d3da', '43185e6bab8c41e91c43d5ee51e754aa', '43577f7dc37e91ee74937bede5b73f22', '43e022da6b3664e4cd34aba2c36f5fd1', '43f4aedfbbc7a7471011b388415d34f0', '445aabf3f85bb9dd41ac4f5bac15575e', '448274c761204f96f2c9c22fdd62ade0', '44843582a41673546c40c726a7e50ea0', '44a69752c34f856f7c1f2214338a7a10', '4561a3a610ba9f55c53cd1079da3aea8', '456ac33eb69f1967e148434043b19492', '4618230f38492b2d7753f5d047659d6e', '46649d4398d78999db430135bc1a5906', '46cc60ae411b951a3d0517b9bcdd11e0', '4775f33d137751a57fd95cff76fb3ea3', '4823b6994c64f8097342b8d47c57e563', '487280adfe564c7e7f1147b15bd72b28', '48ca703dd41562bd07fb8b690e33354c', '4925897538d3fdae6e43778e22b7c286', '494bc442d7a2864b8550bf188f358b15', '495b934067ec556f9309c19aea5048bc', '4969d1a6c013774aca6c4fa9557fa59c', '498575ec6d6a94f217f92a9b77902d10', '4ace284b2f26be0fca09eb3136d50634', '4bfe1c4801645f64a42ee5bb469bdb76', '4cf1014da9d2816be9b0986ef9c584bf', '4d08a860fc5ef47e8adcd56f734d17dd', '4d0d5774949b13984972f6ee58dcaaac', '4e1f7aef8465b5eeb8b564be0add0cff', '4ecda409d2182e674e16029ea25783da', '4eee1e5b8518a8467c9e786f39df226a', '4f03f319b7e3ac69a5be0eee6cd39331', '4f3922c17b1c07252f9e0e8db49c517b', '4f5ba63f47e84b65ce823680fa2c3924', '4f610f2efa4268736b3ffacc6e59006f', '4fb1c5704b16e1a2ca837bf4a2ff1dba', '50074cd73366b97ec769a7ba90360571', '508cad369bbccd9ed5f22bf9f0b680eb', '508f051e02a784f149744a001ff56b9a', '50d5b705ee8f7f9796c0970dd9bfca3d', '51c592a53cc7a8bf8729085e0ad82a29', '5203cb3abac4c7d541e6d8c9bad9de37', '528777f2b131d2738bf6f2a85669b311', '536609fbb9db2eeeebdd6407013a0eee', '53dabe9a505f5d25b3f70cfc31a926a3', '542a9c9ab7737b324f134ac48c56d53c', '54eb3c23082265a0fb92024cf460b803', '55367407f5b494129addcd93b0e17607', '557edacb7cf350db2d24b5ba5a94ae47', '55c3a0cfdfdb149092f28db9b76bb2da', '562c3a2506346346fbac2557927db0f6', '569fb6f819aed87ea3d471941c608bcd', '573f15b0932ec033c3d39def1b6f6246', '577845eb13a05d62357c2eef00a8c392', '57fa254282c431805cd775e699db021f', '57fd523f66106e315c99fc0b1d911cd9', '58175c112f803fb64d3310a55560c719', '582fe83d633e023b9fb3defbb812d93e', '587477fb6bdd4736646c531bc55f880c', '593dc00faff5ab0b6651851f1336d538', '5949731d6d6dda75aa61c0d1c8530e8f', '594fc6f69d8fb2e2006310d9148158b3', '595abf1e686fc6fd1918397d50d25866', '59eb7d20a8874d1166579f76aba81db4', '5a83a1a3cc8910eb7d7f6de0255b7d6c', '5a9d7541d463820fa65e8ad1c08745dc', '5af0e8556e7295a1786c3bdf041bb976', '5afd76d8d1dccf78c2612404f1a7eebc', '5b01db9ef424c3c65ab7e592f7faecb4', '5b609af2f8233b56781c7de27a982f94', '5b98b0fca71c579acd062fc615f42560', '5c13f37f8984188ee2b3e3b37a51c024', '5c2132265d52a2e1fe081437cdac5458', '5c736b28668257a660a438f20c1a781c', '5c7de092458ea5ec6c609453db045284', '5d768d26b123519b4667d7f3030ad530', '5d8648cc96517fcd440ae4aa723dea33', '5db0a19b6ad2b8ce6e657eb789d19c4d', '5db79232d2547857b04cb25b9be80fab', '5e13b33d9387df3cee582fbd4cbc5c33', '5e48cbe5adc4ecac12e2e07f703d8e3f', '5e6b0b6f9a1a974409d512d0e284aa7a', '5efef13241d36bba0a9b69663a72a48b', '5f038ce7544bebebf783714e2fe6b48f', '5f376d74075a91dfd438449cd27295e7', '60d73ab56115b83df17bdaf356c0c717', '6114781504d68dfe6d47f05294673179', '61f7dbf90d1398cb7060d0355baa4589', '62854cc0a9513f3dfce8ebd2c0cd52f3', '62ddc3536cacf73f83986b419abdef99', '62f554e22d2b14dbac549399509c9c8d', '63b23d0b4621e6b53553129f3515c8da', '63bb76bcd0e417e2e20ce3052904a492', '63dc6cb7f3aad758b43558d0226fbb8a', '63f4108833bddfa56eec68123da1fce6', '63fafe8b8196569b11fe89b9b582c4d2', '64287abd94fc444a89bbd55c5777591c', '6438d506c667b28f9ed9e10b13de0909', '64c7cc28bf30439534ea606697aec2c7', '64d4eb41786f4b8cfd837db9daca9042', '6525620550e044c55017168aafe8ca12', '65e5e617fce50b7e4523accf646a2426', '6617a2f82e82ff6bac5cb3a7311ffaa1', '66d71a6c6e588c805ac03240eae926e0', '671d5e9050d7decba834c56703e10dd4', '678a16119443ff96155061f08179fa18', '67a92fd440a7e6bef5c9449140d74ee5', '68613aeb5f20ba9a15840575ec0eb56a', '68a16b6d7df66c84745b83d65a4a5ae8', '68d7ac0413c5341b2d0991883236faaf', '69481418c2e1cc526436aa0085b82a93', '694cd9c405f39cd6034c3183665a0763', '69fd101ea4c6f64edbaa3ff3fe35443b', '6a0fc0546d680e58f5c63a7fabfcf5d9', '6a4cb1b11e337d3ba89a938584cebf5c', '6aac830c669e76270fa8c7272d7e9e1d', '6b75bbe1013f256c8b57ab89b6af354b', '6ba40928ecc02d6fd9c0d37c7295b0bb', '6bd6568e921d89a7e83b4deaa56a5e35', '6c2b24e32324a86c29bd45d6f84c9c27', '6c59e3aef3f0e62a4ff1cac88750041e', '6c81aee701b5fdf6b1107945b726dd62', '6c8deddbb476d2236174d9088d6969d1', '6cdfa9d833b6734a7f692a73d99edd1b', '6cfea1b58f569eeb2257ec4320b94468', '6d47d34d95e910b0608b3368ef47be58', '6d5c9634642fc196d0bd9ff4363fdc74', '6d5e3ddd93a0c0b35f81b9834235debc', '6d7cbb83e9aca2d08126d6d64f0a0dbe', '6d90519a603743e2b9be276ed4385572', '6dbef01945618f0e9bc6613b619b40ec', '6e09fdcdf724f32bbfea3e67d698f001', '6e0c7a83263cecadf933cfd25cca1142', '6ee9b781902a0b8b6e8ebf551f1bec5b', '6f13148b32cf63053cf35f4402fe449f', '6f3e91ff0999feedf5fc598870af250f', '6f873f537454b47d26aaa391de850618', '6f9c56886cbf05a3294eecd77e4e4561', '6fcb61165bb27166385d20b40955945e', '700e5d846f948fdfc44f3f98bda88305', '702505edbaa0037ad658bd2104b1864d', '70cbc4bfc9c1cda24406e7572c95e85b', '7177b6423de46c08bec2d3ec0c165bf9', '7181740f98f86b4a33c7ddec4dc8f1b6', '718e92a0a86f4b89f0a16294a83f5f9f', '71b252ec6b7889674b7e2e0d935bd9cd', '72fb1b15c27c773dbaa3562558d9ba3b', '731d68052481afad679caa52e610dd7e', '7364abfea5cbe11673175341571ce7b3', '737933401922685f3ec01bb3f82520e2', '73ae845ce3250fcc79b5c56a348870a8', '73dffa53041fcfbf18b7cbb728868bc1', '73e12c8c8a9c12305cf49c96f8b74286', '7459e4f61957727ad7460c93dfad2c0c', '75a0398230a518d4c1c234e18bf972ca', '75c9089301dfa669896016c32ba2d15e', '76adf5149e8b84299df0fdd846225bbb', '76c8a2ce4c3de4c6b593635f2137ba80', '772268f474d77ccc059c0740e351a052', '77efca8893c28e8ad01bee5bbe170195', '78725acfb0ef6df28641741660abda65', '7883ef9793fbbddb413d013113d07035', '7897a147f3269b580781ad7f7285fac6', '78fe03847c74b01ec5c3e761dd522329', '7a2287702528c1f4d4c179e9c3045609', '7a4fc454f12b9a069d9d5d56081827a8', '7a62d98d99dbd24c194f625f2259d418', '7aef786a6eab7b9ea89ba4d87c836ec8', '7b29f410c8ae964578d60745561235c4', '7bd5dd2f0eee1118f442446e2ab93f5e', '7dd2a38fe2a99bf352de02f8d0117aa0', '7de7cc378b333a09b9064afd85dc5302', '7e5a320d782280e5464bb3fd3e9c270d', '7e872e9439ba04a06648b81b89575a50', '7f0743f028a6c79043c8adb37a7f3aab', '7f13b83753d4986dcad3dd057f1307ed', '7f809edda518ce988b62739335c12b61', '80d6cc3287387ea62823124e4dec70dd', '80dc075255b105019ea49b6896efafb9', '811a25ce9f9d8405782b959e2ffa8f60', '817637a06d067e89a1f890fee60522c1', '81add2e448c9083f512a3abc528ee701', '81e0584f1f59e6192b0f150879f0a3ad', '820abfb59a7d2344032576bb2aa72f1c', '8228f4e57f940688d597b4e5321839cc', '823ee13d2454c937d412c3ed22565d78', '825aebb67f0e09708e69fb0b56015358', '829fba241248a3edf995c7ea601dcfc7', '82ae3f897d19e79c464df71124e177e6', '82d1f5c821eca70d177afab652a67e1a', '8307d494b43ca42c995119c4bf8cead5', '836523ac27f403499f595a3a481b171e', '837e4d6f8265a8c4e064e93eb99e79a0', '83dbcd19cd4ef2e137aa9e8e7997a152', '83e5dedbd3b47c21f197daf0f780fdbe', '83eb50bb1d70c125d7ecb2d304228671', '83eb7218c7c32264f06316c947fd9caf', '83fac6714be6828147eb5caa6b98bfc0', '840a71f20a429de66b284a68363b8700', '8493c30924ea87c45d2fe8041131935d', '84c55f89a0309660b688cdf101ac085f', '84cad42499701c7af54d72846dd3013b', '855f41304a5d830901d96f9c24c91694', '85bd8c5330eb78667258554470e6de22', '85dfb7c32a20318ce589423ecdb4bae1', '85ef2731c9bbe52d02c763ae01b8d24b', '8602560264582460521d16e12d1053af', '8673176e590c868455e796f45442e647', '86a60d67c0076c592ced3dac1d9dc973', '86c49ff1d8d84a81bfb5b672669c807a', '87996b7c07381fb43371ea7ab6c05387', '87ae9298f6bfb85cb429ec6844592452', '87ff97ad3eea5043afb4a233c142a354', '88007221604868832fbff44eb76fae66', '88670ab59a71a58ffa5d0fc455100811', '896fd3d3f421df1fbc8c8f7dfcd580ae', '8a77ef895288542a8eabb816badf1312', '8a83ec292df5812fec50315067dccee5', '8b2fb4f828038320221511819f181012', '8b31f2f30ef50bf4a0ace5a6b7e774a5', '8b9af52dda3ff008a3450c4e3ef39077', '8bdfe984b2293ce8585c998f05034d87', '8d1f3f07a8b4b4a4aad7c2d4a83f6ba7', '8d2eebf375781acdde3afc1ef6f06bf7', '8d5526a918701fcf32627c7fbc5197b7', '8e0a0331bfbefd0aa6552f6655f86793', '8ee21bffd8054f2b54a4cdd319077b64', '8f439f0c1f81f98a85cb375a69c5203d', '8f45ccefe6869371968fdb0457d0862d', '8fb9fcce71de745cdb9e8c9133ab7ed8', '8fc88cff417af9a8e08f9733148c1559', '8fc935538aca73ccee0b0eb9cd346ac8', '90085eb83afcc3405e9867c586d2a953', '90a63805f169d1c1b1e95efbb96f8b52', '90af0109ba84c68d7109f3cd8840325e', '90b8821d1b643b49a7fc42f3ab54ec29', '91b3712c4949f347ee8ca55251c4239a', '926abef41c17fbd010a3548afd2a1964', '927436fb520216fc72a92e1054b17548', '92acb69fe2e73b9acef7baa0236e3cbf', '92b4e5b81ef54fa40a3fbebe3e2637b6', '92e12e9db5b31a31bf4c22238e7bd75d', '934750fdb81f64860fe479342df4d909', '937e33dee35035b504fcb1770570bfbf', '93f071a16fc1ac97a15e20a6cf565b25', '9407f25c5739c404c473cc1468134456', '9414119b4bb85794a3a8fcb8f10dcbe3', '956200929059466253da93b3c4946f5b', '962feaa28e7ad729856888a30553da2f', '967781dce8acad8bb3c5818e4cf11e8c', '9697b0bb97cb75c138d58d6b0e19f023', '97266c3f9f3af560748f0191236cdf18', '972b784dae418512dbb1c8515256b644', '97c15e91e90f3960d540e3a2af067f1c', '97de647f1381d58774895f458e191ff6', '97ef3fe34b38af03de258b91c60ead17', '9826674ad5a91f170bd238510c81b0c0', '986c6805649694fc5330738f64893009', '9aaa2da74084e47bb458891739519919', '9aeb15de7a5694758833f40497a7125c', '9b28f8d02aa4b8aed6967a51bf302b17', '9b87d0ba20250309615e939ad9497748', '9ba449b6f51c1f2b2dbcc3138a995c1c', '9bc83e9764d2b29d8f3195ec261fdf90', '9bd70928d64f1e8cbcfee02f95b7ffc2', '9c73f08a88ba93a8ecca0c7d9733e976', '9ce2fbb4852722b1d59149521806bb45', '9cf74eb0bec647e0209dd7554ed6ab4f', '9cfafef6b5f286bed22693c188dd5c10', '9d6efa4750327c32d8a14898315f4384', '9da0da30f7a10db194c48eba8db8326e', '9dbd87f1617a7d6a27f445efa1fe76dd', '9e6bf565a79f552f4f53898b2f63c36b', '9ee02e48c1fd7f4f8f5d295ea4abb3fd', '9f450080f5056c225b6e13e76e6f8e07', '9f9ed291f406c98d26bad0a3fc2817d6', '9fcf168f93075fcec78c8483bb091586', '9fe41e3ada8cd8cdd30be386d879a24d', '9ffef508e9646ad0042bff41998430aa', 'a01294455eb1c11cb3f7d0ad48729e37', 'a02096b6962b20dc4d68db1f70332800', 'a04a475d133642faa302a81d4e75cd14', 'a051c00937a02c6fc9033cb8f6d54c1a', 'a0675af41d7448c04caf47f00c2631ab', 'a07418b6490dcbd400ccfbead28bd0dc', 'a07cfaf4ae01f83dc7823e8aa960f18e', 'a08d716135f3742033869d6071d27adc', 'a0b0decfc62557c7544efd3077c0d9d9', 'a0e7434eac6b816421bcc14a8fae90b3', 'a181a96274445615f94044bb431bb49f', 'a18b55212590eff75954ae9e1e67b58d', 'a1a216588b87c01df7447fd3aaded06e', 'a1f9f6ec561b90b67cb09956dadbb628', 'a23a1bdc6e121ddea44083b83321a4f5', 'a24a3d764c239dd82370d6ac38d79d6e', 'a2a3fb68afd4758194e3aff8b693347d', 'a2b83bed161dbba5aa401d24e0107246', 'a2f11481347aa24bb3091a9264b56e8e', 'a31dac9d098c6c6b3fa12200250efad8', 'a331da318e42196cbc6a94689957987c', 'a33d6c08928b7ff8989bb57b932e4e30', 'a3cd6e40986acbfe39127900cde138db', 'a3d7f633876dc4a3107ede8516742108', 'a4a317af0b9ea15e26e5cb9b7f34beb3', 'a4c59379c8e956372b715217dc99b8eb', 'a55f2a07b4494e6a253fd14f3dae21ee', 'a5eeefc575b6d63cadd00784439d7794', 'a6570c2327348c40f2a23e1fe3b9e9ab', 'a6d3933e9cff443c94a5fca610c095d4', 'a6f12ecb13cf2c367508d912970c736f', 'a6f4482a23ab3e783e438b1a4d2fb98e', 'a72bc2e1566cd1484ce52a4da78ce45b', 'a7cdae1f15218ddb57e1c712735c9356', 'a88e51ac0b8eaa9f058778dee37487cf', 'a90e597d94e8647e36e6dd0f67640ba6', 'a91a735a1b1be6c5532ff5ce83568db2', 'a9813389c157adab3c6dd069d609b26b', 'a98eb6381e6af9f20710cec669224f09', 'a991c4c8c56d10a209e654faf31627e2', 'aa097a13dd51895f548643ebed716c1e', 'aacf54b33055516dbdf8096bb68875e5', 'aad644294729364cf49290e993a6c689', 'ab3c065a883d62e650d5bde6cb76d235', 'abe1f2b7bb8f25d837f5e0b1b1a03e30', 'ac0dd6960b8ea3007e93b4257e12f106', 'acba4c27181e38c092eef446fe5b56a9', 'ad3757a244f39529aae57e3209e13f55', 'ad661e367b8afd675a4754449dd01836', 'adc3d7baeb1ed51866f2fd4324905036', 'ae4215a06bf55e5a14c281f9c72c1cce', 'ae5916c00e821ec180ae9c4e939628ef', 'af1be8e6286062e306b1bc408a55acdf', 'af4bc52efd47109eb314f5bcf5ba2460', 'afd83fe806415807d6c343eddda5a54e', 'afefcbbba2d5afd1ae8ca2d0ee18fa0b', 'b05ed1f00b6f2721fffbc6cad026efe3', 'b075a2de97318b7acf1211c5977919b6', 'b1426abb09d622e9b17974aa8e1dadad', 'b173c4882e3e0078cd111187a1e9361b', 'b1aeb0e5b658cb6aca3f8d40e6ff0e21', 'b1bd2374ac4867be209de38d3fc29b30', 'b1d7ac8639e0a8e67a42cb0afc111913', 'b1e9eaea5a6cd860f129813f595bc0bb', 'b2e1ad43eb6e9bf22d8a953c5937810d', 'b312bcba7bff239a1876e7c3e53d9f5f', 'b322346ddbe14d8310f76d24c370553d', 'b36b7020f126452e8aef1cbfe15ed644', 'b37619e944c885517619d88f427cfd76', 'b3ca5b787ff1938605a503f3e68eaad6', 'b44b026112f59b37f978ef1c93d92408', 'b50cdad287b97d5ae96b16c2ea5550a2', 'b56bb8ff3918b4a943395adc47f2ffcd', 'b63e71ec87ced828c5ff6989f2d2c441', 'b66467693b7ef5cb26b49ce7df7d1253', 'b732fe08a20aa27ad0ca6690d2ed06e2', 'b78acd3c566071a02b5e594f843f56ae', 'b87cf85f26c505978d6f09849aab24a3', 'b8971cbde7e8e307d23146eb084a3996', 'b9a817295263f551cb41170dd863f0a7', 'b9ac1992130af8b7fc169956ec14999b', 'ba33988e1bae308e22a8c18dea119532', 'ba452925d692ee4f42d93e34de26ed77', 'ba562b78e97a9229a8136f6d6edeee57', 'ba730d8c4884d44078bfb1393dd7eebe', 'ba841e08f54b4620d391f80f5f90a4ff', 'bab5f59f373579ea484b3244f4b16bd6', 'babde0d85fa4c0d0683369ad06d90ae1', 'bb2900362dd9893bb210f541a5f01fc6', 'bb586e2c71c456b0433ff8607c98a334', 'bc30bb28a94477d02aafeac977172f56', 'bc59b11b14d8dbbf3eddf15efa3de297', 'bd2065170b909a3c709271ebd138a34f', 'be4ac702d2264c32bcd7afdc68b4bd31', 'be649a681e691819ee1b083f365a8654', 'be671945d76353507aa0d5613e29d572', 'be71da37f3edfd2d430af89818ef1241', 'bed1133c5732f1660fc2175bf3067417', 'bedb0dd04c36045dace914f83ca59684', 'bef9ad7487fe2fc6d32820206c573d66', 'bf0a0307a799413361b3d992f56a33fb', 'bf143ea50b986e557935dfc7b05de89d', 'bf6300c94e0467560ac4ab4f56a599fe', 'bf7fa714fa06c71fc7295b79da2cb843', 'bfb231c42e613ec73f1a02728a1b8182', 'bfb713ade5d643bbd4dd75a4d16e6417', 'bff96a8246911a416f423f5e49430628', 'c0609cdb5a1ab2f1cd20d5f933ee2f94', 'c0a227cd27f8613e21b0e99a63620895', 'c12d062c8b3d3f6a16d7ea6b483cb571', 'c1c4641b9141284651603b36ab9234b0', 'c1d253f16e2661e5692ebe644ceae4b6', 'c1fbfee59f75674aefc0ea170476ae9c', 'c249d9ea06816a7faf8ab5fe957549b3', 'c258d1c4482a4039eb70fa5fcc444dd9', 'c26d9bb4e76e2b3f63bc8d8ada5ad6b3', 'c2f1764ad77564bae577a80baf59bcc6', 'c35625b7805400a27812a1a3d542bc05', 'c373e168ef84e1e666d2df43b4822e10', 'c457ed8e45750082fefba2e00ca2d55b', 'c45fd1b03269496fbc43de1fec0b05a7', 'c46b0a56303ab1dca74b147bdb2e02b7', 'c4b7952a3b9f6a4f1230e744ba425351', 'c502b6e783d9ab948c49a46c4910813d', 'c517b1ca65690afb52773907bcdd9f54', 'c5a7dbf70b5c58450630257dafc505ae', 'c644f6cdc42ee4b71f4fcb37de0c55de', 'c698a520504afd044420cc6ae5f87d30', 'c6c17be26efbfe9b6eb81d11392323b0', 'c7844fac26e9ebd156f1b611349d452f', 'c80efe789f8fe22341d5eb7e0bc9637a', 'c87b626cc62f726f4d391916dbbdbe5d', 'c8b3423fbe6a90c6081aa74db8657d31', 'c99d447a59a31a560acaab68b2b4490a', 'c9c2e625cf90f4507e20f2fbe91156ec', 'c9cdb843bca34bdf1e025481bcc30e88', 'ca04e425357c5c2fa9c3ea28f2f318bf', 'ca3c00fd7453e67bec1247451355c5f9', 'cb31b8a3d6b5beb537fc566c218156db', 'cb42f458cf0f319f41662ee657a7b322', 'cb925f25cba11d35f25718871eaea76e', 'cbc47b755f60f6ba22af46ffd50a4cce', 'cc3e3bc26345ed944cfec718c4422778', 'cdbf6512e7182c88e4f59b9ef4fe4eaa', 'ce83ee4c91048a930f62f05e4ccbe809', 'cee472bff9b4f919584d4943549e3216', 'cf187f21d04ea8462ecc1812f0a855cf', 'cf772246daeda9d1f9cf2a20be5e2ee4', 'cf9d318bb59f0b1c1977be50b09e8ab0', 'cfe653cc400a93c16af9dea15b00a9e3', 'd047f09e4e626042b2a4bb9257a3269f', 'd05aaae4301ed6116fd406395d31fbb2', 'd072e2f6220eeface469d7030df08e74', 'd0a4b0fe765996eee773a29ca026d61a', 'd0ba504abb67d1ef251280e6e84546de', 'd0bea61ddf16454fc21194a0f933b7ee', 'd120c73e3f57fa2f97df38b2177b1d3b', 'd13493d66dac3e5a34167eb74ed5aa85', 'd235c1eb5de05b61b098b5e18b091059', 'd272185a396171b6966d3e3fe97f16ad', 'd43f93b027c216cae292af47713148b5', 'd463f1a3377827b043d3e5277e5680ac', 'd49aa647d782f7987a9a78514f0d450c', 'd57d75a074f419084395042673fb6531', 'd5b9293005317e4984505bb8950294ad', 'd5fe37447d700d14af665a1566902e40', 'd64308a965eac12400b23d430b815247', 'd672c29f871595c6c7124f3dded75acf', 'd689a4578ac70e0e3d71667e975dbb7d', 'd68a874ed08af300cea6b69294d7ac17', 'd6e1cbc4ce0f341fa78e1c5d83cdecb4', 'd7823ba1197053d5c8b43205d957716c', 'd7a2f2ad3d21b2e4dcde6e9de6dfb4c0', 'd7e88c594631815d34955309f22ec329', 'd88dc07e37dfd387efd29c8166452eb9', 'd8defeb2c84f91bc355e251880950124', 'd92c9b37c268b4daf451e7f5bb15bbbf', 'd94875c150266417dc5e83e1b9ebf2eb', 'd98a816f1cd07275fe35e1e78046c722', 'd9a741051bf1ac4a284828145f494ca7', 'da57d345368068a6e5947dc1966733e3', 'da64129fe2dbf00c241fb2a7f8fae14a', 'da6d04200dbf440ae51146254c983946', 'da7516244e8b38d71d94f52054cd816d', 'da7571e00d725818dffefad24d84bdc6', 'db29d15f24a6ca3638e52b2cafd8ec50', 'db6dbc58806398a985863681f9888590', 'dbbb9c9b3aca520433073e034a8806d6', 'dbef6b1eb047ccbf12230b66a224e733', 'dc47a479c3c4e3d040fcd470d2f50b24', 'dd42e1a0b923c7e972035b4c7ff669c9', 'de36ca591ede5a2dc481afc82edcd0d3', 'def4aec6dcccd7cdb13c0c7b56da77fb', 'df409b7887cd044b30bd8cc5276a7431', 'df4acc3b86625efb9191624272e3a892', 'dfc95dff2db3a016a3d08435c4eec84d', 'e08ab4155adf371b50e7df6d2442c3ae', 'e24d9e0917deafdac2ce9bd16d6f2bdd', 'e387577891f81e8173c176ac7b17d057', 'e3897616310d36e0be171786e097e887', 'e3c02594e559a83af3a1050722021582', 'e59d8189e05621f72e29c3894da5d71e', 'e59f8f455f525e130394c655eeb831dd', 'e5fdab1f23d885fa6553498cc23d386d', 'e62a52c53f867c03d134ea831975bdea', 'e641e0d5d109d7b549d0f75980e7d09f', 'e69dd1d0b82245d466502fb642e0c0fe', 'e6b7a5da0ca4c7cd7e60d37b2b1665eb', 'e6d2ca92a33ca7fb67de08c26f679cfa', 'e70d898a75db924235ab24d7564c9778', 'e7571a68cfcc459ac832c2862e188b20', 'e7b364b04b789585dc847066cf259bcd', 'e7b86908b2ba9afde9eaefa961b402d5', 'e806b0de699f35c2f6c1921e0bfb33de', 'e8e81c8db5d4dc9348d6bb20f3845089', 'e9c2f2470038168f9726a9e9e87ba2e9', 'ea202259a0b0e1b43bcb88e792105a17', 'ea46d5c28ae2acc2765db3c94ed82ec9', 'ea5ef90b575a2025b0f7323c65013548', 'ea8ffdfd3a9ebe228f0dda8db6459509', 'eb24a74312da96806e0b0f9d158f5a31', 'eb555b27d3de37dccb882b4125023a64', 'eb6c40c5b38f2dc53509b314588e5faa', 'eb8d64ba08ab31f24e5ba279ee8ad13b', 'ec4bce9ddcea6feb9fd94b055b822ed7', 'ecdd670770385c6a0e18f9cfb25cd272', 'ed2fd6ff8c6730c9e84039d744343b52', 'eda9c11c8e9686359ee6f0312600b18a', 'ee20ebfc34f1ba4b07740e6eb4f418cf', 'ee40f48db4e225d9ecd55be495308af9', 'ee8587a14bdc88d93cd3e3bb7f1daa52', 'eeaf45d869834d2147eec1ef5f6c1604', 'eeba8c1534ffbe5e13236c2edb17004b', 'eee5846276565ebe40fa72047f3f5b0c', 'ef3280d72ba3bde59494b644b998031e', 'ef6d6b7956388d2fe1e8060f3b02f6d1', 'ef8247713bd9abfe6ae41c0d0c7275a2', 'f053bd95d375acb6f2bcca3d47c41e0b', 'f063718841decbe579fec12e4a52a365', 'f0ad9df816b97ac90896ca9be1d96cb7', 'f2fbf17c84a9dcbb8df6a6a3f5bc6d9f', 'f34aa61e12e6361e3a41cde26bdf6e45', 'f39060c5afc5dc38a4d53019e2f287a4', 'f3a79cff42cc73fd6b034aed95074654', 'f4b047ab356dfe21e19bf6d0dd51e12e', 'f4de87d81eb98740d973c3dce1134334', 'f567178fb91d41dcdbbbdd552f9b45aa', 'f5bf499e951e05ae0f355ca40ee315eb', 'f6218041df121b8561380f99f9cea502', 'f6a6487005199c014ffd8a56b8e49f6c', 'f6e1786a6c68e8d8d85a1d2d1dcddd64', 'f6f8b8758ee07cc7a338784c0cdd35b3', 'f7029b27860041e46b36c029a17c9648', 'f73ec0fa45a9636791875b0df948d230', 'f7cc9f62c6147b2f270449359ff5d93a', 'f85f867d49b46c8998c4172cd439bc0a', 'f87435868589bb0cbc4fcf6c2e49af28', 'f8f71c83285e0c0c4eaab98b16a9efae', 'f9005bb4eda76cf2e675a7e878959d6c', 'f917e4e2a5c27723c819132f3dd3ed76', 'f93be58498ca17bddeec121603e1f0f1', 'f994641f9fb2bc26073e0e85e7743c54', 'fa6411a536e85260c72a19e5d402cef2', 'fa8007c471a4f01db1288fef96c8acb2', 'fa8be740b87f2264aada61a38120f2b0', 'fa9e27b5ea558a65483a0109d856ca00', 'fabd9ed553190b7041665071f91cf5ab', 'fae183ce03789e7cc2b4df36a84e501e', 'fb73fc698f47466c9329c6954b60c236', 'fbac2ab90106ecb777d61a6ace035419', 'fbb8fe7170db4b75e5a08250cac73c47', 'fc4e08e97c12fef1d7f342f003bf671c', 'fc727c44f8ca75d03554345bb8e481b0', 'fc98de1887c9d5c41d304dee643433a0', 'fd91411aff3c69927bce822c397669a3', 'fdca3a571becd9869cc82220ef63f3fd', 'fde4a68aabd66519780cea850bb03d5e', 'fe0027eb5555f025d22758d1622ffc4c', 'ff31414078e7767dea96800e96c7feb6', 'ff50878a59238f4c88a8486f6ab47b49', 'ff70bce85efc3fbf2960d47d99a40a68']\n"
     ]
    }
   ],
   "source": [
    "# Get the index of profiles that actually participated in the project\n",
    "y_true_idx = np.argwhere(y_true).flatten()\n",
    "\n",
    "# Get the IDs of the profiles that would pick this project\n",
    "trueProfiles = profilesProjects.iloc[y_true_idx]['profile'].tolist()\n",
    "print(len(trueProfiles))\n",
    "print(trueProfiles)"
   ]
  },
  {
   "cell_type": "code",
   "execution_count": 66,
   "metadata": {},
   "outputs": [
    {
     "name": "stdout",
     "output_type": "stream",
     "text": [
      "2575\n",
      "['001bedb58aa43c8d3596b5b522ba1040', '00300cba5401183830a6a82b80c8ff7f', '007350803bc77f892db9c666fc106e95', '0075788f90e355569d544d9c63078c9e', '0094d73eeabb1806ea8c2535cb92b126', '0096d19926386978726c09c33ab63c86', '009e5dfe604e3dc2568717dccc438392', '00be614f60877db80975ae8bb2f5f7a9', '00d4005887bcce01071866724babfe28', '010aa4391835c4ff279a85093e0e527a', '012c7142fd399d7eaf7cb0e933d27593', '0132ed8d86c34003806ca57d9cb0980e', '013b67e4f87be5a44443686a2173c8ad', '01562e889b51b84044304cbc0e3b8bca', '01addf5d53be7b35ca8fda7bd140585c', '01b5f42d8970e242737997104edbb3d4', '01c6be05bd7a7c0d049b5e814b44289e', '01f37cecfed7792a428293146f88efdc', '01fc03843e310b53fe00c76c6a2f1e60', '022cd309e4fb530d583b2cb5d26e5758', '022e66f355aafedcf0fcc2e3c74a90c4', '024adb9b397682f16b42512da85cb9de', '024c907f88d1b61a128240318436a377', '0250082e9105f5a50f3e6283a761f3e3', '02a31b00efb72e1df9c5ed7c76bde267', '02cde6acf3a30f883d585c53b8412de7', '02ef22d6e0457a15e725755722fd1ae9', '02fd16b58b02bb42b558d05cdbbabafb', '031620af1a9bf80899f701432ea1fe78', '0323b703c315f7065eee6d1d759506c5', '0325bc8e6012ad8af877ef9c2e725170', '03519ab5331c7e42127d29be4350ce1d', '0354226c8ac8b7b893545a547b52d7c3', '03585121363bc040056c67301dbf5aad', '03719579e0cc70abb629c309aeb88d0a', '03774154ceb67d74620d4f480eca5149', '037d4760ed41c4eb227b20ce0564eae4', '03e8ee7e21073a432af2efcb201fb24c', '041b7f63224bcfa6a506f0efffc0d892', '0455a6da9d6491a526c87062681b22a5', '0460b74274f58092e43c84ade59e6061', '046d8633571368603758b4c763742ec9', '04994159eb7b96d28d2bbeb0421340e9', '049d453bbe3f5ae0bb9331102dd02552', '04b445275781a10310b19fed6ee94172', '04ee978ce79302c92d3cb43bddad4c6d', '0504ffa689ac23ca0ab0d5553f07cbfd', '0510761b7894865537070a1511629c99', '051577242f3b0e10cae7e4edfd09da21', '051a27f0e2dd1e0ec093ae4163bbc83e', '052d20e6b72b107112f9b1e5820e1b17', '055bdc6bebfe35bb5f0fdad48051145d', '055d2fe39f4c06a8c6c3ae1c4c336d33', '0573cab0f18af5b59dce30bcbac61bc8', '0574aac1b04ac557c1ec936a2f94c0e8', '057766ee6fbc779f63135faea8092a31', '05f1c31d77c6a2cd7c40603e95954f36', '05f3f2f67384a643aee5b0a3d24fa2cc', '06218b96c81734acf53ca0be9428758f', '0625669e54b68f01b3027da737d7069a', '06574bdbd790dd97626f87c1506b852f', '06576caa6169160034d4e3da3cebf6f7', '065e9247172f34e03db0bb142cb26217', '0663da67c65c818a9a8c7f9f2592a05a', '06a87445e350e249bf7bd4eb70754b10', '072041b92d0cfa36f0745ebc304227d9', '0724ccae6ca1f867209969c6d3b27438', '0750f298e9acb8f1f8092a839b6b5a52', '07572e4833389ec4d8e5194b95710979', '075979dadf62cb6897bfb0f22f64af6e', '07c5f66554a2e9697ed7a413bae2247c', '07f91ce1ac65934c95a83f78ec82d65e', '081e975428a8d71fc8ed485723b8b7c1', '089da2da77f20921469ab732552b77ce', '08c8274e2fe9f6413b0c68f595bbcd42', '08dc86113c830143de1d7ea5376260fd', '08e19c518fc10878906fe728461929a2', '094906e6a2d185ea0d1d9e644386a85b', '0972d5ac1f7bdfbb0cf5605fbfbfdd77', '098795d6071083ccec63651c40525a28', '09a2ed88a98504260dbe39ff84560354', '09d134a07f769f2da2b425b5129c3e10', '09f15a11f65190a50a1ac358a7043b69', '0a010e2498283e3cb15aa1abc9b83424', '0a066a82b130879068e1baad54f9dad6', '0a1f64ff9d41e3a4aa3ac3b3a672d833', '0a31886a18b1637f3a1333461cbc9a6f', '0a4ba181aba536666cac249414e4c5b6', '0a5847ac66dde5f168bbbdebe57303a4', '0a60a651d48281c0eab777205dfd8757', '0a6a6ce7b956d2ea04ae7f4ba2ebb0a4', '0a6d3e0b76578a9ccb0414d636282665', '0a6ea60fb653d2a402e5e05a67328753', '0a7dd7cd50b06a781bbc84c46db2515f', '0a86b812d646428128a30730ae3ba5f3', '0a95b9709d2d94f43191f544884b32df', '0aa2e24426ee78be326d91b56e5ef22d', '0ab029411cb8b4413bdc4e8559a3b9b9', '0abeb9b78369e0257b4f646ad7ba87bd', '0b1244954ab055711362c5ded4014b83', '0b1c23e13d7d95cc263be8bfa9b7eacd', '0b48f05b7e758dff251cbca0d86db0b9', '0b4b3da2e834c6a9cf2d65a66801b2af', '0b51ae8bd37ae05e5a5d070901f47910', '0b5e95b9c9dbadebcf93d6f41b79b075', '0b7322855f32001bb7a75a769d759395', '0b7881762821f5517caaeb70c2ef34a2', '0b8aca1b3ec98f1f7fdc175ec54af1e1', '0b95ccd38a9debcdc4ebb2facb0b9323', '0baa202da670ecd00f87ae4c521f90d2', '0bb7fc42b3607fd7d10ca95eeb201f2f', '0bb971b361b9fcc5c62f107149901df6', '0bc214f76e265b9bcec3fbbf842f5e3c', '0bcc57f7280454c2a83464df5f429b2b', '0be70012aa857b88cdb31f3b97db10c8', '0bea6992a51c662cd4fdefaf57f540f4', '0bf44034b82e319c45f4e39f82c1d97b', '0bf528588587c456dfe06e999ce6aab7', '0c2f78ce6f0f07a85e8e24950da30562', '0c38d080febad08f012a83df306dc840', '0c412513c32b1978901f028f6325cae5', '0c48453333aa5721e20b8d0204eb8302', '0c4cbea45150e683b536f256ea2a5ea9', '0c6a4a950068cf5a100231f2939e6ee0', '0c736077a9ec09e2ec93ec775732fbc4', '0c82b6a6ee8c11f7538be840956a9e31', '0c8c5018d7d53c6982f52804a3f32f52', '0cbb38be1f73cb15bd2e6d79e29c19f1', '0cd5762f38488d347bc069abe0269bf1', '0ce038a4dbdbb553f50de03d5465b703', '0cecb790fde74014b0eaaf5d77cee895', '0d2fc2d6510465f58ace86e3a2940020', '0d33920428cb9183495df030cc179912', '0d66466aa24ff7721f6dde4a06b9f2cf', '0d943cddee098f02ec0e84c527ca607c', '0de11305397a0d236a3b220fb2037049', '0de847ab02fe065b91e8e1b9a3beecf3', '0e05fd2b0aeaea19671a9607c88cab9f', '0e08b089643fcae131616d8551aa7f0d', '0e181b83d54abe5ed53779a90f7b471e', '0e3e90a958b8748cc93b4c15492947df', '0e436592a193bfb5100894096c9d6bfa', '0e52525734f57247b39fb83fff8b2733', '0e602692236dc237c970f5c129c2cfbb', '0e61d4132ac1fb2234f15f5c08856ddb', '0ecf2cbab6b1d390c860942c299ac877', '0ed543b5039f44ec06319673838708e6', '0edd26ad15b5787d0d53f722a4f37e7d', '0ef99a99d65cdb721919c270f62c5525', '0f311947258947c56c2fdb201e35314f', '0f3c8446f30b48550f48ca17a9ae52c2', '0f585bd5c86ed44a718a50dca3c6b90a', '0f5dff60f1681fac416bb40c91170167', '0f663714e41172a5f828828ce999b6da', '0f723806d67c503efb8c650b37416bba', '0f865420072db1f8d931977b05095b82', '0f8727b7eb0464fce5deb530e2bd6cb0', '0f8dc8fbddbbcf97c1c0d0aafd697e00', '0ffdfacb0c7dfc0d750d67e860666006', '10095162fe13c9d9d60219e668a0ff27', '107155606785f8470c4cf3e3542304ea', '1074ce05454136788fb4812e1ef6ea7c', '108c967503e9a3c400826fd5c9eaeac8', '109faf2d7f766776f3231bde68336755', '10b83569669ce68bb466898f6ccb58e3', '10c0f4c5cd55057a50062c726c6c1d02', '10d836a372b868ff807280dee844d52f', '10d8befc98e21b6bee0b09bad2319823', '10f8a5e2d4376f628623d5145d2e8a49', '1113640aa4d5a70dec461d85deba2df5', '1136684f59077c5379573277ba4bc9ad', '1137e0faa33860fb11f3e768275c6878', '1145d21e279ce4081cf1d9e245d13a90', '114da8c3511c36ba02eeba48a03d299c', '114fff319722db9fc3154d66b3ecaece', '1182735b375238f76dbf4289167dde32', '11bd08a3c99e22d778de3c24c6a6703c', '11d1f2dbe79d4999e6115cf203c60818', '11ec9b4e101a2334d715fca3fbcd0a60', '11f4342c167acf974ba4b30a1e276d45', '1202ae7f3e48a4e1ad8e9068990a369d', '1211caec5018a0e82c81004aae22fce8', '1248d8296b789e7fdf6c6375e146134c', '124c3fdc26780a3a10ab6a0d74cb0f90', '127e32d4c22246aed1d805a438db543a', '12bd0d6178cecaabb5905336942f481a', '12c24a9ff3f84fc447e1341956e909cd', '131092df8201349f812a3a3d910d21d9', '132515da0e3f61c77bd66f97af6d0242', '1333eb3d218f019a737de8068a71b15b', '13359722ee3bbdc3f4679b9be6aeef48', '134450d0ee30548d3d210ec9dda02904', '134f2992d364b992b27eaa02225cc8c3', '136591631c4f745c86c8a33fb3dc90fd', '13914a588331f1449fbd0f36c873d19e', '13a5aaef435c64a4415ca8fa317ce454', '13b10f267cd4c92ee58c544614ded939', '13bfaabf393ebb1a9eeb61adec705c3d', '13f8d0c745703924efc62893b77de25e', '14283d0e06d41b1d63de1dfae57348a2', '1446e56cfa8180c77131bbf57de1951f', '145187af425afd218bac6124446aa342', '146ad2c33e3072769db5ee4a9dba28d7', '14760fe4bb8a46f0f3434d2c2977799b', '147633c12d3bb560377845ba626a47fc', '1483aaa31111d1f23b1e33735509be51', '14a4c2d2b1dcbcea25170528870df338', '14d2d6ce77054123f78196b91426182e', '14d75971fa2524fbe9fa0d711f9def9e', '14fd68a38c62b2e6550d4610b5b6f758', '150046d69dffc5afd58b71f804f6507b', '150b8000a3fa0a1a863dfe7f5c5d08d5', '1512e7fae37b547527e157d219335f24', '153e328a51cde94f550140f2d7268e0b', '1560bbc893e08339df2c3637fa320bfa', '156d12c7d402087e1e1faf0061aaf796', '1572a6bdd9a481fd3f953a66c36fc523', '15768c623f11d5709d90de5ca49a8d62', '157c927d9e9b474893eb993488d5e38d', '15c3126650f4f1b340db1ad11af01061', '160326df9f9b127dd0f19b9413ff7db0', '161606ab305569052f2597c197ee2266', '165e8ca4e20be24d03df05fa083d70b8', '1688a534ad85ddd6a99eb89de8dcd783', '169baebdc1625ae8f5fb9f4e3e834cd0', '16ca5977df26a4895ee57a6d8a524f43', '16cb7f3a7c82bb56995f422b32037a8a', '16d35a0b9a6aca2bbcfa57cda36f2ca1', '16f1fdeceb8feeeea5c83682f74d9063', '16f231d0298fdcc26f37d1fa68c2d0a2', '1704b28e54547bff81d44412052c0f8d', '170b103e715596af8db021d44852f396', '1717550c19ec68523a53e00ce103c0a2', '1725ef8737680716741e2f5aa4504a2e', '172a64b8c848d78b3a5516479361d2a1', '1757dfd65f31253158534b3f8cc3c711', '177fe1883edcde3c62beaec026719ccd', '179c6bc48af853c04af453cfb289f1a6', '17a19039404532c232358a34ee1a2918', '17ab8c86ea6f5abee13219e016759d4b', '17c2bcb640245d58cd23e3d08fb9e60b', '17d5cf996bc890c78ef5a69cb2ceba00', '180a3d4fe2a55410e2f8f8b00ba45098', '18178ee05a9a07f84c408f673cf692e0', '1825a134e47b3885ccd2bf709534bc04', '182a63b9d8c9b6908d3c1afd020ec7fa', '18412bd19df6997a998b75a8bc245642', '184a09b2ebedb87b961961beda7f78be', '18507133e6d6a060a2a5ce21f8973b86', '18830d8ce4c3d8341bd8dbce6d1757d7', '188f46bc1ea046f30df1f7e8c449444a', '18992ccb1eec1906730827809f392ca9', '18c36af80c99ca5f0db2da7040169a43', '18d50789dde0f2515d9d46f363468612', '18fea591cb60e807789c8b7c445536d7', '191555fd6e1e55f09c4297a6ed2a6223', '196ab334a708346cfd5577c451b53c83', '197772725592aa23ce79bb934e4e7fc9', '19e51a50c0afe277e0271efb9d656c58', '19e9e53c84a0dc8201e444c493e0d1b5', '1a027f9d871d3633a5b86d5177af3e6d', '1a223fb79e20f9e5aefa3e96b32952fc', '1a22bda8fce2482c2f89569448b1323f', '1a30224eb74d437996ec7d4221c24fd3', '1a422d58eee6796b103e211cd0a8075a', '1a44b78b3345e7fc9b12ffc828e77bb4', '1a553139551ffe9503572556076d656c', '1a557f3f5c2ff866cf10ab0af8a90105', '1a7fcba2f38215c1a6036ed9d92d37a9', '1a8601be128e06659a9106a05ff50b2e', '1aa36015866ca66d3750c67c33afb572', '1affb282c3cee95a30b16799e94b04fe', '1b1e95254d4724ea444b9087cb0fe4d9', '1b24e1385690654be54fd3a2a3a4ec1e', '1b3a6f58cdec972348b75933b8f30c33', '1b89b590485848824b2d7787f6ef041e', '1b9b055114dba43b03b7a46be705d34d', '1b9cc4d75649f83654504da4cd5f2ed2', '1b9f23f0327898fdcff8702459fc5d44', '1bc64685df8114b94a0143268318d301', '1bfb7c097efb6febc0c3835ae8617e20', '1bfeac1cd954702b942bebcb9cc7210c', '1c01f45157a4a2a06b83f74e9e95ebbd', '1c25d1fcd04b873cba9c83ef5cfffe85', '1c29bc6b2daecf01a3f25c5dbafe5ad2', '1c4d5df4026cc562ee8ae0137a308b18', '1c6e4d455f94079d9130c1753d9c5d24', '1c7c7437f0580c63ed639d6fe76f03f0', '1c92ca3430cc506e420204ce9d102b6c', '1c9f4a548bbb67af0b5a94e35cd11be9', '1ca3e73edc308fbff1ed1f0552f33890', '1cb19c171643cd8eb41ece45288e2bd4', '1cc30f2ee8cb6b90d32819421a44adf8', '1d0bae8e6691553ba8613e3595400fdb', '1d1254978297bb04d373b9a34c09d8f8', '1d1fe56de305692db47e060e2792b7e2', '1d22ef83aa243992e7349d6383987155', '1d2fa0863d04ba4ae9f8c0d84ec832a5', '1d31c98dfa8d90562c9ad9cd01ef532e', '1d3ccda95d8d467e45e806f965e51a0c', '1d4628b13f74681cce1b889cdbbf3ce2', '1d689771b1d56b13b5dc7a6670f32a0d', '1d76d09aea69b065b9d65012ebbfe346', '1da013ae2647fff7fb60d33b236d06d8', '1da4036b50e77b8c27224bac33ee6cf5', '1db891bdb96bc736179657c93f4ab39b', '1dc8205191aca66b5b109c08711cb410', '1dc90761b58130da0959bed607227847', '1de97d8bf0dadaba7293c403209c1367', '1e02fcac54c01cc63b4cad9e13f12959', '1e481186ffedb05263bbfe55e2cd62fe', '1e59afcffd77bedbddaa1cfca7cfbfe2', '1e90c129c0fe47f834dd641a14f76b36', '1eaf7f8ada8e563a9f0cd44291d5d458', '1eb48b05689ab7e311ae9b8c9b865814', '1f05e867e44b4d91a25847ce4a0b0c78', '1f8190ee6ac32e2278cfcaf6b65cbe3c', '1f85e145ac8882f3f6560ee0d1b2b6a5', '1f9f304a44f14e8b421770e6875b6f86', '1fa96d2b4731cca9cc3d356123a58787', '1fba35b07feda53b7fe73bcf0a19e057', '2006a65a3918f347c7aae4f6a499e741', '201ef5b7e285702b2910ac9e24f841da', '206a3b20716a7c9950687acff1f3dd0e', '206a6786ab0e223f143f68a361873ecf', '2074f4ce0ab57aafc32d20f6d59d6ce8', '209588475886e200ad97c7a1cda2487e', '20e0f9200920edffbfa9827f2da9e5f0', '20e21336dd48967d7b8f200ad27b66c5', '2102bdf52987cd44348e8566d4135bb1', '2130e61b08c6c68b1cfcd658085344a0', '215080373b150dc8c3ea89caac4f616b', '21525d374b7b67788eb037b510c3ebb5', '216bb1a772a90d2c9de4f93e371a194f', '21703799539b02dd48374d1068b664a2', '21958edac1a670ba43f1b1d4176ea1b7', '21ad5ae89bdcf4e047c1c2e2768039d9', '21dc2e1bb9ba1b79bd0bd41422eb74c9', '2244b9cc9ee6afd6463aee38ef7c31ea', '2262c1e84a6ee6770755d01962af08ba', '22664a475fa50cf876bfe0af944c9c85', '228ec4be73e1f91ebae6acca1cfed4ef', '22ab4fdca1d700e715295461bdaf5dd1', '22af0cf652a9199dc8dbbcba5c270759', '22c0f5989701b3139e5c9985f124c2d8', '22fbe942e025d3e42344dda3bcdcca50', '230562a264a775d12f9f3eff49e3fa8c', '230c8379d9c656e00bb19c474f364858', '2340e399bc084ccf6e7195abc5b4dfd1', '234577129450ab01a5ca2e7b3c4fc63a', '234ea9ee17698a08534b348195ca73c5', '237bc9391679112abeab6b063588d450', '238327386faf183017d2c94f32a7a3cf', '23899e28ab87e80356d5b179848ffc0a', '238cc3ae3f4b98ea437f246e27efefd0', '238cf76a6dceb8cc3ec1af9eff6e673c', '239a49adf57aa20530e03331a4cd3dfb', '23a00d3916e119fa13f80bbed1130ed6', '23cadcd809e84202e69cfe11092dab2a', '23e03053df08a49d52d483edad04d393', '23e2b8bab095753de059cafd1844fbf2', '23ef0c7299518e6c18643e7abcc177bf', '241fd47febe9dca26d50a225e2573cca', '243126ba4a540dc1d4a010a73a3ada36', '24384a5d0f2239b9c56fd7cc85ce00fe', '2440388144dad1a9cd36ae8c7bc0dd68', '2478cab8e669ac582b6b2a96d4188cfb', '24a35a94d44f6263f25c494a5b4ac5fe', '24a66ef8293dcd0a6c12546050d8d8d5', '24c45c1cd4c147537148ed17be791d01', '24c9acabbfbf42fbb15d162af532463d', '24cd6485f4ca0fea1ee19d16bf0592b0', '24d18370efcfdd5b5f59ccd62e590aab', '24e1ef2d8279c1cb0635aedeb44c245b', '24f190e6462baa8a703955e6ae26e414', '24f496f352d209436378cfd69317bfce', '252a742804b12bf45f35d06a0c4c6638', '252f52b8d1d4b873cb21f219c423ebcc', '25373b61523110eae35580f7bd14ea33', '2537c288572130d181c898f06dbd65a6', '256659d814c3900f2bde4936156ad96b', '256a2bdd146045a531244fde4da212d3', '25a5900dd1b4514d0316bb13d9f7a34e', '25b75b7fbd6979a44bb2aee3ed55130b', '25ead23592e443ba6c2058912b02da56', '2642e04026324b8920430713f6636295', '264bfa5880825907327dc6c18f0c633b', '26a3546dc6f7b2e0f3643e8390691ffe', '26c3469fe6800bd411546bd7c7817fb0', '26cc86d15d140de441ac9b43639776c5', '26e568f96b9e4f2c84c72a6b9dfae277', '271c3345b5569d5ee1eee20e264ecd68', '271f3b9e9de50a37a7f0d982eb65cef6', '274ae3ae306c304d582e9d9324d646c7', '2782dca22b366cae0bcddc7607410f83', '27a9b1da0378121f3d5dcbfcbacfae87', '27bba25fbc12c16265bbc2ad62e1cf94', '27dc82e0fd1bfcf8ea411c702ee1d57d', '281bc907c64c4a608dae1d3788781c21', '2843f36458384bad860fae1929b891ca', '2851dd36bd4b2b48ad48bfce940312ac', '285698a0da43afddf8dced46be9fbc44', '286bf502716f84939bdddc879adfde47', '28b769e7d6f76e6794e69f0cab4ac164', '28c14f72e4a2d4237fae3fc92ae91c01', '28cfeeb73f46fadf3dababb78fe3a4e4', '291f5dc8c587ad44a093f001d71627a8', '2937164bb20c37814048c78b5e40e5bd', '29a1b84f1dcf921a38b24a448f289c29', '29c23b6cdded7de10c5a708f619b35e1', '29e153c1c1ec5a7969dde83ea7e85a1a', '29e1d8236fc75264de63a8a4c5808776', '29f443366c915665b58f6ac822a5156d', '2a3cfaa61cd94b7e736ecb8ea2674a3a', '2a6dd789a0a2b26258a115d2ac5482e9', '2a6f5ac0904dda35f668d78c38bf2471', '2a809fe7eb4c52cac7b57fc277ad1450', '2a8a8b6ea79a6f93049df68e66b8c397', '2a96f661a5ea9a0bc2048e85c179cdbe', '2ac27a2e3ff3b313dc1ac962bd52354d', '2ac7d7baec367098c5b08f30e9f9d9a0', '2ae57bb732c28a1c66593fed457e662b', '2afaedaf1bbb716d8ebbf1969e3970ad', '2afe02b2e09d69a99eb6abc0231f3a06', '2b1e2fcc49ed702219bd6ed5424b38cf', '2b75285c9b1849cd97a7b14e18f85a84', '2b78297e302095f0817ec423b1bd1d05', '2b80e5e03c1a96ecc4dc3b35e0c5fe1f', '2bcf8023b07db77a6fec706b285e90d7', '2c01e53ef149fda0ecd42bf7322d3e74', '2c3aa4f1f131b17278ae93481df06e0a', '2c416c63b57be990375b7e9fea3fce31', '2c6525e05f38e329b0322e57bdf65b02', '2c6e8938232b8c59e0e191339ef819d4', '2c8194a448895d97c925551bea98f9a3', '2c8203a8fe6d3d2f8bdf8aa0b10f6c75', '2c9f9bd1786c13b74998bc32ce2aff13', '2ce18f698c0ab4e50f3605fd2ece4bd0', '2d0439024c7bdd735833f5984439df0e', '2d0a8d65da90b3974b8d9f95440c4975', '2d2cae4ba8f69edf43b0ac2464db9476', '2d2d9e75c2aa36b752a740984ad3a327', '2d444ab807460fcc2ed64291076f615f', '2d528eecd3f11e1e032259a2c35360f0', '2d6f5a289e5ef78050e535e7b50e9fee', '2de0f9d98e008ebe15d1858154f5580a', '2df7a1323ab15dded654434308642540', '2e38f732d42910c5e446b9abb294ecfe', '2e42161f00544666ab9887f7ebddf606', '2e48e77c68d21d987b3299ec143ffde6', '2e69e2dc555c124dbdd51f9ca5da4d3f', '2e6da310423d8f7c9516929977e06b06', '2e7fe5e0f77e9cf656cbb8f90cd02c71', '2ec7624122a64cb4a48f252e098bcecf', '2eea381c4d414efd6e02cf3c06702562', '2eedd0fc86b68f463f19c60d78bffb01', '2ef24102a6d7c7b7019e280237108943', '2f28a5022dda5766f1b3c8acf58a3f6c', '2f387ffde5ec26c2d6a5767120298619', '2f6c15c5c912616a0d8798c487161b6e', '300738358cca4fd1adec0ebb34cdd0f1', '303e927371ae8b8f61f211a286cfca5a', '30426c0668d2c4d119f9dc96750613af', '3052b91216f0805f6c2cdc0414f8afee', '305d60e88f5b753a9e0f89fe4e166486', '3066b2b045c274975914c171747dd779', '309cda39d9ec1a8d8f7a6dbdcca9da08', '30abef853f681828baf1e9def3ac2f3a', '30b51a0976b6c37dcca2f7b6ccce48f0', '30c2b2719aa1ad11b76b6d31e7ab8bce', '30cb7d84e1ce319c6dee31622d52529e', '30ed79b66dfb09fc68699688300f26bc', '30f6cb87604a2754197aa9df936439cd', '30f9d5b384c0cd58896039a15436204d', '31182b5341359e9e2f808c390dd4d775', '312e79c9e8c8c6214c673a2011c73f12', '314cbed03bad8cedc7c7419b287c38bf', '31580a775be8d1810fc53be96c279d04', '318fa85958db68e2151ac28488ef6bad', '31a8ded68a2d98236bceb20253fc1b63', '31d5b2efb40c1b31b278d860df9c9e55', '31dd38642462c287160693666bc51f6c', '31e7648a0a02e0d3a352c6e1f2d22221', '31ec1246488434b2618aa5c783bfb899', '320ddd6c1bfbc07555166553e0e0895b', '3211695bc09531b69459c749c7baf939', '324a24037606d6553288a74884015bce', '326379de3c5a16d6f23b79d4fc04de36', '327ba99b4efb085299d80d59a0fd1477', '329f1f14f346404110cb95e4fd79a21e', '32a76df921bfa1456894a24c2917ad16', '32b6f98ca01732086b372091677c6deb', '32deaf90cb061ae9944f37f51c2d29ec', '32f4f673d71e39675f52d054e501bf2f', '32fb09afaad653d0ba0939da45533fad', '330922fe26f8491df342412416ff0aad', '3311e1e2fe5e3ecc93ee3a44b04b5864', '332fc7ce859fdbfdad1672f59f24c86a', '3332bfc122fdf004493771d076ea14f1', '333503b24691792888449d2d3d060018', '333b4b4361b7ccd3f27c9451acf66c3f', '3346a602ca00d7db1074b8f75982c570', '334a4d2c91693a41d2633c3541885b3e', '334af30080bdb4da36860cb1f5b83da0', '33597637e7b6650bc707efcb02cd0c58', '33735f254d20de1036221761274e2b2d', '339c625784dd6a2d7682b1cd0aac0f7e', '33a0317375c12e080d0714a1902ee45e', '33a7017c7a7213ba054f5b5ea4f6d77f', '33ad6fcbeeb91c7afb749dfad4d284f1', '33b157b40a9de918542cdb188bb96f61', '33b1d89c3e6850c4475803542a76eda0', '33cc94eb421c09e8bddf6fa71ff6f6a2', '33d3f1205c23a12163768d8d0b1bf266', '33eab29cb2ce9160efa61e21ddc8183e', '33fd7506db0ca2d4c98353ef59dea830', '3403178c5c1def510433d8d51b3130f2', '34081745e6e65221882cfb75bf656fdd', '34307566bd9273f74b0b675b1fb12230', '3431402e3acef31dd4ccdec421f7a8b4', '34841d49fed1a62a08384c2b2361640e', '3492d8f7af1fd35a3fcd2e91e94ac301', '34a12cf69fce094537699bd8899d5151', '34b74989e24a42a68a0fde28f1f10086', '34e39a8a273389c0e9962ff56bf5a3c4', '34ff04fec9f68121ee978aa2ab488c28', '350b705cbc890a9ba160f2700aeeb7a9', '3562303db509868110b10e5ce582ac58', '3571b41bb7f8fd315664e8802f6cb308', '3572f9a5f82efa984b012201bcd43b03', '3594d6e35737801c47c74f682ba952be', '3599033f720e63179f14cb4b514c1601', '35b22a94f29df3e35d72b157aefdce13', '35e42a3195fb109b29a870a12acc5fac', '35ea772d50d6503536c2b5bec07588f5', '3625cc781b98c5ed3a1a6bb89522d53a', '3629d5ecbc49522f296e03d16cc7f1bc', '362a9fce13ffd0e91571dbab1e18fae2', '362c60d03c3e285d8c2577c84b2d25f8', '36396abe53e951a0efa4cdada8be5f83', '367e946c0d5d270a30d4fa9830f510fd', '36d7235b4bc2f485c10bfc6ed1833d19', '373a267a0ae32ca418d75b4a6230f5e0', '373d8546a4b96a636fc2587fda894732', '37559d7782b5fb98256e116019081a86', '3764afc879e50df524d28c389838bde2', '3775dd34a2ce86b34ffbae34a6aeacff', '377ad13c9a9fc1abc3b473d1f1f94c0a', '377b832ea0fd25235d5da7237801a51c', '378e4acfb9568ab83768bd0e2657ad58', '37a152713867f2c2eff47c9e5df6da75', '37a8089347648e29edba12494b6d9fc5', '37b976c4440906d224888ed3744ebc3f', '37bc469ec7b9061123538a614033ad70', '37bef5535e9ff198b76b31651b59b5a3', '37d27db854b8b12da0d8891fe2fb1ee3', '37eb928f12f27b654e279752cbeca457', '380e240a974d8f331c4e5ae36229d7c7', '38267b740da182a90eb728240b85d3fe', '3869860fa2cbf1544c0fe30a28a3d414', '386f7d2f15a60e5a6841d16928ba14ef', '38775fca285c7dfe3e2cd54f969a6dc4', '387e973854940fc33dd399c87dc5ed45', '3897c852c9b43766e72ef33d14ce6ff8', '38b62be207168d246956203ffcf3a36e', '38d5fdf008cf4644170b1fa0798aa18c', '38f63f2e470f776d62db3530c81ec875', '3905c63c4be09605a2ded27d21b21ccc', '390782f7f1baabe96640ff99dafce1a7', '393f06aad6e2a64b48dde9be43802e43', '395e3b2b471f84b307539f9ccb100329', '39778638a6103f685b91a11e82e9492c', '3991f8b225e47754ebc6143100607d19', '39a8cc0b3ad17fe3b4f55aa6eeec969c', '39ae1d62e3df2cd86c89e17abf82e5b1', '39b44604878a5d66fa5df4ae36c56173', '39c26fb65094576285f68dd96454921e', '39cf872e4be7d0f26394ee90f07667d5', '39d2a86c77f519cf6f50dd27190d6f7b', '39ef8684a4cf20dd2628f169186852ee', '3a00dde4a059349157d206afefefcb74', '3a0a603b1991541fa05ee0f9e59ac27e', '3a7aac189127349a65c23309400e0c3f', '3a7b0d3d76307e1fbaef4d44a63124aa', '3aac97b3b91052c0a3f063bfd4ed5a6f', '3ac2940e1567242ca01598862ce70dcc', '3ae993f5c47be1a4ae9ccd238b539ab9', '3aef36982cf816c15d015fc4a2e43ac8', '3b089b41712fff8e7d31f9e6e970c6ea', '3b17f8c706ff382ea9a08b3c54e703f4', '3b1db92b481ae4ebf234aa69df58806f', '3b63c109db9daafa102e858d00734039', '3b781e33668e400cdcc279496df78e94', '3b8e139ca3921718050a9bcbd4bf378c', '3ba9128ede084e6e1f5f4222d72444dc', '3bc553a394ee01c82a3d9dd60757f5c9', '3be82469ce37b7071311b2539bfc49df', '3bef22a73a12c9cf6af83016e69f2e07', '3c157e2df145675cddb8914447286e63', '3c1f466fe3b6310d0fc843f33dda341e', '3c4e1322b262a64d18d1e8d7503ec2e4', '3cb9a28da9bfa208f5edfbb65e9f39dd', '3cbed9e9b0b1befba546147a620f9844', '3cc6a11966b8dc00d292cb9c116add41', '3cc8fb13d4c382012f35ceaaf40e8162', '3d06d7aeeabe026d4259cd2f2dc81f44', '3d0f5b7182d110b4a8446412514ea82b', '3d1394457d725b58f95c50c93456e562', '3d69bb99920987a6cb4dfb4636d5a525', '3d8817706d8460c2dcc4598478ecdb55', '3da03127f3f9fa1181d73306bc4aa6d5', '3dba0248450d168e4eb0166308ae6336', '3dd6951065ee6b8e4ba322f30557f61c', '3de168951ec2caf3c9dfdb30a6fb5c92', '3dfb37ec5b6286fdf0c68173357d5ec7', '3e15f2c438360bc266c9492bf011e0d1', '3e1b637f5117fe4d2c984f46a17be64e', '3e26badab4f33301e04f2ead9be85b51', '3e2c016c524ea48f5a4c85490947e030', '3e6c7c8e8b0c082dce74a090475b7977', '3e8e8174bdaa2cb5ee7a48bfd566b2bd', '3ee8cedaacf240cfcc9a1454f1774d2e', '3f04a0dd6cd71659d6e816234fb85a42', '3f2d4378725cf66ce42c59fdb8262503', '3f67b9094952923a4dcf9169dc743667', '3f70cb135906ab56951eaf28d33ec34d', '3f91075be3eefc53c153ebea5798c4a3', '3fb1065a9d8ba2e837938e2716f086bb', '3fb45b731728737f4d38e02062e50d6f', '3fbb6433b9f439fd1f18fdff386ef511', '3fdc96e59155da2df77d2779cda5dd2b', '401a0cc431c57cf3d12557a183ef40d4', '401aa9b3843be584710efb8e4223a501', '401bd9feddf86349e043fe083e78e546', '401f691937844863d1120f1dd372f2a7', '4024d954dd54814014a8f453efc13334', '40255bd626a9961b0363c660eaadf6e4', '4040847a1e9ae9a0f36f6133a8f78ef1', '40446e268ddb2f0ceecd3f5980d44b24', '408958493daaa43cffdb48a3c01c0ef1', '4091425fca29e12bc2fa72312aff9620', '4093a8b551dec9c1d21c42a9d0f21fae', '409c6cb77c8dbd738387994b4e300949', '40a7da303cb1ba3181361bdde2fe653b', '40acdefde0de04c9dc2e968a3782c3f3', '40ad040861a0aa5fefbfa567dead173f', '40c75e611dc165c3034c1f24fa7a7c49', '40dab5dcb768015e351aebba4d401502', '40dfac91ded44b7d5b6fde792141384c', '40ef2ff5130d81c9e4207c3c8da1f4f2', '414ec7efac385271b9568040925bc928', '414f81f647315f09c4d227d2375a0e49', '41662b0cc1f6a7e8913a491841d665e2', '417c302b01db2d93ffdd46a0a93f0620', '4188dd8a06f1c5599e235a99a96180f2', '41a47316b22efc243d30ef95af10039a', '41baae99a1e0818edd6d25f546d31e9e', '41be6f4a081baf7d3a70415f099be91f', '41c1d95dd248aa7fa83da6cdda27c000', '41c6ab19314c5867a5cb75ccc79fd903', '41dd1653769066d01a1ab33e0bbb7ab7', '41e5a81c8af7515bb87dc15f8aff7193', '41f09b537016fbb6a570ae55c78d41f7', '424472695fe396dc36ef0074c0e3fa9c', '425e668070181c1d82caf68b7e7a6774', '425ebf88342a9809edc401e8c55820db', '4299c8d7cc1c1efc0cf4b7409fde3dd4', '42ac91c942dd4dfe698468be5b7d478e', '42d4e9eb2335ae33d128a616a889a2bb', '42f53060e31a9b62742e989f3a8c3340', '43021b8a9f017c8b5bfc455b47663aae', '4302e7bd25e3e84000862ed7d800af52', '43185e6bab8c41e91c43d5ee51e754aa', '432130a472a780cbe8e8b06735e5b10d', '43577f7dc37e91ee74937bede5b73f22', '435cbfdac657970ecec3b41c439bf584', '43648514ed556b5df58608b45e7a7729', '4367f459c41f2c1467d7f838d512bf19', '43735b5617aeab8221e98f1b0e89ff62', '4391fca1f3394a6ecaa35327d2dfc6bf', '43ab6ec920142cb4090e29d84f6dc57d', '43c0e37ac8da43d5ceb2fb5a909b5116', '43cc98db4dfef58a1ea1306ff122fb86', '43d2d58fce517d70ca260a663305d2d8', '43e022da6b3664e4cd34aba2c36f5fd1', '43f4aedfbbc7a7471011b388415d34f0', '4423428fdf005aa09f0b11770a052eea', '445e3746bc6e46c8c01b6dc8ab23492f', '4465acf279672b95eaa08a2676087c4f', '44843582a41673546c40c726a7e50ea0', '44a69752c34f856f7c1f2214338a7a10', '44bbc6d101a954322979c14578c18358', '44cd3601b297a5bfb2afbececd15727b', '44e7ed0a5096687db8e1340ca9b3b135', '44f30b7940d44ae35f8276e2281e2426', '4546b618939f8154e254f1c0212d819d', '45471d30a9aeb42d6e54b167cf7a35f7', '456225ccabc3e013dc8e373c29a323a6', '456ac33eb69f1967e148434043b19492', '458e80586f52b7ce829942dd32eb98cc', '45bf4fce451a55a4641ff553bdb110fa', '45cdae1c183e0a7c225f53add4585fb8', '45d0d5604dd39fa7ed314ec5fcfe015e', '460d168a2d171eb402ca49b1b64eb56a', '460e8d38239164519e1bbc9406467efd', '4618230f38492b2d7753f5d047659d6e', '462f260be90c11c5b0f9a852d56b3a4e', '464762ff3e3ed47269feb6330a53efe0', '4678d41bf4f3281ec026cf396d156ad6', '46b296acc3c20585d08acbf6e2f3953f', '46b6009fb729a332bf5a032e84ee8648', '46c46889705d66382a45dca19fddc063', '46cc60ae411b951a3d0517b9bcdd11e0', '46d3954b6b3f04a08239fb583f9f96ce', '46e974cc6aa30e85cdb2aeff12a18462', '46f4a6098d4bcf29b2a6e266994b6d4a', '46f9146c582f12c4c709efa287f27521', '470d36c52990edbbffea662c1f8d83bf', '4736cb55efa7a4ef4fe427b215864fb0', '4752e7e100573f91c9875d3a5c3376e0', '476151ddea28d9ab0c817ccbf39e41f0', '47740570a006590cbb968eefeafe5788', '4789f0265673630f17d524cf18cd22c5', '4799940fa5e387a2ce5252d69a7826b2', '479dbc1b5bb29d8e8fee9042a37d2a9c', '47ad3e13bb49275580e06e8b8b47f0c9', '47b621d20986270a0aa98d5699cd2c38', '47ca1e4c439cbde9dc45f733d2ceaac0', '47e6db6b8c3f79cb1337329bc3692ea2', '47f7918f40d7edf058fd322a7d7647f6', '4823b6994c64f8097342b8d47c57e563', '48286434906a7a2d126295f0b1514db2', '486b62ac63d88f4e66e6919238ef2278', '487280adfe564c7e7f1147b15bd72b28', '4874181ea1d4d00b8ae0baf5ad605258', '48ca703dd41562bd07fb8b690e33354c', '48dce278d69cce55f7dedea87d44f512', '48feac0af60a8f5d6bef072aa6535ff2', '48ffa5ecefa1c33d52d8c77f09becb33', '4925897538d3fdae6e43778e22b7c286', '4925dfc042d7d1d5f6543385c788ee5e', '492e338cc6f0ee325560908ea3fb938a', '494d122d2a1ce2596435ccb518153626', '496fb0acc6c311999f489087485da676', '4974c54125777d579b7cb93baf98c4f0', '49798a94ad15c3f0c97d67bee8d0e94b', '499047ad53ce2c8b558438c407f3a421', '4991d356ab407f6461c0ec232408de91', '49cd6c0fe53ca76be08d93e9e21035d3', '49e60e7206f98fa507dc73b9a44b60a4', '4a2fefa45431fa7ebf16c2173328850b', '4abf11174a8971895da95c9445242b53', '4ace284b2f26be0fca09eb3136d50634', '4b0de5732bf4fe4573236b6c9528e4b7', '4b39ed65ddabf645a7435cede3696947', '4b52dea2437a082adda7303b02e02bc4', '4b59b759155255e241cb3860989aef6f', '4bed74f7458fc916aa35cbe8e82745e0', '4bf5dd44659859004b0587c4315520cb', '4c2d82d9796e57d52af2946cb5765b66', '4c3387be4a32ef85b31a8f7cbe544f3d', '4c3af6eb9c8d6a310d4103b9cdcb7746', '4ca1f8db71675b2a9cb758b498f3d320', '4cac08d8e70dc26b3fcc1c29ff373c86', '4cb7fc5ffc760222dfc26a8e3cb5371d', '4ce3a9966a0a8713e0c850a3aa29aeef', '4cfd4b8f580f6a372b942a12c346d509', '4d07916b04675121552c2a2e818d2b2a', '4d08c6aa6db6a17ce8b6fc0b43be9797', '4d0d5774949b13984972f6ee58dcaaac', '4d4dcd5ef9c736f50c5a0cabe369372e', '4d4e8b694b38075c343268c669266e51', '4d584acb4b6d1a3676451ec6513e4710', '4d6f3379282f567c059779e80b69416b', '4d81fcdd456fdb507443a9f649d34ba6', '4d94279e7b56ab87e6c4ff51f651a953', '4de3b7363ce92b9907ff430a4a1dc1e0', '4e13307da68752016b5a6cf81a8649df', '4e1f7aef8465b5eeb8b564be0add0cff', '4e438a8460f357d7724a0fc07c440ebe', '4e4aeb4cb01cdeb7e61b3c8534b4b0cc', '4e6d54160230eccd188d1df367bd532e', '4eb4d46103920930da6507ce7225b27b', '4ec8962dd0f23cd78fcb88ca7ff26586', '4ecda409d2182e674e16029ea25783da', '4ed255dc977beb0b55c942ddc5568964', '4ed5748fb52472cac08cef4094061a82', '4ed88f9ccd475fae0d92abcbf1ab29f8', '4edb2d7eae1392d57ac6678a1a38b467', '4edb3a6dac9db529aa858d2f99065e61', '4efd1b99dc552dc2df7c7a917af8c7c0', '4f03f319b7e3ac69a5be0eee6cd39331', '4f1628bebe2183d78255464673212dae', '4f2b218890d9cf1b2125110021cb643a', '4f3109f130ea2a7b2b0f545da6c392bd', '4f3922c17b1c07252f9e0e8db49c517b', '4f5ba63f47e84b65ce823680fa2c3924', '4f610f2efa4268736b3ffacc6e59006f', '4f759dac913525c489530f963ebfe777', '4f859611f9236ef816b039e6d8b1d18b', '4f9893cfa1f85227bc928aeb61d4e5e6', '4fa1fb091d02d737608d664916ae6957', '4fb1c5704b16e1a2ca837bf4a2ff1dba', '4fd6848300bc52aa449782f031409648', '4ffe57dcb624a4f062f13ad580abcede', '500e8016cdbef310cd988c087026f64f', '501dfd6b49299fada5818fbc40420d53', '50663ed491431e2d7be3b0f9b74ecb2a', '508cad369bbccd9ed5f22bf9f0b680eb', '508f051e02a784f149744a001ff56b9a', '5096dc3d36d50a32f8621ae668aa113c', '50998415c209306acbce72c386fa4643', '50d5b705ee8f7f9796c0970dd9bfca3d', '51091d7a2bdc049102874150d40711f2', '51696a151a2e261e2c0a182a01b5a369', '51e6c1f1f4359d631a5d59ec99c67701', '521b95f4dceae8423c9a7a67ec5cc3c5', '5241c97e06a74fa8afb11d66d53c6ad8', '525bc5629757f077df452668cba8e4a7', '528bec5cbbe2d5a6f38553a6411f64a4', '5290268063170faa09a1e96468c6e9bb', '52944a49670e6b2814dcaf59fbae0231', '52b76c521ce6bc62cfd9f69a0a380dd2', '52bcbd3069cc702bfb72ad67544188d5', '52bdf24e7d8e41140d3593c7bab5f076', '52d40310c2746198258b899397609df0', '52d775a6bde4454d1aa5152a39a60668', '52f57b6cde561e96d8cdc5fde700c6aa', '52fba799127714d14bd56378f90ea55b', '530161e63c6aedecbc94fde814b4795d', '5307d5e1a622885d87e478fc1aa7ef22', '530ac9ef01efe7e81c9322d16bf7a802', '530e6650231ee93ccd182b33bcff8c15', '530f64beb269c973fc7a7c71f784f77c', '535d1be1825ee6e0a2606baf6b5e0c64', '536609fbb9db2eeeebdd6407013a0eee', '53726ff5a7ce3e2182523aa58d34f84a', '53a024314426e83349abfbe9f6d4b32d', '53b8ea5c4c6d51ab2a53f7b578ad95d9', '53bb529fb1c587efcb10636d33d3dad4', '53bc270d9fff05085478275c1b099a96', '53dceac346885e8d50bb836439432b11', '53ea707699971a5019985e9dc00c0a05', '53fd168078126f2413e58e36410594aa', '5427bec551dfd83192cedb59949552a2', '543edb555f5354c0480da015be747284', '545daa976db176aed5cdd2eff2f610d5', '546b90bc0677961391077810ceade584', '549f652dc485360b7f2e508081f7d58a', '54e732d7719289bf9af91dd1e023c4e5', '54ec395c015ec7e6eab6a474af93bab3', '55090d30ba53ae31d1ba04f5bde04262', '5529b95a9a9eae38a19cc33407f1a95d', '5545beb35711f6faf40aca12e03a7560', '557edacb7cf350db2d24b5ba5a94ae47', '55820a9dcdb5ad0d99276aecb6173b34', '5584d3a72a91124d0bd504f393fba852', '558fbf3fa169720052b2509620a4c07b', '55ab5975917b7723e749906932daa37a', '55bea51aeb6067b2ea0d0a03dc2dd409', '55c3a0cfdfdb149092f28db9b76bb2da', '55df294e746c4382633a80d16eec9252', '55e26fbd3d49ae7563b976b44d5152ac', '56507f1c37399d86e24b3a1f1c24e49c', '565a8438269a7b16affa56a9096e4467', '568359a2fe1958f42a3aa8db97da23e5', '56f0182b17f483939383302693c6de64', '56f61006c1c77ead9db79e9d3236b3f0', '5703a389e3f81499c7f5a74df3a508c6', '57040e167aee43a43e54470445bbddba', '5718efea491be29a2dd2ff233cc1557f', '573f15b0932ec033c3d39def1b6f6246', '5764d8b5a6e96f85f3704e72cacbee6a', '576663b388bc42bd1cb6be10f652e206', '57780e90f3ca01a6d0ea7b18c48afd7b', '578169b93c0f9b49a2d49a847e6bdbf9', '57984b819553b49e78445a52a9811416', '57bfa4a15a434f715a17dabbd1811eea', '57ec266586c14a56702bb0ed85831521', '57fa254282c431805cd775e699db021f', '57fc0205f69fc830cfb541e3e2a9d644', '57fd523f66106e315c99fc0b1d911cd9', '58175c112f803fb64d3310a55560c719', '58204a656e67a9c505df274d1e370d9b', '582fe83d633e023b9fb3defbb812d93e', '585f4654167b0e822ccdfa8e0b5e7d2b', '587477fb6bdd4736646c531bc55f880c', '589f3471be7e7a238788ab337b16c93c', '58caa3df0e56aacff5de5b45efa9a2e9', '58d21933ded569d1e92578af968cfdb8', '58ef0f7cbeb37d327ed126f848024fb5', '58faf09dc5fb83f5de4bacea9777aa33', '59488a5341929643c9bdbdc933f19481', '59606497a9c2e129612d5ad5212e0494', '5965aaed7993e9363a21369f0c863c7b', '5986104b471e792730b13f125927d561', '59daa7a67126a6c800937624de294d91', '59eb7d20a8874d1166579f76aba81db4', '5a0b79197814288e2c80456ed27dd343', '5a3fa4b09a925cadaf22f567cdc6b0ad', '5ad17dce61b9eaa851e88621b263d173', '5add045d1e94397dddecf13c9528a34f', '5ae70e1318f18ed22932a246842e5423', '5af0e8556e7295a1786c3bdf041bb976', '5afd76d8d1dccf78c2612404f1a7eebc', '5b01db9ef424c3c65ab7e592f7faecb4', '5b3cb6dff90b66981b223e49c5886dfa', '5b4235baa00af860f0b679dda139884e', '5b46311324a0fb8a2788797b482384aa', '5b609af2f8233b56781c7de27a982f94', '5b6d711ebac637f7d94e1fa14cbf5d7c', '5b7456890bf546e384ca00950fd1032a', '5b9dbae874aa710e1d51202afd21a8a0', '5ba669bb8eddee6cbab6badf075aa124', '5bc923e756c7226563e7a815f6c77697', '5c025d0b7ac9652e1296cae320369478', '5c49a56cd4ac4987008ca1f22377876b', '5c8c8c17bc892bd6274317b95adf5cce', '5cb088f1b688525c8fe0cb22ffbffed1', '5cb3f0dfd16385fc69e8afb5363cc6dc', '5cc656b64267c21078284fc8013b3670', '5d0dcba9438c0fd5ea486c967e95d779', '5d19c64214a2c8c35417ccba6e4cf326', '5d4ee2319e3cc749438e535bf5fe7748', '5d5baf8188524be65bc9f42d77454d80', '5d8648cc96517fcd440ae4aa723dea33', '5dac95d5256ecc650c8ff9b373592490', '5db0a19b6ad2b8ce6e657eb789d19c4d', '5ddfbafebdf960780de9e4230b749316', '5de5ed6d9982748f209286b58ef1eff3', '5de62c0abc7e487c105e74e3e685940f', '5e54095f702e13ecab2fc865d3ec9cdb', '5e9835f313bc4da6edcbf2441519561d', '5e9e28ed622272762bed964bfd06db34', '5ea6c6c2b734fe8d0d2bf9e1d1ef2bb6', '5ea6feaf2a2799f469c2ec9399a48dba', '5ed5b94d8b165138edf8768c0e847fe1', '5f038ce7544bebebf783714e2fe6b48f', '5f3859782f216141625edd05cfa821ee', '5f64e9c806e122a1de4cc1ce9300357f', '5f6b9d4938dc3d1ea73e8daacc9258fe', '5f6dbda2aa3bfb6d853b5e2b14dde2db', '5fd2b9b4bd056d623419a501a22a5379', '6003157b42d8e76a3e837834a1c98e6f', '6026fc4a152234cd83c150fe228c528c', '6028ef4492cc986e1aefcdedf41e6ce0', '60514d512d6998c0aa52a61234420be9', '606b6341e767ddc460caa247a2399d89', '6076ddcedd23864cbaee6e3627007059', '60d73ab56115b83df17bdaf356c0c717', '6114781504d68dfe6d47f05294673179', '6148c8fb65c4359d4df00deec858698f', '617f7df71ab9685ea6bab11376509b45', '6185354dbf18990ab101f58dccb1c1d2', '618753f476383ed6adcd7c3034086efb', '61ae2d4277d82dd12a3682d988902081', '62060a879bcbaa4889a7e3d53e6e7b16', '620d4d00f32e8b8201bc541f07fdc366', '6215a329e325f4aebb9b4981dd18bdbb', '624b0ee20d639c895b4c5332ac591e20', '624c36c5c4ac2c92339e90d425914d23', '62854cc0a9513f3dfce8ebd2c0cd52f3', '629467cecfdc907088d180b4f9e42e34', '62b8204c061f9c327be698e9d4fe5da2', '62bad5a906ce0c98230b91a7e43650c2', '62d6b015001ff735d408e7db8b97aa5a', '62ed744c60f4338437e9e5cca3d147b5', '632c647df3e4d78fc7c470a677aa609a', '633d6ac6d129f63d20070ad5ff517316', '63479dc8da5a6bf09049cc6470a8f557', '63a4563a6c5f5aa080039a100bbb0a18', '63b154b0028cdf9681ae461ce9e5707f', '63b23d0b4621e6b53553129f3515c8da', '63bb76bcd0e417e2e20ce3052904a492', '63ebd9a09d774e48d0c812ba45846035', '63f4108833bddfa56eec68123da1fce6', '641340439a2bebf6221d4604aeb4e43e', '6413bd491ccc5d215730afbd65c50de2', '6424b5e8ed165b7c8320900c44fc0fed', '64499b7df074b5f4668717ac9310d645', '64528fdd97033305f15f016b8af91277', '646c395dd4acafeb896d6ac75823abe1', '64aa9d75476cef2c5c4b7937dd62d6d3', '64d8e5c68344afa1150bcca269b8d679', '64fdb4e43d96dfed7d40a3e932b16a9b', '650365848a73a3af6de67b95b639e915', '6525620550e044c55017168aafe8ca12', '6526ac961bbd75eab7625f0d284ddf6b', '652ac98b9411661c1805fce118f9e354', '6532b37517caa3c758e300009f7aae8f', '65332c97ee2ec649db9d911092e1e5b1', '654084e352f8d8ca3847c0f2928a963d', '654180befba332d8f85017e7f74544eb', '6542c024cee80c656dc5444770ab080e', '6565889acc305452386ba858252ffc49', '659df72bf05cf82bdadd28c2444c3b21', '65a3092658f80c876c6aec9e9d4fa9c4', '65af166a5621d1f959768c21e82b994c', '65b9fb06aeded3c55af35c0ccb87af72', '65e5e617fce50b7e4523accf646a2426', '6602a704d891fe39817a84cbcb71f7d2', '664ed5f539eaa553383ddaa0a263dfc4', '66504d14058df7cb8a20fc4853a64457', '6650d430efccf98eab4d300dc2ce0900', '665d7370029c20eb9a53369609a3fca9', '6676a937110b95412ffa1750edc74fc9', '66dbc9afab2d5077d9321e21b71e5b13', '66de79751d27d9733efdcc2922b5fb6e', '66f2450f4cd1c1c662deed5d47c34556', '6711d5abd4d842f84478b9544538e5d1', '671d5e9050d7decba834c56703e10dd4', '67249aab245aba12266ab15af1edad0f', '673df7dd1462735a8a72bb23c0b9e362', '6752309f7edd7c5c3f5cf5ab82a57032', '67a92fd440a7e6bef5c9449140d74ee5', '67acb505990e21b377bb10a2b55973a3', '67c3c26ad4ba17040712d2459252cb11', '67d1fe5415db738f424768e96863e0ec', '67f1868883b537678cc12a8a4f55923d', '67fa23cf67c6fdafb282269c30d11566', '6820b73a0aa20e40ca17bf656fc677d2', '683161434ad77c4c9e4b18f1fbf5789e', '68655f15218c51652f50fba9c44c4243', '686f90929f8e440f849a2ff5c470757f', '688dc79537fce0fd9492f01116c1c54c', '68a16b6d7df66c84745b83d65a4a5ae8', '68ac82f75795be342a5833eee99fb9d3', '68be1eeac3ff146c2620328be2757a21', '68c99eba2d8e9518de2c95ec642b8092', '68d7ac0413c5341b2d0991883236faaf', '691bf1edc6cc590b55a49155380edb50', '691ea5424278ee4bcfd16473b4cf59bf', '69409d501cff553e1223cef6999ffa36', '69481418c2e1cc526436aa0085b82a93', '694cd9c405f39cd6034c3183665a0763', '694da55649f462db88286fa03282a94f', '699e260741222b00b18b0db4656f3fda', '69cdc7df397f471e6c6f6c284bdfd67b', '6a0fc0546d680e58f5c63a7fabfcf5d9', '6a1f6c29d8c3e73dc8e5fad9ddefcdef', '6a1f92ad1d003b209e7326d40a013319', '6a44fec39bfdec66322bd7d21f26472c', '6a4cb1b11e337d3ba89a938584cebf5c', '6a5e75fea39392fd072604f4282e50c2', '6a82a0b113ba16cdb055d52bbe9dbef2', '6a8a46f38b3a00c81ad4df6c77131c24', '6a8e44fa64b85338d4da2a8f1461fe8c', '6aac830c669e76270fa8c7272d7e9e1d', '6aadbebd947d617968e49b6f59bcafd0', '6af5d79ab6c56efd4ea2e49615c4beed', '6b1e4638fb55e843b5385b9988003769', '6b3552d56eaa1d4593388a56ebcb28aa', '6b4a8073c783fad59a3a2646e29548f7', '6b4b4f325d499fa631ee917781f3c1fe', '6b5163bec09f7d2b9fc096765b77d230', '6b6b983467852e0a938041ab9aa1e86b', '6b75bbe1013f256c8b57ab89b6af354b', '6b8b0bf61018f3cc22ec1055fc21f723', '6b9cc1b7164b9bcd68394885d58cfc6e', '6ba40928ecc02d6fd9c0d37c7295b0bb', '6bab73acb3d034309d80f3200e73ee95', '6bb4f618003eb9501e4f5ab7ca5fad7f', '6bc5a584e7ebfe330fc1a881b98af0bb', '6bf3ab41ebaf521818d3be66cd7f1d1c', '6bfc90278a7cfa9f582690b13ada914c', '6c07d60d3c5c9921ba7fa553f48ee200', '6c5570658a81bb7cf1c4263fc00cbaab', '6c59e3aef3f0e62a4ff1cac88750041e', '6c81aee701b5fdf6b1107945b726dd62', '6c916c5a96e529d0c6c49cb4e9546435', '6c983953459e95672e2d7a1faee803a4', '6cd1d2cd4f4d4ca53ddcadd5258edc43', '6cdfa9d833b6734a7f692a73d99edd1b', '6d1e047dc8e4b0bd512975304e42e7ed', '6d454673037eb89b0d3ad226e43aa48f', '6d495729db066c07969e127e86a446dc', '6d5a0b9e43f9c27c5b11237889460227', '6d5c9634642fc196d0bd9ff4363fdc74', '6d70b2e4c81c3a04dcf4d7a5e61d86c3', '6d7cbb83e9aca2d08126d6d64f0a0dbe', '6d7d944f178eedeeeda9d66bd5df001b', '6d90519a603743e2b9be276ed4385572', '6d9f943ea105232e82b5d5e93c7d6538', '6dac5518cf93c2bc4a543637d4e6cc77', '6dda969da4ce6d95e44512fd785c5c7d', '6debfe6d9887803f6c771ca7e34826c8', '6e0c7a83263cecadf933cfd25cca1142', '6e0ea72d409ecd3833ec92ede298a127', '6e166cdd9d2de75a1ad0c095dc5c8f9d', '6e3376853e56cfa030e5d4c193f0f390', '6e43b917f135ee2d65ea8633f2dd49b9', '6e456f5e5facd58802e4f9e0fbcc945f', '6e8a0fe6a03e687c692bd0a21ca1bc5b', '6e8f2e81f7d6e95e11bbc1ec6b461d24', '6f1015f1b13856eb5b7baf09ab86f775', '6f29cd833310e14c56723e06e29a981b', '6f31e0e8de91242f8cba010bea5a4d46', '6f3e91ff0999feedf5fc598870af250f', '6f4f418a1e485620bc1a204d975f4b37', '6f611a9e7a1ac01aa71d3beb64199c2e', '6f82637632e3ef5cb045b95daa41a5fd', '6f9c56886cbf05a3294eecd77e4e4561', '6fa07f45ab87cd895d065f882f343b63', '6ffc89c2b768b901e7d1e02304da4895', '702505edbaa0037ad658bd2104b1864d', '702b22736e7c15dc6c47b4cffd8ad9f1', '70441ce35855ad8bb4c780ced52ccae9', '7054da0bc308ae43e40b3caae055acf6', '705e6ad2bbe78f4496447e50c4c9012f', '706d0ba8f3033b3aa7a796a520b9611c', '7075100f133a3c5a70393ebde87e2dcc', '70950901042a6c2f19f24fa1bc6588aa', '70ae5dd887a593dbed124f53f1a0f99f', '70eef378e66f1dd251ddc888271d1b71', '71647b6b3024ee9325f2047afd790672', '7181740f98f86b4a33c7ddec4dc8f1b6', '7187690e6210f938a6a27de30d90775a', '71b252ec6b7889674b7e2e0d935bd9cd', '71bfe1f8245fd412f735176301a388d8', '722cb7b4bf435c42f1aa89d59a67d308', '726048927b1b2d4a8c259089a432ad8b', '727036724edc9dc8b109d9d9c3ac6934', '72845ab9fac12f41c2a4e5cd67b2a77d', '72b56d870bda8718ad942fd2c4417df2', '7303687b59449f91c034d7cee5734f7a', '7323fb0046503d0fdce914e1384615ce', '735bb9af41a622f3721a86d21b216be5', '737a90c73206e20ee86cec87103ca036', '73ae845ce3250fcc79b5c56a348870a8', '73d51c74cf0fef77e4ddc26b94f8e904', '73e12c8c8a9c12305cf49c96f8b74286', '740b8651ff6fb58fac39334daffa88ee', '74138d65e25623df7fd799eb4f0ec7be', '7422b73c8beb760188b3e43847061681', '7459e4f61957727ad7460c93dfad2c0c', '746a87c6d787641460c82a29ddec0d0a', '74a2f29bc3ca8bb12ef0ff92af58a226', '753a15501205b6963ff25763ccb1bb39', '753ab93091cd058cddcc9fe4db34e74c', '753fabc4fa59480cbcce85d28f1ed577', '75758fb0950e0e1a06dc4671b74ed27b', '75924f590deba3dc303e4db0378d7a26', '75a0398230a518d4c1c234e18bf972ca', '75b7ba9cc5de972be345ffff361f3410', '75f3a2c7fbdb03283014c2281239028f', '7627efb5864062d53e3fffc9106502e8', '767afc9bde393365548dd5640ccbc1bf', '76adf5149e8b84299df0fdd846225bbb', '76c8a2ce4c3de4c6b593635f2137ba80', '76cba32ccf2b25e5fceb281367de6c1d', '76e1d2f9be45d6cd965184f17b61ba65', '76f00be497365b345f9c9d1de4853afb', '76f311fdb5a397c9583a11ddf171148f', '76f9b75bc6b235962d03e3a2145f1b9b', '772268f474d77ccc059c0740e351a052', '772463abe71bfa7973bdc1ebef220ee4', '77367a9d3ac0515a42bf89b23ffb5a3b', '779e1fc4dab839fc57755b7cd23b4512', '77c46117f6dca6aa7f6215d172c9f8c4', '77dfaa45f7215523f3c0f385a9352890', '77e3f63aedba8dde0b15a148948678c6', '77efca8893c28e8ad01bee5bbe170195', '77fdf2561f7cf34dec87c8a33332edda', '78259c8c0fb7ad178fc4ce39ff5505a8', '786cf3ce64b573dca9edab68918e8217', '78725acfb0ef6df28641741660abda65', '7897a147f3269b580781ad7f7285fac6', '789c37ac6f1480169cdc595a0213fdc6', '78fe03847c74b01ec5c3e761dd522329', '790540fd0dcd7221d75f67b070d5c3c9', '796cf40b18b111816acff4f0596326f8', '7975c1255f1cc3743fb1d2dac8c7f9ca', '79aaeb31ca4d93b99b07546894c1485f', '79d45cf84c6b2bc38b7f7208c71f7f78', '79e24780c3a68159dcfe271a9e03aed2', '79fcc4e09be516c8965b768c6b7c75c0', '7a2287702528c1f4d4c179e9c3045609', '7a4349c42791b8447241d3881bda1a48', '7a62d98d99dbd24c194f625f2259d418', '7a8b0ded1ee23051224d77a01bebfe0b', '7a941c791b17573bce97c34efd176ea6', '7a9d07d7041e0d046e25db94714a17f2', '7ac01c6258066f7a66b7922d1a8afce8', '7ad52757892946ef0d0604393bf8adf3', '7ad67654d4dcc1a321f11faddcdb7f19', '7ae91405a29d8760ca405b8356f103e4', '7aef786a6eab7b9ea89ba4d87c836ec8', '7af2087169cab9af496c19d32d19a979', '7af497f50946b5b43a5c37f27b345906', '7af87b0839ecd96541450d8b0e3ccfe9', '7b0441c8117005476973ee6c6e64094d', '7b08e777ac615343886aefa14373b95e', '7b1382b4463eababa3aa12c0b0a5301c', '7b1f266712e90c2abaed883805289ea2', '7b266aefa7f2ac35e7dec50d9978dc80', '7b2d48f0c3e2d77ac0166cca6ce0da99', '7b518d458e5c2b105cc57f65330550bf', '7b896c003b841e43ea6aad490be87f14', '7b90bcdcc1bb4d8ae3789402ea5b06cd', '7ba62e6ff9897cd6783c361593aac964', '7bee84b5c04fa5aeaa22eee88d244b28', '7bf32042bbf8cc8e80ec1faec2da65c2', '7c22825a1928819827042064b1aa2f16', '7c3141a1e2108dfb97a2c8cf8c4e8cb7', '7cc682a8bbc666bd33a237206b974554', '7cd42c17777f48d160b9668b0f7d522e', '7cf3d7d6e6d54428bf676c8cbf529a36', '7d1323998c2da8beaf348bbfb2203045', '7d2a043e26284707908dd6a8fabea57b', '7d53d5ba633c52778a63daef03186bea', '7d61ef4f8c145f5844ecf9d038314c7e', '7d8d98ed11aafbd8f5f3b831b996edd0', '7d95c863ebe20e783b21790c56f60500', '7db537dac422bc968035fa61511e5239', '7dbf0e41a20fad2888fe61060bc144fc', '7dc51d049b5ac919502718d91bfbbac9', '7dd25ae0ef80cbe4e286e844a3afc3c2', '7dd2a38fe2a99bf352de02f8d0117aa0', '7dd644022a8daec4a0c5948f71bb1fb9', '7dd9dbf22959fa3808c330b072bce3d6', '7dda097312549ff4d08128fa51b1f72c', '7de448756f8c35fca5337a1ab12484b4', '7de7cc378b333a09b9064afd85dc5302', '7dee1354161094a2b8ba10f1e18793a1', '7dfca9faeed62eda841327f0f5ef24c7', '7e0614c5800a676894cd23e5c72de7f4', '7e130c34bebfb39621f14835cceac1fa', '7e5a320d782280e5464bb3fd3e9c270d', '7ee43082f5676b384d4b9f5902e73245', '7f0743f028a6c79043c8adb37a7f3aab', '7f0b15c6f8bc934e814e2c0f3581097b', '7f10475cf52f011b7568880993b3a5e0', '7f1bbf29ec6d2eb1dae38dc599b74b33', '7f22a6aa4d6cd5ae92dd56d50aab83c9', '7f3609099722202cb60a732ba5a3a1d7', '7f434dbc0c3f9644a188555211179418', '7f4ed76db5168bdd42b67ca819eef1e9', '7f5e0bf016eedc86dc4630ced9144fbb', '7f809edda518ce988b62739335c12b61', '7f9f186e7685254d803606ad94e83262', '7fb4a7b18a2f27b4358160a871a519ca', '7fc285fba5ec45545effd0f0f4c56df2', '7fca18f14550218bd3830edda9812e30', '7fcff6dd67a4d73595ec896b9e0ac8da', '7fda213230afc7d3d478e36da1145c7b', '7fdb6730b0790d06aecb97b40d3992a8', '7ff10984609e6c22417225f1cbc4359d', '805740f8fd0c2f72a15d3082eefbe67e', '808cc4c4ca5ddf82b1b37f2cddaa3e56', '80962f44bc8f4c143f295ea09d5aec43', '80a04df511f045fce15a29ae723cd77b', '80c15357dfac7cf1422ecbdf31e1566f', '80d97bbf52edf08b21b7e55d75002260', '80dc075255b105019ea49b6896efafb9', '811a25ce9f9d8405782b959e2ffa8f60', '811df7de266da22dad16ceba03e69b75', '81551ed88334156bbbcfbd51b29c1586', '81609f416a578a73f5f62e582bda7a6b', '817637a06d067e89a1f890fee60522c1', '819032d9557b082dd073c6d85b1de93a', '819129831a9dca60704ea7d807eb62bf', '81940c8da167958ff1b5c50591cfb4ef', '81b7d0668f5c92024da3e78dbe484dbb', '81e0584f1f59e6192b0f150879f0a3ad', '820abfb59a7d2344032576bb2aa72f1c', '820cd10580cda85b9ee85fa5e08bd3d9', '82135101fbaad02aaec02418796b6cd5', '8228f4e57f940688d597b4e5321839cc', '822a5bd6fad5dec8e35a9b2b82b229fa', '8236973de3d7b41ff513a1b26ee0e663', '824002853422894588519caa6ad800d6', '8243afc2bb7d2e889e6acb35e69d0228', '8288e6db340d5f15d05be90b6999101b', '828b94e09b2146883b7f6fbbc6eeb3e5', '8292862ddcbae6391077e6d06a559e75', '829fba241248a3edf995c7ea601dcfc7', '82ac9cbc742c2b46b505dcb12127a011', '82aec0e8b0a50f9018bb8b4a5a8f91ad', '82d1f5c821eca70d177afab652a67e1a', '82ee202a2233bbb56aa5abd29e564f54', '82eeaba5183cf5284b486a8dcb6de45c', '82f234c28a700b1d2462b1724b5ff667', '830c47c4a98d8398289f478c8923a7f0', '833eee5c984b731656d85d9b24092698', '836523ac27f403499f595a3a481b171e', '83766430e7d171df335193271ec218f3', '8390bb0fe6908a2e180c2ae93af0f2d3', '83960aa5f58a4a750b3df1fc7d1cf448', '839a11f3c6a52ff048b965a57f761652', '83e5dedbd3b47c21f197daf0f780fdbe', '83eb50bb1d70c125d7ecb2d304228671', '83fac6714be6828147eb5caa6b98bfc0', '840a71f20a429de66b284a68363b8700', '840abf7f0690906514a04170cfeca1f7', '840c90d9c328a9a7a7fe26153e68d12d', '8410086d75217c6f3c9a4697ef8a1fd7', '844b7b2f986eb33e53e2779c6e06723e', '844edbf297a4d67b481b08e37f5174bb', '84500926831e43a0b520cb4ca9d984f6', '846829a7129f19815a05e0c184073c20', '847dfb28800b2edd470992d9ce4e4548', '8499c46fab5a3c903a0767e828a55554', '84c41ed8392646d40f3123715003750a', '84d21a9c15d39bec218fa911429d1fc0', '84eb5c1731ecafe762225cc5eaa3b0f7', '84fc9842677801bf166653dec59c93ec', '84fe362b55dae8e04b8cbda5cda12eb1', '8529070d1e388ae7b0a26eb86c38fc48', '85292ddba2ad6c20ea18446387a48617', '855f41304a5d830901d96f9c24c91694', '8561a46c2d105787446cf7f863abcf3a', '85653fad5aadbb8d2d9c114cbecd9970', '856f43067a4a324c785020a760200a5b', '858e17b54297f5dbea4c231abb0231e7', '85a25b1341bc5d06774409b6db9cdb1a', '85a83aec8e4309658cdb95c19acaf129', '85ce509113f8ed9f4b96ee396cf39f2a', '8602560264582460521d16e12d1053af', '860518574825c2f15515c358ea8dc2fd', '8609f5aaa4e92b11a1cd3fe5537da9c9', '8635c574a07ce62882c1ef053b4efe4d', '8673176e590c868455e796f45442e647', '869fb915e1622eacb0089ea3415de72f', '86a60d67c0076c592ced3dac1d9dc973', '86c49ff1d8d84a81bfb5b672669c807a', '86ce641967e48a7733d8db617d786b97', '86e20f2f2d6b70a18f56e83a133ddf1f', '86e4cbbde2b9dd68efd71c1be824f1dc', '8741d93013da85a2d9137b28743bb4bd', '875f2f27614f4a0a7f9b24fb48267b2e', '8776dbde82ba215e972a69d3a7f7e24c', '878c895d53690a407ca15042e76ff61a', '87996b7c07381fb43371ea7ab6c05387', '87bddd039095ca10fdd832095270ee81', '87da65f628c847e0dcd16cab43bd5993', '87de68fe4e993f62b96436117ebae4c1', '87f1c6f5aee6bb7805cac3539f8b1552', '88007221604868832fbff44eb76fae66', '880887a340514bb23307000a77cca58a', '881bee6f20132051a6174646955affe5', '88306a28ca2f9079ad01175a803ebcd5', '884f07299ef985d942a2d11a3941f7ca', '885671a3f78c092b26e797214075bdd9', '88670ab59a71a58ffa5d0fc455100811', '888c46e3c8291d873e517df08d3d6f1a', '88d944f0582208051806354b7a3afc6b', '88f346a41a8fd9a30a64c8daa6935384', '88fe83b7bfe03913f4366e29b8714c13', '896038d1d123c76615bf5f85822e8418', '89864cd709150180cd8d2b37a2b3ea0d', '899293d4b122aa807efbf3fc344d429f', '89a23d977f3c0290505aa8ec18789c30', '89b1dcb53033dd4cb783da57d3f14a45', '89b2f85ff3c4f6a2d7e5be44a80227f8', '89c4dc71ddd52fe3aee8d53a573bd679', '89cc6f5cc313e65a7dcd4b7e4f1a0d79', '89dd6105855c48980f1bd7d3d70fee73', '8a55df735fd34f4a89b7a6dd5d6157ab', '8a5773d328096d22cfe4a8049789835b', '8a64599102a27ad7c0f37aa0ccfe12f1', '8a70d36fbc68716c4bcb7b58c81591e9', '8a77ef895288542a8eabb816badf1312', '8a83ec292df5812fec50315067dccee5', '8aacf93fb09b78510af37fcfde168d04', '8ab6f65978603b8447849ac00e0edd8d', '8ae601c72a73c6a006db7654a440e2e0', '8b196ca6b6a228080d96ec188454bef5', '8b31f2f30ef50bf4a0ace5a6b7e774a5', '8b42e8a78ec7948ff84577d36bc73abc', '8b4ef0bb92629a29397eead5c9502833', '8b60452fa11bd581fe6b6ee0e5c98ad1', '8b6785bd9fad263f73987380a07d0b6f', '8b685f36f44d3c5a796eb2785705e84d', '8b7631cbc07d5dbbc89da048e7502014', '8b8c8fe569ae98fbde22d4d2861f40ef', '8b9af52dda3ff008a3450c4e3ef39077', '8bb6592dc531e56935ca279dcfe782cc', '8bbe7b5fe4dc9ef61ca4921a30d5c979', '8bc843515d659682840b7eb54403c47d', '8bc902cabe8e3806598b9513dcf12776', '8bcc29bbf8cc575d02256bfcae86cc58', '8bdfe984b2293ce8585c998f05034d87', '8be24e4f19cbc24d6856214e7af2d8ab', '8c175f7a09bb9cfa0eed1872c2a8fb9e', '8c19519eca04d1c0bf6485cd208a7687', '8c32d67b5cd3ab2121d738087b5c104c', '8c4f282e2b833040ecf5e0afc02f5f60', '8c53522db8cef4dd3384fd4f956c6da4', '8c70eb3862993fa22245f1d3e6b7e950', '8c8762fdfd4397a6f20b55e12a545b24', '8ca9a4991357fdb1246ee6eacb15f3a7', '8ca9beda67cf47dd74ce0b6616e5130f', '8cd4e7f569a924bb912296261f6b4d69', '8cd9d62f8dc35870d3efa6ee0b46d8da', '8ce52e844ddfc76046c97c83c6b89557', '8ceb724b08f11154b16333f345beeb8d', '8cf0d1f5162b01eaf3723fe02376714e', '8d05e2ef2de37f5e2961bb5c1e6f1d9d', '8d1f3f07a8b4b4a4aad7c2d4a83f6ba7', '8d266309b32540f8c38dc1d3fccd2764', '8d2eebf375781acdde3afc1ef6f06bf7', '8d5526a918701fcf32627c7fbc5197b7', '8d5b00a106e028a9380139accd59c974', '8d9ad6b44d734d6469873d55d1b122b0', '8db096a3d1b25682584674847da717d6', '8dceaa9c4f9ca69a3b64a1c18b5cdc6d', '8dd26c166719ad35f343d5a17cb28756', '8dd76fa9c8f4c7195aa81489a218d1f4', '8e0165703c0bac0a1e6664e7ac1dd3c8', '8e0a0331bfbefd0aa6552f6655f86793', '8e1d0a9ff6466a7a4077b68a144b1d1d', '8e24c1c0d1e78c1cbc45025528d392a0', '8e44045bf6f893e145c3021c6b68896d', '8eac6c338a09d162581b013b2866edc6', '8ebff8187eb0a082b11cda6e0a55fcb7', '8ec86533a4fb29b1b9d5d274abf798be', '8ef40a51328dc213a1d7b2c8a5dd92b5', '8f125e462e934742f3cbe01f3f5954c2', '8f2853be63461ddd08f21e90465227ee', '8f2ef96f08b197972bc79631433fe6a7', '8f439f0c1f81f98a85cb375a69c5203d', '8f45ccefe6869371968fdb0457d0862d', '8f5476b35c02ad562ae9e3af9daef1fe', '8f64cbae3438ed9af059cb9c21e0306a', '8f79f5770c402523c046951360024bfc', '8fa3658acbede164e22d7dc5e266c62e', '8fa6de52170f1154b4a2ce97e6aab564', '8fbe1ed70e66d94024454b9bf380f8d6', '8fc935538aca73ccee0b0eb9cd346ac8', '8fd96e207b86c779a78eb23e157f4947', '900831e0e811235a55720ed282b8d48e', '90085eb83afcc3405e9867c586d2a953', '901416b9b83ceef0fc7ed047129d101a', '90278316149d3cb4f7059e7e439ea767', '9032c3a3da6077216a884efad5c2326a', '904f65e40859a2cd8c9da2c5cb94cc96', '90af0109ba84c68d7109f3cd8840325e', '90c2e6690470f27dd663997f9ed927cc', '90e65f244171f47afbb8b6ef5a1eeeea', '91035f2098a72a75eb6a78cb6dcd7ed3', '9105cc4e83c55c8b90c99f53541a4fea', '9110023f5261332cebdbb76013849503', '91300775ea72c60f221e9747f3fac0c6', '918309a7e02252278280aceeca1ce093', '919b8c930244592dfcc03402d8406ec2', '91a8763a9ba730ab222e33e24bc4f07f', '91bab01e26558fd83e1189141bf6a3ca', '91ec5c3f2f43d31040d502cfad119354', '9241bf4990e9016c8575d4e8fd91728b', '924be8e8be9fcd06006af010d72d7c86', '9265405e6b7daf99eeb6aac966e75fc1', '9265e854201d955357efd6dc33f19242', '9267585c1d124f16ca70e782c04aae0d', '926d450fe8994e4da9cce8485477928b', '927436fb520216fc72a92e1054b17548', '928dbae5340b263de58130b5789e2009', '92b4b2a22348fa22916611111dc58f9d', '92d3c8f1e829e638dc06f351f7f149aa', '92e12e9db5b31a31bf4c22238e7bd75d', '92f1bb86b54ba464372dee5ff5dcf8da', '92f4a037c2f84cfa54b9198c96c7b850', '92f5d9b1b2a526753e2b9b5f8f4cdbb8', '92f63c3d4220ced7aaf56ba57c747cb0', '92f9e33446eec2be5fc2155c0556f38f', '9324c5cec1257a0fe896b496505686e0', '9336e20a8ff756b1c6988508a4f8081c', '9338b46f651563322f3621fc6bdd4ac9', '93453c1bb9d2c69d8288de8cfdaf8953', '934652e3da152de585ba09e8298f8dac', '934750fdb81f64860fe479342df4d909', '9359a8bfe3f85a426f99f13c9a89ae2e', '935ff87ebd09a220f49fef45489b6b6c', '9395b5fe431f626036a78a5bd7918a18', '93bab66cce4ff20f6151dfe1d9f92962', '93d78364daca7fc8f13fca27ff2ea490', '93e8693a885d6290cb3c8cc4ddd8fdce', '93ee2a0556da962781f6d5d77efe996e', '93f071a16fc1ac97a15e20a6cf565b25', '93f1a2a18a8cc2920063aafa94419806', '9407f25c5739c404c473cc1468134456', '94310374ddbe2cd489c9ab09e92d86b3', '94a0f9e54f2c5bf98caa310b7158b973', '94a1e5ccf968a10190f1d18c5f8c7f1a', '94efb9c29e873cf4b8d2ae2940b0cb4d', '94f8faf8875c92644d05f47989841b77', '952374b84e54c5cd23f55fbf44cbe647', '95245f31cc2d8e9ebe641731c786e013', '956200929059466253da93b3c4946f5b', '956debb2fbed62d41d532724e254683b', '959a353c73656d3c3415af7728c1902b', '95f77c9758032c7b2b49efad826f0c02', '95fd3d797ca73bce1e7a990408203773', '962feaa28e7ad729856888a30553da2f', '9637c1f7ee73068a7ff4b9c572b9a457', '964c48279052cb4e5136d3bed9960701', '9660bd656fcffecd06f972e430a1a555', '9664d02b685514c119eea48f4bf29a1c', '9667ab7370af45387a29d28e8b821672', '9676eb6af07dc2db85101068584cf71b', '9697b0bb97cb75c138d58d6b0e19f023', '969ebc2cb9a64da94cb16924b6410e72', '96e555d6001dc674046f1c7c8a1a60fd', '972b784dae418512dbb1c8515256b644', '972c9c7b4bee3bd534fb1cb1757dc254', '973c5ecbd1878aa7d1d20a4014cbb419', '9743a5e80470f7f512b910522ea054d7', '974f11cdebc5341e16e71b5a3b8b70ba', '9755f3c1d9b28ad43412c7313e50df3d', '977bd53fc039138820234a68776a1676', '97890cd11639478adbe852ff6e601f57', '97bf1584e74083ee61c8e332a4baaef3', '97c15e91e90f3960d540e3a2af067f1c', '97c551ca77a7edf69639a791d4c393f9', '97cfe18d80dff1582fb8b4591c010798', '97d7e408805675b01e47b864e5c6a586', '97ef3fe34b38af03de258b91c60ead17', '97f6f2b03d76ce36f90cacbf9f27ff21', '97f8d9f79eaf2bf575b2afe12509514f', '980419735997ba61f45c8c68bf2c86fe', '9826674ad5a91f170bd238510c81b0c0', '989b7530a940f01096e82d283444aec7', '989ed6b5e488d3c3624b16b752d74d58', '98bcdbb7310cdd787402c7a968065c10', '98cfb9ef4e0a0ed77e0251ad6cf98e2a', '98d0de4dadc6f9ef8b0b2611b32bc829', '98efaf4c14ae603431ab45d7b90d40dc', '98f3d140c6326761a37f611bd30479f1', '990640c51bc19a7866b2c1498a1281f2', '9931848bad1a93a10f0003e3fe600f25', '993c47548bf1bf149dadfefe831e929d', '995f1aed0a2151f71b1e9b3aa2f01582', '99e5da917e37cff08bc288e9103e30da', '9a2ad4eaa3b69fb5dbf6395bbfbd1a23', '9a2e56bdd905853440664c7c1f55c89e', '9a3bc47d6602f673b5fa72849f42c9e3', '9a5b1633185a62a6eff68e7f3def142f', '9a5b76f2c00729c755e25f2b2ed6a4a0', '9a76f0a0349fd79865dc61299a5ce9fc', '9a81962409a8700256b91a260a4e5427', '9a8db040ee4d48abb3298148c1b8b445', '9aaa2da74084e47bb458891739519919', '9aaaf1ef42d002d1f5fa5f5f9b2c52e3', '9abf9a8b5ab2671cee2e068472456389', '9ac16ccbae78a39336f1ca21ddee671a', '9ac6285c7f3f56f83d2f345d5ee7cc39', '9ae4a0d83cb68e1665409d0549f57e23', '9ae90c833a587426ac659a16f029b92a', '9aeae3b02fc758c1594ec07e4dd3ef05', '9b28f8d02aa4b8aed6967a51bf302b17', '9b5288712064c72dad5d9f22e937e71a', '9b63d038008583af14daa8ac29103d3c', '9b883197f9c2ea9c464eeb753f5ce518', '9bb9a04fa9fcd93ad2fb90897ae39e49', '9bc83e9764d2b29d8f3195ec261fdf90', '9bd70928d64f1e8cbcfee02f95b7ffc2', '9bf2269f032458f095a1d18ef80228c1', '9c089270c4b1f859fa8760cb905c262a', '9c36cf5ba131d3c19b743426c710705e', '9c425a128b8b8be7198f267a3e091009', '9c49ba1eaac4c06acee6e6ac8e2488d9', '9c55719d8f7989c0525827257060c978', '9c73f08a88ba93a8ecca0c7d9733e976', '9c8c411841bafb110c5be91240a35622', '9c93571fa81118bf8305871d2e04ae7d', '9cd459f0102922cce20e5948eced52ad', '9cddb1ba4aee46eace2130edaeb37ee4', '9cf3feb96d60dcc123022dac946ce763', '9cf6b8922bdce64d559e3ee3f45442a3', '9cfafef6b5f286bed22693c188dd5c10', '9cfe6de09726b9ee6716c95a8086869e', '9d507baa49844c87ed33b51298b3e06e', '9d530af94fc4597ee6ed8e65daf463b1', '9d691451a998cfdcb5271af92811f571', '9d6efa4750327c32d8a14898315f4384', '9d9d116793550c1f95a901051c16e118', '9da0da30f7a10db194c48eba8db8326e', '9dbd87f1617a7d6a27f445efa1fe76dd', '9dc8e9a08edd36df3658c8ce1d75f2c1', '9df0fcb11e762f382cd6c02bc5c44d85', '9dff8b501f99796dbed499968b4f6d82', '9e0e19b37e6c74aef7d8b7f2e6749f39', '9e1950fce1b566e465824fd6f6bc3488', '9e2bb6bb74c8bea93cf409a26e9cf00e', '9e6bf565a79f552f4f53898b2f63c36b', '9e77d32be498e73636e57c9a4a9b6e3c', '9e84c4e530de16ba010275e6f4f5948c', '9e9bb99a746fbed641369ad3f9a813b5', '9ea1488d6bf8e4d112e3847b71041055', '9ebe94da49b70b5af24b167c0d39ef82', '9eca5a2964ecb0927ba3aa53c70b691e', '9ee02e48c1fd7f4f8f5d295ea4abb3fd', '9eeb3d38370706dfceb4b56a96ccc6ee', '9ef3b6f8ec079d2da4e2deadb12f217a', '9f450080f5056c225b6e13e76e6f8e07', '9f70972d6fc1d612d597c0a839795bad', '9f7598f88e9749cffb36ec0499a20cba', '9f7c6dc4571118dd5f50cbb9f2039162', '9f92fa99932b278b79df2bd6ff257e16', '9f9ed291f406c98d26bad0a3fc2817d6', '9fa7c6e6b9edc0b341c4effade85bd4d', '9fcf168f93075fcec78c8483bb091586', '9fd2d652b7f0f335da479e7b03f4d9cc', '9fe41e3ada8cd8cdd30be386d879a24d', 'a01294455eb1c11cb3f7d0ad48729e37', 'a01c26c848632f4e184804cb9fbb1b3b', 'a02096b6962b20dc4d68db1f70332800', 'a051c00937a02c6fc9033cb8f6d54c1a', 'a05940568e4d06b7ba9d74ada1520e8c', 'a0675af41d7448c04caf47f00c2631ab', 'a06d3bee4ca1f83979b986c28704f4c8', 'a07418b6490dcbd400ccfbead28bd0dc', 'a0ab9b8484deb8cad5aaf7d7ec2e36ef', 'a0b0decfc62557c7544efd3077c0d9d9', 'a0ca01dfdf843ace8af3ecd77d3853a3', 'a0d2d82fc3ce2dccf4d5c827d95f0ea8', 'a0d3084475c520ee43b099335974f26c', 'a0e7434eac6b816421bcc14a8fae90b3', 'a11c92ad48962adee5ccd5e34efed6e2', 'a18b55212590eff75954ae9e1e67b58d', 'a19e83325e70819348ca8b020589ca4a', 'a1f570544c5614d22b43b59cea6c30b8', 'a20f53d4f416c5027f6d981ccb38a938', 'a22979d18cd5448fa2722cb5b40eb339', 'a24a3d764c239dd82370d6ac38d79d6e', 'a2555ad606d26c065c86ab969b1f5ec1', 'a279f1efee79d921e90a7ec11fdf5133', 'a294dedfb1b793b4d7395caae7112cfa', 'a2a3fb68afd4758194e3aff8b693347d', 'a2d5a2b7f722a29331adc2c7d1519640', 'a31dac9d098c6c6b3fa12200250efad8', 'a3261099eeacc4f2c720777a9e9abcd0', 'a3290d916a40b8dffc0f43e07d0e860b', 'a32948f6f3b3755ff51adb9899201d9c', 'a331da318e42196cbc6a94689957987c', 'a33d6c08928b7ff8989bb57b932e4e30', 'a39d401df2619f9d7c5bbbf7b391c91e', 'a39e89ca888844f2f8a8631cac8d9c76', 'a3be9a5fd6533cffe816bb6f93f6d830', 'a3c59d24686d674a59c300b7b5924de3', 'a3cab941c0afcd7c59f557b472506a95', 'a3cd6e40986acbfe39127900cde138db', 'a3d7f633876dc4a3107ede8516742108', 'a3e1328fcfb4d06daf22413393f3c3c5', 'a3e3e0fc095baeefa67e784c79516a2b', 'a4107f4491d1896a65c60c788b167df2', 'a44978da960742a888f16a826ceb0b9f', 'a45aedb941d48066a0c9b96e14beb6de', 'a4856065879c9cf464c28cca753b3377', 'a4926bafc9f837c06b22c35df352cf50', 'a49c2a57a3fc2c12a9c82d83fab41f0d', 'a4a317af0b9ea15e26e5cb9b7f34beb3', 'a4c47876f502b0ef9da297fb62786d94', 'a4c59379c8e956372b715217dc99b8eb', 'a52cc8b63e442fc2f31fe8a567cc4228', 'a55a1a60c73c215b582ef29d6e020fff', 'a55f2a07b4494e6a253fd14f3dae21ee', 'a568c7c8e1c3a33e9334a0ddbc0a4dff', 'a5b2597fba41e4dd2db1c745664b6109', 'a5cdb58459f695bd1fc1fb4699724132', 'a5d9ca9b7402c58bc498cdc4840a12a3', 'a5f8a0781f28b55806d8dd5ff02d9cb4', 'a61e76a0c7f36a3185db7c5c59349268', 'a61f344be9ffa52a5ae3fb619e6bd4ef', 'a64732c37f211b590d5b4926942f1674', 'a64ae1d08881bd513337f3919b62548a', 'a6570c2327348c40f2a23e1fe3b9e9ab', 'a66bd2d1038b95100917a1da83674c3e', 'a6af6da43f29ec2b8419d5ab2db0c0bf', 'a6c99b0c8c8715f0335068cd5288675e', 'a6d3933e9cff443c94a5fca610c095d4', 'a6f12ecb13cf2c367508d912970c736f', 'a6f9c051bba2be2efcb6116031d58287', 'a76939c05a0acd0a654d4f7b5e2b3860', 'a76baac92e749a46f30ebef4ae863c8e', 'a79a0b13e3a55ccb7bed97fc7c63c54a', 'a79dafe619c86521a710d5d6128079c4', 'a7be452d0372625112dc626cb813ba1a', 'a7cdae1f15218ddb57e1c712735c9356', 'a85a5bd80c608cba82264c27507affc6', 'a8873bdd54061b7c00754143d7921169', 'a88df43bf043ab4136ee33f15826b661', 'a88e51ac0b8eaa9f058778dee37487cf', 'a8a4cc187929c29b89c9346e0902413b', 'a8e1a4838e3e2b09f656d5be3542ae6e', 'a900e3804dd43d829dea4923114ecebb', 'a900f4940eb7a493c3ed1239636e3438', 'a90e597d94e8647e36e6dd0f67640ba6', 'a90fdf9a49123c83fcad22eb783463ea', 'a91a735a1b1be6c5532ff5ce83568db2', 'a91d8e1ce8d68c9d6b2e1c7a28ac384f', 'a92a0f2c08c365e3c70ebace888844b1', 'a92e5c55748282fb323ae9fcb3398edb', 'a97127a8fe44d7e268cdfeb0eea381e5', 'a9813389c157adab3c6dd069d609b26b', 'a98eb6381e6af9f20710cec669224f09', 'a990780dcbb9cf5bbbe029efaa34ad9f', 'a991c4c8c56d10a209e654faf31627e2', 'a9e6d38e5288dff1cee8093ee016cac1', 'aa33c277565040c9d37df2a0c9e3686c', 'aacf54b33055516dbdf8096bb68875e5', 'aad644294729364cf49290e993a6c689', 'aad73927358a3c5a06fab477c91f9625', 'aae81730c84dcd08a065468327db9dda', 'aaee7728d4ba5f3e4e1a1b613af19184', 'aaf37f69bd8b6aa3ea2152ec18ce4165', 'aafc3e56654df653df3954acdc256d63', 'ab216cad8af3a24277ee90dd2e9f2f63', 'ab45a70f9bfd5fed9f87308e0d614ac9', 'ab714ec751cb6156be04454b47470fe5', 'ab780ce9bbc1cc9f11cc6904640f72f9', 'abb8d342eeaf1e87d48ab1f228d98363', 'abfa897ab95282e64e54ab287c226e78', 'ac0dd6960b8ea3007e93b4257e12f106', 'ac3a9517579e54de6461da8858671a3e', 'ac455721ee4cbfe1d2e851f0b9a80b46', 'ac49ffe67b8702bbb0e6d98eeadbbfbc', 'ac50454e92abae7b3cc522347dd28d90', 'ac681da9e7c01b057780283144546790', 'ac689720444fbb0a24d46f03468bd335', 'ac70034d03e40e6952a4293bafeeedfa', 'ac7193381e85845aef99a74b835036e2', 'ac9c31a02d7dea57123dc8f1d744a573', 'acb7cc9a8f670276ec30a879331356de', 'acba4c27181e38c092eef446fe5b56a9', 'acbbacc829475e090aadfd6521e6ea60', 'ad27ccf5eef28a562a21569de49313fb', 'ad2fb81cc85ee77454f426ead279034e', 'ad3757a244f39529aae57e3209e13f55', 'ad3dc1134868a0c78e69f95e6a49e17c', 'ad4cc35055a0bf0429539a25bbf7684a', 'ad648c20b5a5e98a83e00252fa431db4', 'ad661e367b8afd675a4754449dd01836', 'ad6a5b7f4225e022da48e55f42822bb2', 'ad7befa2be9378d4448d3d21ee3bcbea', 'ad83c0739ae3ba698b291e0fc7d3e9f3', 'ad88d16c7d048b39266cfc876766c722', 'adcf7ce786a88ad58271fbd04ba684ea', 'add6cb707a4b9a7277b8e42b84acda9d', 'ade30558a8d4a916df7a35b2c8deb00c', 'ae38d436ffc9340695aaaa2a33648a05', 'ae54ac562a6405f0a613ecf15b25c61d', 'ae5916c00e821ec180ae9c4e939628ef', 'ae79c8596e66e4f110cf75aae3e71942', 'ae9eecc424872d3c33a524b21723a651', 'aec470771592be0f4a4c0a38bf93536f', 'aeed692a8e0a78d597511609d500660b', 'aef493d097743f427ee9108904ba9b50', 'aef89b6adc311bfb355a5f604078eace', 'af171fe2f88f79025cc71ccff436728c', 'af3625c3d193662343696b08b3e1820f', 'afa6984f10b7d98708e08e9e5b9f81c8', 'afae8ad22062a1fbe944231395c087b2', 'afcbf738d8bb41395dacd4a36a0e5a9c', 'afd83fe806415807d6c343eddda5a54e', 'afda80df5cacb8c04f5c04b86c3aae04', 'afdd0d3b00cba61626248f44d6ef6aa2', 'b034b32670c53fd83419ea57a7c5751d', 'b04249f0e5763af54d707122c04e6f54', 'b05ed1f00b6f2721fffbc6cad026efe3', 'b075026b2c78aaacfbc7d08ee44f9fc9', 'b075a2de97318b7acf1211c5977919b6', 'b0835e5f86d6cb0ebd4e4689dd539b44', 'b0e08ce51a8d1b9565a740f8e3c15ed3', 'b110d9f873cd095ea8dfde585efdc301', 'b137c59d779896d441a4cd0ba61c4b6d', 'b15fe070b6e00d60c7e50ad911298984', 'b1619b8b287c319b104025ba8f18f102', 'b168f463de596338a09adfe31e5ef1a3', 'b19cd89877df8a4c70d1dcef4b84f39e', 'b1bcf1a0d9872bf48cdc9dbbf59caea9', 'b1d7ac8639e0a8e67a42cb0afc111913', 'b23cc6e04a14237fe7612f538233c9a9', 'b23e233b4897c27fe9ab9949b71e9663', 'b23f0952f5b0138b9ecdd0eb858ea9ca', 'b2510a1b41fb604583fc0b046ff53191', 'b274f63af30163145e46a6f999b3184b', 'b27747b4911edd621ff46c91c8678947', 'b2910065ac20a864339e05a69b107bfa', 'b2cc732f29fa0e9089907a798fb41b12', 'b312bcba7bff239a1876e7c3e53d9f5f', 'b316e29d12fa96150ede1c109df6b20f', 'b351b8733aa6d34e51d957520f0b7e46', 'b3646d0f70ed6e373b72dec59a5bf3c6', 'b36b7020f126452e8aef1cbfe15ed644', 'b38d69098cbdf10eb4604b86941a3b58', 'b397f69cf6b8bc1dc7455b9c144788f8', 'b3ac455534f9e0453bb128854610f617', 'b3bbbb1ec7a6aaab84ca359035b9bc4d', 'b3ca5b787ff1938605a503f3e68eaad6', 'b3e0d3bc0647549a48ed795a8fe7dcb2', 'b3e1bb0e6b0447e8879d41974786829c', 'b3e693b1d6d0b426eb1ea81c25519a80', 'b40011613c83d4408f9477519f3a5f48', 'b40b852af79bb0fac09d76b91bbd9629', 'b41865312c915a6a97987abb514c794e', 'b44eb03ad1343bdd8b37ee48db526b8b', 'b4648e69bcf775e7cbeed851b580df36', 'b49c4a1111639af857678dbc8e8782d8', 'b50cdad287b97d5ae96b16c2ea5550a2', 'b53b259c061e2274ed5b882652ffb366', 'b55954825a08326ba2544c2b6d4f64e4', 'b55a67c732395ff36a309bf85c687d47', 'b56bb8ff3918b4a943395adc47f2ffcd', 'b570b22240b34979718701af6e855364', 'b584f6e2ced7956554966a6f876b8727', 'b589e40067abab4f68c3baa79c4ecdb7', 'b5a41c4417a6ca56cdf154178c29a951', 'b5bec9d46ae30a5ce7218e34ba19fff8', 'b5c0bbf1c881b67b862c739188d8784c', 'b5c69c6296797620b670c127e5c00ea4', 'b5c9fc7384bdfe67c53dfdff59abc157', 'b5d0c4647b9720a8036ebad40b8dc832', 'b5d9a6dc9250898969b3138f01e5ed56', 'b61606435093af3c60a1a8e80b8c8ede', 'b61cc8ffc055fe6cae4e3fdb189fc3da', 'b63657c56d1533488798e13d5beeabab', 'b65c0130bcc13ff6c536a9da6973809b', 'b66467693b7ef5cb26b49ce7df7d1253', 'b6b6c345afb0ed04a32477b3954023bd', 'b70514ab9f5f3811bd84f803786e7305', 'b728bb849107d88bb455d764b817b486', 'b732fe08a20aa27ad0ca6690d2ed06e2', 'b735ffa464dee840037c0ebbd8dbb234', 'b74d9356aa5186407acc3b97cb2390b1', 'b7555b200ad59a399d1dd65b61400d63', 'b763ad8b35073ef460522da2ac49a4d1', 'b7ac08d526b69dc8a39c167a383b0a27', 'b821c0a473a48ea3e5cb00affd087d6b', 'b8273c3162bcf8ce3753ed3092c3e2f1', 'b839d14c3bb9496eeee0590a1adb2527', 'b851632c6cf6b5d34e75cc99a104590e', 'b87cf85f26c505978d6f09849aab24a3', 'b886b9d246d955180145fd4d73659e9d', 'b8971cbde7e8e307d23146eb084a3996', 'b8a9adaf22bca51f715c08998ac7980f', 'b8c2798d3dc98434b7b06a305240d74c', 'b8e0daac91765ed17758c9e1d5a8a956', 'b8f06306a9c2d01c4b6c0be2ee9027e5', 'b92f6632e5db2bd2dd24a236b5bf1ef1', 'b95ef751ec368e05f16ee8802ce0a61b', 'b966287ba867c4263b0871309f7d2c59', 'b97d24400f28246b72d5b8dc13c2a1bb', 'b984e901123fd39b9681f498e285090b', 'b9a461230fc4291d08ee9116d3e4b245', 'b9a817295263f551cb41170dd863f0a7', 'b9ac1992130af8b7fc169956ec14999b', 'b9b29380f802e994248beb4be4b22580', 'b9e79dded924009478a2178760409efe', 'b9f6546cb614d2deae407fd9049bdf41', 'ba1850f76130ec8eca297bc5b3df07d8', 'ba1b5966effb46223d3434821bf652a5', 'ba27abb8ffa3abb1f07747d04e633f81', 'ba2b4bee0c40822ed21f253dd2897f09', 'ba33988e1bae308e22a8c18dea119532', 'ba3738adf851dd19234b2c2d583e27ca', 'ba3a04c4462b41c73b73e3727b2413e5', 'ba400eaae232439a4276f35a8bd3ac13', 'ba730d8c4884d44078bfb1393dd7eebe', 'ba841e08f54b4620d391f80f5f90a4ff', 'ba851d5ccc17c240f571e7fca529e793', 'ba8581f97cdf70f779c7e87a5392810b', 'ba96b513521e3c6112de4ee6904e0bfa', 'bac0b167c81c9f4119752df0b047d123', 'bac728522557a524dbde1001051c91cc', 'bacb71b8649945093b726d3fda0e96aa', 'bae9eec35a0cf3d52e24272e604386e6', 'bb2900362dd9893bb210f541a5f01fc6', 'bb3f52d0f63ea93d51a26736271db434', 'bb586e2c71c456b0433ff8607c98a334', 'bb822e49d190a448c83d0359b10c8ed9', 'bb8565665806348214c5854201138738', 'bb8ffa813740992e9a06bf9f81a33fe0', 'bbea91080b9fc178b5169a9a4e42de45', 'bbf57ee1c4e1f364a9b1bbf483eba797', 'bc08296e8f9b4a59a818fa01535f63e8', 'bc18b6360d1feab050e0f1984408e316', 'bc1d9339758635b861e80dfb504469f6', 'bc30bb28a94477d02aafeac977172f56', 'bc4d30f232f615802f2b9c0a56889348', 'bc59b11b14d8dbbf3eddf15efa3de297', 'bc5f1d00ce62adf2d98063550600aa75', 'bcaae05610e73750eb4ba6c566153ca9', 'bcb009391faa588d4fb4c1174208472a', 'bceefc57ed1d84e3b50f6a0c99db601e', 'bcf79c4fe50a606e9229b6d894885e77', 'bd0f7a498f4adeaded8ebc08c600b8ff', 'bd4c9aaacd9109c6a4ecf8843a02b2e9', 'bd61b33f2f755d7b4f0c9f0aae35ed54', 'bd7586270e3e1655eb9545a311aabcd9', 'bd78d7d4476f6a1e3234fa92be49c135', 'bd9893b8c9a85d5fff30bfb1577def77', 'bda7f590c6100cac541d66d226b72d21', 'bdbf58838370ade8c243b166a36a893b', 'bdcf684b152c3aa50cae4844b878dbb1', 'be050399b090b99717beecacd5fc611b', 'be2af7baa07c4429699bcd292ac33db9', 'be4ac702d2264c32bcd7afdc68b4bd31', 'be649a681e691819ee1b083f365a8654', 'be7effc0e5a34efbb260768dd3b39644', 'bec1c09cd34dfe48e90f07d20f203d54', 'becb5665d1bd430580b6cb0fbb42a927', 'bed6923d2655e460753e01d3297cc827', 'bf06895ede15adc4f45089d1819e7da5', 'bf241ac4244001d1f8175fa4e9927e26', 'bf4a34b1f8103521c73e962d47a7d57c', 'bf6ddc4e779463c3b7d665d9186092b8', 'bf7fa714fa06c71fc7295b79da2cb843', 'bf9739e0c640771507cf38e4d48f0471', 'bf981b7f23c431e765aa47d6636bc285', 'bf98911e02f66c6f7de41c6c0198a1b8', 'bff8a3e0c1f0d744909978c309856bd3', 'bff96a8246911a416f423f5e49430628', 'c0024195e4a4c4dc044e97f45852635b', 'c03caceeb4ac5ec796271393194e5b90', 'c04bd0424d07155606c4f399ab90d957', 'c0a227cd27f8613e21b0e99a63620895', 'c0a73238deeda9f15c0ce1bdacd63c26', 'c0d5c53d939c76af6a6657d0444c997b', 'c12d062c8b3d3f6a16d7ea6b483cb571', 'c1315419934f77ae427b206fa4ff1add', 'c162cd59b04b1e962a70bf8f48f90dc6', 'c162d0d0bd110b260d7429450ad14b8f', 'c1857944608ddb5261c05fdc38b9eea2', 'c19fbd7dd354c1be6bff778b88be539e', 'c1a907f48d2adb34ea3e0040249c9574', 'c1d253f16e2661e5692ebe644ceae4b6', 'c1dca4dc605291850c2ffe3e31fded41', 'c1fbfee59f75674aefc0ea170476ae9c', 'c1fc19b7d1e4a147a6a98be63ceac820', 'c249d9ea06816a7faf8ab5fe957549b3', 'c254c13ff19049aa368036caaf837eca', 'c25538017271517927916cec9a45a940', 'c258d1c4482a4039eb70fa5fcc444dd9', 'c26d9bb4e76e2b3f63bc8d8ada5ad6b3', 'c27876f301c169d6c43d2dc7a66fd762', 'c2aa04ef1e79eab7bb5895e225ae2464', 'c2f1764ad77564bae577a80baf59bcc6', 'c34e60576970e99d96822f081f2dbbaf', 'c373e168ef84e1e666d2df43b4822e10', 'c3745c0e336af914e3be765bbf33123e', 'c3816842c3055e1e5f9b77724bbc8997', 'c3af27d312497d661d266f7695222840', 'c3bfead2ea28183f6173135bdc8ba825', 'c3dd907eb3d99b7bcf37797fcb9c47c9', 'c40d64b2448f44326f63850a1c05132c', 'c423d498fddf5f81e1bfb526304011db', 'c43f4e007148a0d050377ab29256e7d5', 'c4510b211ffb2db3e1eb6ab44f2ce6c5', 'c4511ab3f54c3857620e182268fede42', 'c45222308f187c16d403f366c9aa24b1', 'c457ed8e45750082fefba2e00ca2d55b', 'c45eb2386796ef645513cb09aff0e8d5', 'c45fd1b03269496fbc43de1fec0b05a7', 'c46b0a56303ab1dca74b147bdb2e02b7', 'c485be4db696bc2cbc3c87aeafc5b3a1', 'c492aa7c658811f62b05c55fa70c75e5', 'c4b7952a3b9f6a4f1230e744ba425351', 'c4c5425480d253b9c9e24faf1011ed44', 'c4c588f0b068bc0b376fc121a1df8906', 'c4d0b2871607b0a401de2c2ceb629900', 'c502b6e783d9ab948c49a46c4910813d', 'c528eecc3ca94cf290297bfe604a990e', 'c5326afc3d281a4be578d8038fb32214', 'c54b07391d0f771122d964c5080e0e7e', 'c57a4f2a17465ae0e3030680dbc610e3', 'c590cb4b7bd0191e53c73855b1c787d7', 'c59d66a3bdd650ebd191055b3697d830', 'c5a69a4f621d5c89b47dc61535bf08f1', 'c5a7dbf70b5c58450630257dafc505ae', 'c5d17f7988f74e96b17c94d0e88f3dfd', 'c5e7a35183348cf28a5d3fbe507d53b6', 'c626f1dad181b24941c610124d968f8b', 'c63965672a50fdcf7338c92093a78943', 'c644f6cdc42ee4b71f4fcb37de0c55de', 'c67514e1e288c9388003ce1175f0994e', 'c686d336674757b83384a4343bcfd733', 'c695ef0df1de2498534c768e0dc5058c', 'c6a4581d65bae69c770d0c21393c492c', 'c6aea9d05ea8662392b1f12c1469ff1d', 'c6c17be26efbfe9b6eb81d11392323b0', 'c6c6a65b18d4b05eb0c137feaa912c35', 'c6d1a1bb7aa7a2394c3a4d36025411be', 'c6d62eede234be735bb7c20bacb181d8', 'c6e7b611cffc04f8eb8c5bcb5c7b3907', 'c711b721367197cd636c30c73df974aa', 'c734f8d2c88b558890af607a3f0dd0e0', 'c791a04babb6d9b17c261f4354bee5fb', 'c7a762216bb6f4fcde9e14c001624591', 'c7addaeda61afd854cc3fdb19537d943', 'c80efe789f8fe22341d5eb7e0bc9637a', 'c81b4ad1fdbd8f08de5ee84886201a63', 'c828f75a80c4042de505a6ec7de76ea5', 'c82cb9d7b8de6144f7863febe052c97b', 'c87e207a48564f28fb1357ab773fc951', 'c890d53a33d0b100a90ded11f73937e5', 'c8a610171e9b725d855b8166c9fd85c5', 'c8ab8777afd641f94aec329ee3f94b62', 'c8b12d439bc326e4cab220c8f5c008c1', 'c8b90d27f93ce5192d8bd447cbd04db8', 'c8cfb77c9ff941f2c0e14fb1aec16ab9', 'c903f34e6475de2b1e4eb61683a65fa4', 'c90859a73e7baf6f5737781080db72bd', 'c91544d0b02eeb2ab360ec05051acf86', 'c936e5d07344e5a62c599ce34629061d', 'c939be60a69ec5e23db94b138b2a6cbb', 'c94e53e2fbb949ca207a530533ea4426', 'c96e9aa37a5d75703c7c45883e1e538e', 'c97d4838dfd4d83af9a47c1e011161fc', 'c99d447a59a31a560acaab68b2b4490a', 'c9af5a795cbbc3f37ebddcaebcaf1628', 'c9c2e625cf90f4507e20f2fbe91156ec', 'c9cdb843bca34bdf1e025481bcc30e88', 'c9e7f95a6256e6a5b729fd34a5ca9cab', 'ca04e425357c5c2fa9c3ea28f2f318bf', 'ca35989259f3865db1129d5da91fc2ab', 'ca3f03619982a388f89b6083057c4fc1', 'ca4959cdc287f99cdbfd28ea5815543b', 'ca523e49d38f8ad8bfe111c5aed3865c', 'caae7eed29bc910edb66683ec43d50dd', 'cac895a8ab1747a058c3d138d8f6ca2c', 'caea506915b9821e73815a3c834907c7', 'caf71d07ed1ac6d4f5144f412d6615e0', 'cb143c4c64fdea81fd4fda0c32dfb43a', 'cb2afea538821d8b5dbfd193be51c8c8', 'cb31b8a3d6b5beb537fc566c218156db', 'cb42f458cf0f319f41662ee657a7b322', 'cb6c7786f477e087477278b7509f5bcc', 'cb925f25cba11d35f25718871eaea76e', 'cb93564716decf96dca39f5a6e714c47', 'cba5f820e217900f268552fa66ebcd1d', 'cbc47b755f60f6ba22af46ffd50a4cce', 'cbdc503f413fad218eff2088f1db6206', 'cbfb3b1a036a601887074383e5871163', 'cc1c5fc920b3f05ce5d5c7f9550dbc91', 'cc42637b490ca0e4a4df94b778418c9f', 'cc50d6bb4967b7ec427361a2d7d280fc', 'cc61655ef316831dff532971f1547ef7', 'cc7968c683722f6a63380b78e0e241df', 'cc7eabce3176c4bc12799a3bd269340e', 'cc8bfb0c585e1c5d812452fbf2e0d76e', 'cca785b350568ab2eb021848b375f9db', 'ccaba76cba7722290b1f51b7c95c2dc2', 'ccb5e501d94f7b027eabdf10ca278f49', 'cce025f6fa44634c8a8cceb83616fcbc', 'cd404951bd8ee591f182cd4c5348211b', 'cd55657b99e94d3ae806fe0c6601efb8', 'cdb137d1a02d70ffc7b78a46a58aa391', 'cdbeadcfcd2e88a4e5bb1184ec5d01ce', 'cdbf6512e7182c88e4f59b9ef4fe4eaa', 'cdd0ad993c57106b0a08bdf2e8262586', 'cde521e5a92652995d86576827a2f47a', 'cdea3a19de63d9908e57ac52dd5d749c', 'cdfe2e8f3212e6d891b9676c6f364eb9', 'ce3c141b0f0d01b18c31c690b18545d1', 'ce7272bdbe8d9960bc1394e12d2726cc', 'ce7ef09ceb39fe9ee12f6c16ddfcf107', 'ce83ee4c91048a930f62f05e4ccbe809', 'ce93385c027d23e184e3395f4fadc109', 'ceb1ecb8d4c940eb9b189c312cec9de0', 'cecce30312a42f62cb36303aa19bcfec', 'ced2ffca02f30db280003ada44e61d26', 'ced462c9e8f35f386fafe1b9adc64c4d', 'ced8984a6fe43169e62ff2ae62f50e98', 'cef722321eeedab7874dcc5014bf1d1a', 'cf290af72b8d26fb3929432998bdbc3b', 'cf39c769ab264ff7fcf453c4d940754f', 'cf3babf9f95165e852d58e0a02634838', 'cf4a6e679c881ef4ae31c37b0689547e', 'cf669722d17a8748051fc6e1e0a041c3', 'cf68bf73c297a75ac8944212df6a975d', 'cf751ca18c1035dab63f7b37059506df', 'cf795582d2817e98252dbf99ad950db6', 'cf7f8a20633b7d62384f35eff20daf2e', 'cf880c5e9ec5cd89c232cd0e710ff0a7', 'cf8f145fdf987f6afad6966e9c8f9223', 'cf9d318bb59f0b1c1977be50b09e8ab0', 'cfc78299db1586f29ecf9b56d7fb3385', 'cfd749ba650c7682d7eb8a1c4ec155bd', 'cfe653cc400a93c16af9dea15b00a9e3', 'd011c5e548d5c378d276fbfb338da60a', 'd017a00de2a81ac24d46ba961e23780c', 'd05296c0f37cb12a8389053686757116', 'd0578eb123f1a6d9987a830da79117e3', 'd05aaae4301ed6116fd406395d31fbb2', 'd072e2f6220eeface469d7030df08e74', 'd09d15ea9b27d4b1b967da571df05bc3', 'd0b03e63b426e4e06e21f7bc0545585c', 'd0bea61ddf16454fc21194a0f933b7ee', 'd0e530177219f06cc3ff68c9f04b1501', 'd1104ea519b8f213433813d45be229b0', 'd1132c658516af2dac2adbed3987bf75', 'd11b397d37174f5337dd399122c45dd4', 'd120c73e3f57fa2f97df38b2177b1d3b', 'd130ace49188c5c237dff50bb35d8939', 'd142f2d75f724d014fe4bbcecaef9651', 'd14f807abf0d7aef0c863308a4a65a63', 'd15039c938404141b3c82b8d08618c16', 'd15be5f4984e7bdceee0f9553b4a76e7', 'd16b4656aa8545c52e91c8d635170345', 'd17218b8d0b3b1c34e1655a3a1e1ebd3', 'd17fd1b59edda10dd61e8d132120f992', 'd1909c25bd6bea314a3e47fb9a8d9902', 'd1c3a3fdc8c39d051a9a10038ae2a113', 'd1ff60c7dff6302c6fb09f04844a1d0d', 'd20fe0622eea045f1b99aa9efca20280', 'd219316b1d42485fedb905f5060bba65', 'd21fc1ef79bb61c67040ec8b763826e5', 'd235c1eb5de05b61b098b5e18b091059', 'd2495c93eb9f155f196b9525fe9d6e7e', 'd270fd5f4eb84f51c84fcc1fc225cc98', 'd2ed73bc619c05b6374abec858e29923', 'd31d1bcbf9cfaeec859cfb37bd655664', 'd31f79a16ced800e6f0a2dd0f3f8645f', 'd33489b1aac6194b382a9cfd75a660d6', 'd345bc888a922d264ae227d62bad0dfe', 'd3549d94a1c41e74c17b4a4322aec6b7', 'd39def218f1bd83e69106d5d29b43b08', 'd3b0a4c78dfac0175327423c56741db8', 'd3e1441a64e413fb6994cce2258f7594', 'd421797772c412f0a5680758fb030c14', 'd43b6f94202d5363f6439944f155b932', 'd43f93b027c216cae292af47713148b5', 'd463f1a3377827b043d3e5277e5680ac', 'd4913a432d1e0b0f8f74e9d260b6109d', 'd49588d67dfdd7c1b3a80331386e8bc7', 'd4b8bab2814120b56a19955f65117974', 'd4e2ca5ce7e36fce178e9cf9783a95f2', 'd4e48bbcd17216c1e88720bfb4688cc7', 'd4f17046e5cf089fb7460d95cda7c1d4', 'd504246d2bc2b88fa7978b968232cbaf', 'd5085c6b8b2621c1472e7208541af424', 'd5383761e4830e3518450cad5749711e', 'd53ec2f0c4b931486228e89fd7b5e157', 'd54d4a079b1289a8b9a7bf03df4c2024', 'd557f290f319349efde422e3f8683b3b', 'd57d75a074f419084395042673fb6531', 'd593d20f7a7bab2655ca1660a85cd5cc', 'd59cc5d8e84176c3ac240ee3f6a8a26b', 'd5a1be9bcf8549eb4cdbe7f65913e504', 'd5b9293005317e4984505bb8950294ad', 'd60ee25326413a72e6ecc260fb6f8ca7', 'd62c92c39061712ac5abe28594d57bcf', 'd66a97e623904ec776333cf3116c4f02', 'd672c29f871595c6c7124f3dded75acf', 'd675a2d78682e5810edfa236d5992f0d', 'd68a874ed08af300cea6b69294d7ac17', 'd6ca2f39f26accc195f66c574e661c84', 'd6d743866454c8058042540afd6a1781', 'd6e1cbc4ce0f341fa78e1c5d83cdecb4', 'd6fbc57938d5c9ec6a2f95ecbbc18f4f', 'd72b7c2fe8129ed053cfadb10c2b5785', 'd7823ba1197053d5c8b43205d957716c', 'd7a2f2ad3d21b2e4dcde6e9de6dfb4c0', 'd7cc20b1ccd2f10298c2f7ea12c3fa18', 'd7e88c594631815d34955309f22ec329', 'd7ff27e22b3bd4ddbfb6c727e1a8128d', 'd81b4f6c1c44a6b34a3e3d360850fdcb', 'd821b2544a7e26ccc20f87ad739a494c', 'd825afda6983ac347ba9f473d9419336', 'd8351751da5ea817c4e0ea1152bba916', 'd840656e8522aaa2bd2bdaf3b198e7d3', 'd847ae913048706f1a49a688a936029e', 'd84e3ae51e69d03a87baa69b03b6fcd2', 'd85d25e1b3f413b1a429d0474ee940fb', 'd860f0939506a28ec83bb5fef9fa8c06', 'd87f050a5db7c82770232c902e625281', 'd88dc07e37dfd387efd29c8166452eb9', 'd897943a25e6637550cdd3da481a59fc', 'd8b1f0bad480bf11d9b7202dbdef2268', 'd8b9b3c3e078dd182f02684b467605b1', 'd8cc95e7e10481fea6427b04f670400a', 'd8e6a351511102098c012133a53ec889', 'd900b4c724fdafc7b6bbfebf8f6c35ad', 'd91716ac0db7a95e7dc6fc2ed9619ee4', 'd93ea004088b1a20336b2f72a487532c', 'd94875c150266417dc5e83e1b9ebf2eb', 'd956315a4483ae6952985dbbc6f7c1b2', 'd959addafd21bd4797566f15c178f5ad', 'd976dc0923c937baad9fe4bc5e8c5ae5', 'd993a38b2be21fa04a2dc01a744bbe05', 'd9b2dcde7021d9043d8cb39df176b8dd', 'd9b94f3180de7bd2ae4a1322a7f07642', 'd9d00b0debecbe359f9c7d5cc0a57b06', 'd9de7c707a57b464e161eab74f5205fb', 'd9e4bca90430b239d0479e62b4969c4f', 'd9eacc61ca220338932cae3d282d173e', 'da166646140ed4d66fe3dbfbdab6fccc', 'da1da792c65b5771290fcb58cc2076af', 'da43441766ac9ffc8ad055f76367b195', 'da57d345368068a6e5947dc1966733e3', 'da5aca3dcfab72a763c62c28873696dd', 'da6d04200dbf440ae51146254c983946', 'da8fbf4a34933ff2ddfb8f747406c97e', 'da9d3f988111694f8c35b918c333876a', 'daa8cee0723702596ddfd5d3606c6138', 'dab6f6202183c4167684ac157c1adaa6', 'dafc7106bbc9992a0a0148af4273ecec', 'db0d0893c284ac59b5b0c30e29a7002b', 'db0f4e6131fdb4a635951cc969f03950', 'db1e7c00b275ac66a4111e720513f293', 'db224f10643ec66fb444d837ac20a147', 'db29d15f24a6ca3638e52b2cafd8ec50', 'db59c5049a75666fcf6155bda16ac58f', 'db66d0aecd9ce1b49dd7ccff814c119b', 'db9c745478845309e4d83f096366133c', 'db9da6a1757084df878c0a44018d3569', 'dbaa9116824040e88eaa7cffc57ffa61', 'dbbab7cff9f3c7a370b6c339e9b11b3d', 'dbbb9c9b3aca520433073e034a8806d6', 'dbd859ef70d0b2a47c21e33ccca14178', 'dbe07d849015959a6bdcbb06a7f34bf7', 'dbeb7cf96ffa551fb38e40b65db08fd3', 'dbee82458b4a4c6815bf22b0220d3f3e', 'dc1696627b04ce3b4508aa350d4c0dc6', 'dc1b92395a3424c27a3ef70ef821be97', 'dc3c8c5905d4c18902485e0358152d0e', 'dc746a8d4cc06f7c0c1eac5494c0a036', 'dc77f8ec98c65b9fc37eb836e3219891', 'dd148a739e25bb2c00f2e81771c6c4a0', 'dd42e1a0b923c7e972035b4c7ff669c9', 'dd8017814cfd492666247cd8a3da79bf', 'dd80f40576faa521f19fb976c129a0df', 'dd863b8fab7ae301df298d834abbd545', 'dd915d2276f61fa3dea71aac4b826fbf', 'ddb4732bb9a8bd49f9170cedaea6e9a0', 'ddd70126aa2a53365dafa327df7f755b', 'dde557cac18de95f960bde971d166ce6', 'ddfa1ff287c6d235f26e90e4807539db', 'de2be90b1ccaec5d0bf80e4ed47fa086', 'de36ca591ede5a2dc481afc82edcd0d3', 'de5bd34292f1f7ef7f05f7585a0c800f', 'de66076e44d3875d692cb11a4890d3d5', 'de6c8560e141f91a99ebf57867589328', 'de712f758ae9dc75d65f12636e705a9c', 'deb862dd0ad8873fc8279b7b3d6f0d3b', 'dec771bcf71674e884e224eedcbcc4fc', 'dec9be4a813e07c72ca7bd3a5249f028', 'dedf5e83cf46ab2b7f2f3c74b0afa4b7', 'dee94b1b3b054de33e4afdd1741ec72c', 'def4aec6dcccd7cdb13c0c7b56da77fb', 'deff0184b2b6d5e44df14c58b5ea97f5', 'df040d84427268e8c2af061e9168645c', 'df0ef0149d4d370ad46af15c6b014c48', 'df1bb310e7d1bfdac140fad1e1e8515e', 'df2937e5ea82458061d535ec44c780c6', 'df2e9351d6a447d57df1d548a69405b3', 'df409b7887cd044b30bd8cc5276a7431', 'df6d4ffad092b23f990815f3ec62cdc2', 'df71444d69d331e92b381ac96054c2e2', 'dfa017cc7ffea5f97db46626517b5464', 'dfc5a0a48c7518fcf442134780d6a2b2', 'e010a554b8a7fe37c4fb3632c11e6b3c', 'e020ab85ae7dec96a52ca25908789d42', 'e02c339d8b6a65d45a642e95cfe2cca0', 'e077618053f67213008d378a4410bb0b', 'e08ab4155adf371b50e7df6d2442c3ae', 'e091e8b742f707b00acbc2001f09c467', 'e0ba87f81ccdefdc1a4efb0063cc6c08', 'e0dbb70cef789293c35535335c5cd7d1', 'e12927cc0693827cbca376ec5faed608', 'e160624bd243773decd74fd8cf18a332', 'e16aee76cb9217a7c9181ba34c34dbd5', 'e175df88bdc0fa023bad892d7a27600f', 'e175f92e8214850df87fe48ba78a3a1a', 'e1784caca25e485f5cf23c64225b2139', 'e1a4089acbeeeed9e5c9c583e0609a7e', 'e21aca7df661b7bd5c05d25f1d4df242', 'e21d469ab0e0cf4f97bffea8d54f82b7', 'e24d9e0917deafdac2ce9bd16d6f2bdd', 'e281fdee566e2e9df116733e8aea4d65', 'e2e565f16aac9f192085977f884fd0af', 'e32c1f26d8031033493099a58c1cd7b7', 'e34a66dfdaf4efe0c689f14d5e78ccf6', 'e36da318282d71495d7bf58f56cfa3f5', 'e3897616310d36e0be171786e097e887', 'e3982ceeba8e7bc480ee16957ff8dd25', 'e3afa436103d60963c7592253e548696', 'e3c02594e559a83af3a1050722021582', 'e3d493c995930043aee516033ddaad4c', 'e3e997b1ad853b7b06f9bb63d3327a01', 'e43cd348fc419617510a3de020aa4a33', 'e4425fdee9cfb01e2bbbe95558f5b014', 'e46320c567da8f5a2b13963b159ba2a9', 'e46aae06accd729c29968a77c010f733', 'e4ca50b4dcdbf48f61ffd2dcf67f69ed', 'e508d8761b2213d0dc99b09dcb9c49d5', 'e5145f0d442afb5727a195a771135d4c', 'e516472fceaab6641d14724d3affd13d', 'e523015bb51724151f2b2e747c8dfc7a', 'e52f78f4466a52c0e5c4a95453685893', 'e53cae064f1a5fe4d077d4d674e0fc95', 'e53e9928ad59e07b31e1f3692f1b26cf', 'e54b12108e884c2cb3c4576ceaf25fbb', 'e57ca9c4f9b1dfa011f6826026a45443', 'e59d8189e05621f72e29c3894da5d71e', 'e5e769c3a31b9de52b264499bc2c3d3c', 'e5fdab1f23d885fa6553498cc23d386d', 'e5ff832cbfa083e55a1670e6f38364a8', 'e61f622a3461fbe37fe047e83654cdc0', 'e62a52c53f867c03d134ea831975bdea', 'e62eacc741939bb5c27deb627664f456', 'e637fda74b864f2f361fd6c5f7036fb2', 'e6677812d10e4e22f16557b52805c26a', 'e67005bc80cc80cc656c58149e67e9df', 'e6722c32f87adc7dd0a68c4426bf008c', 'e681135b2c14cd4fad748e1218eeff1c', 'e685c8340e9b84f7c583449938ac42d1', 'e6b7a5da0ca4c7cd7e60d37b2b1665eb', 'e6ca9af98bd744f0627d8971ada0af52', 'e6dcb4a9edb5daccca8c106db2f0f7a1', 'e6f73c880456bc387044b8ff60aaf92c', 'e6ff001bbf62f9942a65c18389eb65d6', 'e7152c8b3b99a864db5c7b5a43b08b66', 'e73566262bba1232e4c21e34e92032ba', 'e74982639a875675c2aef2e5356512e6', 'e7571a68cfcc459ac832c2862e188b20', 'e769a248fe367ad6cc5934cc5ee004e9', 'e76a3f366180e8ac613ba1097325afa6', 'e78858199f80db2e6c6cbcf2c3f292b2', 'e7b198f8ef8986e4bc77c5575e69d34c', 'e7b34f9671b1276e338c5ade1cfe537c', 'e7b364b04b789585dc847066cf259bcd', 'e81be9dbfa3bbd5e42502867af423a68', 'e862e39a26b779370647e87cf8973939', 'e8879a5bb936acf4d797e8f7844686ec', 'e89711312801c50ed967869601f8bc1c', 'e89eef4ea86258c75f071c5d78fe82b8', 'e8aacf301fe0f26dfe51e2b673391bd4', 'e8b036fcc91c49a2f39d14b6b942bbf6', 'e8b4cf00631f6284eb172ef0bbeb4a20', 'e8c3a08c9b025b3a8c56745d674db8b7', 'e8e81c8db5d4dc9348d6bb20f3845089', 'e8f6cb3b7cb818ee8e0fee62937a2f48', 'e8ffa485bca36882d75bd3d9db332fa3', 'e924ee89d302de9cf79435c6f127526f', 'e9454d82a3199aae3e23954ffe8738c6', 'e9760353284d8aa6f68688086487c4cb', 'e9890d55a6267abbaf34b1755cc6e5c9', 'e989ff03e5eff677954b33ce84ab0dec', 'e9b177ea67442e1404d4f91655d13935', 'e9bd953c0271c170f7ba59c542e8798b', 'e9c2f2470038168f9726a9e9e87ba2e9', 'e9e7589bd2d6266137efd148f742cc50', 'ea001c0f42dbc067372cae84253d1f9c', 'ea15da14fd6e618b7971a2e7716d6813', 'ea43fda4e861f58372d0ce3d91ab30bc', 'ea5eda89f45408a5c16dac22f0c186e3', 'ea5ef90b575a2025b0f7323c65013548', 'ea755cf15384c25aa9e8da25ee79995c', 'ea7948380a0159b929be3205d93561e2', 'ea8daaf49ccf9bf234e9dbd1bfd06fc6', 'ea8ffdfd3a9ebe228f0dda8db6459509', 'eacaced9836fb7921658d49baafb8691', 'eb24a74312da96806e0b0f9d158f5a31', 'eb8d64ba08ab31f24e5ba279ee8ad13b', 'ebe76c81f7cc97e1e4d9ee3d01d86c0c', 'ebf1c8f3ecd3cfd67ead1ed2c2903e4d', 'ebf3e8780ccc77e94aefae6b5d850d0e', 'ebff41fef5b8a95620b5b2cc776d57f7', 'ebff6beaa8035e2cdba4b25b758f5cc6', 'ec0985c648f81418dabc3f9ad099d2d5', 'ec2b10dfced30a90f5723f69c858f445', 'ec37f00663fc9c0afdab5b481165f61e', 'ec79ceeb8c4d5e638ada11ea8eb3a910', 'ec89d3f91ba46e11fd60b31c6e4e349d', 'ec9206e0c11f3ad222ac016d87939717', 'ecbb482bb6eff8004b829b6834149726', 'ecc9fe712bfacb65cfb163977707ec3a', 'ed214761ac66288c20f5dbe0daab56a5', 'ed41563419d6198d791e4f8b4accec44', 'ed5b83649b57c8cbf082d0a50560a86e', 'ed600a0d60c7439eaf2f24ef13c96238', 'ed65106088b5814c9affde1bdce30832', 'ed69529c8a8e5f121ad6cb5831d23a9d', 'ed7b59da9d4827c56eb9c62989e9acb0', 'ed823b7dd15baff013db845e19ad337e', 'eda63a69fbd1ed40259cab2d46208c13', 'ede2bed6df288e616f05d1554e8cd2c4', 'edfbb58ddd5b5413e70e68987390d74e', 'ee037294f2226261b02fd3c6a817b080', 'ee0a1d4df171577bba4c0b8cf3c2033a', 'ee1f095accab6d32f6088edf38df4bca', 'ee20ebfc34f1ba4b07740e6eb4f418cf', 'ee40f48db4e225d9ecd55be495308af9', 'ee5d62ec18e1f0790b1442e7818c1888', 'ee8587a14bdc88d93cd3e3bb7f1daa52', 'ee985ef5b3bb73ac21cc2c004fd5900e', 'eea9d98c9c70d95bce1e8f5c2f42c445', 'eeba8c1534ffbe5e13236c2edb17004b', 'eee5846276565ebe40fa72047f3f5b0c', 'eef40602c56d8df01b8885c4d7a8b2db', 'eef984a2ae2e1ed36bf6f06859be867a', 'ef3280d72ba3bde59494b644b998031e', 'ef3c5bf11e72ea799c791aa6230fa8b6', 'ef7305f7ef6895a9f80e751b250f160b', 'ef8247713bd9abfe6ae41c0d0c7275a2', 'efb144e3d8060702c6cffc59761ebb8c', 'efdf9b76f582609221173a07ef3f4616', 'efe38bf54c6e6524720acae116253c51', 'eff4e2ac776648b26b8df7156e2b6e0c', 'effb9b857a38b752af8fb78969cfa5ba', 'f009267bcf1bf8b6cc7c3d641a6e988c', 'f00a7dd6cfe688eacc856a802e59d4c8', 'f0126dc6ed6b79825aa74b0183bc8699', 'f05b2807dedc37f4d553a5f672bb73f7', 'f063718841decbe579fec12e4a52a365', 'f0773fbe375f374eedc1730bfc5edb34', 'f07f96094e73a17369d1670f9358985c', 'f08219994d25481b1278036eef63a812', 'f0ecb21d614c013f1c2ca0306f27e30b', 'f1283fa7672d131f4a2241dd89d63f5c', 'f12b956e43d8f23644ff757f4ba6ed39', 'f1318bcde2c024e7d9e7499b2ab15937', 'f158fba31f8a2c9ee3e072d1b00f251f', 'f15b1334715b00151a7ec88d7b31dd0e', 'f17b243a4b3fcb1745a93a2d78befdee', 'f18f84dfa401fa8e4f5d46b8fe4b1c1e', 'f1e4bf34837595ee5b87d312b4dd62e1', 'f2266ad8193e2f5d80ab50e582ea9e19', 'f24a98ce50f6614a63057734a1663d86', 'f24ba0ad1f77c577af8daa1f47c895be', 'f25c8ca023ab0f10672eeee58698fcfc', 'f268725ddbaebf027cb76d25d0e22320', 'f270f298cafaaf8b811c9b7c72edf0cf', 'f27869a13add37b93bde428bb8f53e30', 'f2825759b732b5a61d23963c6e0a7423', 'f2b16558f5e67474a1fa146297de69d1', 'f2da15107bc183f4a990fafc7aed489c', 'f32ccc07d05fe0df3adcf6a86fff53d8', 'f330f707d714063f8e48dfbc02cdb9dd', 'f34aa61e12e6361e3a41cde26bdf6e45', 'f350d025a94f90f82eddb7be4288ae87', 'f37a934720f9054c3ede8b278b54daa4', 'f38798d29212878af4a93049aab41d97', 'f3a79cff42cc73fd6b034aed95074654', 'f3d2b7711f3892ab74af5b0cceade91b', 'f403ebec6e8da62293855e546253488c', 'f432edb00eed66bd1090b183748f69de', 'f4562f5402f4de1701197dd60e682356', 'f4597ebe8125303a579f32c8ac43ed3f', 'f4666af77ca0d4400a7b77b2f7de99da', 'f467faadc995796c49ec22e6438e109a', 'f48152bea50912a0f9967bf84336b4f4', 'f48688135c4151f8271818fdd8641c59', 'f48d27050daac0cdc3c1fa2412012b8d', 'f4b047ab356dfe21e19bf6d0dd51e12e', 'f506daccf61ec8f3ae682adb2dfa52c8', 'f51ab2c929dab326ba65203be87cb245', 'f555021a5636321defcaeb2fac459f85', 'f5615df1f28db17314186a05a299a5a8', 'f567178fb91d41dcdbbbdd552f9b45aa', 'f5a64e6d4c51c4e95ecd2b025afa7954', 'f5dbdd5845c995f0d2b4fac7f77820af', 'f5f1de20cd68498eeb873c189d136bfd', 'f608d04ca37f43386ce8caf7a77d5e93', 'f618c1a7209359db75a523f36cf4ef4a', 'f6218041df121b8561380f99f9cea502', 'f63ec3fb1e6bbaf396a7e2b19ff551a8', 'f64646ccfc91cdff030038614dd48065', 'f65a07956ab9aae0fb16abd8faeccbef', 'f66a19ca8ae26b1d2a9fdec1a6512bd5', 'f670ebcb598dff981ac7a841f448aa1c', 'f6a6487005199c014ffd8a56b8e49f6c', 'f6bf5777e4214c6f80acfe728fe54749', 'f6da726e6725b00634b1e06d25e1bdd2', 'f6e1786a6c68e8d8d85a1d2d1dcddd64', 'f6e9f289e3754f994ba1784a38188a7c', 'f6ea651b93b543ae3f7c6efb068c3244', 'f6ede15e4f86c28cbf75301ae1a566c5', 'f6f8b8758ee07cc7a338784c0cdd35b3', 'f71465fe0732e159f8a94932d3bfcdfe', 'f7234305e2df563a4636a157bf07e48e', 'f72df87a74af94f9166461a7e87498e2', 'f7335b38110c52a74bdca0743b3fe384', 'f73ec0fa45a9636791875b0df948d230', 'f764b4c206343722c556f3dcfec73d7d', 'f7734a51c29ad804b8940c7e7f7d7290', 'f7a4ff7c6c55092ae83e32ecf87199a9', 'f7b194dd13c09167f0ada7b8338982c5', 'f7d58165615fb467fca32429f0d8c679', 'f7ddb73c1e6f98771cdc293b694b74e7', 'f8003fd49bb7aa31322551f21951a971', 'f8146a8de8df580dc750c63db111b7f6', 'f819e200dd6c4c799a01428d74b8463a', 'f825ffbf71bf9d6349147dfc534829a9', 'f832146240c18ae4398900b321619489', 'f859ceba1929593d1df191042c225dab', 'f85f867d49b46c8998c4172cd439bc0a', 'f86b2a8089891883fd38c4e2a213d7b1', 'f8e8991587e8920f4c0b1a874f0cf135', 'f8f71c83285e0c0c4eaab98b16a9efae', 'f9005bb4eda76cf2e675a7e878959d6c', 'f915f5e9196bcde6d525045269ba9da8', 'f917e4e2a5c27723c819132f3dd3ed76', 'f9441a7a44678ba8d3ba0c64a6a04387', 'f994641f9fb2bc26073e0e85e7743c54', 'f99bdab8682ce252dc3dec1ed6977d83', 'f9c5238fa5d3f02d0ab69ec0501f1b52', 'f9dce1425728e3a9716774082a947f6d', 'fa1775d6c533fe430539906b04134d52', 'fa1911886aab2b6957522da19bfec4be', 'fa2a82061eaecd5f82e6b568fd7514f6', 'fa6411a536e85260c72a19e5d402cef2', 'fa8007c471a4f01db1288fef96c8acb2', 'fa8be740b87f2264aada61a38120f2b0', 'fa9e27b5ea558a65483a0109d856ca00', 'fa9e7f4e5adec4f32483c1e6e989abac', 'fab0b5bcea0cd0423b9f640ce8cbcac4', 'fabd9ed553190b7041665071f91cf5ab', 'fac77aa24b9f3c1cb84a0d076833337d', 'facf9dc2fd490b5549ea6cbc38ef8ecd', 'fad2bc1cd4801b9aae3700bc2f731dc8', 'fad7c333df4828810986e1658a64eae7', 'fadec1af37b99cce005e30a43047213f', 'fae183ce03789e7cc2b4df36a84e501e', 'fb0b83a21f3ac810645603fce2973abe', 'fb28a80f26256582b49dc16bfe8244bd', 'fb73fc698f47466c9329c6954b60c236', 'fb7e679a23e0f9288f9f9ff9f920a9f6', 'fb8353b56e464deffcf81e58d442f51a', 'fba2e60620a288aad42300c5ee885941', 'fbac2ab90106ecb777d61a6ace035419', 'fbb567dcea4ff2376ab9eab1b339bd80', 'fbc3e321cfc9d7c2f460f185b5933d02', 'fbd067861c12e70a46d345af272fe7f3', 'fbdcb8057555642784408eb3849c9e81', 'fbe38dcc0d68c50856982d147d3c9797', 'fbf8d9d45f320ce80dd507e6a587cba4', 'fc262a2d3decb918bad61e5b04b552e7', 'fc4e08e97c12fef1d7f342f003bf671c', 'fc6b39e6cd4d43fe2b157787c93f328f', 'fca7b5c4f900dc7b4a74fb79b2e67104', 'fcc0ea74a56eafdbc447d4cd1e3aedca', 'fce0d1fde04c248ebb2e97669c5a7017', 'fcf7f2fea4587310e3106107742c9ddb', 'fd0558aebbb80ec0063246e58e670d1e', 'fd063345ebbfb454197af7ce226bb73e', 'fd2192c4f216c49c2a0855c34f06faea', 'fd4111ba9020eee8446059931aee859d', 'fd6be3bff3f0193864289f09e6715475', 'fd721a73ffc034ca90a3d89b6ccdf258', 'fd81b96ebec6540f7021fd6155825d4d', 'fd871198a3039c07cedf3c66cd258bd0', 'fd933a37c1042cc77a0612fdc6760a86', 'fd98b4dca7b6d7c5788ee61a3acff449', 'fdb7f97887a21ef19c16fb4cdb6917d5', 'fdc7b962e5a9c4793941836c693988ab', 'fdca3a571becd9869cc82220ef63f3fd', 'fde4a68aabd66519780cea850bb03d5e', 'fde632742009f23ec66bb57da6b69502', 'fdf476f175870a9886e5d3cedcc9856e', 'fdf687ca2bc8250a77e20fcac21ef29b', 'fe0027eb5555f025d22758d1622ffc4c', 'fe00b9b4ff70e9414812359cf623e463', 'fe10da351f2d98d5b57046fc2cef2f03', 'fe25f50f1fd5f99eaed6dc157112bb34', 'fe2677afcb252f99846837ff937b7c05', 'fe7378af87f490b9eae582a43877a14d', 'fe74beb0b99e440f932c38aa35792448', 'fe7635e6c9278e1b353395ebb975cf98', 'fe78442a1dca534607059a56e03e74fa', 'feee6b5da5c71f5920f0b152648fccc0', 'ff121366a2db8385692b92918dcb9d6e', 'ff166242a3d2209c789ce9c5df1d59b4', 'ff1a00df9235d93d329283eec64ee478', 'ff31414078e7767dea96800e96c7feb6', 'ff50878a59238f4c88a8486f6ab47b49', 'ff56029a466fde615b9bb5d67821b845', 'ff59c17b2e1de797a1419615dd01769d', 'ff5a835be2c1535d4a9bd15b59dc3a6f', 'ff60077338dc3b935c17946532514c7e', 'ff6b301a208b7cc42245f8852c2b71e1', 'ff70bce85efc3fbf2960d47d99a40a68', 'ffddc855b33f9df825c70b8b04089ba9', 'ffe3c15a7f341eaa5844a157ccb4764e']\n"
     ]
    }
   ],
   "source": [
    "# Get the index of profiles that actually participated in the project\n",
    "y_pred_idx = np.argwhere(y_pred).flatten()\n",
    "\n",
    "# Get the IDs of the profiles that would pick this project\n",
    "predProfiles = profilesProjects.iloc[y_pred_idx]['profile'].tolist()\n",
    "print(len(predProfiles))\n",
    "print(predProfiles)"
   ]
  },
  {
   "cell_type": "code",
   "execution_count": null,
   "metadata": {},
   "outputs": [],
   "source": []
  }
 ],
 "metadata": {
  "kernelspec": {
   "display_name": "Python 3",
   "language": "python",
   "name": "python3"
  },
  "language_info": {
   "codemirror_mode": {
    "name": "ipython",
    "version": 3
   },
   "file_extension": ".py",
   "mimetype": "text/x-python",
   "name": "python",
   "nbconvert_exporter": "python",
   "pygments_lexer": "ipython3",
   "version": "3.7.3"
  }
 },
 "nbformat": 4,
 "nbformat_minor": 2
}
