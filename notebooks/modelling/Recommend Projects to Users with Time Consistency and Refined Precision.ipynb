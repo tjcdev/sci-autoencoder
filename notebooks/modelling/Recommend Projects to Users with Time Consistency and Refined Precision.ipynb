{
 "cells": [
  {
   "cell_type": "markdown",
   "metadata": {},
   "source": [
    "# Recommend Projects to Users with Time Consistency"
   ]
  },
  {
   "cell_type": "code",
   "execution_count": 1,
   "metadata": {},
   "outputs": [],
   "source": [
    "import pandas as pd\n",
    "import numpy as np\n",
    "import matplotlib as plt\n",
    "import seaborn as sns\n",
    "import json\n",
    "from pandas.io.json import json_normalize\n",
    "from scipy import sparse\n",
    "import math\n",
    "\n",
    "import os\n",
    "import sys\n",
    "module_path = os.path.abspath(os.path.join('../../'))\n",
    "if module_path not in sys.path:\n",
    "    sys.path.append(module_path)\n",
    "    \n",
    "from src.models.cdea.evaluate import evaluate"
   ]
  },
  {
   "cell_type": "code",
   "execution_count": 2,
   "metadata": {},
   "outputs": [],
   "source": [
    "users_projects_list = pd.read_pickle('../../data/processed/profile_projects_time_consistent')"
   ]
  },
  {
   "cell_type": "code",
   "execution_count": 3,
   "metadata": {},
   "outputs": [],
   "source": [
    "projects = pd.read_pickle('../../data/raw/project_data')"
   ]
  },
  {
   "cell_type": "code",
   "execution_count": 4,
   "metadata": {},
   "outputs": [],
   "source": [
    "users_projects_matrix =  pd.read_pickle('../../data/processed/active_profile_projects')"
   ]
  },
  {
   "cell_type": "code",
   "execution_count": 5,
   "metadata": {},
   "outputs": [],
   "source": [
    "project_ids = np.load('../../data/processed/project_ids')"
   ]
  },
  {
   "cell_type": "code",
   "execution_count": 6,
   "metadata": {},
   "outputs": [],
   "source": [
    "similarity_matrix = pd.read_pickle('../../data/processed/similarity_matrix')"
   ]
  },
  {
   "cell_type": "code",
   "execution_count": 7,
   "metadata": {},
   "outputs": [],
   "source": [
    "# Normalise the similarity\n",
    "similarity_matrix = (similarity_matrix + 1) / 2"
   ]
  },
  {
   "cell_type": "code",
   "execution_count": 8,
   "metadata": {},
   "outputs": [
    {
     "data": {
      "text/plain": [
       "(1783,)"
      ]
     },
     "execution_count": 8,
     "metadata": {},
     "output_type": "execute_result"
    }
   ],
   "source": [
    "project_ids.shape"
   ]
  },
  {
   "cell_type": "markdown",
   "metadata": {},
   "source": [
    "### Prepare user for recommendation"
   ]
  },
  {
   "cell_type": "code",
   "execution_count": 9,
   "metadata": {},
   "outputs": [
    {
     "data": {
      "text/plain": [
       "[16864.0,\n",
       " 16864.0,\n",
       " 737.0,\n",
       " 737.0,\n",
       " 169.0,\n",
       " 169.0,\n",
       " 17862.0,\n",
       " 17862.0,\n",
       " 17248.0,\n",
       " 17248.0,\n",
       " 16978.0,\n",
       " 16978.0,\n",
       " 1970.0,\n",
       " 1970.0,\n",
       " 564.0,\n",
       " 564.0,\n",
       " 1208.0,\n",
       " 1208.0]"
      ]
     },
     "execution_count": 9,
     "metadata": {},
     "output_type": "execute_result"
    }
   ],
   "source": [
    "# Get our users project list\n",
    "user_projects_list = users_projects_list[users_projects_list['num_projects'] > 7].iloc[1000]\n",
    "user_id = user_projects_list['profile']\n",
    "\n",
    "\n",
    "projects_list = [val for val in user_projects_list['projects'] if not math.isnan(val)]\n",
    "projects_list"
   ]
  },
  {
   "cell_type": "code",
   "execution_count": 10,
   "metadata": {},
   "outputs": [
    {
     "data": {
      "text/html": [
       "<div>\n",
       "<style scoped>\n",
       "    .dataframe tbody tr th:only-of-type {\n",
       "        vertical-align: middle;\n",
       "    }\n",
       "\n",
       "    .dataframe tbody tr th {\n",
       "        vertical-align: top;\n",
       "    }\n",
       "\n",
       "    .dataframe thead th {\n",
       "        text-align: right;\n",
       "    }\n",
       "</style>\n",
       "<table border=\"1\" class=\"dataframe\">\n",
       "  <thead>\n",
       "    <tr style=\"text-align: right;\">\n",
       "      <th>project</th>\n",
       "      <th>4.0</th>\n",
       "      <th>5.0</th>\n",
       "      <th>6.0</th>\n",
       "      <th>7.0</th>\n",
       "      <th>8.0</th>\n",
       "      <th>19.0</th>\n",
       "      <th>20.0</th>\n",
       "      <th>22.0</th>\n",
       "      <th>24.0</th>\n",
       "      <th>25.0</th>\n",
       "      <th>...</th>\n",
       "      <th>296.0</th>\n",
       "      <th>297.0</th>\n",
       "      <th>298.0</th>\n",
       "      <th>302.0</th>\n",
       "      <th>303.0</th>\n",
       "      <th>304.0</th>\n",
       "      <th>309.0</th>\n",
       "      <th>310.0</th>\n",
       "      <th>312.0</th>\n",
       "      <th>19847.0</th>\n",
       "    </tr>\n",
       "  </thead>\n",
       "  <tbody>\n",
       "    <tr>\n",
       "      <th>589</th>\n",
       "      <td>0</td>\n",
       "      <td>0</td>\n",
       "      <td>0</td>\n",
       "      <td>0</td>\n",
       "      <td>0</td>\n",
       "      <td>0</td>\n",
       "      <td>0</td>\n",
       "      <td>0</td>\n",
       "      <td>0</td>\n",
       "      <td>0</td>\n",
       "      <td>...</td>\n",
       "      <td>0</td>\n",
       "      <td>0</td>\n",
       "      <td>0</td>\n",
       "      <td>0</td>\n",
       "      <td>0</td>\n",
       "      <td>0</td>\n",
       "      <td>0</td>\n",
       "      <td>0</td>\n",
       "      <td>0</td>\n",
       "      <td>0</td>\n",
       "    </tr>\n",
       "  </tbody>\n",
       "</table>\n",
       "<p>1 rows × 1781 columns</p>\n",
       "</div>"
      ],
      "text/plain": [
       "project  4.0      5.0      6.0      7.0      8.0      19.0     20.0     \\\n",
       "589            0        0        0        0        0        0        0   \n",
       "\n",
       "project  22.0     24.0     25.0     ...  296.0    297.0    298.0    302.0    \\\n",
       "589            0        0        0  ...        0        0        0        0   \n",
       "\n",
       "project  303.0    304.0    309.0    310.0    312.0    19847.0  \n",
       "589            0        0        0        0        0        0  \n",
       "\n",
       "[1 rows x 1781 columns]"
      ]
     },
     "execution_count": 10,
     "metadata": {},
     "output_type": "execute_result"
    }
   ],
   "source": [
    "# Get our users adjcacency matrix row\n",
    "adj_matrix = users_projects_matrix[users_projects_matrix['profile'] == user_id]\n",
    "adj_matrix = adj_matrix.drop(columns=['profile'])\n",
    "adj_matrix"
   ]
  },
  {
   "cell_type": "code",
   "execution_count": 11,
   "metadata": {},
   "outputs": [
    {
     "data": {
      "text/plain": [
       "15"
      ]
     },
     "execution_count": 11,
     "metadata": {},
     "output_type": "execute_result"
    }
   ],
   "source": [
    "# Cut out projects that occured after the 80% time step\n",
    "cutoff_idx = int(np.ceil(len(projects_list)*0.8))\n",
    "cutoff_idx"
   ]
  },
  {
   "cell_type": "code",
   "execution_count": 12,
   "metadata": {},
   "outputs": [
    {
     "data": {
      "text/plain": [
       "[16864.0, 737.0, 17248.0, 17862.0, 169.0, 16978.0, 1970.0, 564.0]"
      ]
     },
     "execution_count": 12,
     "metadata": {},
     "output_type": "execute_result"
    }
   ],
   "source": [
    "# Project Ids of projects before the cutoff\n",
    "before_cutoff = list(set(projects_list[:cutoff_idx]))\n",
    "before_cutoff"
   ]
  },
  {
   "cell_type": "code",
   "execution_count": 13,
   "metadata": {},
   "outputs": [
    {
     "data": {
      "text/plain": [
       "[1208.0, 564.0]"
      ]
     },
     "execution_count": 13,
     "metadata": {},
     "output_type": "execute_result"
    }
   ],
   "source": [
    "# Project Ids of projects after the cutoff\n",
    "after_cutoff = list(set(projects_list[cutoff_idx:]))\n",
    "after_cutoff"
   ]
  },
  {
   "cell_type": "code",
   "execution_count": 14,
   "metadata": {},
   "outputs": [
    {
     "data": {
      "text/plain": [
       "array([1208.])"
      ]
     },
     "execution_count": 14,
     "metadata": {},
     "output_type": "execute_result"
    }
   ],
   "source": [
    "# Figure out which projects to cut out of the \n",
    "projects_to_cut = np.setdiff1d(after_cutoff, before_cutoff)\n",
    "projects_to_cut"
   ]
  },
  {
   "cell_type": "code",
   "execution_count": 15,
   "metadata": {},
   "outputs": [],
   "source": [
    "# Set the project to 0\n",
    "adj_matrix[projects_to_cut] = 0"
   ]
  },
  {
   "cell_type": "markdown",
   "metadata": {},
   "source": [
    "### Make Predictions"
   ]
  },
  {
   "cell_type": "code",
   "execution_count": 16,
   "metadata": {},
   "outputs": [],
   "source": [
    "adj_matrix = np.array(adj_matrix.T)"
   ]
  },
  {
   "cell_type": "code",
   "execution_count": 17,
   "metadata": {},
   "outputs": [],
   "source": [
    "# Calculate the similarity between user and projects\n",
    "num_projects = np.count_nonzero(adj_matrix)\n",
    "user_projects_sim = np.sum(adj_matrix * similarity_matrix.values, axis=1) / num_projects"
   ]
  },
  {
   "cell_type": "code",
   "execution_count": 18,
   "metadata": {},
   "outputs": [],
   "source": [
    "similar_items = pd.DataFrame(user_projects_sim)\n",
    "similar_items.columns = ['similarity_score']\n",
    "similar_items['project_id'] = projects['project_id']"
   ]
  },
  {
   "cell_type": "code",
   "execution_count": 19,
   "metadata": {},
   "outputs": [],
   "source": [
    "# Pick the Top-N item\n",
    "N = 5\n",
    "similar_items = similar_items.sort_values('similarity_score', ascending=False)\n",
    "similar_items = similar_items.head(N)"
   ]
  },
  {
   "cell_type": "code",
   "execution_count": 20,
   "metadata": {},
   "outputs": [
    {
     "data": {
      "text/html": [
       "<div>\n",
       "<style scoped>\n",
       "    .dataframe tbody tr th:only-of-type {\n",
       "        vertical-align: middle;\n",
       "    }\n",
       "\n",
       "    .dataframe tbody tr th {\n",
       "        vertical-align: top;\n",
       "    }\n",
       "\n",
       "    .dataframe thead th {\n",
       "        text-align: right;\n",
       "    }\n",
       "</style>\n",
       "<table border=\"1\" class=\"dataframe\">\n",
       "  <thead>\n",
       "    <tr style=\"text-align: right;\">\n",
       "      <th></th>\n",
       "      <th>similarity_score</th>\n",
       "      <th>project_id</th>\n",
       "    </tr>\n",
       "  </thead>\n",
       "  <tbody>\n",
       "    <tr>\n",
       "      <th>835</th>\n",
       "      <td>114.444882</td>\n",
       "      <td>1306.0</td>\n",
       "    </tr>\n",
       "    <tr>\n",
       "      <th>739</th>\n",
       "      <td>114.423375</td>\n",
       "      <td>1140.0</td>\n",
       "    </tr>\n",
       "    <tr>\n",
       "      <th>325</th>\n",
       "      <td>114.270954</td>\n",
       "      <td>553.0</td>\n",
       "    </tr>\n",
       "    <tr>\n",
       "      <th>867</th>\n",
       "      <td>108.347876</td>\n",
       "      <td>1397.0</td>\n",
       "    </tr>\n",
       "    <tr>\n",
       "      <th>815</th>\n",
       "      <td>108.206380</td>\n",
       "      <td>1238.0</td>\n",
       "    </tr>\n",
       "  </tbody>\n",
       "</table>\n",
       "</div>"
      ],
      "text/plain": [
       "     similarity_score  project_id\n",
       "835        114.444882      1306.0\n",
       "739        114.423375      1140.0\n",
       "325        114.270954       553.0\n",
       "867        108.347876      1397.0\n",
       "815        108.206380      1238.0"
      ]
     },
     "execution_count": 20,
     "metadata": {},
     "output_type": "execute_result"
    }
   ],
   "source": [
    "similar_items"
   ]
  },
  {
   "cell_type": "markdown",
   "metadata": {},
   "source": [
    "### Evaluate Recommender"
   ]
  },
  {
   "cell_type": "code",
   "execution_count": 21,
   "metadata": {},
   "outputs": [
    {
     "name": "stdout",
     "output_type": "stream",
     "text": [
      "[1208  564]\n",
      "2\n",
      "(1781,)\n"
     ]
    }
   ],
   "source": [
    "# Set y_true\n",
    "y_true = np.zeros(projects.shape[0])\n",
    "after_cutoff = np.array(after_cutoff, dtype=int)\n",
    "print(after_cutoff)\n",
    "y_true[after_cutoff] = 1\n",
    "print(np.count_nonzero(y_true))\n",
    "print(y_true.shape)"
   ]
  },
  {
   "cell_type": "code",
   "execution_count": 22,
   "metadata": {},
   "outputs": [
    {
     "name": "stdout",
     "output_type": "stream",
     "text": [
      "5\n",
      "(1781,)\n"
     ]
    }
   ],
   "source": [
    "# Set y_pred\n",
    "y_pred = np.zeros(projects.shape[0])\n",
    "predicted_projects = np.array(similar_items.index, dtype=int)\n",
    "y_pred[predicted_projects] = 1\n",
    "print(np.count_nonzero(y_pred))\n",
    "print(y_pred.shape)"
   ]
  },
  {
   "cell_type": "code",
   "execution_count": 23,
   "metadata": {},
   "outputs": [],
   "source": [
    "precision, recall = evaluate(y_true, y_pred)"
   ]
  },
  {
   "cell_type": "markdown",
   "metadata": {},
   "source": [
    "### Calculate the Refined Precision"
   ]
  },
  {
   "cell_type": "code",
   "execution_count": 24,
   "metadata": {
    "scrolled": true
   },
   "outputs": [
    {
     "data": {
      "text/html": [
       "<div>\n",
       "<style scoped>\n",
       "    .dataframe tbody tr th:only-of-type {\n",
       "        vertical-align: middle;\n",
       "    }\n",
       "\n",
       "    .dataframe tbody tr th {\n",
       "        vertical-align: top;\n",
       "    }\n",
       "\n",
       "    .dataframe thead th {\n",
       "        text-align: right;\n",
       "    }\n",
       "</style>\n",
       "<table border=\"1\" class=\"dataframe\">\n",
       "  <thead>\n",
       "    <tr style=\"text-align: right;\">\n",
       "      <th></th>\n",
       "      <th>835</th>\n",
       "      <th>739</th>\n",
       "      <th>325</th>\n",
       "      <th>867</th>\n",
       "      <th>815</th>\n",
       "    </tr>\n",
       "  </thead>\n",
       "  <tbody>\n",
       "    <tr>\n",
       "      <th>4</th>\n",
       "      <td>0.003768</td>\n",
       "      <td>0.009200</td>\n",
       "      <td>0.021989</td>\n",
       "      <td>0.981199</td>\n",
       "      <td>0.995018</td>\n",
       "    </tr>\n",
       "    <tr>\n",
       "      <th>5</th>\n",
       "      <td>0.000058</td>\n",
       "      <td>0.002844</td>\n",
       "      <td>0.030216</td>\n",
       "      <td>0.975377</td>\n",
       "      <td>0.991639</td>\n",
       "    </tr>\n",
       "    <tr>\n",
       "      <th>6</th>\n",
       "      <td>0.000020</td>\n",
       "      <td>0.003473</td>\n",
       "      <td>0.028472</td>\n",
       "      <td>0.976156</td>\n",
       "      <td>0.992636</td>\n",
       "    </tr>\n",
       "    <tr>\n",
       "      <th>7</th>\n",
       "      <td>0.999902</td>\n",
       "      <td>0.997016</td>\n",
       "      <td>0.970866</td>\n",
       "      <td>0.026482</td>\n",
       "      <td>0.008256</td>\n",
       "    </tr>\n",
       "    <tr>\n",
       "      <th>8</th>\n",
       "      <td>0.001488</td>\n",
       "      <td>0.004878</td>\n",
       "      <td>0.038122</td>\n",
       "      <td>0.974415</td>\n",
       "      <td>0.988653</td>\n",
       "    </tr>\n",
       "    <tr>\n",
       "      <th>19</th>\n",
       "      <td>0.006047</td>\n",
       "      <td>0.003502</td>\n",
       "      <td>0.058426</td>\n",
       "      <td>0.964082</td>\n",
       "      <td>0.976100</td>\n",
       "    </tr>\n",
       "    <tr>\n",
       "      <th>20</th>\n",
       "      <td>0.000018</td>\n",
       "      <td>0.003475</td>\n",
       "      <td>0.028655</td>\n",
       "      <td>0.976113</td>\n",
       "      <td>0.992578</td>\n",
       "    </tr>\n",
       "    <tr>\n",
       "      <th>22</th>\n",
       "      <td>0.000126</td>\n",
       "      <td>0.003928</td>\n",
       "      <td>0.027327</td>\n",
       "      <td>0.977168</td>\n",
       "      <td>0.992766</td>\n",
       "    </tr>\n",
       "    <tr>\n",
       "      <th>23</th>\n",
       "      <td>0.000020</td>\n",
       "      <td>0.003453</td>\n",
       "      <td>0.028662</td>\n",
       "      <td>0.976139</td>\n",
       "      <td>0.992567</td>\n",
       "    </tr>\n",
       "    <tr>\n",
       "      <th>24</th>\n",
       "      <td>0.999929</td>\n",
       "      <td>0.997119</td>\n",
       "      <td>0.970378</td>\n",
       "      <td>0.024105</td>\n",
       "      <td>0.008110</td>\n",
       "    </tr>\n",
       "    <tr>\n",
       "      <th>25</th>\n",
       "      <td>0.990436</td>\n",
       "      <td>0.976955</td>\n",
       "      <td>0.986588</td>\n",
       "      <td>0.017975</td>\n",
       "      <td>0.001722</td>\n",
       "    </tr>\n",
       "    <tr>\n",
       "      <th>26</th>\n",
       "      <td>0.001570</td>\n",
       "      <td>0.007516</td>\n",
       "      <td>0.020754</td>\n",
       "      <td>0.977824</td>\n",
       "      <td>0.996333</td>\n",
       "    </tr>\n",
       "    <tr>\n",
       "      <th>27</th>\n",
       "      <td>0.999089</td>\n",
       "      <td>0.993994</td>\n",
       "      <td>0.974116</td>\n",
       "      <td>0.019318</td>\n",
       "      <td>0.005128</td>\n",
       "    </tr>\n",
       "    <tr>\n",
       "      <th>28</th>\n",
       "      <td>0.999973</td>\n",
       "      <td>0.996713</td>\n",
       "      <td>0.970863</td>\n",
       "      <td>0.024652</td>\n",
       "      <td>0.007822</td>\n",
       "    </tr>\n",
       "    <tr>\n",
       "      <th>29</th>\n",
       "      <td>0.687701</td>\n",
       "      <td>0.713296</td>\n",
       "      <td>0.631646</td>\n",
       "      <td>0.400935</td>\n",
       "      <td>0.346777</td>\n",
       "    </tr>\n",
       "    <tr>\n",
       "      <th>30</th>\n",
       "      <td>0.999715</td>\n",
       "      <td>0.996870</td>\n",
       "      <td>0.967588</td>\n",
       "      <td>0.025396</td>\n",
       "      <td>0.008943</td>\n",
       "    </tr>\n",
       "    <tr>\n",
       "      <th>31</th>\n",
       "      <td>0.996464</td>\n",
       "      <td>0.990798</td>\n",
       "      <td>0.977957</td>\n",
       "      <td>0.019502</td>\n",
       "      <td>0.004558</td>\n",
       "    </tr>\n",
       "    <tr>\n",
       "      <th>32</th>\n",
       "      <td>0.999920</td>\n",
       "      <td>0.996828</td>\n",
       "      <td>0.969593</td>\n",
       "      <td>0.024974</td>\n",
       "      <td>0.008269</td>\n",
       "    </tr>\n",
       "    <tr>\n",
       "      <th>33</th>\n",
       "      <td>0.999887</td>\n",
       "      <td>0.996953</td>\n",
       "      <td>0.969576</td>\n",
       "      <td>0.026383</td>\n",
       "      <td>0.008837</td>\n",
       "    </tr>\n",
       "    <tr>\n",
       "      <th>34</th>\n",
       "      <td>0.999117</td>\n",
       "      <td>0.997322</td>\n",
       "      <td>0.970955</td>\n",
       "      <td>0.028010</td>\n",
       "      <td>0.009916</td>\n",
       "    </tr>\n",
       "    <tr>\n",
       "      <th>35</th>\n",
       "      <td>0.965375</td>\n",
       "      <td>0.971149</td>\n",
       "      <td>0.915055</td>\n",
       "      <td>0.076733</td>\n",
       "      <td>0.053652</td>\n",
       "    </tr>\n",
       "    <tr>\n",
       "      <th>36</th>\n",
       "      <td>0.000872</td>\n",
       "      <td>0.002835</td>\n",
       "      <td>0.034530</td>\n",
       "      <td>0.975068</td>\n",
       "      <td>0.988881</td>\n",
       "    </tr>\n",
       "    <tr>\n",
       "      <th>37</th>\n",
       "      <td>0.999980</td>\n",
       "      <td>0.996653</td>\n",
       "      <td>0.970950</td>\n",
       "      <td>0.024036</td>\n",
       "      <td>0.007671</td>\n",
       "    </tr>\n",
       "    <tr>\n",
       "      <th>38</th>\n",
       "      <td>0.997427</td>\n",
       "      <td>0.989578</td>\n",
       "      <td>0.974678</td>\n",
       "      <td>0.021860</td>\n",
       "      <td>0.004628</td>\n",
       "    </tr>\n",
       "    <tr>\n",
       "      <th>39</th>\n",
       "      <td>0.004239</td>\n",
       "      <td>0.001258</td>\n",
       "      <td>0.042694</td>\n",
       "      <td>0.963325</td>\n",
       "      <td>0.982166</td>\n",
       "    </tr>\n",
       "    <tr>\n",
       "      <th>40</th>\n",
       "      <td>0.423439</td>\n",
       "      <td>0.442523</td>\n",
       "      <td>0.316285</td>\n",
       "      <td>0.644778</td>\n",
       "      <td>0.639656</td>\n",
       "    </tr>\n",
       "    <tr>\n",
       "      <th>41</th>\n",
       "      <td>0.999976</td>\n",
       "      <td>0.996676</td>\n",
       "      <td>0.971029</td>\n",
       "      <td>0.024104</td>\n",
       "      <td>0.007696</td>\n",
       "    </tr>\n",
       "    <tr>\n",
       "      <th>42</th>\n",
       "      <td>0.000496</td>\n",
       "      <td>0.003239</td>\n",
       "      <td>0.034769</td>\n",
       "      <td>0.973390</td>\n",
       "      <td>0.990615</td>\n",
       "    </tr>\n",
       "    <tr>\n",
       "      <th>43</th>\n",
       "      <td>0.001179</td>\n",
       "      <td>0.005608</td>\n",
       "      <td>0.023296</td>\n",
       "      <td>0.979482</td>\n",
       "      <td>0.993109</td>\n",
       "    </tr>\n",
       "    <tr>\n",
       "      <th>44</th>\n",
       "      <td>0.000033</td>\n",
       "      <td>0.003579</td>\n",
       "      <td>0.027982</td>\n",
       "      <td>0.976364</td>\n",
       "      <td>0.992854</td>\n",
       "    </tr>\n",
       "    <tr>\n",
       "      <th>...</th>\n",
       "      <td>...</td>\n",
       "      <td>...</td>\n",
       "      <td>...</td>\n",
       "      <td>...</td>\n",
       "      <td>...</td>\n",
       "    </tr>\n",
       "    <tr>\n",
       "      <th>286</th>\n",
       "      <td>0.995627</td>\n",
       "      <td>0.988534</td>\n",
       "      <td>0.975597</td>\n",
       "      <td>0.015350</td>\n",
       "      <td>0.004915</td>\n",
       "    </tr>\n",
       "    <tr>\n",
       "      <th>287</th>\n",
       "      <td>0.000119</td>\n",
       "      <td>0.002909</td>\n",
       "      <td>0.031139</td>\n",
       "      <td>0.975061</td>\n",
       "      <td>0.991447</td>\n",
       "    </tr>\n",
       "    <tr>\n",
       "      <th>288</th>\n",
       "      <td>0.982527</td>\n",
       "      <td>0.975145</td>\n",
       "      <td>0.979334</td>\n",
       "      <td>0.024962</td>\n",
       "      <td>0.018358</td>\n",
       "    </tr>\n",
       "    <tr>\n",
       "      <th>289</th>\n",
       "      <td>0.000377</td>\n",
       "      <td>0.004383</td>\n",
       "      <td>0.026317</td>\n",
       "      <td>0.977528</td>\n",
       "      <td>0.994144</td>\n",
       "    </tr>\n",
       "    <tr>\n",
       "      <th>290</th>\n",
       "      <td>0.929550</td>\n",
       "      <td>0.942347</td>\n",
       "      <td>0.857782</td>\n",
       "      <td>0.136929</td>\n",
       "      <td>0.107775</td>\n",
       "    </tr>\n",
       "    <tr>\n",
       "      <th>291</th>\n",
       "      <td>0.992918</td>\n",
       "      <td>0.990247</td>\n",
       "      <td>0.953162</td>\n",
       "      <td>0.032244</td>\n",
       "      <td>0.024181</td>\n",
       "    </tr>\n",
       "    <tr>\n",
       "      <th>292</th>\n",
       "      <td>0.013180</td>\n",
       "      <td>0.027539</td>\n",
       "      <td>0.015138</td>\n",
       "      <td>0.972991</td>\n",
       "      <td>0.994021</td>\n",
       "    </tr>\n",
       "    <tr>\n",
       "      <th>293</th>\n",
       "      <td>0.995162</td>\n",
       "      <td>0.991472</td>\n",
       "      <td>0.961747</td>\n",
       "      <td>0.028189</td>\n",
       "      <td>0.013254</td>\n",
       "    </tr>\n",
       "    <tr>\n",
       "      <th>294</th>\n",
       "      <td>0.000180</td>\n",
       "      <td>0.003063</td>\n",
       "      <td>0.031329</td>\n",
       "      <td>0.974489</td>\n",
       "      <td>0.991738</td>\n",
       "    </tr>\n",
       "    <tr>\n",
       "      <th>295</th>\n",
       "      <td>0.793459</td>\n",
       "      <td>0.774075</td>\n",
       "      <td>0.821028</td>\n",
       "      <td>0.171940</td>\n",
       "      <td>0.182049</td>\n",
       "    </tr>\n",
       "    <tr>\n",
       "      <th>296</th>\n",
       "      <td>0.000030</td>\n",
       "      <td>0.003334</td>\n",
       "      <td>0.029782</td>\n",
       "      <td>0.975529</td>\n",
       "      <td>0.992283</td>\n",
       "    </tr>\n",
       "    <tr>\n",
       "      <th>297</th>\n",
       "      <td>0.009479</td>\n",
       "      <td>0.003804</td>\n",
       "      <td>0.048820</td>\n",
       "      <td>0.957511</td>\n",
       "      <td>0.975310</td>\n",
       "    </tr>\n",
       "    <tr>\n",
       "      <th>298</th>\n",
       "      <td>0.035262</td>\n",
       "      <td>0.052301</td>\n",
       "      <td>0.032178</td>\n",
       "      <td>0.944993</td>\n",
       "      <td>0.980013</td>\n",
       "    </tr>\n",
       "    <tr>\n",
       "      <th>299</th>\n",
       "      <td>0.000438</td>\n",
       "      <td>0.005562</td>\n",
       "      <td>0.023640</td>\n",
       "      <td>0.978658</td>\n",
       "      <td>0.995065</td>\n",
       "    </tr>\n",
       "    <tr>\n",
       "      <th>300</th>\n",
       "      <td>0.011781</td>\n",
       "      <td>0.008699</td>\n",
       "      <td>0.068057</td>\n",
       "      <td>0.966337</td>\n",
       "      <td>0.966785</td>\n",
       "    </tr>\n",
       "    <tr>\n",
       "      <th>301</th>\n",
       "      <td>0.000082</td>\n",
       "      <td>0.003812</td>\n",
       "      <td>0.027163</td>\n",
       "      <td>0.976643</td>\n",
       "      <td>0.993387</td>\n",
       "    </tr>\n",
       "    <tr>\n",
       "      <th>302</th>\n",
       "      <td>0.989808</td>\n",
       "      <td>0.992971</td>\n",
       "      <td>0.958462</td>\n",
       "      <td>0.060774</td>\n",
       "      <td>0.022375</td>\n",
       "    </tr>\n",
       "    <tr>\n",
       "      <th>303</th>\n",
       "      <td>0.007610</td>\n",
       "      <td>0.012578</td>\n",
       "      <td>0.029064</td>\n",
       "      <td>0.975633</td>\n",
       "      <td>0.990849</td>\n",
       "    </tr>\n",
       "    <tr>\n",
       "      <th>304</th>\n",
       "      <td>0.999248</td>\n",
       "      <td>0.994567</td>\n",
       "      <td>0.975002</td>\n",
       "      <td>0.020814</td>\n",
       "      <td>0.005111</td>\n",
       "    </tr>\n",
       "    <tr>\n",
       "      <th>305</th>\n",
       "      <td>0.996498</td>\n",
       "      <td>0.990668</td>\n",
       "      <td>0.979342</td>\n",
       "      <td>0.018385</td>\n",
       "      <td>0.005395</td>\n",
       "    </tr>\n",
       "    <tr>\n",
       "      <th>307</th>\n",
       "      <td>0.000049</td>\n",
       "      <td>0.003149</td>\n",
       "      <td>0.030060</td>\n",
       "      <td>0.974595</td>\n",
       "      <td>0.991699</td>\n",
       "    </tr>\n",
       "    <tr>\n",
       "      <th>308</th>\n",
       "      <td>0.999739</td>\n",
       "      <td>0.995087</td>\n",
       "      <td>0.974111</td>\n",
       "      <td>0.020988</td>\n",
       "      <td>0.005512</td>\n",
       "    </tr>\n",
       "    <tr>\n",
       "      <th>309</th>\n",
       "      <td>0.977549</td>\n",
       "      <td>0.968349</td>\n",
       "      <td>0.973891</td>\n",
       "      <td>0.033588</td>\n",
       "      <td>0.013210</td>\n",
       "    </tr>\n",
       "    <tr>\n",
       "      <th>310</th>\n",
       "      <td>0.998231</td>\n",
       "      <td>0.991818</td>\n",
       "      <td>0.978100</td>\n",
       "      <td>0.023269</td>\n",
       "      <td>0.003331</td>\n",
       "    </tr>\n",
       "    <tr>\n",
       "      <th>311</th>\n",
       "      <td>0.000848</td>\n",
       "      <td>0.005459</td>\n",
       "      <td>0.024891</td>\n",
       "      <td>0.980811</td>\n",
       "      <td>0.993935</td>\n",
       "    </tr>\n",
       "    <tr>\n",
       "      <th>312</th>\n",
       "      <td>0.001356</td>\n",
       "      <td>0.004052</td>\n",
       "      <td>0.034862</td>\n",
       "      <td>0.973356</td>\n",
       "      <td>0.989752</td>\n",
       "    </tr>\n",
       "    <tr>\n",
       "      <th>18862</th>\n",
       "      <td>0.089332</td>\n",
       "      <td>0.109847</td>\n",
       "      <td>0.065368</td>\n",
       "      <td>0.929004</td>\n",
       "      <td>0.943983</td>\n",
       "    </tr>\n",
       "    <tr>\n",
       "      <th>18999</th>\n",
       "      <td>0.998738</td>\n",
       "      <td>0.997470</td>\n",
       "      <td>0.968127</td>\n",
       "      <td>0.032999</td>\n",
       "      <td>0.011656</td>\n",
       "    </tr>\n",
       "    <tr>\n",
       "      <th>19535</th>\n",
       "      <td>0.000075</td>\n",
       "      <td>0.002795</td>\n",
       "      <td>0.030389</td>\n",
       "      <td>0.973516</td>\n",
       "      <td>0.991523</td>\n",
       "    </tr>\n",
       "    <tr>\n",
       "      <th>19847</th>\n",
       "      <td>0.032954</td>\n",
       "      <td>0.047952</td>\n",
       "      <td>0.032723</td>\n",
       "      <td>0.984983</td>\n",
       "      <td>0.980788</td>\n",
       "    </tr>\n",
       "  </tbody>\n",
       "</table>\n",
       "<p>1781 rows × 5 columns</p>\n",
       "</div>"
      ],
      "text/plain": [
       "            835       739       325       867       815\n",
       "4      0.003768  0.009200  0.021989  0.981199  0.995018\n",
       "5      0.000058  0.002844  0.030216  0.975377  0.991639\n",
       "6      0.000020  0.003473  0.028472  0.976156  0.992636\n",
       "7      0.999902  0.997016  0.970866  0.026482  0.008256\n",
       "8      0.001488  0.004878  0.038122  0.974415  0.988653\n",
       "19     0.006047  0.003502  0.058426  0.964082  0.976100\n",
       "20     0.000018  0.003475  0.028655  0.976113  0.992578\n",
       "22     0.000126  0.003928  0.027327  0.977168  0.992766\n",
       "23     0.000020  0.003453  0.028662  0.976139  0.992567\n",
       "24     0.999929  0.997119  0.970378  0.024105  0.008110\n",
       "25     0.990436  0.976955  0.986588  0.017975  0.001722\n",
       "26     0.001570  0.007516  0.020754  0.977824  0.996333\n",
       "27     0.999089  0.993994  0.974116  0.019318  0.005128\n",
       "28     0.999973  0.996713  0.970863  0.024652  0.007822\n",
       "29     0.687701  0.713296  0.631646  0.400935  0.346777\n",
       "30     0.999715  0.996870  0.967588  0.025396  0.008943\n",
       "31     0.996464  0.990798  0.977957  0.019502  0.004558\n",
       "32     0.999920  0.996828  0.969593  0.024974  0.008269\n",
       "33     0.999887  0.996953  0.969576  0.026383  0.008837\n",
       "34     0.999117  0.997322  0.970955  0.028010  0.009916\n",
       "35     0.965375  0.971149  0.915055  0.076733  0.053652\n",
       "36     0.000872  0.002835  0.034530  0.975068  0.988881\n",
       "37     0.999980  0.996653  0.970950  0.024036  0.007671\n",
       "38     0.997427  0.989578  0.974678  0.021860  0.004628\n",
       "39     0.004239  0.001258  0.042694  0.963325  0.982166\n",
       "40     0.423439  0.442523  0.316285  0.644778  0.639656\n",
       "41     0.999976  0.996676  0.971029  0.024104  0.007696\n",
       "42     0.000496  0.003239  0.034769  0.973390  0.990615\n",
       "43     0.001179  0.005608  0.023296  0.979482  0.993109\n",
       "44     0.000033  0.003579  0.027982  0.976364  0.992854\n",
       "...         ...       ...       ...       ...       ...\n",
       "286    0.995627  0.988534  0.975597  0.015350  0.004915\n",
       "287    0.000119  0.002909  0.031139  0.975061  0.991447\n",
       "288    0.982527  0.975145  0.979334  0.024962  0.018358\n",
       "289    0.000377  0.004383  0.026317  0.977528  0.994144\n",
       "290    0.929550  0.942347  0.857782  0.136929  0.107775\n",
       "291    0.992918  0.990247  0.953162  0.032244  0.024181\n",
       "292    0.013180  0.027539  0.015138  0.972991  0.994021\n",
       "293    0.995162  0.991472  0.961747  0.028189  0.013254\n",
       "294    0.000180  0.003063  0.031329  0.974489  0.991738\n",
       "295    0.793459  0.774075  0.821028  0.171940  0.182049\n",
       "296    0.000030  0.003334  0.029782  0.975529  0.992283\n",
       "297    0.009479  0.003804  0.048820  0.957511  0.975310\n",
       "298    0.035262  0.052301  0.032178  0.944993  0.980013\n",
       "299    0.000438  0.005562  0.023640  0.978658  0.995065\n",
       "300    0.011781  0.008699  0.068057  0.966337  0.966785\n",
       "301    0.000082  0.003812  0.027163  0.976643  0.993387\n",
       "302    0.989808  0.992971  0.958462  0.060774  0.022375\n",
       "303    0.007610  0.012578  0.029064  0.975633  0.990849\n",
       "304    0.999248  0.994567  0.975002  0.020814  0.005111\n",
       "305    0.996498  0.990668  0.979342  0.018385  0.005395\n",
       "307    0.000049  0.003149  0.030060  0.974595  0.991699\n",
       "308    0.999739  0.995087  0.974111  0.020988  0.005512\n",
       "309    0.977549  0.968349  0.973891  0.033588  0.013210\n",
       "310    0.998231  0.991818  0.978100  0.023269  0.003331\n",
       "311    0.000848  0.005459  0.024891  0.980811  0.993935\n",
       "312    0.001356  0.004052  0.034862  0.973356  0.989752\n",
       "18862  0.089332  0.109847  0.065368  0.929004  0.943983\n",
       "18999  0.998738  0.997470  0.968127  0.032999  0.011656\n",
       "19535  0.000075  0.002795  0.030389  0.973516  0.991523\n",
       "19847  0.032954  0.047952  0.032723  0.984983  0.980788\n",
       "\n",
       "[1781 rows x 5 columns]"
      ]
     },
     "execution_count": 24,
     "metadata": {},
     "output_type": "execute_result"
    }
   ],
   "source": [
    "# Loop over everything in y_pred\n",
    "# Find it's max similarity with elements in y_true\n",
    "pred_sim_matrix = similarity_matrix[similar_items.index]\n",
    "pred_sim_matrix"
   ]
  },
  {
   "cell_type": "code",
   "execution_count": 25,
   "metadata": {},
   "outputs": [
    {
     "name": "stdout",
     "output_type": "stream",
     "text": [
      "(1781,)\n",
      "2\n",
      "(array([ 564, 1208]),)\n"
     ]
    }
   ],
   "source": [
    "print(y_true.shape)\n",
    "print(np.count_nonzero(y_true))\n",
    "true_idx = np.nonzero(y_true)\n",
    "print(true_idx)"
   ]
  },
  {
   "cell_type": "code",
   "execution_count": 26,
   "metadata": {},
   "outputs": [
    {
     "data": {
      "text/plain": [
       "(1781, 5)"
      ]
     },
     "execution_count": 26,
     "metadata": {},
     "output_type": "execute_result"
    }
   ],
   "source": [
    "pred_sim_matrix.shape"
   ]
  },
  {
   "cell_type": "code",
   "execution_count": 27,
   "metadata": {},
   "outputs": [
    {
     "data": {
      "text/html": [
       "<div>\n",
       "<style scoped>\n",
       "    .dataframe tbody tr th:only-of-type {\n",
       "        vertical-align: middle;\n",
       "    }\n",
       "\n",
       "    .dataframe tbody tr th {\n",
       "        vertical-align: top;\n",
       "    }\n",
       "\n",
       "    .dataframe thead th {\n",
       "        text-align: right;\n",
       "    }\n",
       "</style>\n",
       "<table border=\"1\" class=\"dataframe\">\n",
       "  <thead>\n",
       "    <tr style=\"text-align: right;\">\n",
       "      <th></th>\n",
       "      <th>835</th>\n",
       "      <th>739</th>\n",
       "      <th>325</th>\n",
       "      <th>867</th>\n",
       "      <th>815</th>\n",
       "    </tr>\n",
       "  </thead>\n",
       "  <tbody>\n",
       "    <tr>\n",
       "      <th>873</th>\n",
       "      <td>0.000237</td>\n",
       "      <td>0.002305</td>\n",
       "      <td>0.032327</td>\n",
       "      <td>0.973957</td>\n",
       "      <td>0.990350</td>\n",
       "    </tr>\n",
       "    <tr>\n",
       "      <th>17329</th>\n",
       "      <td>0.000050</td>\n",
       "      <td>0.003186</td>\n",
       "      <td>0.030266</td>\n",
       "      <td>0.975112</td>\n",
       "      <td>0.991992</td>\n",
       "    </tr>\n",
       "  </tbody>\n",
       "</table>\n",
       "</div>"
      ],
      "text/plain": [
       "            835       739       325       867       815\n",
       "873    0.000237  0.002305  0.032327  0.973957  0.990350\n",
       "17329  0.000050  0.003186  0.030266  0.975112  0.991992"
      ]
     },
     "execution_count": 27,
     "metadata": {},
     "output_type": "execute_result"
    }
   ],
   "source": [
    "masked_pred_sim_matrix = pred_sim_matrix.iloc[true_idx]\n",
    "masked_pred_sim_matrix"
   ]
  },
  {
   "cell_type": "code",
   "execution_count": 28,
   "metadata": {},
   "outputs": [
    {
     "data": {
      "text/plain": [
       "(2, 5)"
      ]
     },
     "execution_count": 28,
     "metadata": {},
     "output_type": "execute_result"
    }
   ],
   "source": [
    "masked_pred_sim_matrix.shape"
   ]
  },
  {
   "cell_type": "code",
   "execution_count": 29,
   "metadata": {},
   "outputs": [],
   "source": [
    "refined_precision = np.mean(masked_pred_sim_matrix.max(axis=0)) + precision"
   ]
  },
  {
   "cell_type": "code",
   "execution_count": 30,
   "metadata": {},
   "outputs": [
    {
     "data": {
      "text/plain": [
       "0.400570809841156"
      ]
     },
     "execution_count": 30,
     "metadata": {},
     "output_type": "execute_result"
    }
   ],
   "source": [
    "refined_precision"
   ]
  },
  {
   "cell_type": "code",
   "execution_count": null,
   "metadata": {},
   "outputs": [],
   "source": []
  }
 ],
 "metadata": {
  "kernelspec": {
   "display_name": "Python 3",
   "language": "python",
   "name": "python3"
  },
  "language_info": {
   "codemirror_mode": {
    "name": "ipython",
    "version": 3
   },
   "file_extension": ".py",
   "mimetype": "text/x-python",
   "name": "python",
   "nbconvert_exporter": "python",
   "pygments_lexer": "ipython3",
   "version": "3.6.8"
  }
 },
 "nbformat": 4,
 "nbformat_minor": 2
}
