{
 "cells": [
  {
   "cell_type": "markdown",
   "metadata": {},
   "source": [
    "# Build content-based filters"
   ]
  },
  {
   "cell_type": "code",
   "execution_count": 1,
   "metadata": {},
   "outputs": [],
   "source": [
    "import pandas as pd\n",
    "import numpy as np\n",
    "import matplotlib as plt\n",
    "import seaborn as sns\n",
    "from sklearn.feature_extraction.text import TfidfVectorizer\n",
    "from sklearn.metrics.pairwise import cosine_similarity\n",
    "from sklearn.feature_extraction.text import CountVectorizer"
   ]
  },
  {
   "cell_type": "markdown",
   "metadata": {},
   "source": [
    "### Load Projects"
   ]
  },
  {
   "cell_type": "code",
   "execution_count": 2,
   "metadata": {},
   "outputs": [],
   "source": [
    "projects = pd.read_pickle(\"../../data/raw/project_data\")"
   ]
  },
  {
   "cell_type": "code",
   "execution_count": 3,
   "metadata": {},
   "outputs": [
    {
     "data": {
      "text/html": [
       "<div>\n",
       "<style scoped>\n",
       "    .dataframe tbody tr th:only-of-type {\n",
       "        vertical-align: middle;\n",
       "    }\n",
       "\n",
       "    .dataframe tbody tr th {\n",
       "        vertical-align: top;\n",
       "    }\n",
       "\n",
       "    .dataframe thead th {\n",
       "        text-align: right;\n",
       "    }\n",
       "</style>\n",
       "<table border=\"1\" class=\"dataframe\">\n",
       "  <thead>\n",
       "    <tr style=\"text-align: right;\">\n",
       "      <th></th>\n",
       "      <th>UN_regions</th>\n",
       "      <th>country</th>\n",
       "      <th>description</th>\n",
       "      <th>error</th>\n",
       "      <th>guid</th>\n",
       "      <th>origin</th>\n",
       "      <th>regions</th>\n",
       "      <th>tags</th>\n",
       "      <th>title</th>\n",
       "      <th>topics</th>\n",
       "      <th>url</th>\n",
       "      <th>project_id</th>\n",
       "    </tr>\n",
       "  </thead>\n",
       "  <tbody>\n",
       "    <tr>\n",
       "      <th>355</th>\n",
       "      <td>[]</td>\n",
       "      <td></td>\n",
       "      <td>Help scientist improve maps of Mars and partic...</td>\n",
       "      <td>NaN</td>\n",
       "      <td>9a672783-d2b1-59e3-b0a6-c5036119a035</td>\n",
       "      <td>scistarter</td>\n",
       "      <td>[]</td>\n",
       "      <td>[crater, mars, martian, nasa, rover]</td>\n",
       "      <td>Be a Martian</td>\n",
       "      <td>[Astronomy &amp; Space, Climate &amp; Weather, Compute...</td>\n",
       "      <td>https://scistarter.com/project/588-Be-a-Martia...</td>\n",
       "      <td>588</td>\n",
       "    </tr>\n",
       "  </tbody>\n",
       "</table>\n",
       "</div>"
      ],
      "text/plain": [
       "    UN_regions country                                        description  \\\n",
       "355         []          Help scientist improve maps of Mars and partic...   \n",
       "\n",
       "    error                                  guid      origin regions  \\\n",
       "355   NaN  9a672783-d2b1-59e3-b0a6-c5036119a035  scistarter      []   \n",
       "\n",
       "                                     tags         title  \\\n",
       "355  [crater, mars, martian, nasa, rover]  Be a Martian   \n",
       "\n",
       "                                                topics  \\\n",
       "355  [Astronomy & Space, Climate & Weather, Compute...   \n",
       "\n",
       "                                                   url  project_id  \n",
       "355  https://scistarter.com/project/588-Be-a-Martia...         588  "
      ]
     },
     "execution_count": 3,
     "metadata": {},
     "output_type": "execute_result"
    }
   ],
   "source": [
    "projects[projects['project_id'] == 588]"
   ]
  },
  {
   "cell_type": "markdown",
   "metadata": {},
   "source": [
    "### Setup the TF-IDF Model"
   ]
  },
  {
   "cell_type": "code",
   "execution_count": 4,
   "metadata": {},
   "outputs": [],
   "source": [
    "v = TfidfVectorizer()"
   ]
  },
  {
   "cell_type": "markdown",
   "metadata": {},
   "source": [
    "### Generate TF-IDF Vectors"
   ]
  },
  {
   "cell_type": "code",
   "execution_count": 5,
   "metadata": {},
   "outputs": [],
   "source": [
    "title_idf = v.fit_transform(projects['title'])\n",
    "desc_idf = v.fit_transform(projects['description'])"
   ]
  },
  {
   "cell_type": "markdown",
   "metadata": {},
   "source": [
    "### Find similarity in projects based on description"
   ]
  },
  {
   "cell_type": "code",
   "execution_count": 6,
   "metadata": {},
   "outputs": [],
   "source": [
    "count = CountVectorizer()\n",
    "count_matrix = count.fit_transform(projects['description'])\n",
    "\n",
    "# generating the cosine similarity matrix\n",
    "cosine_sim = cosine_similarity(count_matrix, count_matrix)"
   ]
  },
  {
   "cell_type": "code",
   "execution_count": 7,
   "metadata": {},
   "outputs": [],
   "source": [
    "titles = pd.Series(projects['title'])\n",
    "\n",
    "#  defining the function that takes in movie title \n",
    "# as input and returns the top 10 recommended movies\n",
    "def recommendations(title, cosine_sim = cosine_sim):\n",
    "    \n",
    "    # initializing the empty list of recommended projects\n",
    "    recommended_projects = []\n",
    "    \n",
    "    # gettin the index of the project that matches the title\n",
    "    idx = titles[titles == title].index[0]\n",
    "\n",
    "    # creating a Series with the similarity scores in descending order\n",
    "    score_series = pd.Series(cosine_sim[idx]).sort_values(ascending = False)\n",
    "\n",
    "    # getting the indexes of the 10 most similar projects\n",
    "    top_10_indexes = list(score_series.iloc[1:11].index)\n",
    "    \n",
    "    # populating the list with the titles of the best 10 matching projects\n",
    "    for i in top_10_indexes:\n",
    "        recommended_projects.append(list(projects['title'])[i])\n",
    "        \n",
    "    return recommended_projects"
   ]
  },
  {
   "cell_type": "code",
   "execution_count": 8,
   "metadata": {},
   "outputs": [
    {
     "name": "stdout",
     "output_type": "stream",
     "text": [
      "North American Amphibian Monitoring Program\n",
      "['Spokane Area Amphibian Monitoring ', 'FrogWatch USA™', 'Frog Listening Network', 'Wisconsin Frog and Toad Survey', 'Saving Elephants by Helping People', 'DC/Baltimore Cricket Crawl', 'NYC Cricket Crawl', 'BirdTrack', 'Loudoun Amphibian Monitoring Program', 'Butterflies & Moths of North America']\n"
     ]
    }
   ],
   "source": [
    "print(projects.iloc[5]['title'])\n",
    "print(recommendations(projects.iloc[5]['title']))"
   ]
  },
  {
   "cell_type": "code",
   "execution_count": 9,
   "metadata": {},
   "outputs": [
    {
     "name": "stdout",
     "output_type": "stream",
     "text": [
      "Cape Cod Osprey Project\n",
      "['Cities at Night', 'The American Chestnut Foundation', 'LCA Koala Program', 'Our Radioactive Ocean', 'Backyard Biodiversity Project: Pools', 'British Trust for Ornithology The Nest Record Scheme', 'BiodiversiTREE', 'Maui Coastal Marine Debris Monitoring Program', 'Chimp&See', 'Drought Risk and You (DRY)']\n"
     ]
    }
   ],
   "source": [
    "print(projects.iloc[100]['title'])\n",
    "print(recommendations(projects.iloc[100]['title']))"
   ]
  },
  {
   "cell_type": "code",
   "execution_count": null,
   "metadata": {},
   "outputs": [],
   "source": []
  }
 ],
 "metadata": {
  "kernelspec": {
   "display_name": "Python 3",
   "language": "python",
   "name": "python3"
  },
  "language_info": {
   "codemirror_mode": {
    "name": "ipython",
    "version": 3
   },
   "file_extension": ".py",
   "mimetype": "text/x-python",
   "name": "python",
   "nbconvert_exporter": "python",
   "pygments_lexer": "ipython3",
   "version": "3.7.1"
  }
 },
 "nbformat": 4,
 "nbformat_minor": 2
}
