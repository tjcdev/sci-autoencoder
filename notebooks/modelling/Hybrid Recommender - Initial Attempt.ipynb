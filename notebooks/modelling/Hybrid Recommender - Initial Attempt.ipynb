{
 "cells": [
  {
   "cell_type": "markdown",
   "metadata": {},
   "source": [
    "# Create Hybird Recommender"
   ]
  },
  {
   "cell_type": "code",
   "execution_count": 1,
   "metadata": {},
   "outputs": [
    {
     "name": "stderr",
     "output_type": "stream",
     "text": [
      "Using TensorFlow backend.\n"
     ]
    }
   ],
   "source": [
    "import os\n",
    "import sys\n",
    "from time import gmtime, strftime\n",
    "\n",
    "from keras.models import load_model\n",
    "from sklearn.metrics import precision_recall_fscore_support\n",
    "import numpy as np\n",
    "import pandas as pd\n",
    "import math\n",
    "import keras.backend as K\n",
    "from scipy import sparse\n",
    "from scipy.sparse import vstack"
   ]
  },
  {
   "cell_type": "code",
   "execution_count": 2,
   "metadata": {},
   "outputs": [],
   "source": [
    "k = 5 #int(sys.argv[1])"
   ]
  },
  {
   "cell_type": "markdown",
   "metadata": {},
   "source": [
    "### Load Collaborative Filtering Model"
   ]
  },
  {
   "cell_type": "code",
   "execution_count": 3,
   "metadata": {},
   "outputs": [],
   "source": [
    "sys.path.append('../../data')\n",
    "sys.path.append('../../src/models')\n",
    "from recommenders.cf_recommender import CFRecommender"
   ]
  },
  {
   "cell_type": "code",
   "execution_count": 4,
   "metadata": {},
   "outputs": [
    {
     "name": "stdout",
     "output_type": "stream",
     "text": [
      "WARNING:tensorflow:From /Users/thomascartwright/miniconda3/envs/cdea/lib/python3.6/site-packages/tensorflow/python/ops/control_flow_ops.py:423: colocate_with (from tensorflow.python.framework.ops) is deprecated and will be removed in a future version.\n",
      "Instructions for updating:\n",
      "Colocations handled automatically by placer.\n",
      "WARNING:tensorflow:From /Users/thomascartwright/miniconda3/envs/cdea/lib/python3.6/site-packages/keras/backend/tensorflow_backend.py:3445: calling dropout (from tensorflow.python.ops.nn_ops) with keep_prob is deprecated and will be removed in a future version.\n",
      "Instructions for updating:\n",
      "Please use `rate` instead of `keep_prob`. Rate should be set to `rate = 1 - keep_prob`.\n",
      "WARNING:tensorflow:From /Users/thomascartwright/miniconda3/envs/cdea/lib/python3.6/site-packages/tensorflow/python/ops/math_ops.py:3066: to_int32 (from tensorflow.python.ops.math_ops) is deprecated and will be removed in a future version.\n",
      "Instructions for updating:\n",
      "Use tf.cast instead.\n"
     ]
    }
   ],
   "source": [
    "# Load the autoencoder to use\n",
    "autoencoder_model = 'train_autoencoder_0_deep2_users_projects' #str(sys.argv[2])\n",
    "dataSource = 'users_projects' # str(sys.argv[3])\n",
    "model = load_model('../../data/autoencoders/' + autoencoder_model + '.h5')\n",
    "projects = pd.read_pickle('../../data/processed/cf_projects_data')"
   ]
  },
  {
   "cell_type": "code",
   "execution_count": 5,
   "metadata": {},
   "outputs": [],
   "source": [
    "def load_users_projects():\n",
    "    cf = pd.read_pickle('../../data/processed/cf_projects.pkl')\n",
    "    #cf = pd.read_pickle('data/processed/cf_profiles.pkl')\n",
    "    train_x = sparse.load_npz(\"../../data/processed/train_sparse.npz\")\n",
    "    val_x = sparse.load_npz(\"../../data/processed/val_sparse.npz\")\n",
    "    test_x = sparse.load_npz(\"../../data/processed/test_sparse.npz\")\n",
    "    train_labels = cf\n",
    "    val_labels = cf\n",
    "    test_labels = cf\n",
    "    return train_labels, train_x, val_labels, val_x, test_labels, test_x\n",
    "\n",
    "def load_profile_labels():\n",
    "    cf_profiles = pd.read_pickle('../../data/processed/cf_profiles.pkl')\n",
    "    return cf_profiles\n",
    "\n",
    "# Load out time consistent collaborative filtering data\n",
    "train_labels, train_x, val_labels, val_x, test_labels, test_x = load_users_projects()"
   ]
  },
  {
   "cell_type": "markdown",
   "metadata": {},
   "source": [
    "### Load the content based models"
   ]
  },
  {
   "cell_type": "code",
   "execution_count": 6,
   "metadata": {},
   "outputs": [],
   "source": [
    "import os\n",
    "import sys\n",
    "module_path = os.path.abspath(os.path.join('../../'))\n",
    "if module_path not in sys.path:\n",
    "    sys.path.append(module_path)\n",
    "    \n",
    "from src.models.recommenders.content_recommender import ContentRecommender\n",
    "from gensim.models import doc2vec\n",
    "from collections import namedtuple\n",
    "from sklearn.feature_extraction.text import TfidfVectorizer\n",
    "from keras.models import Model"
   ]
  },
  {
   "cell_type": "code",
   "execution_count": 7,
   "metadata": {},
   "outputs": [],
   "source": [
    "def load_projects_tfidf(field):\n",
    "    # Load the full project data from the pickle file\n",
    "    content_projects = pd.read_pickle(\"../../data/processed/cf_projects_data\")\n",
    "\n",
    "    # Get the TF-IDF for the description fields\n",
    "    v = TfidfVectorizer()\n",
    "    desc_idf = v.fit_transform(projects[field])\n",
    "\n",
    "    # Train/Val/Test Split\n",
    "    content_test_split_idx = int(np.floor(desc_idf.shape[0] * 0.8))\n",
    "    content_val_split_idx = int(content_test_split_idx * 0.9)\n",
    "\n",
    "    content_train_x = desc_idf[:content_val_split_idx]\n",
    "    content_val_x = desc_idf[content_val_split_idx:content_test_split_idx]\n",
    "    content_test_x = desc_idf[content_test_split_idx:]\n",
    "\n",
    "    content_train_labels_idx = np.arange(0, content_val_split_idx)\n",
    "    content_val_labels_idx = np.arange(content_val_split_idx, content_test_split_idx)\n",
    "    content_test_labels_idx = np.arange(content_test_split_idx, desc_idf.shape[0])\n",
    "\n",
    "    content_train_labels = pd.DataFrame(projects['project_id'].iloc[:content_val_split_idx], index=content_train_labels_idx)\n",
    "    content_val_labels = pd.DataFrame(projects['project_id'].iloc[content_val_split_idx:content_test_split_idx], index=content_val_labels_idx)\n",
    "    content_test_labels = pd.DataFrame(projects['project_id'].iloc[content_test_split_idx:], index=content_test_labels_idx)\n",
    "\n",
    "    return content_train_labels, content_train_x, content_val_labels, content_val_x, content_test_labels, content_test_x"
   ]
  },
  {
   "cell_type": "code",
   "execution_count": 8,
   "metadata": {},
   "outputs": [],
   "source": [
    "field = 'description'"
   ]
  },
  {
   "cell_type": "code",
   "execution_count": 9,
   "metadata": {},
   "outputs": [],
   "source": [
    "# Load the autoencoder to use\n",
    "autoencoder_model = 'train_autoencoder_32_cdae_tfidf_description'\n",
    "autoencoder = load_model('../../data/autoencoders/' + autoencoder_model + '.h5')\n",
    "\n",
    "project_train_labels, project_train_x, project_val_labels, project_val_x, project_test_labels, project_test_x = load_projects_tfidf(field)\n",
    "\n",
    "# Generate the embeddings\n",
    "x = vstack([project_train_x, project_val_x, project_test_x]).tocsr()\n",
    "x_projects = project_train_labels + project_val_labels + project_test_labels"
   ]
  },
  {
   "cell_type": "code",
   "execution_count": 10,
   "metadata": {},
   "outputs": [
    {
     "name": "stdout",
     "output_type": "stream",
     "text": [
      "Recommender\n"
     ]
    }
   ],
   "source": [
    "train = sparse.load_npz(\"../../data/processed/train.npz\")\n",
    "test = sparse.load_npz(\"../../data/processed/test.npz\")\n",
    "\n",
    "# Build our recommender and similarity matrix\n",
    "recommender = ContentRecommender()\n",
    "similarity_matrix = recommender.similarity(x)"
   ]
  },
  {
   "cell_type": "markdown",
   "metadata": {},
   "source": [
    "# Make Recommendations"
   ]
  },
  {
   "cell_type": "code",
   "execution_count": 11,
   "metadata": {},
   "outputs": [
    {
     "name": "stderr",
     "output_type": "stream",
     "text": [
      "/Users/thomascartwright/miniconda3/envs/cdea/lib/python3.6/site-packages/sklearn/metrics/classification.py:1439: UndefinedMetricWarning: Recall and F-score are ill-defined and being set to 0.0 due to no true samples.\n",
      "  'recall', 'true', average, warn_for)\n",
      "/Users/thomascartwright/miniconda3/envs/cdea/lib/python3.6/site-packages/sklearn/metrics/classification.py:1439: UndefinedMetricWarning: Recall and F-score are ill-defined and being set to 0.0 due to no true samples.\n",
      "  'recall', 'true', average, warn_for)\n",
      "/Users/thomascartwright/miniconda3/envs/cdea/lib/python3.6/site-packages/sklearn/metrics/classification.py:1439: UndefinedMetricWarning: Recall and F-score are ill-defined and being set to 0.0 due to no true samples.\n",
      "  'recall', 'true', average, warn_for)\n",
      "/Users/thomascartwright/miniconda3/envs/cdea/lib/python3.6/site-packages/sklearn/metrics/classification.py:1439: UndefinedMetricWarning: Recall and F-score are ill-defined and being set to 0.0 due to no true samples.\n",
      "  'recall', 'true', average, warn_for)\n",
      "/Users/thomascartwright/miniconda3/envs/cdea/lib/python3.6/site-packages/sklearn/metrics/classification.py:1439: UndefinedMetricWarning: Recall and F-score are ill-defined and being set to 0.0 due to no true samples.\n",
      "  'recall', 'true', average, warn_for)\n",
      "/Users/thomascartwright/miniconda3/envs/cdea/lib/python3.6/site-packages/sklearn/metrics/classification.py:1439: UndefinedMetricWarning: Recall and F-score are ill-defined and being set to 0.0 due to no true samples.\n",
      "  'recall', 'true', average, warn_for)\n"
     ]
    },
    {
     "ename": "KeyboardInterrupt",
     "evalue": "",
     "output_type": "error",
     "traceback": [
      "\u001b[0;31m---------------------------------------------------------------------------\u001b[0m",
      "\u001b[0;31mKeyboardInterrupt\u001b[0m                         Traceback (most recent call last)",
      "\u001b[0;32m<ipython-input-11-a1b1dc7dd672>\u001b[0m in \u001b[0;36m<module>\u001b[0;34m\u001b[0m\n\u001b[1;32m     37\u001b[0m         \u001b[0mindex\u001b[0m \u001b[0;34m=\u001b[0m \u001b[0mnorm_cb_preds\u001b[0m\u001b[0;34m.\u001b[0m\u001b[0mindex\u001b[0m\u001b[0;34m[\u001b[0m\u001b[0mi\u001b[0m\u001b[0;34m]\u001b[0m\u001b[0;34m\u001b[0m\u001b[0;34m\u001b[0m\u001b[0m\n\u001b[1;32m     38\u001b[0m         \u001b[0mpred\u001b[0m \u001b[0;34m=\u001b[0m \u001b[0mnorm_cb_preds\u001b[0m\u001b[0;34m.\u001b[0m\u001b[0miloc\u001b[0m\u001b[0;34m[\u001b[0m\u001b[0mi\u001b[0m\u001b[0;34m]\u001b[0m\u001b[0;34m\u001b[0m\u001b[0;34m\u001b[0m\u001b[0m\n\u001b[0;32m---> 39\u001b[0;31m         \u001b[0mresult\u001b[0m \u001b[0;34m=\u001b[0m \u001b[0mpred\u001b[0m \u001b[0;34m+\u001b[0m \u001b[0mnorm_cf_preds\u001b[0m\u001b[0;34m.\u001b[0m\u001b[0miloc\u001b[0m\u001b[0;34m[\u001b[0m\u001b[0mi\u001b[0m\u001b[0;34m]\u001b[0m\u001b[0;34m\u001b[0m\u001b[0;34m\u001b[0m\u001b[0m\n\u001b[0m\u001b[1;32m     40\u001b[0m         \u001b[0msum_preds\u001b[0m\u001b[0;34m.\u001b[0m\u001b[0mloc\u001b[0m\u001b[0;34m[\u001b[0m\u001b[0mi\u001b[0m\u001b[0;34m]\u001b[0m \u001b[0;34m=\u001b[0m \u001b[0mresult\u001b[0m\u001b[0;34m\u001b[0m\u001b[0;34m\u001b[0m\u001b[0m\n\u001b[1;32m     41\u001b[0m \u001b[0;34m\u001b[0m\u001b[0m\n",
      "\u001b[0;32m~/miniconda3/envs/cdea/lib/python3.6/site-packages/pandas/core/indexing.py\u001b[0m in \u001b[0;36m__getitem__\u001b[0;34m(self, key)\u001b[0m\n\u001b[1;32m   1498\u001b[0m \u001b[0;34m\u001b[0m\u001b[0m\n\u001b[1;32m   1499\u001b[0m             \u001b[0mmaybe_callable\u001b[0m \u001b[0;34m=\u001b[0m \u001b[0mcom\u001b[0m\u001b[0;34m.\u001b[0m\u001b[0mapply_if_callable\u001b[0m\u001b[0;34m(\u001b[0m\u001b[0mkey\u001b[0m\u001b[0;34m,\u001b[0m \u001b[0mself\u001b[0m\u001b[0;34m.\u001b[0m\u001b[0mobj\u001b[0m\u001b[0;34m)\u001b[0m\u001b[0;34m\u001b[0m\u001b[0;34m\u001b[0m\u001b[0m\n\u001b[0;32m-> 1500\u001b[0;31m             \u001b[0;32mreturn\u001b[0m \u001b[0mself\u001b[0m\u001b[0;34m.\u001b[0m\u001b[0m_getitem_axis\u001b[0m\u001b[0;34m(\u001b[0m\u001b[0mmaybe_callable\u001b[0m\u001b[0;34m,\u001b[0m \u001b[0maxis\u001b[0m\u001b[0;34m=\u001b[0m\u001b[0maxis\u001b[0m\u001b[0;34m)\u001b[0m\u001b[0;34m\u001b[0m\u001b[0;34m\u001b[0m\u001b[0m\n\u001b[0m\u001b[1;32m   1501\u001b[0m \u001b[0;34m\u001b[0m\u001b[0m\n\u001b[1;32m   1502\u001b[0m     \u001b[0;32mdef\u001b[0m \u001b[0m_is_scalar_access\u001b[0m\u001b[0;34m(\u001b[0m\u001b[0mself\u001b[0m\u001b[0;34m,\u001b[0m \u001b[0mkey\u001b[0m\u001b[0;34m)\u001b[0m\u001b[0;34m:\u001b[0m\u001b[0;34m\u001b[0m\u001b[0;34m\u001b[0m\u001b[0m\n",
      "\u001b[0;32m~/miniconda3/envs/cdea/lib/python3.6/site-packages/pandas/core/indexing.py\u001b[0m in \u001b[0;36m_getitem_axis\u001b[0;34m(self, key, axis)\u001b[0m\n\u001b[1;32m   2213\u001b[0m             \u001b[0mkey\u001b[0m \u001b[0;34m=\u001b[0m \u001b[0mnp\u001b[0m\u001b[0;34m.\u001b[0m\u001b[0masarray\u001b[0m\u001b[0;34m(\u001b[0m\u001b[0mkey\u001b[0m\u001b[0;34m)\u001b[0m\u001b[0;34m\u001b[0m\u001b[0;34m\u001b[0m\u001b[0m\n\u001b[1;32m   2214\u001b[0m \u001b[0;34m\u001b[0m\u001b[0m\n\u001b[0;32m-> 2215\u001b[0;31m         \u001b[0;32mif\u001b[0m \u001b[0mcom\u001b[0m\u001b[0;34m.\u001b[0m\u001b[0mis_bool_indexer\u001b[0m\u001b[0;34m(\u001b[0m\u001b[0mkey\u001b[0m\u001b[0;34m)\u001b[0m\u001b[0;34m:\u001b[0m\u001b[0;34m\u001b[0m\u001b[0;34m\u001b[0m\u001b[0m\n\u001b[0m\u001b[1;32m   2216\u001b[0m             \u001b[0mself\u001b[0m\u001b[0;34m.\u001b[0m\u001b[0m_validate_key\u001b[0m\u001b[0;34m(\u001b[0m\u001b[0mkey\u001b[0m\u001b[0;34m,\u001b[0m \u001b[0maxis\u001b[0m\u001b[0;34m)\u001b[0m\u001b[0;34m\u001b[0m\u001b[0;34m\u001b[0m\u001b[0m\n\u001b[1;32m   2217\u001b[0m             \u001b[0;32mreturn\u001b[0m \u001b[0mself\u001b[0m\u001b[0;34m.\u001b[0m\u001b[0m_getbool_axis\u001b[0m\u001b[0;34m(\u001b[0m\u001b[0mkey\u001b[0m\u001b[0;34m,\u001b[0m \u001b[0maxis\u001b[0m\u001b[0;34m=\u001b[0m\u001b[0maxis\u001b[0m\u001b[0;34m)\u001b[0m\u001b[0;34m\u001b[0m\u001b[0;34m\u001b[0m\u001b[0m\n",
      "\u001b[0;32m~/miniconda3/envs/cdea/lib/python3.6/site-packages/pandas/core/common.py\u001b[0m in \u001b[0;36mis_bool_indexer\u001b[0;34m(key)\u001b[0m\n\u001b[1;32m    115\u001b[0m     \"\"\"\n\u001b[1;32m    116\u001b[0m     \u001b[0mna_msg\u001b[0m \u001b[0;34m=\u001b[0m \u001b[0;34m'cannot index with vector containing NA / NaN values'\u001b[0m\u001b[0;34m\u001b[0m\u001b[0;34m\u001b[0m\u001b[0m\n\u001b[0;32m--> 117\u001b[0;31m     if (isinstance(key, (ABCSeries, np.ndarray, ABCIndex)) or\n\u001b[0m\u001b[1;32m    118\u001b[0m             (is_array_like(key) and is_extension_array_dtype(key.dtype))):\n\u001b[1;32m    119\u001b[0m         \u001b[0;32mif\u001b[0m \u001b[0mkey\u001b[0m\u001b[0;34m.\u001b[0m\u001b[0mdtype\u001b[0m \u001b[0;34m==\u001b[0m \u001b[0mnp\u001b[0m\u001b[0;34m.\u001b[0m\u001b[0mobject_\u001b[0m\u001b[0;34m:\u001b[0m\u001b[0;34m\u001b[0m\u001b[0;34m\u001b[0m\u001b[0m\n",
      "\u001b[0;31mKeyboardInterrupt\u001b[0m: "
     ]
    }
   ],
   "source": [
    "precisions = []\n",
    "recalls = []\n",
    "refined_precisions = []\n",
    "\n",
    "# Pick the user\n",
    "for profile_idx in range(0, len(train_labels)):\n",
    "    # Collaborative Filtering Predictions\n",
    "    profile_col = np.squeeze(np.asarray(train_x.getcol(profile_idx).todense())).reshape(1,-1)\n",
    "    labels = np.asarray(train_labels.index)\n",
    "\n",
    "    # Make a prediction for \n",
    "    predictions = model.predict([profile_col, labels])\n",
    "    \n",
    "    # Calculate the similarity between user and projects\n",
    "    user_projects_sim = np.sum(np.asarray(train_x.getcol(profile_idx).todense()) * similarity_matrix.values, axis=0) / 1021\n",
    "\n",
    "    # We can do this through masking\n",
    "    projects_to_not_suggest_again = train_x.nonzero()[0]\n",
    "\n",
    "    # Order the projects by similarity\n",
    "    similar_items = pd.DataFrame(user_projects_sim)\n",
    "    similar_items.columns = ['similarity_score']\n",
    "    similar_items['project_id'] = similarity_matrix.columns\n",
    "    similar_items = similar_items.sort_values('similarity_score', ascending=False)\n",
    "    \n",
    "    cb_preds = similar_items['similarity_score']\n",
    "    cf_preds = pd.Series(predictions[0], index=train_labels.values.flatten())\n",
    "    \n",
    "    cb_sum = sum(cb_preds)\n",
    "    cf_sum = sum(cf_preds)\n",
    "    \n",
    "    norm_cb_preds = cb_preds / cb_sum\n",
    "    norm_cf_preds = cf_preds / cf_sum\n",
    "    \n",
    "    sum_preds = pd.Series(np.zeros(len(train_labels.values.flatten())), index=train_labels.values.flatten())\n",
    "    for i in range(0, len(norm_cb_preds)):\n",
    "        index = norm_cb_preds.index[i]\n",
    "        pred = norm_cb_preds.iloc[i]\n",
    "        result = pred + norm_cf_preds.iloc[i]\n",
    "        sum_preds.loc[i] = result\n",
    "        \n",
    "    top_5_idx = sum_preds.sort_values(ascending=False).head(5).index\n",
    "    \n",
    "    top_5_project_ids = train_labels.iloc[top_5_idx].values.flatten()\n",
    "    \n",
    "    y_true = np.squeeze(np.asarray(test_x.getcol(profile_idx).todense())).reshape(1,-1)\n",
    "\n",
    "    y_true = np.squeeze(np.asarray(y_true))\n",
    "\n",
    "    predicted_projects = top_5_project_ids\n",
    "    y_pred = np.zeros(y_true.shape)\n",
    "    y_pred[predicted_projects] = 1\n",
    "    \n",
    "    # Get precision and recall\n",
    "    precision, recall, fscore, support = precision_recall_fscore_support(y_true, y_pred, average='binary', pos_label=1)\n",
    "\n",
    "    # Get the similarity matrix entries for the most similar items to our \n",
    "    pred_sim_matrix = similarity_matrix[top_5_idx]\n",
    "\n",
    "    # Get the indices of all the projects that were actually participated with after cut_off time\n",
    "    true_idx = np.nonzero(y_true)\n",
    "\n",
    "    # This should now mean we have a 2D matrix which has \n",
    "    # len(similar_items) columns \n",
    "    # len(true_idx) rows\n",
    "    masked_pred_sim_matrix = pred_sim_matrix.iloc[true_idx]\n",
    "\n",
    "    refined_precision = np.mean(masked_pred_sim_matrix.max(axis=0)) + precision\n",
    "    \n",
    "    precisions = precisions + [precision]\n",
    "    recalls = recalls + [recall]\n",
    "    refined_precisions = refined_precisions + [refined_precision]\n"
   ]
  },
  {
   "cell_type": "code",
   "execution_count": null,
   "metadata": {},
   "outputs": [],
   "source": []
  }
 ],
 "metadata": {
  "kernelspec": {
   "display_name": "Python 3",
   "language": "python",
   "name": "python3"
  },
  "language_info": {
   "codemirror_mode": {
    "name": "ipython",
    "version": 3
   },
   "file_extension": ".py",
   "mimetype": "text/x-python",
   "name": "python",
   "nbconvert_exporter": "python",
   "pygments_lexer": "ipython3",
   "version": "3.6.8"
  }
 },
 "nbformat": 4,
 "nbformat_minor": 2
}
