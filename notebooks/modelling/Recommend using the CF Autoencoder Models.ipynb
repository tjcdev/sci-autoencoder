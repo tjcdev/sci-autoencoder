{
 "cells": [
  {
   "cell_type": "code",
   "execution_count": 141,
   "metadata": {},
   "outputs": [],
   "source": [
    "import os\n",
    "import sys\n",
    "from time import gmtime, strftime\n",
    "\n",
    "from keras.models import load_model\n",
    "from sklearn.metrics import precision_recall_fscore_support\n",
    "import numpy as np\n",
    "import pandas as pd\n",
    "import math\n",
    "import keras.backend as K\n",
    "from scipy import sparse\n",
    "from scipy.sparse import vstack\n",
    "\n",
    "sys.path.append('../../data')\n",
    "sys.path.append('../../src/models')\n",
    "from recommenders.cf_recommender import CFRecommender\n",
    "\n",
    "k = 5 #int(sys.argv[1])\n",
    "autoencoder_model = 'train_autoencoder_128_cdae_users_projects' #str(sys.argv[2]) # 'train_autoencoder_32_cdae_users_projects'\n",
    "dataSource = 'users_projects' # str(sys.argv[3]) # 'movies' \n",
    "\n",
    "# Load the autoencoder to use\n",
    "model = load_model('../../data/autoencoders/' + autoencoder_model + '.h5')\n",
    "projects = pd.read_pickle('../../data/processed/project_data')"
   ]
  },
  {
   "cell_type": "code",
   "execution_count": 142,
   "metadata": {},
   "outputs": [],
   "source": [
    "def load_users_projects():\n",
    "    cf = pd.read_pickle('../../data/processed/cf_projects.pkl')\n",
    "    #cf = pd.read_pickle('data/processed/cf_profiles.pkl')\n",
    "\n",
    "    train_x = sparse.load_npz(\"../../data/processed/train_sparse.npz\")\n",
    "    val_x = sparse.load_npz(\"../../data/processed/val_sparse.npz\")\n",
    "    test_x = sparse.load_npz(\"../../data/processed/test_sparse.npz\")\n",
    "    \n",
    "    train_labels = cf\n",
    "    val_labels = cf\n",
    "    test_labels = cf\n",
    "\n",
    "    return train_labels, train_x, val_labels, val_x, test_labels, test_x\n",
    "\n",
    "def load_profile_labels():\n",
    "    cf_profiles = pd.read_pickle('../../data/processed/cf_profiles.pkl')\n",
    "\n",
    "    return cf_profiles"
   ]
  },
  {
   "cell_type": "code",
   "execution_count": 143,
   "metadata": {},
   "outputs": [],
   "source": [
    "# Load out time consistent collaborative filtering data\n",
    "train_labels, train_x, val_labels, val_x, test_labels, test_x = load_users_projects()"
   ]
  },
  {
   "cell_type": "code",
   "execution_count": 144,
   "metadata": {},
   "outputs": [],
   "source": [
    "recommender = CFRecommender(k)"
   ]
  },
  {
   "cell_type": "code",
   "execution_count": 145,
   "metadata": {},
   "outputs": [
    {
     "data": {
      "text/plain": [
       "8"
      ]
     },
     "execution_count": 145,
     "metadata": {},
     "output_type": "execute_result"
    }
   ],
   "source": [
    "test_x.count_nonzero()"
   ]
  },
  {
   "cell_type": "markdown",
   "metadata": {},
   "source": [
    "#### Create our user profile"
   ]
  },
  {
   "cell_type": "code",
   "execution_count": 103,
   "metadata": {},
   "outputs": [],
   "source": [
    "profile_idx = 1\n",
    "\n",
    "# Get the projects used to make the prediction\n",
    "profile_col = np.squeeze(np.asarray(train_x.getcol(profile_idx).todense())).reshape(1,-1)\n",
    "labels = np.asarray(train_labels.index)"
   ]
  },
  {
   "cell_type": "code",
   "execution_count": 104,
   "metadata": {},
   "outputs": [
    {
     "data": {
      "text/plain": [
       "array([  3,   8,  18,  21, 128, 133, 276, 284, 356, 458, 495])"
      ]
     },
     "execution_count": 104,
     "metadata": {},
     "output_type": "execute_result"
    }
   ],
   "source": [
    "labels[np.nonzero(profile_col)[1]]"
   ]
  },
  {
   "cell_type": "code",
   "execution_count": 105,
   "metadata": {},
   "outputs": [],
   "source": [
    "# Make a prediction for \n",
    "predictions = model.predict([profile_col, labels])"
   ]
  },
  {
   "cell_type": "code",
   "execution_count": 106,
   "metadata": {},
   "outputs": [
    {
     "data": {
      "text/plain": [
       "1029"
      ]
     },
     "execution_count": 106,
     "metadata": {},
     "output_type": "execute_result"
    }
   ],
   "source": [
    "np.count_nonzero(predictions[0])"
   ]
  },
  {
   "cell_type": "markdown",
   "metadata": {},
   "source": [
    "#### Get the Top-K Predictions"
   ]
  },
  {
   "cell_type": "code",
   "execution_count": 107,
   "metadata": {},
   "outputs": [],
   "source": [
    "# Get the indices of all projects that have already been done by this \n",
    "done_idx = profile_col.nonzero()"
   ]
  },
  {
   "cell_type": "code",
   "execution_count": 108,
   "metadata": {},
   "outputs": [
    {
     "data": {
      "text/plain": [
       "(array([0, 0, 0, 0, 0, 0, 0, 0, 0, 0, 0]),\n",
       " array([  3,   8,  18,  21, 128, 133, 276, 284, 356, 458, 495]))"
      ]
     },
     "execution_count": 108,
     "metadata": {},
     "output_type": "execute_result"
    }
   ],
   "source": [
    "done_idx"
   ]
  },
  {
   "cell_type": "code",
   "execution_count": 109,
   "metadata": {},
   "outputs": [],
   "source": [
    "# Set all the done projects to 0 in the predictions (so we don't pick them again)\n",
    "predictions[done_idx] = 0"
   ]
  },
  {
   "cell_type": "code",
   "execution_count": 110,
   "metadata": {},
   "outputs": [
    {
     "data": {
      "text/plain": [
       "1018"
      ]
     },
     "execution_count": 110,
     "metadata": {},
     "output_type": "execute_result"
    }
   ],
   "source": [
    "np.count_nonzero(predictions[0])"
   ]
  },
  {
   "cell_type": "code",
   "execution_count": 111,
   "metadata": {},
   "outputs": [],
   "source": [
    "# Get the indices of the top projects\n",
    "y_pred_indices = predictions.reshape(train_labels.shape[0]).argsort()[-k:][::-1]"
   ]
  },
  {
   "cell_type": "markdown",
   "metadata": {},
   "source": [
    "### Investigate the projects that were picked"
   ]
  },
  {
   "cell_type": "code",
   "execution_count": 112,
   "metadata": {},
   "outputs": [
    {
     "data": {
      "text/plain": [
       "array([228, 600, 513,  63, 796])"
      ]
     },
     "execution_count": 112,
     "metadata": {},
     "output_type": "execute_result"
    }
   ],
   "source": [
    "y_pred_indices"
   ]
  },
  {
   "cell_type": "code",
   "execution_count": 113,
   "metadata": {},
   "outputs": [
    {
     "data": {
      "text/plain": [
       "array([0.07145813, 0.07141674, 0.07141015, 0.07121357, 0.07089725],\n",
       "      dtype=float32)"
      ]
     },
     "execution_count": 113,
     "metadata": {},
     "output_type": "execute_result"
    }
   ],
   "source": [
    "predictions[0][y_pred_indices]"
   ]
  },
  {
   "cell_type": "code",
   "execution_count": 114,
   "metadata": {},
   "outputs": [
    {
     "data": {
      "text/html": [
       "<div>\n",
       "<style scoped>\n",
       "    .dataframe tbody tr th:only-of-type {\n",
       "        vertical-align: middle;\n",
       "    }\n",
       "\n",
       "    .dataframe tbody tr th {\n",
       "        vertical-align: top;\n",
       "    }\n",
       "\n",
       "    .dataframe thead th {\n",
       "        text-align: right;\n",
       "    }\n",
       "</style>\n",
       "<table border=\"1\" class=\"dataframe\">\n",
       "  <thead>\n",
       "    <tr style=\"text-align: right;\">\n",
       "      <th></th>\n",
       "      <th>UN_regions</th>\n",
       "      <th>country</th>\n",
       "      <th>description</th>\n",
       "      <th>error</th>\n",
       "      <th>guid</th>\n",
       "      <th>origin</th>\n",
       "      <th>regions</th>\n",
       "      <th>tags</th>\n",
       "      <th>title</th>\n",
       "      <th>topics</th>\n",
       "      <th>url</th>\n",
       "      <th>project_id</th>\n",
       "    </tr>\n",
       "  </thead>\n",
       "  <tbody>\n",
       "    <tr>\n",
       "      <th>87</th>\n",
       "      <td>[]</td>\n",
       "      <td>USA</td>\n",
       "      <td>Texas Bee Watchers aims to increase awareness ...</td>\n",
       "      <td>NaN</td>\n",
       "      <td>c29812ca-a0e0-5af6-8688-132d00053a5c</td>\n",
       "      <td>scistarter</td>\n",
       "      <td>[{'geometry': {'type': 'MultiPolygon', 'coordi...</td>\n",
       "      <td>[]</td>\n",
       "      <td>Texas Bee Watchers: 52 Gardens, 52 Weeks</td>\n",
       "      <td>[Animals, Biology, Ecology &amp; Environment, Natu...</td>\n",
       "      <td>https://scistarter.com/project/209-Texas-Bee-W...</td>\n",
       "      <td>209</td>\n",
       "    </tr>\n",
       "    <tr>\n",
       "      <th>370</th>\n",
       "      <td>[]</td>\n",
       "      <td></td>\n",
       "      <td>The Tucson Bird Count is an annual project in ...</td>\n",
       "      <td>NaN</td>\n",
       "      <td>230bc5d1-e929-5aec-843f-bbe9c2ba4e7b</td>\n",
       "      <td>scistarter</td>\n",
       "      <td>[{'geometry': {'type': 'MultiPolygon', 'coordi...</td>\n",
       "      <td>[arizona, bird, birdwatching, desert, reconcil...</td>\n",
       "      <td>Tucson Bird Count</td>\n",
       "      <td>[Nature &amp; Outdoors, Birds]</td>\n",
       "      <td>https://scistarter.com/project/606-Tucson-Bird...</td>\n",
       "      <td>606</td>\n",
       "    </tr>\n",
       "    <tr>\n",
       "      <th>839</th>\n",
       "      <td>[]</td>\n",
       "      <td>USA</td>\n",
       "      <td>FLOW, which stands for Follow and Learn about ...</td>\n",
       "      <td>NaN</td>\n",
       "      <td>ae184466-e5ea-5fb0-bbd1-0c5219cf2ab9</td>\n",
       "      <td>scistarter</td>\n",
       "      <td>[{'geometry': {'type': 'MultiPolygon', 'coordi...</td>\n",
       "      <td>[california, education, hab, harmful algal blo...</td>\n",
       "      <td>FLOW Program</td>\n",
       "      <td>[Science Policy, Education, Nature &amp; Outdoors,...</td>\n",
       "      <td>https://scistarter.com/project/1316-FLOW-Progr...</td>\n",
       "      <td>1316</td>\n",
       "    </tr>\n",
       "    <tr>\n",
       "      <th>976</th>\n",
       "      <td>[]</td>\n",
       "      <td>None</td>\n",
       "      <td>Invasive weedy plants are a widespread problem...</td>\n",
       "      <td>NaN</td>\n",
       "      <td>wilsoncenter:188-None</td>\n",
       "      <td>wilsoncenter</td>\n",
       "      <td>[{'geometry': {'type': 'MultiPolygon', 'coordi...</td>\n",
       "      <td>[aquatic plants, Aquatic plants, invasive terr...</td>\n",
       "      <td>Invasive Plant Atlas of the MidSouth</td>\n",
       "      <td>[]</td>\n",
       "      <td>https://scistarter.com/project/1694-Invasive-P...</td>\n",
       "      <td>1694</td>\n",
       "    </tr>\n",
       "    <tr>\n",
       "      <th>1256</th>\n",
       "      <td>[]</td>\n",
       "      <td>None</td>\n",
       "      <td>The North Carolina King Tides Project is an in...</td>\n",
       "      <td>NaN</td>\n",
       "      <td>0be5ace5-81ab-5d7b-bd55-63388aab90b5</td>\n",
       "      <td>scistarter</td>\n",
       "      <td>[{'geometry': {'type': 'MultiPolygon', 'coordi...</td>\n",
       "      <td>[aquatic, beach, beaches, climate change, coas...</td>\n",
       "      <td>North Carolina King Tides Project</td>\n",
       "      <td>[Science Policy, Ocean, Water, Marine &amp; Terres...</td>\n",
       "      <td>https://scistarter.com/project/17581-North-Car...</td>\n",
       "      <td>17581</td>\n",
       "    </tr>\n",
       "  </tbody>\n",
       "</table>\n",
       "</div>"
      ],
      "text/plain": [
       "     UN_regions country                                        description  \\\n",
       "87           []     USA  Texas Bee Watchers aims to increase awareness ...   \n",
       "370          []          The Tucson Bird Count is an annual project in ...   \n",
       "839          []     USA  FLOW, which stands for Follow and Learn about ...   \n",
       "976          []    None  Invasive weedy plants are a widespread problem...   \n",
       "1256         []    None  The North Carolina King Tides Project is an in...   \n",
       "\n",
       "     error                                  guid        origin  \\\n",
       "87     NaN  c29812ca-a0e0-5af6-8688-132d00053a5c    scistarter   \n",
       "370    NaN  230bc5d1-e929-5aec-843f-bbe9c2ba4e7b    scistarter   \n",
       "839    NaN  ae184466-e5ea-5fb0-bbd1-0c5219cf2ab9    scistarter   \n",
       "976    NaN                 wilsoncenter:188-None  wilsoncenter   \n",
       "1256   NaN  0be5ace5-81ab-5d7b-bd55-63388aab90b5    scistarter   \n",
       "\n",
       "                                                regions  \\\n",
       "87    [{'geometry': {'type': 'MultiPolygon', 'coordi...   \n",
       "370   [{'geometry': {'type': 'MultiPolygon', 'coordi...   \n",
       "839   [{'geometry': {'type': 'MultiPolygon', 'coordi...   \n",
       "976   [{'geometry': {'type': 'MultiPolygon', 'coordi...   \n",
       "1256  [{'geometry': {'type': 'MultiPolygon', 'coordi...   \n",
       "\n",
       "                                                   tags  \\\n",
       "87                                                   []   \n",
       "370   [arizona, bird, birdwatching, desert, reconcil...   \n",
       "839   [california, education, hab, harmful algal blo...   \n",
       "976   [aquatic plants, Aquatic plants, invasive terr...   \n",
       "1256  [aquatic, beach, beaches, climate change, coas...   \n",
       "\n",
       "                                         title  \\\n",
       "87    Texas Bee Watchers: 52 Gardens, 52 Weeks   \n",
       "370                          Tucson Bird Count   \n",
       "839                               FLOW Program   \n",
       "976       Invasive Plant Atlas of the MidSouth   \n",
       "1256         North Carolina King Tides Project   \n",
       "\n",
       "                                                 topics  \\\n",
       "87    [Animals, Biology, Ecology & Environment, Natu...   \n",
       "370                          [Nature & Outdoors, Birds]   \n",
       "839   [Science Policy, Education, Nature & Outdoors,...   \n",
       "976                                                  []   \n",
       "1256  [Science Policy, Ocean, Water, Marine & Terres...   \n",
       "\n",
       "                                                    url  project_id  \n",
       "87    https://scistarter.com/project/209-Texas-Bee-W...         209  \n",
       "370   https://scistarter.com/project/606-Tucson-Bird...         606  \n",
       "839   https://scistarter.com/project/1316-FLOW-Progr...        1316  \n",
       "976   https://scistarter.com/project/1694-Invasive-P...        1694  \n",
       "1256  https://scistarter.com/project/17581-North-Car...       17581  "
      ]
     },
     "execution_count": 114,
     "metadata": {},
     "output_type": "execute_result"
    }
   ],
   "source": [
    "project_ids = train_labels.iloc[y_pred_indices].values.flatten()\n",
    "projects[projects['project_id'].isin(project_ids)]"
   ]
  },
  {
   "cell_type": "code",
   "execution_count": 115,
   "metadata": {},
   "outputs": [
    {
     "data": {
      "text/plain": [
       "(5, 880)"
      ]
     },
     "execution_count": 115,
     "metadata": {},
     "output_type": "execute_result"
    }
   ],
   "source": [
    "train_x[y_pred_indices].shape"
   ]
  },
  {
   "cell_type": "code",
   "execution_count": 116,
   "metadata": {},
   "outputs": [
    {
     "name": "stdout",
     "output_type": "stream",
     "text": [
      "2\n",
      "2\n",
      "2\n",
      "2\n",
      "14\n"
     ]
    }
   ],
   "source": [
    "for i in range(0, train_x[y_pred_indices].shape[0]):\n",
    "    row = train_x[y_pred_indices].getrow(i)\n",
    "    print(str(row.nnz))"
   ]
  },
  {
   "cell_type": "code",
   "execution_count": 129,
   "metadata": {},
   "outputs": [
    {
     "data": {
      "text/plain": [
       "(1029, 880)"
      ]
     },
     "execution_count": 129,
     "metadata": {},
     "output_type": "execute_result"
    }
   ],
   "source": [
    "val_x.shape"
   ]
  },
  {
   "cell_type": "code",
   "execution_count": 132,
   "metadata": {},
   "outputs": [
    {
     "data": {
      "text/plain": [
       "879"
      ]
     },
     "execution_count": 132,
     "metadata": {},
     "output_type": "execute_result"
    }
   ],
   "source": [
    "len(np.where(~val_x.todense().any(axis=0))[0])"
   ]
  },
  {
   "cell_type": "code",
   "execution_count": 130,
   "metadata": {},
   "outputs": [
    {
     "data": {
      "text/plain": [
       "(1029, 880)"
      ]
     },
     "execution_count": 130,
     "metadata": {},
     "output_type": "execute_result"
    }
   ],
   "source": [
    "test_x.shape"
   ]
  },
  {
   "cell_type": "code",
   "execution_count": 133,
   "metadata": {},
   "outputs": [
    {
     "data": {
      "text/plain": [
       "879"
      ]
     },
     "execution_count": 133,
     "metadata": {},
     "output_type": "execute_result"
    }
   ],
   "source": [
    "len(np.where(~test_x.todense().any(axis=0))[0])"
   ]
  },
  {
   "cell_type": "markdown",
   "metadata": {},
   "source": [
    "So, in summary. My data validation and test data is blank for every y_pred and y_true"
   ]
  },
  {
   "cell_type": "code",
   "execution_count": 117,
   "metadata": {},
   "outputs": [],
   "source": [
    "# return the project_ids of the top recommendations\n",
    "recommendations = train_labels.iloc[y_pred_indices]"
   ]
  },
  {
   "cell_type": "markdown",
   "metadata": {},
   "source": [
    "#### Generate the y_pred and y_true for evaluation"
   ]
  },
  {
   "cell_type": "code",
   "execution_count": 118,
   "metadata": {},
   "outputs": [],
   "source": [
    "y_true, y_pred = recommender.generate_y(recommendations, train_labels, test_x.getcol(profile_idx), val_x=val_x.getcol(profile_idx))"
   ]
  },
  {
   "cell_type": "markdown",
   "metadata": {},
   "source": [
    "#### Get precision and recall"
   ]
  },
  {
   "cell_type": "code",
   "execution_count": 119,
   "metadata": {},
   "outputs": [
    {
     "name": "stderr",
     "output_type": "stream",
     "text": [
      "/Users/thomascartwright/miniconda3/envs/cdea/lib/python3.6/site-packages/sklearn/metrics/classification.py:1439: UndefinedMetricWarning: Recall and F-score are ill-defined and being set to 0.0 due to no true samples.\n",
      "  'recall', 'true', average, warn_for)\n"
     ]
    }
   ],
   "source": [
    "precision, recall, fscore, support = precision_recall_fscore_support(y_true, y_pred, average='binary', pos_label=1)"
   ]
  },
  {
   "cell_type": "code",
   "execution_count": 120,
   "metadata": {},
   "outputs": [
    {
     "data": {
      "text/plain": [
       "0.0"
      ]
     },
     "execution_count": 120,
     "metadata": {},
     "output_type": "execute_result"
    }
   ],
   "source": [
    "precision"
   ]
  },
  {
   "cell_type": "code",
   "execution_count": 121,
   "metadata": {},
   "outputs": [
    {
     "data": {
      "text/plain": [
       "0.0"
      ]
     },
     "execution_count": 121,
     "metadata": {},
     "output_type": "execute_result"
    }
   ],
   "source": [
    "recall"
   ]
  },
  {
   "cell_type": "code",
   "execution_count": null,
   "metadata": {},
   "outputs": [],
   "source": []
  }
 ],
 "metadata": {
  "kernelspec": {
   "display_name": "Python 3",
   "language": "python",
   "name": "python3"
  },
  "language_info": {
   "codemirror_mode": {
    "name": "ipython",
    "version": 3
   },
   "file_extension": ".py",
   "mimetype": "text/x-python",
   "name": "python",
   "nbconvert_exporter": "python",
   "pygments_lexer": "ipython3",
   "version": "3.6.8"
  }
 },
 "nbformat": 4,
 "nbformat_minor": 2
}
