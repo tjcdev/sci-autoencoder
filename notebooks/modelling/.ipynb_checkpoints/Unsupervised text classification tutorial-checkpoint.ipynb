{
 "cells": [
  {
   "cell_type": "code",
   "execution_count": 1,
   "metadata": {},
   "outputs": [],
   "source": [
    "from sklearn.feature_extraction.text import TfidfVectorizer\n",
    "from sklearn.cluster import KMeans\n",
    "import numpy as np\n",
    "import pandas as pd"
   ]
  },
  {
   "cell_type": "markdown",
   "metadata": {},
   "source": [
    "# Create unsupervised clustering model"
   ]
  },
  {
   "cell_type": "markdown",
   "metadata": {},
   "source": [
    "### Load projects data"
   ]
  },
  {
   "cell_type": "code",
   "execution_count": 2,
   "metadata": {},
   "outputs": [],
   "source": [
    "projects = pd.read_pickle(\"../../data/raw/project_data\")"
   ]
  },
  {
   "cell_type": "code",
   "execution_count": 3,
   "metadata": {},
   "outputs": [
    {
     "data": {
      "text/html": [
       "<div>\n",
       "<style scoped>\n",
       "    .dataframe tbody tr th:only-of-type {\n",
       "        vertical-align: middle;\n",
       "    }\n",
       "\n",
       "    .dataframe tbody tr th {\n",
       "        vertical-align: top;\n",
       "    }\n",
       "\n",
       "    .dataframe thead th {\n",
       "        text-align: right;\n",
       "    }\n",
       "</style>\n",
       "<table border=\"1\" class=\"dataframe\">\n",
       "  <thead>\n",
       "    <tr style=\"text-align: right;\">\n",
       "      <th></th>\n",
       "      <th>UN_regions</th>\n",
       "      <th>country</th>\n",
       "      <th>description</th>\n",
       "      <th>error</th>\n",
       "      <th>guid</th>\n",
       "      <th>origin</th>\n",
       "      <th>regions</th>\n",
       "      <th>tags</th>\n",
       "      <th>title</th>\n",
       "      <th>topics</th>\n",
       "      <th>url</th>\n",
       "      <th>project_id</th>\n",
       "    </tr>\n",
       "  </thead>\n",
       "  <tbody>\n",
       "    <tr>\n",
       "      <th>0</th>\n",
       "      <td>[]</td>\n",
       "      <td></td>\n",
       "      <td>Foldit is a revolutionary new computer game en...</td>\n",
       "      <td>NaN</td>\n",
       "      <td>5f80760d-8398-5091-b3c6-f34c39216e88</td>\n",
       "      <td>scistarter</td>\n",
       "      <td>[]</td>\n",
       "      <td>[dna, protein]</td>\n",
       "      <td>Foldit</td>\n",
       "      <td>[Computers &amp; Technology, Biology, Chemistry]</td>\n",
       "      <td>https://scistarter.com/project/4-Foldit-Foldit</td>\n",
       "      <td>4</td>\n",
       "    </tr>\n",
       "    <tr>\n",
       "      <th>1</th>\n",
       "      <td>[]</td>\n",
       "      <td></td>\n",
       "      <td>Firefly Watch combines an annual summer evenin...</td>\n",
       "      <td>NaN</td>\n",
       "      <td>c9664e0c-819a-5a42-b4bb-5f25d83a486d</td>\n",
       "      <td>scistarter</td>\n",
       "      <td>[{'geometry': {'type': 'MultiPolygon', 'coordi...</td>\n",
       "      <td>[boston, cambridge, fireflies, insects, lightn...</td>\n",
       "      <td>Firefly Watch</td>\n",
       "      <td>[Nature &amp; Outdoors, Animals, Ecology &amp; Environ...</td>\n",
       "      <td>https://scistarter.com/project/5-Firefly-Watch...</td>\n",
       "      <td>5</td>\n",
       "    </tr>\n",
       "    <tr>\n",
       "      <th>2</th>\n",
       "      <td>[]</td>\n",
       "      <td></td>\n",
       "      <td>Galaxy Zoo needs your help to classify galaxie...</td>\n",
       "      <td>NaN</td>\n",
       "      <td>11f65e99-b463-5e01-ac11-ae59c021dfe7</td>\n",
       "      <td>scistarter</td>\n",
       "      <td>[]</td>\n",
       "      <td>[astronomy &amp; space, space, space science, zoon...</td>\n",
       "      <td>Galaxy Zoo</td>\n",
       "      <td>[Astronomy &amp; Space, Computers &amp; Technology]</td>\n",
       "      <td>https://scistarter.com/project/6-Galaxy-Zoo-Ga...</td>\n",
       "      <td>6</td>\n",
       "    </tr>\n",
       "    <tr>\n",
       "      <th>3</th>\n",
       "      <td>[]</td>\n",
       "      <td>None</td>\n",
       "      <td>Pay attention to the plants and animals in you...</td>\n",
       "      <td>NaN</td>\n",
       "      <td>wilsoncenter:27-107</td>\n",
       "      <td>scistarter</td>\n",
       "      <td>[{'geometry': {'type': 'MultiPolygon', 'coordi...</td>\n",
       "      <td>[android, animal, animals, app, biology, clima...</td>\n",
       "      <td>Nature's Notebook</td>\n",
       "      <td>[Ocean, Water, Marine &amp; Terrestrial, Education...</td>\n",
       "      <td>https://scistarter.com/project/7-Natures-Noteb...</td>\n",
       "      <td>7</td>\n",
       "    </tr>\n",
       "    <tr>\n",
       "      <th>4</th>\n",
       "      <td>[]</td>\n",
       "      <td></td>\n",
       "      <td>A recent issue of Make magazine (http://makezi...</td>\n",
       "      <td>NaN</td>\n",
       "      <td>ae91e967-6eec-5aef-ab3a-7d86ceff737a</td>\n",
       "      <td>scistarter</td>\n",
       "      <td>[]</td>\n",
       "      <td>[]</td>\n",
       "      <td>Laser Harp: Build It Yourself</td>\n",
       "      <td>[Computers &amp; Technology, Sound, Physics]</td>\n",
       "      <td>https://scistarter.com/project/8-Laser-Harp-Bu...</td>\n",
       "      <td>8</td>\n",
       "    </tr>\n",
       "  </tbody>\n",
       "</table>\n",
       "</div>"
      ],
      "text/plain": [
       "  UN_regions country                                        description error  \\\n",
       "0         []          Foldit is a revolutionary new computer game en...   NaN   \n",
       "1         []          Firefly Watch combines an annual summer evenin...   NaN   \n",
       "2         []          Galaxy Zoo needs your help to classify galaxie...   NaN   \n",
       "3         []    None  Pay attention to the plants and animals in you...   NaN   \n",
       "4         []          A recent issue of Make magazine (http://makezi...   NaN   \n",
       "\n",
       "                                   guid      origin  \\\n",
       "0  5f80760d-8398-5091-b3c6-f34c39216e88  scistarter   \n",
       "1  c9664e0c-819a-5a42-b4bb-5f25d83a486d  scistarter   \n",
       "2  11f65e99-b463-5e01-ac11-ae59c021dfe7  scistarter   \n",
       "3                   wilsoncenter:27-107  scistarter   \n",
       "4  ae91e967-6eec-5aef-ab3a-7d86ceff737a  scistarter   \n",
       "\n",
       "                                             regions  \\\n",
       "0                                                 []   \n",
       "1  [{'geometry': {'type': 'MultiPolygon', 'coordi...   \n",
       "2                                                 []   \n",
       "3  [{'geometry': {'type': 'MultiPolygon', 'coordi...   \n",
       "4                                                 []   \n",
       "\n",
       "                                                tags  \\\n",
       "0                                     [dna, protein]   \n",
       "1  [boston, cambridge, fireflies, insects, lightn...   \n",
       "2  [astronomy & space, space, space science, zoon...   \n",
       "3  [android, animal, animals, app, biology, clima...   \n",
       "4                                                 []   \n",
       "\n",
       "                           title  \\\n",
       "0                         Foldit   \n",
       "1                  Firefly Watch   \n",
       "2                     Galaxy Zoo   \n",
       "3              Nature's Notebook   \n",
       "4  Laser Harp: Build It Yourself   \n",
       "\n",
       "                                              topics  \\\n",
       "0       [Computers & Technology, Biology, Chemistry]   \n",
       "1  [Nature & Outdoors, Animals, Ecology & Environ...   \n",
       "2        [Astronomy & Space, Computers & Technology]   \n",
       "3  [Ocean, Water, Marine & Terrestrial, Education...   \n",
       "4           [Computers & Technology, Sound, Physics]   \n",
       "\n",
       "                                                 url  project_id  \n",
       "0     https://scistarter.com/project/4-Foldit-Foldit           4  \n",
       "1  https://scistarter.com/project/5-Firefly-Watch...           5  \n",
       "2  https://scistarter.com/project/6-Galaxy-Zoo-Ga...           6  \n",
       "3  https://scistarter.com/project/7-Natures-Noteb...           7  \n",
       "4  https://scistarter.com/project/8-Laser-Harp-Bu...           8  "
      ]
     },
     "execution_count": 3,
     "metadata": {},
     "output_type": "execute_result"
    }
   ],
   "source": [
    "projects.head()"
   ]
  },
  {
   "cell_type": "code",
   "execution_count": 4,
   "metadata": {},
   "outputs": [],
   "source": [
    "titles = projects['title']"
   ]
  },
  {
   "cell_type": "markdown",
   "metadata": {},
   "source": [
    "### Create TD-IDF Vectorizer"
   ]
  },
  {
   "cell_type": "code",
   "execution_count": 5,
   "metadata": {},
   "outputs": [],
   "source": [
    "vectorizer = TfidfVectorizer(stop_words='english')\n",
    "X = vectorizer.fit_transform(titles)"
   ]
  },
  {
   "cell_type": "markdown",
   "metadata": {},
   "source": [
    "### Create KMeans Clustering"
   ]
  },
  {
   "cell_type": "code",
   "execution_count": 6,
   "metadata": {},
   "outputs": [
    {
     "data": {
      "text/plain": [
       "KMeans(algorithm='auto', copy_x=True, init='k-means++', max_iter=100,\n",
       "       n_clusters=2, n_init=1, n_jobs=None, precompute_distances='auto',\n",
       "       random_state=None, tol=0.0001, verbose=0)"
      ]
     },
     "execution_count": 6,
     "metadata": {},
     "output_type": "execute_result"
    }
   ],
   "source": [
    "true_k = 2\n",
    "model = KMeans(n_clusters=true_k, init='k-means++', max_iter=100, n_init=1)\n",
    "model.fit(X)"
   ]
  },
  {
   "cell_type": "code",
   "execution_count": 7,
   "metadata": {},
   "outputs": [],
   "source": [
    "# Now find the centroids and features for the clusters\n",
    "order_centroids = model.cluster_centers_.argsort()[:, ::-1]\n",
    "terms = vectorizer.get_feature_names()"
   ]
  },
  {
   "cell_type": "code",
   "execution_count": 8,
   "metadata": {},
   "outputs": [
    {
     "name": "stdout",
     "output_type": "stream",
     "text": [
      "Cluster 0:\n",
      " project\n",
      " monitoring\n",
      " science\n",
      " citizen\n",
      " watch\n",
      " survey\n",
      " program\n",
      " water\n",
      " creek\n",
      " national\n",
      "Cluster 1:\n",
      " river\n",
      " global\n",
      " experiment\n",
      " water\n",
      " monitoring\n",
      " quality\n",
      " bioquest\n",
      " watch\n",
      " university\n",
      " change\n"
     ]
    }
   ],
   "source": [
    "# Now print the centroids into which clusters they belong\n",
    "for i in range(true_k):\n",
    "    print(\"Cluster %d:\" % i)\n",
    "    for ind in order_centroids[i, :10]:\n",
    "        print(' %s' % terms[ind])"
   ]
  },
  {
   "cell_type": "markdown",
   "metadata": {},
   "source": [
    "### Make predictions using the above clusters"
   ]
  },
  {
   "cell_type": "code",
   "execution_count": 9,
   "metadata": {},
   "outputs": [
    {
     "name": "stdout",
     "output_type": "stream",
     "text": [
      "[0]\n"
     ]
    }
   ],
   "source": [
    "X = vectorizer.transform(['Bioblitz Science'])\n",
    "predicted = model.predict(X)\n",
    "print(predicted)"
   ]
  },
  {
   "cell_type": "code",
   "execution_count": null,
   "metadata": {},
   "outputs": [],
   "source": []
  }
 ],
 "metadata": {
  "kernelspec": {
   "display_name": "Python 3",
   "language": "python",
   "name": "python3"
  },
  "language_info": {
   "codemirror_mode": {
    "name": "ipython",
    "version": 3
   },
   "file_extension": ".py",
   "mimetype": "text/x-python",
   "name": "python",
   "nbconvert_exporter": "python",
   "pygments_lexer": "ipython3",
   "version": "3.7.1"
  }
 },
 "nbformat": 4,
 "nbformat_minor": 2
}
