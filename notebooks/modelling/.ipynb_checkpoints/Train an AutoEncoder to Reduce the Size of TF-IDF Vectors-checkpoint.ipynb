{
 "cells": [
  {
   "cell_type": "markdown",
   "metadata": {},
   "source": [
    "# Train an AutoEncoder to Reduce the Size of TF-IDF Vectors"
   ]
  },
  {
   "cell_type": "code",
   "execution_count": 3,
   "metadata": {},
   "outputs": [
    {
     "name": "stderr",
     "output_type": "stream",
     "text": [
      "Using TensorFlow backend.\n"
     ]
    }
   ],
   "source": [
    "import os\n",
    "import sys\n",
    "module_path = os.path.abspath(os.path.join('../../'))\n",
    "if module_path not in sys.path:\n",
    "    sys.path.append(module_path)\n",
    "\n",
    "import src.models.cdea.CDAE as CDAE\n",
    "import src.models.cdea.load_data as load_data\n",
    "import src.models.cdea.metrics as metrics\n",
    "\n",
    "from sklearn.metrics import precision_recall_fscore_support\n",
    "import numpy as np"
   ]
  },
  {
   "cell_type": "code",
   "execution_count": 4,
   "metadata": {},
   "outputs": [],
   "source": [
    "batch_size = 4\n",
    "epochs = 10\n",
    "embedding_size = 10\n",
    "num_profiles = 10"
   ]
  },
  {
   "cell_type": "code",
   "execution_count": 5,
   "metadata": {},
   "outputs": [],
   "source": [
    "# Load the proejct data\n",
    "train_projects, train_x, test_projects, test_x, train_project_ids, test_project_ids = load_data.load_projects()\n",
    "train_x_projects = np.array(train_projects, dtype=np.int32).reshape(len(train_projects), 1)\n",
    "test_x_projects = np.array(test_projects, dtype=np.int32).reshape(len(test_projects), 1)"
   ]
  },
  {
   "cell_type": "code",
   "execution_count": 6,
   "metadata": {},
   "outputs": [
    {
     "name": "stdout",
     "output_type": "stream",
     "text": [
      "WARNING:tensorflow:From /Users/thomascartwright/miniconda3/envs/cdea/lib/python3.6/site-packages/tensorflow/python/ops/control_flow_ops.py:423: colocate_with (from tensorflow.python.framework.ops) is deprecated and will be removed in a future version.\n",
      "Instructions for updating:\n",
      "Colocations handled automatically by placer.\n",
      "WARNING:tensorflow:From /Users/thomascartwright/miniconda3/envs/cdea/lib/python3.6/site-packages/keras/backend/tensorflow_backend.py:3445: calling dropout (from tensorflow.python.ops.nn_ops) with keep_prob is deprecated and will be removed in a future version.\n",
      "Instructions for updating:\n",
      "Please use `rate` instead of `keep_prob`. Rate should be set to `rate = 1 - keep_prob`.\n",
      "__________________________________________________________________________________________________\n",
      "Layer (type)                    Output Shape         Param #     Connected to                     \n",
      "==================================================================================================\n",
      "x_item (InputLayer)             (None, 2741)         0                                            \n",
      "__________________________________________________________________________________________________\n",
      "x_user (InputLayer)             (None, 1)            0                                            \n",
      "__________________________________________________________________________________________________\n",
      "dropout_1 (Dropout)             (None, 2741)         0           x_item[0][0]                     \n",
      "__________________________________________________________________________________________________\n",
      "embedding_layer (Embedding)     (None, 1, 10)        14250       x_user[0][0]                     \n",
      "__________________________________________________________________________________________________\n",
      "dense_1 (Dense)                 (None, 10)           27420       dropout_1[0][0]                  \n",
      "__________________________________________________________________________________________________\n",
      "flatten_1 (Flatten)             (None, 10)           0           embedding_layer[0][0]            \n",
      "__________________________________________________________________________________________________\n",
      "add_1 (Add)                     (None, 10)           0           dense_1[0][0]                    \n",
      "                                                                 flatten_1[0][0]                  \n",
      "__________________________________________________________________________________________________\n",
      "activation_1 (Activation)       (None, 10)           0           add_1[0][0]                      \n",
      "__________________________________________________________________________________________________\n",
      "dense_2 (Dense)                 (None, 2741)         30151       activation_1[0][0]               \n",
      "==================================================================================================\n",
      "Total params: 71,821\n",
      "Trainable params: 71,821\n",
      "Non-trainable params: 0\n",
      "__________________________________________________________________________________________________\n"
     ]
    },
    {
     "name": "stderr",
     "output_type": "stream",
     "text": [
      "/Users/thomascartwright/Documents/Development/sci-autoencoder/src/models/cdea/CDAE.py:25: UserWarning: Update your `Dense` call to the Keras 2 API: `Dense(10, kernel_regularizer=<keras.reg..., bias_regularizer=<keras.reg...)`\n",
      "  h_item = Dense(K, W_regularizer=l2(l), b_regularizer=l2(l))(h_item)\n",
      "/Users/thomascartwright/Documents/Development/sci-autoencoder/src/models/cdea/CDAE.py:29: UserWarning: Update your `Embedding` call to the Keras 2 API: `Embedding(input_dim=1425, output_dim=10, input_length=1, name=\"embedding_layer\", embeddings_regularizer=<keras.reg...)`\n",
      "  h_user = Embedding(input_dim=U, output_dim=K, input_length=1, W_regularizer=l2(l), name='embedding_layer')(x_user)\n",
      "/Users/thomascartwright/Documents/Development/sci-autoencoder/src/models/cdea/CDAE.py:39: UserWarning: Update your `Model` call to the Keras 2 API: `Model(inputs=[<tf.Tenso..., outputs=Tensor(\"de...)`\n",
      "  return Model(input=[x_item, x_user], output=y)\n"
     ]
    }
   ],
   "source": [
    "# Create our model\n",
    "model = CDAE.create(I=train_x.shape[1], U=len(train_projects)+1, K=embedding_size,\n",
    "                    hidden_activation='relu', output_activation='sigmoid', q=0.50, l=0.01)\n",
    "model.compile(loss='mean_absolute_error', optimizer='adam')\n",
    "model.summary()"
   ]
  },
  {
   "cell_type": "code",
   "execution_count": 7,
   "metadata": {},
   "outputs": [
    {
     "name": "stdout",
     "output_type": "stream",
     "text": [
      "WARNING:tensorflow:From /Users/thomascartwright/miniconda3/envs/cdea/lib/python3.6/site-packages/tensorflow/python/ops/math_ops.py:3066: to_int32 (from tensorflow.python.ops.math_ops) is deprecated and will be removed in a future version.\n",
      "Instructions for updating:\n",
      "Use tf.cast instead.\n"
     ]
    },
    {
     "name": "stderr",
     "output_type": "stream",
     "text": [
      "/Users/thomascartwright/miniconda3/envs/cdea/lib/python3.6/site-packages/ipykernel_launcher.py:5: UserWarning: The `nb_epoch` argument in `fit` has been renamed `epochs`.\n",
      "  \"\"\"\n"
     ]
    },
    {
     "name": "stdout",
     "output_type": "stream",
     "text": [
      "Train on 1424 samples, validate on 357 samples\n",
      "Epoch 1/10\n",
      "1424/1424 [==============================] - 1s 939us/step - loss: 0.3256 - val_loss: 0.1068\n",
      "Epoch 2/10\n",
      "1424/1424 [==============================] - 1s 728us/step - loss: 0.0694 - val_loss: 0.0538\n",
      "Epoch 3/10\n",
      "1424/1424 [==============================] - 1s 724us/step - loss: 0.0483 - val_loss: 0.0437\n",
      "Epoch 4/10\n",
      "1424/1424 [==============================] - 1s 719us/step - loss: 0.0400 - val_loss: 0.0367\n",
      "Epoch 5/10\n",
      "1424/1424 [==============================] - 1s 752us/step - loss: 0.0339 - val_loss: 0.0315\n",
      "Epoch 6/10\n",
      "1424/1424 [==============================] - 1s 950us/step - loss: 0.0293 - val_loss: 0.0273\n",
      "Epoch 7/10\n",
      "1424/1424 [==============================] - 1s 814us/step - loss: 0.0256 - val_loss: 0.0240\n",
      "Epoch 8/10\n",
      "1424/1424 [==============================] - 2s 1ms/step - loss: 0.0226 - val_loss: 0.0214\n",
      "Epoch 9/10\n",
      "1424/1424 [==============================] - 1s 726us/step - loss: 0.0202 - val_loss: 0.0191\n",
      "Epoch 10/10\n",
      "1424/1424 [==============================] - 1s 735us/step - loss: 0.0181 - val_loss: 0.0172\n"
     ]
    }
   ],
   "source": [
    "# Train our Autoencoder\n",
    "history = model.fit(x=[train_x, train_x_projects], y=train_x,\n",
    "                    batch_size=batch_size, nb_epoch=epochs, verbose=1,\n",
    "#                    validation_split=0.2)\n",
    "                    validation_data=[[test_x, test_x_projects], test_x])"
   ]
  },
  {
   "cell_type": "code",
   "execution_count": 8,
   "metadata": {},
   "outputs": [],
   "source": [
    "# Save the model\n",
    "model.save('autoencoder.h5')"
   ]
  },
  {
   "cell_type": "code",
   "execution_count": null,
   "metadata": {},
   "outputs": [],
   "source": []
  }
 ],
 "metadata": {
  "kernelspec": {
   "display_name": "Python 3",
   "language": "python",
   "name": "python3"
  },
  "language_info": {
   "codemirror_mode": {
    "name": "ipython",
    "version": 3
   },
   "file_extension": ".py",
   "mimetype": "text/x-python",
   "name": "python",
   "nbconvert_exporter": "python",
   "pygments_lexer": "ipython3",
   "version": "3.6.8"
  }
 },
 "nbformat": 4,
 "nbformat_minor": 2
}
