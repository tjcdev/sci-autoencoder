{
 "cells": [
  {
   "cell_type": "code",
   "execution_count": 2,
   "metadata": {},
   "outputs": [],
   "source": [
    "import pandas as pd"
   ]
  },
  {
   "cell_type": "code",
   "execution_count": 3,
   "metadata": {},
   "outputs": [],
   "source": [
    "projects = pd.read_pickle('../../data/processed/project_data')"
   ]
  },
  {
   "cell_type": "code",
   "execution_count": 4,
   "metadata": {},
   "outputs": [
    {
     "name": "stdout",
     "output_type": "stream",
     "text": [
      "Pay attention to the plants and animals in your yard, and you can contribute to scientific discovery! Observing life cycles of plants and animals with Nature's Notebook is easy and fun, and you will discover so much more about the plants and animals you see everyday. \r\n",
      "\r\n",
      "Sign up to observe one or more species in your yard or another place that you frequent. Use the Nature's Notebook smartphone app to send your observations directly to the National Phenology Database, or fill out paper datasheets and submit them online.\n",
      "-----\n",
      "Nature's Notebook\n"
     ]
    }
   ],
   "source": [
    "project = projects.iloc[3]\n",
    "print(project['description'])\n",
    "print('-----')\n",
    "print(project['title'])"
   ]
  },
  {
   "cell_type": "code",
   "execution_count": 5,
   "metadata": {},
   "outputs": [
    {
     "data": {
      "text/html": [
       "<div>\n",
       "<style scoped>\n",
       "    .dataframe tbody tr th:only-of-type {\n",
       "        vertical-align: middle;\n",
       "    }\n",
       "\n",
       "    .dataframe tbody tr th {\n",
       "        vertical-align: top;\n",
       "    }\n",
       "\n",
       "    .dataframe thead th {\n",
       "        text-align: right;\n",
       "    }\n",
       "</style>\n",
       "<table border=\"1\" class=\"dataframe\">\n",
       "  <thead>\n",
       "    <tr style=\"text-align: right;\">\n",
       "      <th></th>\n",
       "      <th>UN_regions</th>\n",
       "      <th>country</th>\n",
       "      <th>description</th>\n",
       "      <th>error</th>\n",
       "      <th>guid</th>\n",
       "      <th>origin</th>\n",
       "      <th>regions</th>\n",
       "      <th>tags</th>\n",
       "      <th>title</th>\n",
       "      <th>topics</th>\n",
       "      <th>url</th>\n",
       "      <th>project_id</th>\n",
       "    </tr>\n",
       "  </thead>\n",
       "  <tbody>\n",
       "    <tr>\n",
       "      <th>42</th>\n",
       "      <td>[]</td>\n",
       "      <td></td>\n",
       "      <td>The US Geological Survey's Twitter Earthquake ...</td>\n",
       "      <td>NaN</td>\n",
       "      <td>f1cc8239-e772-5f19-a6a9-1218d5372f74</td>\n",
       "      <td>scistarter</td>\n",
       "      <td>[]</td>\n",
       "      <td>[]</td>\n",
       "      <td>The Twitter Earthquake Detection Program</td>\n",
       "      <td>[Geology &amp; Earth Science, Computers &amp; Technolo...</td>\n",
       "      <td>https://scistarter.com/project/92-The-Twitter-...</td>\n",
       "      <td>92</td>\n",
       "    </tr>\n",
       "  </tbody>\n",
       "</table>\n",
       "</div>"
      ],
      "text/plain": [
       "   UN_regions country                                        description  \\\n",
       "42         []          The US Geological Survey's Twitter Earthquake ...   \n",
       "\n",
       "   error                                  guid      origin regions tags  \\\n",
       "42   NaN  f1cc8239-e772-5f19-a6a9-1218d5372f74  scistarter      []   []   \n",
       "\n",
       "                                       title  \\\n",
       "42  The Twitter Earthquake Detection Program   \n",
       "\n",
       "                                               topics  \\\n",
       "42  [Geology & Earth Science, Computers & Technolo...   \n",
       "\n",
       "                                                  url  project_id  \n",
       "42  https://scistarter.com/project/92-The-Twitter-...          92  "
      ]
     },
     "execution_count": 5,
     "metadata": {},
     "output_type": "execute_result"
    }
   ],
   "source": [
    "projects[projects['project_id'] == 92]"
   ]
  },
  {
   "cell_type": "code",
   "execution_count": 6,
   "metadata": {},
   "outputs": [],
   "source": [
    "project_ids = pd.read_pickle('../../data/processed/new_cf_projects.pkl')"
   ]
  },
  {
   "cell_type": "code",
   "execution_count": null,
   "metadata": {},
   "outputs": [],
   "source": []
  },
  {
   "cell_type": "code",
   "execution_count": 7,
   "metadata": {},
   "outputs": [],
   "source": [
    "content_projects = pd.read_pickle(\"../../data/processed/cf_projects_data\")"
   ]
  },
  {
   "cell_type": "code",
   "execution_count": 8,
   "metadata": {},
   "outputs": [
    {
     "data": {
      "text/plain": [
       "(27, 12)"
      ]
     },
     "execution_count": 8,
     "metadata": {},
     "output_type": "execute_result"
    }
   ],
   "source": [
    "content_projects.shape"
   ]
  },
  {
   "cell_type": "code",
   "execution_count": null,
   "metadata": {},
   "outputs": [],
   "source": []
  }
 ],
 "metadata": {
  "kernelspec": {
   "display_name": "Python 3",
   "language": "python",
   "name": "python3"
  },
  "language_info": {
   "codemirror_mode": {
    "name": "ipython",
    "version": 3
   },
   "file_extension": ".py",
   "mimetype": "text/x-python",
   "name": "python",
   "nbconvert_exporter": "python",
   "pygments_lexer": "ipython3",
   "version": "3.6.8"
  }
 },
 "nbformat": 4,
 "nbformat_minor": 2
}
