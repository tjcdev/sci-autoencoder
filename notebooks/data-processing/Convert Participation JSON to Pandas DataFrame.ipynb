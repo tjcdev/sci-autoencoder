{
 "cells": [
  {
   "cell_type": "code",
   "execution_count": 1,
   "metadata": {},
   "outputs": [],
   "source": [
    "import pandas as pd\n",
    "import numpy as np\n",
    "import matplotlib as plt\n",
    "import seaborn as sns\n",
    "import json\n",
    "from pandas.io.json import json_normalize"
   ]
  },
  {
   "cell_type": "markdown",
   "metadata": {},
   "source": [
    "#### Import the data from files"
   ]
  },
  {
   "cell_type": "code",
   "execution_count": 2,
   "metadata": {},
   "outputs": [],
   "source": [
    "data1 = pd.read_json('../../data/raw/file0-555.json', orient='columns')"
   ]
  },
  {
   "cell_type": "code",
   "execution_count": 3,
   "metadata": {},
   "outputs": [],
   "source": [
    "data2 = pd.read_json('../../data/raw/file1137-3025.json', orient='columns')"
   ]
  },
  {
   "cell_type": "code",
   "execution_count": 4,
   "metadata": {},
   "outputs": [],
   "source": [
    "data3 = pd.read_json('../../data/raw/file556-1136.json', orient='columns')"
   ]
  },
  {
   "cell_type": "code",
   "execution_count": 5,
   "metadata": {},
   "outputs": [],
   "source": [
    "data = pd.concat([data1, data2, data3])"
   ]
  },
  {
   "cell_type": "code",
   "execution_count": 6,
   "metadata": {},
   "outputs": [
    {
     "data": {
      "text/html": [
       "<div>\n",
       "<style scoped>\n",
       "    .dataframe tbody tr th:only-of-type {\n",
       "        vertical-align: middle;\n",
       "    }\n",
       "\n",
       "    .dataframe tbody tr th {\n",
       "        vertical-align: top;\n",
       "    }\n",
       "\n",
       "    .dataframe thead th {\n",
       "        text-align: right;\n",
       "    }\n",
       "</style>\n",
       "<table border=\"1\" class=\"dataframe\">\n",
       "  <thead>\n",
       "    <tr style=\"text-align: right;\">\n",
       "      <th></th>\n",
       "      <th>authenticated</th>\n",
       "      <th>duration</th>\n",
       "      <th>extra</th>\n",
       "      <th>index_</th>\n",
       "      <th>magnitude</th>\n",
       "      <th>origin</th>\n",
       "      <th>profile</th>\n",
       "      <th>profile_origin</th>\n",
       "      <th>profile_referrer</th>\n",
       "      <th>profile_utm_campaign</th>\n",
       "      <th>profile_utm_content</th>\n",
       "      <th>profile_utm_medium</th>\n",
       "      <th>profile_utm_source</th>\n",
       "      <th>profile_utm_term</th>\n",
       "      <th>project</th>\n",
       "      <th>repetitions</th>\n",
       "      <th>type</th>\n",
       "      <th>when</th>\n",
       "      <th>where</th>\n",
       "    </tr>\n",
       "  </thead>\n",
       "  <tbody>\n",
       "    <tr>\n",
       "      <th>0</th>\n",
       "      <td>True</td>\n",
       "      <td>0</td>\n",
       "      <td></td>\n",
       "      <td>1</td>\n",
       "      <td>1</td>\n",
       "      <td>Unspecified</td>\n",
       "      <td>c3174748ab29f73d8c6226d0c2171aeb</td>\n",
       "      <td></td>\n",
       "      <td></td>\n",
       "      <td></td>\n",
       "      <td></td>\n",
       "      <td></td>\n",
       "      <td></td>\n",
       "      <td></td>\n",
       "      <td>25.0</td>\n",
       "      <td>1</td>\n",
       "      <td>Participated</td>\n",
       "      <td>2016-07-22 14:07:43</td>\n",
       "      <td>NaN</td>\n",
       "    </tr>\n",
       "    <tr>\n",
       "      <th>1</th>\n",
       "      <td>True</td>\n",
       "      <td>0</td>\n",
       "      <td></td>\n",
       "      <td>2</td>\n",
       "      <td>1</td>\n",
       "      <td>Unspecified</td>\n",
       "      <td>c3174748ab29f73d8c6226d0c2171aeb</td>\n",
       "      <td></td>\n",
       "      <td></td>\n",
       "      <td></td>\n",
       "      <td></td>\n",
       "      <td></td>\n",
       "      <td></td>\n",
       "      <td></td>\n",
       "      <td>25.0</td>\n",
       "      <td>1</td>\n",
       "      <td>Participated</td>\n",
       "      <td>2016-08-26 17:43:54</td>\n",
       "      <td>NaN</td>\n",
       "    </tr>\n",
       "    <tr>\n",
       "      <th>2</th>\n",
       "      <td>True</td>\n",
       "      <td>0</td>\n",
       "      <td></td>\n",
       "      <td>3</td>\n",
       "      <td>1</td>\n",
       "      <td>Unspecified</td>\n",
       "      <td>59d1c4ccba844b6f4722d2967c531441</td>\n",
       "      <td></td>\n",
       "      <td></td>\n",
       "      <td></td>\n",
       "      <td></td>\n",
       "      <td></td>\n",
       "      <td></td>\n",
       "      <td></td>\n",
       "      <td>25.0</td>\n",
       "      <td>1</td>\n",
       "      <td>Participated</td>\n",
       "      <td>2016-08-26 17:46:32</td>\n",
       "      <td>NaN</td>\n",
       "    </tr>\n",
       "    <tr>\n",
       "      <th>3</th>\n",
       "      <td>True</td>\n",
       "      <td>0</td>\n",
       "      <td></td>\n",
       "      <td>4</td>\n",
       "      <td>1</td>\n",
       "      <td>Unspecified</td>\n",
       "      <td>59d1c4ccba844b6f4722d2967c531441</td>\n",
       "      <td></td>\n",
       "      <td></td>\n",
       "      <td></td>\n",
       "      <td></td>\n",
       "      <td></td>\n",
       "      <td></td>\n",
       "      <td></td>\n",
       "      <td>25.0</td>\n",
       "      <td>1</td>\n",
       "      <td>Participated</td>\n",
       "      <td>2016-08-26 17:48:18</td>\n",
       "      <td>NaN</td>\n",
       "    </tr>\n",
       "    <tr>\n",
       "      <th>4</th>\n",
       "      <td>True</td>\n",
       "      <td>0</td>\n",
       "      <td></td>\n",
       "      <td>5</td>\n",
       "      <td>1</td>\n",
       "      <td>Unspecified</td>\n",
       "      <td>59d1c4ccba844b6f4722d2967c531441</td>\n",
       "      <td></td>\n",
       "      <td></td>\n",
       "      <td></td>\n",
       "      <td></td>\n",
       "      <td></td>\n",
       "      <td></td>\n",
       "      <td></td>\n",
       "      <td>25.0</td>\n",
       "      <td>1</td>\n",
       "      <td>Participated</td>\n",
       "      <td>2016-08-28 23:57:25</td>\n",
       "      <td>NaN</td>\n",
       "    </tr>\n",
       "  </tbody>\n",
       "</table>\n",
       "</div>"
      ],
      "text/plain": [
       "   authenticated  duration extra  index_  magnitude       origin  \\\n",
       "0           True         0             1          1  Unspecified   \n",
       "1           True         0             2          1  Unspecified   \n",
       "2           True         0             3          1  Unspecified   \n",
       "3           True         0             4          1  Unspecified   \n",
       "4           True         0             5          1  Unspecified   \n",
       "\n",
       "                            profile profile_origin profile_referrer  \\\n",
       "0  c3174748ab29f73d8c6226d0c2171aeb                                   \n",
       "1  c3174748ab29f73d8c6226d0c2171aeb                                   \n",
       "2  59d1c4ccba844b6f4722d2967c531441                                   \n",
       "3  59d1c4ccba844b6f4722d2967c531441                                   \n",
       "4  59d1c4ccba844b6f4722d2967c531441                                   \n",
       "\n",
       "  profile_utm_campaign profile_utm_content profile_utm_medium  \\\n",
       "0                                                               \n",
       "1                                                               \n",
       "2                                                               \n",
       "3                                                               \n",
       "4                                                               \n",
       "\n",
       "  profile_utm_source profile_utm_term  project  repetitions          type  \\\n",
       "0                                         25.0            1  Participated   \n",
       "1                                         25.0            1  Participated   \n",
       "2                                         25.0            1  Participated   \n",
       "3                                         25.0            1  Participated   \n",
       "4                                         25.0            1  Participated   \n",
       "\n",
       "                  when where  \n",
       "0  2016-07-22 14:07:43   NaN  \n",
       "1  2016-08-26 17:43:54   NaN  \n",
       "2  2016-08-26 17:46:32   NaN  \n",
       "3  2016-08-26 17:48:18   NaN  \n",
       "4  2016-08-28 23:57:25   NaN  "
      ]
     },
     "execution_count": 6,
     "metadata": {},
     "output_type": "execute_result"
    }
   ],
   "source": [
    "data.head()"
   ]
  },
  {
   "cell_type": "code",
   "execution_count": 7,
   "metadata": {},
   "outputs": [
    {
     "data": {
      "text/plain": [
       "1474748"
      ]
     },
     "execution_count": 7,
     "metadata": {},
     "output_type": "execute_result"
    }
   ],
   "source": [
    "len(data)"
   ]
  },
  {
   "cell_type": "markdown",
   "metadata": {},
   "source": [
    "#### Find rows that match missing project ids"
   ]
  },
  {
   "cell_type": "code",
   "execution_count": 8,
   "metadata": {},
   "outputs": [
    {
     "data": {
      "text/plain": [
       "105"
      ]
     },
     "execution_count": 8,
     "metadata": {},
     "output_type": "execute_result"
    }
   ],
   "source": [
    "len(data[data['project'] == 1157.0])"
   ]
  },
  {
   "cell_type": "markdown",
   "metadata": {},
   "source": [
    "# I decided not to filter anything out and just save this dataframe to a pickle file"
   ]
  },
  {
   "cell_type": "code",
   "execution_count": 9,
   "metadata": {},
   "outputs": [],
   "source": [
    "data.to_pickle('participation_data') "
   ]
  },
  {
   "cell_type": "code",
   "execution_count": null,
   "metadata": {},
   "outputs": [],
   "source": []
  }
 ],
 "metadata": {
  "kernelspec": {
   "display_name": "Python 3",
   "language": "python",
   "name": "python3"
  },
  "language_info": {
   "codemirror_mode": {
    "name": "ipython",
    "version": 3
   },
   "file_extension": ".py",
   "mimetype": "text/x-python",
   "name": "python",
   "nbconvert_exporter": "python",
   "pygments_lexer": "ipython3",
   "version": "3.6.8"
  }
 },
 "nbformat": 4,
 "nbformat_minor": 2
}
