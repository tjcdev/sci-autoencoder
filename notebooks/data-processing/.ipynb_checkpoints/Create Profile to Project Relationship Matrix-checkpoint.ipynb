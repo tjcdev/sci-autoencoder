{
 "cells": [
  {
   "cell_type": "markdown",
   "metadata": {},
   "source": [
    "# Create matrix for relationships between users and projects"
   ]
  },
  {
   "cell_type": "code",
   "execution_count": 1,
   "metadata": {},
   "outputs": [],
   "source": [
    "import pandas as pd\n",
    "import numpy as np\n",
    "import matplotlib as plt\n",
    "import seaborn as sns\n",
    "import json\n",
    "from pandas.io.json import json_normalize\n",
    "from scipy import sparse"
   ]
  },
  {
   "cell_type": "markdown",
   "metadata": {},
   "source": [
    "### Group by project and profile"
   ]
  },
  {
   "cell_type": "code",
   "execution_count": 2,
   "metadata": {},
   "outputs": [],
   "source": [
    "# Load in our raw data files\n",
    "participations = pd.read_pickle('../../data/raw/participation_data')\n",
    "projects = pd.read_pickle(\"../../data/raw/project_data\")"
   ]
  },
  {
   "cell_type": "code",
   "execution_count": 3,
   "metadata": {},
   "outputs": [
    {
     "data": {
      "text/html": [
       "<div>\n",
       "<style scoped>\n",
       "    .dataframe tbody tr th:only-of-type {\n",
       "        vertical-align: middle;\n",
       "    }\n",
       "\n",
       "    .dataframe tbody tr th {\n",
       "        vertical-align: top;\n",
       "    }\n",
       "\n",
       "    .dataframe thead th {\n",
       "        text-align: right;\n",
       "    }\n",
       "</style>\n",
       "<table border=\"1\" class=\"dataframe\">\n",
       "  <thead>\n",
       "    <tr style=\"text-align: right;\">\n",
       "      <th></th>\n",
       "      <th>profile</th>\n",
       "      <th>project</th>\n",
       "      <th>interactions</th>\n",
       "    </tr>\n",
       "  </thead>\n",
       "  <tbody>\n",
       "    <tr>\n",
       "      <th>0</th>\n",
       "      <td>000073c3675ea9a1d0fe0ee3ca57e2bf</td>\n",
       "      <td>413.0</td>\n",
       "      <td>2</td>\n",
       "    </tr>\n",
       "    <tr>\n",
       "      <th>1</th>\n",
       "      <td>0002b85e757486c6d80ed6f73f465eaa</td>\n",
       "      <td>16864.0</td>\n",
       "      <td>1</td>\n",
       "    </tr>\n",
       "    <tr>\n",
       "      <th>2</th>\n",
       "      <td>0003a41bbdb3371df4c1829913f17537</td>\n",
       "      <td>19794.0</td>\n",
       "      <td>1</td>\n",
       "    </tr>\n",
       "    <tr>\n",
       "      <th>3</th>\n",
       "      <td>000436aaa487e461e6e16e02ab3e89eb</td>\n",
       "      <td>659.0</td>\n",
       "      <td>1</td>\n",
       "    </tr>\n",
       "    <tr>\n",
       "      <th>4</th>\n",
       "      <td>000476d8680db78d75b3b9edefc4a6d2</td>\n",
       "      <td>1510.0</td>\n",
       "      <td>1</td>\n",
       "    </tr>\n",
       "  </tbody>\n",
       "</table>\n",
       "</div>"
      ],
      "text/plain": [
       "                            profile  project  interactions\n",
       "0  000073c3675ea9a1d0fe0ee3ca57e2bf    413.0             2\n",
       "1  0002b85e757486c6d80ed6f73f465eaa  16864.0             1\n",
       "2  0003a41bbdb3371df4c1829913f17537  19794.0             1\n",
       "3  000436aaa487e461e6e16e02ab3e89eb    659.0             1\n",
       "4  000476d8680db78d75b3b9edefc4a6d2   1510.0             1"
      ]
     },
     "execution_count": 3,
     "metadata": {},
     "output_type": "execute_result"
    }
   ],
   "source": [
    "# Group participation data by profile and project_id\n",
    "profile_projects = participations.groupby(['profile','project'])[['profile','project']].size().to_frame('interactions').reset_index()\n",
    "profile_projects.head()"
   ]
  },
  {
   "cell_type": "code",
   "execution_count": 4,
   "metadata": {},
   "outputs": [],
   "source": [
    "# Save this dataframe to a pickle file\n",
    "profile_projects.to_pickle(\"../../data/processed/profiles_projects\")"
   ]
  },
  {
   "cell_type": "markdown",
   "metadata": {},
   "source": [
    "### Find profiles with more than one project interaction"
   ]
  },
  {
   "cell_type": "code",
   "execution_count": 5,
   "metadata": {},
   "outputs": [],
   "source": [
    "# Get the active profiles\n",
    "active_profiles = profile_projects[profile_projects['interactions'] > 1]\n",
    "\n",
    "# Create the adjacency matrix for this subset of users\n",
    "active_adj_mat = pd.crosstab(active_profiles.profile, active_profiles.project)"
   ]
  },
  {
   "cell_type": "code",
   "execution_count": 6,
   "metadata": {},
   "outputs": [
    {
     "name": "stdout",
     "output_type": "stream",
     "text": [
      "(21347, 1783)\n",
      "(21347, 1781)\n"
     ]
    }
   ],
   "source": [
    "project_ids = list(projects['project_id'])\n",
    "count = 0\n",
    "# Add any missing columns\n",
    "for project_id in project_ids:\n",
    "    if project_id not in active_adj_mat.columns:\n",
    "        active_adj_mat[project_id] = 0\n",
    "\n",
    "print(active_adj_mat.shape)\n",
    "        \n",
    "# Remove any columns that aren't in project_data\n",
    "cols = active_adj_mat.columns.tolist()\n",
    "for col in cols:\n",
    "    if col not in list(projects['project_id']):\n",
    "        active_adj_mat = active_adj_mat.drop(columns=[col])\n",
    "    \n",
    "print(active_adj_mat.shape)"
   ]
  },
  {
   "cell_type": "code",
   "execution_count": 7,
   "metadata": {},
   "outputs": [],
   "source": [
    "# Create the adjecency matrix for profile and projects\n",
    "adj_mat = pd.crosstab(profile_projects.profile, profile_projects.project)"
   ]
  },
  {
   "cell_type": "code",
   "execution_count": 8,
   "metadata": {},
   "outputs": [],
   "source": [
    "# Convert the adjacency matrix to be a sparse matrix and then save it\n",
    "sA = sparse.csr_matrix(adj_mat)\n",
    "\n",
    "# Save the matrix to file\n",
    "sparse.save_npz(\"../../data/processed/active_profile_projects_matrix\", sA)"
   ]
  },
  {
   "cell_type": "code",
   "execution_count": 9,
   "metadata": {},
   "outputs": [],
   "source": [
    "adj_mat.reset_index('profile').to_pickle('../../data/processed/active_profile_projects')"
   ]
  }
 ],
 "metadata": {
  "kernelspec": {
   "display_name": "Python 3",
   "language": "python",
   "name": "python3"
  },
  "language_info": {
   "codemirror_mode": {
    "name": "ipython",
    "version": 3
   },
   "file_extension": ".py",
   "mimetype": "text/x-python",
   "name": "python",
   "nbconvert_exporter": "python",
   "pygments_lexer": "ipython3",
   "version": "3.7.1"
  }
 },
 "nbformat": 4,
 "nbformat_minor": 2
}
