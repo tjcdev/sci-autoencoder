{
 "cells": [
  {
   "cell_type": "code",
   "execution_count": 1,
   "metadata": {},
   "outputs": [],
   "source": [
    "import pandas as pd\n",
    "import numpy as np\n",
    "import matplotlib as plt\n",
    "import seaborn as sns"
   ]
  },
  {
   "cell_type": "markdown",
   "metadata": {},
   "source": [
    "# One-hot encoding projects tag attributes"
   ]
  },
  {
   "cell_type": "markdown",
   "metadata": {},
   "source": [
    "### Load in the projects dataframe"
   ]
  },
  {
   "cell_type": "code",
   "execution_count": 2,
   "metadata": {},
   "outputs": [],
   "source": [
    "projects = pd.read_pickle(\"../../data/raw/project_data\")"
   ]
  },
  {
   "cell_type": "code",
   "execution_count": 3,
   "metadata": {},
   "outputs": [
    {
     "data": {
      "text/html": [
       "<div>\n",
       "<style scoped>\n",
       "    .dataframe tbody tr th:only-of-type {\n",
       "        vertical-align: middle;\n",
       "    }\n",
       "\n",
       "    .dataframe tbody tr th {\n",
       "        vertical-align: top;\n",
       "    }\n",
       "\n",
       "    .dataframe thead th {\n",
       "        text-align: right;\n",
       "    }\n",
       "</style>\n",
       "<table border=\"1\" class=\"dataframe\">\n",
       "  <thead>\n",
       "    <tr style=\"text-align: right;\">\n",
       "      <th></th>\n",
       "      <th>UN_regions</th>\n",
       "      <th>country</th>\n",
       "      <th>description</th>\n",
       "      <th>error</th>\n",
       "      <th>guid</th>\n",
       "      <th>origin</th>\n",
       "      <th>regions</th>\n",
       "      <th>tags</th>\n",
       "      <th>title</th>\n",
       "      <th>topics</th>\n",
       "      <th>url</th>\n",
       "      <th>project_id</th>\n",
       "    </tr>\n",
       "  </thead>\n",
       "  <tbody>\n",
       "    <tr>\n",
       "      <th>0</th>\n",
       "      <td>[]</td>\n",
       "      <td></td>\n",
       "      <td>Foldit is a revolutionary new computer game en...</td>\n",
       "      <td>NaN</td>\n",
       "      <td>5f80760d-8398-5091-b3c6-f34c39216e88</td>\n",
       "      <td>scistarter</td>\n",
       "      <td>[]</td>\n",
       "      <td>[dna, protein]</td>\n",
       "      <td>Foldit</td>\n",
       "      <td>[Computers &amp; Technology, Biology, Chemistry]</td>\n",
       "      <td>https://scistarter.com/project/4-Foldit-Foldit</td>\n",
       "      <td>4</td>\n",
       "    </tr>\n",
       "    <tr>\n",
       "      <th>1</th>\n",
       "      <td>[]</td>\n",
       "      <td></td>\n",
       "      <td>Firefly Watch combines an annual summer evenin...</td>\n",
       "      <td>NaN</td>\n",
       "      <td>c9664e0c-819a-5a42-b4bb-5f25d83a486d</td>\n",
       "      <td>scistarter</td>\n",
       "      <td>[{'geometry': {'type': 'MultiPolygon', 'coordi...</td>\n",
       "      <td>[boston, cambridge, fireflies, insects, lightn...</td>\n",
       "      <td>Firefly Watch</td>\n",
       "      <td>[Nature &amp; Outdoors, Animals, Ecology &amp; Environ...</td>\n",
       "      <td>https://scistarter.com/project/5-Firefly-Watch...</td>\n",
       "      <td>5</td>\n",
       "    </tr>\n",
       "    <tr>\n",
       "      <th>2</th>\n",
       "      <td>[]</td>\n",
       "      <td></td>\n",
       "      <td>Galaxy Zoo needs your help to classify galaxie...</td>\n",
       "      <td>NaN</td>\n",
       "      <td>11f65e99-b463-5e01-ac11-ae59c021dfe7</td>\n",
       "      <td>scistarter</td>\n",
       "      <td>[]</td>\n",
       "      <td>[astronomy &amp; space, space, space science, zoon...</td>\n",
       "      <td>Galaxy Zoo</td>\n",
       "      <td>[Astronomy &amp; Space, Computers &amp; Technology]</td>\n",
       "      <td>https://scistarter.com/project/6-Galaxy-Zoo-Ga...</td>\n",
       "      <td>6</td>\n",
       "    </tr>\n",
       "    <tr>\n",
       "      <th>3</th>\n",
       "      <td>[]</td>\n",
       "      <td>None</td>\n",
       "      <td>Pay attention to the plants and animals in you...</td>\n",
       "      <td>NaN</td>\n",
       "      <td>wilsoncenter:27-107</td>\n",
       "      <td>scistarter</td>\n",
       "      <td>[{'geometry': {'type': 'MultiPolygon', 'coordi...</td>\n",
       "      <td>[android, animal, animals, app, biology, clima...</td>\n",
       "      <td>Nature's Notebook</td>\n",
       "      <td>[Ocean, Water, Marine &amp; Terrestrial, Education...</td>\n",
       "      <td>https://scistarter.com/project/7-Natures-Noteb...</td>\n",
       "      <td>7</td>\n",
       "    </tr>\n",
       "    <tr>\n",
       "      <th>4</th>\n",
       "      <td>[]</td>\n",
       "      <td></td>\n",
       "      <td>A recent issue of Make magazine (http://makezi...</td>\n",
       "      <td>NaN</td>\n",
       "      <td>ae91e967-6eec-5aef-ab3a-7d86ceff737a</td>\n",
       "      <td>scistarter</td>\n",
       "      <td>[]</td>\n",
       "      <td>[]</td>\n",
       "      <td>Laser Harp: Build It Yourself</td>\n",
       "      <td>[Computers &amp; Technology, Sound, Physics]</td>\n",
       "      <td>https://scistarter.com/project/8-Laser-Harp-Bu...</td>\n",
       "      <td>8</td>\n",
       "    </tr>\n",
       "  </tbody>\n",
       "</table>\n",
       "</div>"
      ],
      "text/plain": [
       "  UN_regions country                                        description error  \\\n",
       "0         []          Foldit is a revolutionary new computer game en...   NaN   \n",
       "1         []          Firefly Watch combines an annual summer evenin...   NaN   \n",
       "2         []          Galaxy Zoo needs your help to classify galaxie...   NaN   \n",
       "3         []    None  Pay attention to the plants and animals in you...   NaN   \n",
       "4         []          A recent issue of Make magazine (http://makezi...   NaN   \n",
       "\n",
       "                                   guid      origin  \\\n",
       "0  5f80760d-8398-5091-b3c6-f34c39216e88  scistarter   \n",
       "1  c9664e0c-819a-5a42-b4bb-5f25d83a486d  scistarter   \n",
       "2  11f65e99-b463-5e01-ac11-ae59c021dfe7  scistarter   \n",
       "3                   wilsoncenter:27-107  scistarter   \n",
       "4  ae91e967-6eec-5aef-ab3a-7d86ceff737a  scistarter   \n",
       "\n",
       "                                             regions  \\\n",
       "0                                                 []   \n",
       "1  [{'geometry': {'type': 'MultiPolygon', 'coordi...   \n",
       "2                                                 []   \n",
       "3  [{'geometry': {'type': 'MultiPolygon', 'coordi...   \n",
       "4                                                 []   \n",
       "\n",
       "                                                tags  \\\n",
       "0                                     [dna, protein]   \n",
       "1  [boston, cambridge, fireflies, insects, lightn...   \n",
       "2  [astronomy & space, space, space science, zoon...   \n",
       "3  [android, animal, animals, app, biology, clima...   \n",
       "4                                                 []   \n",
       "\n",
       "                           title  \\\n",
       "0                         Foldit   \n",
       "1                  Firefly Watch   \n",
       "2                     Galaxy Zoo   \n",
       "3              Nature's Notebook   \n",
       "4  Laser Harp: Build It Yourself   \n",
       "\n",
       "                                              topics  \\\n",
       "0       [Computers & Technology, Biology, Chemistry]   \n",
       "1  [Nature & Outdoors, Animals, Ecology & Environ...   \n",
       "2        [Astronomy & Space, Computers & Technology]   \n",
       "3  [Ocean, Water, Marine & Terrestrial, Education...   \n",
       "4           [Computers & Technology, Sound, Physics]   \n",
       "\n",
       "                                                 url  project_id  \n",
       "0     https://scistarter.com/project/4-Foldit-Foldit           4  \n",
       "1  https://scistarter.com/project/5-Firefly-Watch...           5  \n",
       "2  https://scistarter.com/project/6-Galaxy-Zoo-Ga...           6  \n",
       "3  https://scistarter.com/project/7-Natures-Noteb...           7  \n",
       "4  https://scistarter.com/project/8-Laser-Harp-Bu...           8  "
      ]
     },
     "execution_count": 3,
     "metadata": {},
     "output_type": "execute_result"
    }
   ],
   "source": [
    "projects.head()"
   ]
  },
  {
   "cell_type": "markdown",
   "metadata": {},
   "source": [
    "### One-hot encode tags"
   ]
  },
  {
   "cell_type": "markdown",
   "metadata": {},
   "source": [
    "#### Get unique list of tags"
   ]
  },
  {
   "cell_type": "code",
   "execution_count": 4,
   "metadata": {},
   "outputs": [
    {
     "name": "stdout",
     "output_type": "stream",
     "text": [
      "9899\n",
      "3860\n"
     ]
    }
   ],
   "source": [
    "tags = list(projects['tags'])\n",
    "flatten = lambda l: [item for sublist in l for item in sublist]\n",
    "flattened_tags = flatten(tags)\n",
    "print(len(flattened_tags))\n",
    "unique_tags = list(set(flattened_tags))\n",
    "print(len(unique_tags))"
   ]
  },
  {
   "cell_type": "markdown",
   "metadata": {},
   "source": [
    "#### Prepare columns names for the dataframe"
   ]
  },
  {
   "cell_type": "code",
   "execution_count": 5,
   "metadata": {},
   "outputs": [],
   "source": [
    "# Clean the tags names\n",
    "def clean_names(tags):\n",
    "    return [tag.replace(' ', '_').replace('&', 'and') for tag in tags]   \n",
    "\n",
    "def add_tags_prefix(tags):  \n",
    "    return ['tags_' + str(tag) for tag in tags] "
   ]
  },
  {
   "cell_type": "code",
   "execution_count": 6,
   "metadata": {},
   "outputs": [],
   "source": [
    "tag_column_names = add_tags_prefix(clean_names(unique_tags))"
   ]
  },
  {
   "cell_type": "code",
   "execution_count": 7,
   "metadata": {},
   "outputs": [
    {
     "data": {
      "text/plain": [
       "['tags_',\n",
       " 'tags_satellites',\n",
       " 'tags_after',\n",
       " 'tags_hydrology_of_watersheds',\n",
       " 'tags_skiing',\n",
       " 'tags_bioengineers']"
      ]
     },
     "execution_count": 7,
     "metadata": {},
     "output_type": "execute_result"
    }
   ],
   "source": [
    "tag_column_names[:6]"
   ]
  },
  {
   "cell_type": "markdown",
   "metadata": {},
   "source": [
    "#### Find any rows where the tags value is not of type list"
   ]
  },
  {
   "cell_type": "code",
   "execution_count": 8,
   "metadata": {},
   "outputs": [
    {
     "data": {
      "text/plain": [
       "1781"
      ]
     },
     "execution_count": 8,
     "metadata": {},
     "output_type": "execute_result"
    }
   ],
   "source": [
    "lengths = []\n",
    "for i in range(len(projects)):\n",
    "    project = projects.iloc[i]\n",
    "    try:\n",
    "        lengths.append(len(project['tags']))\n",
    "    except:\n",
    "        print(i)\n",
    "len(lengths)"
   ]
  },
  {
   "cell_type": "markdown",
   "metadata": {},
   "source": [
    "#### Find any tags that are dodgy"
   ]
  },
  {
   "cell_type": "code",
   "execution_count": null,
   "metadata": {},
   "outputs": [],
   "source": []
  },
  {
   "cell_type": "markdown",
   "metadata": {},
   "source": [
    "#### Create new columns and populate them"
   ]
  },
  {
   "cell_type": "code",
   "execution_count": 9,
   "metadata": {},
   "outputs": [],
   "source": [
    "# Add a zero tags column to every row in the dataframe\n",
    "for tag_column_name in tag_column_names:\n",
    "    projects[tag_column_name] = 0"
   ]
  },
  {
   "cell_type": "code",
   "execution_count": 10,
   "metadata": {},
   "outputs": [],
   "source": [
    "# Clean up the lists of tags inside the tags column of the dataframe\n",
    "projects['tags'] = projects['tags'].apply(clean_names).apply(add_tags_prefix)"
   ]
  },
  {
   "cell_type": "code",
   "execution_count": 11,
   "metadata": {},
   "outputs": [
    {
     "name": "stdout",
     "output_type": "stream",
     "text": [
      "3860\n"
     ]
    }
   ],
   "source": [
    "print(len(tag_column_names))"
   ]
  },
  {
   "cell_type": "code",
   "execution_count": 12,
   "metadata": {},
   "outputs": [
    {
     "name": "stderr",
     "output_type": "stream",
     "text": [
      "/Users/thomascartwright/miniconda3/lib/python3.7/site-packages/ipykernel_launcher.py:1: SettingWithCopyWarning: \n",
      "A value is trying to be set on a copy of a slice from a DataFrame\n",
      "\n",
      "See the caveats in the documentation: http://pandas.pydata.org/pandas-docs/stable/indexing.html#indexing-view-versus-copy\n",
      "  \"\"\"Entry point for launching an IPython kernel.\n",
      "/Users/thomascartwright/miniconda3/lib/python3.7/site-packages/pandas/core/series.py:1085: SettingWithCopyWarning: \n",
      "A value is trying to be set on a copy of a slice from a DataFrame\n",
      "\n",
      "See the caveats in the documentation: http://pandas.pydata.org/pandas-docs/stable/indexing.html#indexing-view-versus-copy\n",
      "  self._set_labels(key, value)\n"
     ]
    }
   ],
   "source": [
    "projects.iloc[0][projects.iloc[0]['tags']] = 1 "
   ]
  },
  {
   "cell_type": "code",
   "execution_count": 13,
   "metadata": {},
   "outputs": [],
   "source": [
    "for tag_column_name in tag_column_names:  \n",
    "    projects[tag_column_name] = tag_column_name in projects['tags']"
   ]
  },
  {
   "cell_type": "code",
   "execution_count": 14,
   "metadata": {},
   "outputs": [],
   "source": [
    "projects.to_pickle('project_tags_data') "
   ]
  },
  {
   "cell_type": "code",
   "execution_count": null,
   "metadata": {},
   "outputs": [],
   "source": []
  }
 ],
 "metadata": {
  "kernelspec": {
   "display_name": "Python 3",
   "language": "python",
   "name": "python3"
  },
  "language_info": {
   "codemirror_mode": {
    "name": "ipython",
    "version": 3
   },
   "file_extension": ".py",
   "mimetype": "text/x-python",
   "name": "python",
   "nbconvert_exporter": "python",
   "pygments_lexer": "ipython3",
   "version": "3.7.1"
  }
 },
 "nbformat": 4,
 "nbformat_minor": 2
}
