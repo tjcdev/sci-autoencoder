{
 "cells": [
  {
   "cell_type": "code",
   "execution_count": 1,
   "metadata": {},
   "outputs": [],
   "source": [
    "import numpy as np\n",
    "import matplotlib as plt\n",
    "import seaborn as sns\n",
    "import pandas as pd\n",
    "import datetime"
   ]
  },
  {
   "cell_type": "markdown",
   "metadata": {},
   "source": [
    "# Group the participations data into sessions"
   ]
  },
  {
   "cell_type": "markdown",
   "metadata": {},
   "source": [
    "### Load the participations data"
   ]
  },
  {
   "cell_type": "code",
   "execution_count": 2,
   "metadata": {},
   "outputs": [],
   "source": [
    "participation = pd.read_pickle('../../data/raw/participation_data')"
   ]
  },
  {
   "cell_type": "code",
   "execution_count": 3,
   "metadata": {},
   "outputs": [
    {
     "data": {
      "text/html": [
       "<div>\n",
       "<style scoped>\n",
       "    .dataframe tbody tr th:only-of-type {\n",
       "        vertical-align: middle;\n",
       "    }\n",
       "\n",
       "    .dataframe tbody tr th {\n",
       "        vertical-align: top;\n",
       "    }\n",
       "\n",
       "    .dataframe thead th {\n",
       "        text-align: right;\n",
       "    }\n",
       "</style>\n",
       "<table border=\"1\" class=\"dataframe\">\n",
       "  <thead>\n",
       "    <tr style=\"text-align: right;\">\n",
       "      <th></th>\n",
       "      <th>authenticated</th>\n",
       "      <th>duration</th>\n",
       "      <th>extra</th>\n",
       "      <th>index_</th>\n",
       "      <th>magnitude</th>\n",
       "      <th>origin</th>\n",
       "      <th>profile</th>\n",
       "      <th>profile_origin</th>\n",
       "      <th>profile_referrer</th>\n",
       "      <th>profile_utm_campaign</th>\n",
       "      <th>profile_utm_content</th>\n",
       "      <th>profile_utm_medium</th>\n",
       "      <th>profile_utm_source</th>\n",
       "      <th>profile_utm_term</th>\n",
       "      <th>project</th>\n",
       "      <th>repetitions</th>\n",
       "      <th>type</th>\n",
       "      <th>when</th>\n",
       "      <th>where</th>\n",
       "    </tr>\n",
       "  </thead>\n",
       "  <tbody>\n",
       "    <tr>\n",
       "      <th>0</th>\n",
       "      <td>True</td>\n",
       "      <td>0</td>\n",
       "      <td></td>\n",
       "      <td>1</td>\n",
       "      <td>1</td>\n",
       "      <td>Unspecified</td>\n",
       "      <td>c3174748ab29f73d8c6226d0c2171aeb</td>\n",
       "      <td></td>\n",
       "      <td></td>\n",
       "      <td></td>\n",
       "      <td></td>\n",
       "      <td></td>\n",
       "      <td></td>\n",
       "      <td></td>\n",
       "      <td>25.0</td>\n",
       "      <td>1</td>\n",
       "      <td>Participated</td>\n",
       "      <td>2016-07-22 14:07:43</td>\n",
       "      <td>NaN</td>\n",
       "    </tr>\n",
       "    <tr>\n",
       "      <th>1</th>\n",
       "      <td>True</td>\n",
       "      <td>0</td>\n",
       "      <td></td>\n",
       "      <td>2</td>\n",
       "      <td>1</td>\n",
       "      <td>Unspecified</td>\n",
       "      <td>c3174748ab29f73d8c6226d0c2171aeb</td>\n",
       "      <td></td>\n",
       "      <td></td>\n",
       "      <td></td>\n",
       "      <td></td>\n",
       "      <td></td>\n",
       "      <td></td>\n",
       "      <td></td>\n",
       "      <td>25.0</td>\n",
       "      <td>1</td>\n",
       "      <td>Participated</td>\n",
       "      <td>2016-08-26 17:43:54</td>\n",
       "      <td>NaN</td>\n",
       "    </tr>\n",
       "    <tr>\n",
       "      <th>2</th>\n",
       "      <td>True</td>\n",
       "      <td>0</td>\n",
       "      <td></td>\n",
       "      <td>3</td>\n",
       "      <td>1</td>\n",
       "      <td>Unspecified</td>\n",
       "      <td>59d1c4ccba844b6f4722d2967c531441</td>\n",
       "      <td></td>\n",
       "      <td></td>\n",
       "      <td></td>\n",
       "      <td></td>\n",
       "      <td></td>\n",
       "      <td></td>\n",
       "      <td></td>\n",
       "      <td>25.0</td>\n",
       "      <td>1</td>\n",
       "      <td>Participated</td>\n",
       "      <td>2016-08-26 17:46:32</td>\n",
       "      <td>NaN</td>\n",
       "    </tr>\n",
       "    <tr>\n",
       "      <th>3</th>\n",
       "      <td>True</td>\n",
       "      <td>0</td>\n",
       "      <td></td>\n",
       "      <td>4</td>\n",
       "      <td>1</td>\n",
       "      <td>Unspecified</td>\n",
       "      <td>59d1c4ccba844b6f4722d2967c531441</td>\n",
       "      <td></td>\n",
       "      <td></td>\n",
       "      <td></td>\n",
       "      <td></td>\n",
       "      <td></td>\n",
       "      <td></td>\n",
       "      <td></td>\n",
       "      <td>25.0</td>\n",
       "      <td>1</td>\n",
       "      <td>Participated</td>\n",
       "      <td>2016-08-26 17:48:18</td>\n",
       "      <td>NaN</td>\n",
       "    </tr>\n",
       "    <tr>\n",
       "      <th>4</th>\n",
       "      <td>True</td>\n",
       "      <td>0</td>\n",
       "      <td></td>\n",
       "      <td>5</td>\n",
       "      <td>1</td>\n",
       "      <td>Unspecified</td>\n",
       "      <td>59d1c4ccba844b6f4722d2967c531441</td>\n",
       "      <td></td>\n",
       "      <td></td>\n",
       "      <td></td>\n",
       "      <td></td>\n",
       "      <td></td>\n",
       "      <td></td>\n",
       "      <td></td>\n",
       "      <td>25.0</td>\n",
       "      <td>1</td>\n",
       "      <td>Participated</td>\n",
       "      <td>2016-08-28 23:57:25</td>\n",
       "      <td>NaN</td>\n",
       "    </tr>\n",
       "  </tbody>\n",
       "</table>\n",
       "</div>"
      ],
      "text/plain": [
       "   authenticated  duration extra  index_  magnitude       origin  \\\n",
       "0           True         0             1          1  Unspecified   \n",
       "1           True         0             2          1  Unspecified   \n",
       "2           True         0             3          1  Unspecified   \n",
       "3           True         0             4          1  Unspecified   \n",
       "4           True         0             5          1  Unspecified   \n",
       "\n",
       "                            profile profile_origin profile_referrer  \\\n",
       "0  c3174748ab29f73d8c6226d0c2171aeb                                   \n",
       "1  c3174748ab29f73d8c6226d0c2171aeb                                   \n",
       "2  59d1c4ccba844b6f4722d2967c531441                                   \n",
       "3  59d1c4ccba844b6f4722d2967c531441                                   \n",
       "4  59d1c4ccba844b6f4722d2967c531441                                   \n",
       "\n",
       "  profile_utm_campaign profile_utm_content profile_utm_medium  \\\n",
       "0                                                               \n",
       "1                                                               \n",
       "2                                                               \n",
       "3                                                               \n",
       "4                                                               \n",
       "\n",
       "  profile_utm_source profile_utm_term  project  repetitions          type  \\\n",
       "0                                         25.0            1  Participated   \n",
       "1                                         25.0            1  Participated   \n",
       "2                                         25.0            1  Participated   \n",
       "3                                         25.0            1  Participated   \n",
       "4                                         25.0            1  Participated   \n",
       "\n",
       "                  when where  \n",
       "0  2016-07-22 14:07:43   NaN  \n",
       "1  2016-08-26 17:43:54   NaN  \n",
       "2  2016-08-26 17:46:32   NaN  \n",
       "3  2016-08-26 17:48:18   NaN  \n",
       "4  2016-08-28 23:57:25   NaN  "
      ]
     },
     "execution_count": 3,
     "metadata": {},
     "output_type": "execute_result"
    }
   ],
   "source": [
    "participation.head()"
   ]
  },
  {
   "cell_type": "code",
   "execution_count": 4,
   "metadata": {},
   "outputs": [
    {
     "data": {
      "text/plain": [
       "True"
      ]
     },
     "execution_count": 4,
     "metadata": {},
     "output_type": "execute_result"
    }
   ],
   "source": [
    "len(participation) == len(participation['index_'].unique())"
   ]
  },
  {
   "cell_type": "markdown",
   "metadata": {},
   "source": [
    "### Group participation HITs into sessions"
   ]
  },
  {
   "cell_type": "code",
   "execution_count": 5,
   "metadata": {},
   "outputs": [],
   "source": [
    "# Convert the timestamp to datetime\n",
    "participation['when'] = pd.to_datetime(participation['when'])"
   ]
  },
  {
   "cell_type": "code",
   "execution_count": 6,
   "metadata": {},
   "outputs": [],
   "source": [
    "# Sort the dataset by profile_id and then when\n",
    "participation = participation.sort_values(['profile', 'when'])"
   ]
  },
  {
   "cell_type": "code",
   "execution_count": 7,
   "metadata": {},
   "outputs": [],
   "source": [
    "# Return the indices where two adjacent HITs have timestamps that are more than 30 minutes apart\n",
    "gt_30min = participation.when.diff() > pd.Timedelta(minutes=30)"
   ]
  },
  {
   "cell_type": "code",
   "execution_count": 8,
   "metadata": {},
   "outputs": [],
   "source": [
    "# Return the indices where two adjacent HITs have different user_ids\n",
    "diff_profile = participation.profile != participation.profile.shift()"
   ]
  },
  {
   "cell_type": "code",
   "execution_count": 9,
   "metadata": {},
   "outputs": [],
   "source": [
    "# Any indice that appears in the above arrays signifies the end of a session\n",
    "session_id = (diff_profile | gt_30min).cumsum()"
   ]
  },
  {
   "cell_type": "code",
   "execution_count": 10,
   "metadata": {},
   "outputs": [],
   "source": [
    "# Mark each HIT with a session_id\n",
    "participation['session_id'] = session_id"
   ]
  },
  {
   "cell_type": "markdown",
   "metadata": {},
   "source": [
    "### Count the number of sessions"
   ]
  },
  {
   "cell_type": "code",
   "execution_count": 11,
   "metadata": {},
   "outputs": [],
   "source": [
    "sessions = participation['session_id'].unique()"
   ]
  },
  {
   "cell_type": "code",
   "execution_count": 12,
   "metadata": {},
   "outputs": [
    {
     "data": {
      "text/plain": [
       "153502"
      ]
     },
     "execution_count": 12,
     "metadata": {},
     "output_type": "execute_result"
    }
   ],
   "source": [
    "len(sessions)"
   ]
  },
  {
   "cell_type": "markdown",
   "metadata": {},
   "source": [
    "### Explore some of the sessions data"
   ]
  },
  {
   "cell_type": "code",
   "execution_count": 13,
   "metadata": {},
   "outputs": [],
   "source": [
    "session_counts = participation[['session_id', 'profile']].groupby(['session_id', 'profile']).size().reset_index(name='count')"
   ]
  },
  {
   "cell_type": "code",
   "execution_count": 14,
   "metadata": {},
   "outputs": [
    {
     "data": {
      "text/html": [
       "<div>\n",
       "<style scoped>\n",
       "    .dataframe tbody tr th:only-of-type {\n",
       "        vertical-align: middle;\n",
       "    }\n",
       "\n",
       "    .dataframe tbody tr th {\n",
       "        vertical-align: top;\n",
       "    }\n",
       "\n",
       "    .dataframe thead th {\n",
       "        text-align: right;\n",
       "    }\n",
       "</style>\n",
       "<table border=\"1\" class=\"dataframe\">\n",
       "  <thead>\n",
       "    <tr style=\"text-align: right;\">\n",
       "      <th></th>\n",
       "      <th>session_id</th>\n",
       "      <th>profile</th>\n",
       "      <th>count</th>\n",
       "    </tr>\n",
       "  </thead>\n",
       "  <tbody>\n",
       "    <tr>\n",
       "      <th>0</th>\n",
       "      <td>1</td>\n",
       "      <td>000073c3675ea9a1d0fe0ee3ca57e2bf</td>\n",
       "      <td>1</td>\n",
       "    </tr>\n",
       "    <tr>\n",
       "      <th>1</th>\n",
       "      <td>2</td>\n",
       "      <td>000073c3675ea9a1d0fe0ee3ca57e2bf</td>\n",
       "      <td>1</td>\n",
       "    </tr>\n",
       "    <tr>\n",
       "      <th>2</th>\n",
       "      <td>3</td>\n",
       "      <td>0002b85e757486c6d80ed6f73f465eaa</td>\n",
       "      <td>1</td>\n",
       "    </tr>\n",
       "    <tr>\n",
       "      <th>3</th>\n",
       "      <td>4</td>\n",
       "      <td>0003a41bbdb3371df4c1829913f17537</td>\n",
       "      <td>1</td>\n",
       "    </tr>\n",
       "    <tr>\n",
       "      <th>4</th>\n",
       "      <td>5</td>\n",
       "      <td>000436aaa487e461e6e16e02ab3e89eb</td>\n",
       "      <td>1</td>\n",
       "    </tr>\n",
       "  </tbody>\n",
       "</table>\n",
       "</div>"
      ],
      "text/plain": [
       "   session_id                           profile  count\n",
       "0           1  000073c3675ea9a1d0fe0ee3ca57e2bf      1\n",
       "1           2  000073c3675ea9a1d0fe0ee3ca57e2bf      1\n",
       "2           3  0002b85e757486c6d80ed6f73f465eaa      1\n",
       "3           4  0003a41bbdb3371df4c1829913f17537      1\n",
       "4           5  000436aaa487e461e6e16e02ab3e89eb      1"
      ]
     },
     "execution_count": 14,
     "metadata": {},
     "output_type": "execute_result"
    }
   ],
   "source": [
    "session_counts.head()"
   ]
  },
  {
   "cell_type": "code",
   "execution_count": 15,
   "metadata": {},
   "outputs": [
    {
     "data": {
      "text/html": [
       "<div>\n",
       "<style scoped>\n",
       "    .dataframe tbody tr th:only-of-type {\n",
       "        vertical-align: middle;\n",
       "    }\n",
       "\n",
       "    .dataframe tbody tr th {\n",
       "        vertical-align: top;\n",
       "    }\n",
       "\n",
       "    .dataframe thead th {\n",
       "        text-align: right;\n",
       "    }\n",
       "</style>\n",
       "<table border=\"1\" class=\"dataframe\">\n",
       "  <thead>\n",
       "    <tr style=\"text-align: right;\">\n",
       "      <th></th>\n",
       "      <th>session_id</th>\n",
       "      <th>profile</th>\n",
       "      <th>count</th>\n",
       "    </tr>\n",
       "  </thead>\n",
       "  <tbody>\n",
       "    <tr>\n",
       "      <th>122523</th>\n",
       "      <td>122524</td>\n",
       "      <td>cdf3442c67095952427f82c2975fc88d</td>\n",
       "      <td>5840</td>\n",
       "    </tr>\n",
       "    <tr>\n",
       "      <th>46993</th>\n",
       "      <td>46994</td>\n",
       "      <td>4b4c399a82839ccb56b9a960770c5d3f</td>\n",
       "      <td>2471</td>\n",
       "    </tr>\n",
       "    <tr>\n",
       "      <th>55439</th>\n",
       "      <td>55440</td>\n",
       "      <td>5aab8db0481044218e02eb042e95dd8d</td>\n",
       "      <td>1754</td>\n",
       "    </tr>\n",
       "    <tr>\n",
       "      <th>47034</th>\n",
       "      <td>47035</td>\n",
       "      <td>4b4c399a82839ccb56b9a960770c5d3f</td>\n",
       "      <td>1648</td>\n",
       "    </tr>\n",
       "    <tr>\n",
       "      <th>86360</th>\n",
       "      <td>86361</td>\n",
       "      <td>8f52d4c68da61cc0dab830ed40fd970e</td>\n",
       "      <td>1572</td>\n",
       "    </tr>\n",
       "  </tbody>\n",
       "</table>\n",
       "</div>"
      ],
      "text/plain": [
       "        session_id                           profile  count\n",
       "122523      122524  cdf3442c67095952427f82c2975fc88d   5840\n",
       "46993        46994  4b4c399a82839ccb56b9a960770c5d3f   2471\n",
       "55439        55440  5aab8db0481044218e02eb042e95dd8d   1754\n",
       "47034        47035  4b4c399a82839ccb56b9a960770c5d3f   1648\n",
       "86360        86361  8f52d4c68da61cc0dab830ed40fd970e   1572"
      ]
     },
     "execution_count": 15,
     "metadata": {},
     "output_type": "execute_result"
    }
   ],
   "source": [
    "session_counts.sort_values('count', ascending=False).head()"
   ]
  },
  {
   "cell_type": "code",
   "execution_count": 16,
   "metadata": {},
   "outputs": [
    {
     "data": {
      "text/html": [
       "<div>\n",
       "<style scoped>\n",
       "    .dataframe tbody tr th:only-of-type {\n",
       "        vertical-align: middle;\n",
       "    }\n",
       "\n",
       "    .dataframe tbody tr th {\n",
       "        vertical-align: top;\n",
       "    }\n",
       "\n",
       "    .dataframe thead th {\n",
       "        text-align: right;\n",
       "    }\n",
       "</style>\n",
       "<table border=\"1\" class=\"dataframe\">\n",
       "  <thead>\n",
       "    <tr style=\"text-align: right;\">\n",
       "      <th></th>\n",
       "      <th>session_id</th>\n",
       "      <th>count</th>\n",
       "    </tr>\n",
       "  </thead>\n",
       "  <tbody>\n",
       "    <tr>\n",
       "      <th>count</th>\n",
       "      <td>153502.000000</td>\n",
       "      <td>153502.000000</td>\n",
       "    </tr>\n",
       "    <tr>\n",
       "      <th>mean</th>\n",
       "      <td>76751.500000</td>\n",
       "      <td>9.607354</td>\n",
       "    </tr>\n",
       "    <tr>\n",
       "      <th>std</th>\n",
       "      <td>44312.354848</td>\n",
       "      <td>48.010980</td>\n",
       "    </tr>\n",
       "    <tr>\n",
       "      <th>min</th>\n",
       "      <td>1.000000</td>\n",
       "      <td>1.000000</td>\n",
       "    </tr>\n",
       "    <tr>\n",
       "      <th>25%</th>\n",
       "      <td>38376.250000</td>\n",
       "      <td>1.000000</td>\n",
       "    </tr>\n",
       "    <tr>\n",
       "      <th>50%</th>\n",
       "      <td>76751.500000</td>\n",
       "      <td>1.000000</td>\n",
       "    </tr>\n",
       "    <tr>\n",
       "      <th>75%</th>\n",
       "      <td>115126.750000</td>\n",
       "      <td>2.000000</td>\n",
       "    </tr>\n",
       "    <tr>\n",
       "      <th>max</th>\n",
       "      <td>153502.000000</td>\n",
       "      <td>5840.000000</td>\n",
       "    </tr>\n",
       "  </tbody>\n",
       "</table>\n",
       "</div>"
      ],
      "text/plain": [
       "          session_id          count\n",
       "count  153502.000000  153502.000000\n",
       "mean    76751.500000       9.607354\n",
       "std     44312.354848      48.010980\n",
       "min         1.000000       1.000000\n",
       "25%     38376.250000       1.000000\n",
       "50%     76751.500000       1.000000\n",
       "75%    115126.750000       2.000000\n",
       "max    153502.000000    5840.000000"
      ]
     },
     "execution_count": 16,
     "metadata": {},
     "output_type": "execute_result"
    }
   ],
   "source": [
    "session_counts.describe()"
   ]
  },
  {
   "cell_type": "code",
   "execution_count": 17,
   "metadata": {},
   "outputs": [
    {
     "data": {
      "text/plain": [
       "20251"
      ]
     },
     "execution_count": 17,
     "metadata": {},
     "output_type": "execute_result"
    }
   ],
   "source": [
    "# Find the number of sessions that have over 6 participations in them\n",
    "len(session_counts[session_counts['count'] > 6])"
   ]
  },
  {
   "cell_type": "markdown",
   "metadata": {},
   "source": [
    "### Add new columns to each HIT"
   ]
  },
  {
   "cell_type": "code",
   "execution_count": 18,
   "metadata": {},
   "outputs": [],
   "source": [
    "# Add a column for session duration so far to the HITs\n",
    "session_duration = participation['when'] - participation.groupby('session_id')['when'].transform('first')\n",
    "participation['session_duration'] = session_duration.dt.seconds // 60"
   ]
  },
  {
   "cell_type": "code",
   "execution_count": 19,
   "metadata": {},
   "outputs": [],
   "source": [
    "# Add a column for the total number of HITs in the \n",
    "total_hits = participation.groupby([\"session_id\"]).cumcount()\n",
    "participation['total_hits'] = total_hits"
   ]
  },
  {
   "cell_type": "code",
   "execution_count": 20,
   "metadata": {},
   "outputs": [],
   "source": [
    "# Mark the last event of the session\n",
    "last_HIT = participation.groupby('session_id')['index_'].transform('last')\n",
    "participation['end_of_session'] = last_HIT\n",
    "participation['end_of_session'] = participation['index_'] != participation['end_of_session']"
   ]
  },
  {
   "cell_type": "code",
   "execution_count": 21,
   "metadata": {},
   "outputs": [
    {
     "data": {
      "text/plain": [
       "153502"
      ]
     },
     "execution_count": 21,
     "metadata": {},
     "output_type": "execute_result"
    }
   ],
   "source": [
    "len(participation[participation['end_of_session'] == False])"
   ]
  },
  {
   "cell_type": "code",
   "execution_count": null,
   "metadata": {},
   "outputs": [],
   "source": []
  }
 ],
 "metadata": {
  "kernelspec": {
   "display_name": "Python 3",
   "language": "python",
   "name": "python3"
  },
  "language_info": {
   "codemirror_mode": {
    "name": "ipython",
    "version": 3
   },
   "file_extension": ".py",
   "mimetype": "text/x-python",
   "name": "python",
   "nbconvert_exporter": "python",
   "pygments_lexer": "ipython3",
   "version": "3.7.1"
  }
 },
 "nbformat": 4,
 "nbformat_minor": 2
}
