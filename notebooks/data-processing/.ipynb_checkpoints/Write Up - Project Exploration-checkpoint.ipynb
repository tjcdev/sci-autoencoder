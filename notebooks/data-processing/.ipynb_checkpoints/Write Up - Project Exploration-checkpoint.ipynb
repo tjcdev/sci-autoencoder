{
 "cells": [
  {
   "cell_type": "code",
   "execution_count": 1,
   "metadata": {},
   "outputs": [],
   "source": [
    "import pandas as pd"
   ]
  },
  {
   "cell_type": "code",
   "execution_count": 3,
   "metadata": {},
   "outputs": [],
   "source": [
    "projects = pd.read_pickle('../../data/processed/project_data')"
   ]
  },
  {
   "cell_type": "code",
   "execution_count": 15,
   "metadata": {},
   "outputs": [
    {
     "name": "stdout",
     "output_type": "stream",
     "text": [
      "Pay attention to the plants and animals in your yard, and you can contribute to scientific discovery! Observing life cycles of plants and animals with Nature's Notebook is easy and fun, and you will discover so much more about the plants and animals you see everyday. \r\n",
      "\r\n",
      "Sign up to observe one or more species in your yard or another place that you frequent. Use the Nature's Notebook smartphone app to send your observations directly to the National Phenology Database, or fill out paper datasheets and submit them online.\n",
      "-----\n",
      "Nature's Notebook\n"
     ]
    }
   ],
   "source": [
    "project = projects.iloc[3]\n",
    "print(project['description'])\n",
    "print('-----')\n",
    "print(project['title'])"
   ]
  },
  {
   "cell_type": "code",
   "execution_count": null,
   "metadata": {},
   "outputs": [],
   "source": []
  }
 ],
 "metadata": {
  "kernelspec": {
   "display_name": "Python 3",
   "language": "python",
   "name": "python3"
  },
  "language_info": {
   "codemirror_mode": {
    "name": "ipython",
    "version": 3
   },
   "file_extension": ".py",
   "mimetype": "text/x-python",
   "name": "python",
   "nbconvert_exporter": "python",
   "pygments_lexer": "ipython3",
   "version": "3.6.8"
  }
 },
 "nbformat": 4,
 "nbformat_minor": 2
}
