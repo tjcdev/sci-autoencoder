{
 "cells": [
  {
   "cell_type": "code",
   "execution_count": 1,
   "metadata": {},
   "outputs": [],
   "source": [
    "import numpy as np"
   ]
  },
  {
   "cell_type": "code",
   "execution_count": 2,
   "metadata": {},
   "outputs": [],
   "source": [
    "project_ids = np.load('../../data/processed/project_ids.npy')"
   ]
  },
  {
   "cell_type": "code",
   "execution_count": 3,
   "metadata": {},
   "outputs": [
    {
     "data": {
      "text/plain": [
       "1783"
      ]
     },
     "execution_count": 3,
     "metadata": {},
     "output_type": "execute_result"
    }
   ],
   "source": [
    "len(project_ids)"
   ]
  },
  {
   "cell_type": "markdown",
   "metadata": {},
   "source": [
    "#### Find project_ids that were missed as part of the polling"
   ]
  },
  {
   "cell_type": "code",
   "execution_count": 4,
   "metadata": {},
   "outputs": [
    {
     "name": "stdout",
     "output_type": "stream",
     "text": [
      "(array([139]),)\n",
      "(array([166]),)\n"
     ]
    }
   ],
   "source": [
    "'''\n",
    "- In the first poll: id 280-312 (inclusive) failed to poll\n",
    "- In the second poll: nothing failed to poll\n",
    "- In the third poll: id=18862 failed to poll, 18999 failed to poll, 19535 failed to poll, 19847 failed to poll, \n",
    "'''\n",
    "print(np.where(project_ids == 280))\n",
    "print(np.where(project_ids == 312))\n",
    "missed_in_first_poll = project_ids[139:167]"
   ]
  },
  {
   "cell_type": "code",
   "execution_count": 5,
   "metadata": {},
   "outputs": [
    {
     "data": {
      "text/plain": [
       "array([280, 285, 286, 287, 288, 289, 290, 291, 292, 293, 294, 295, 296,\n",
       "       297, 298, 299, 300, 301, 302, 303, 304, 305, 307, 308, 309, 310,\n",
       "       311, 312])"
      ]
     },
     "execution_count": 5,
     "metadata": {},
     "output_type": "execute_result"
    }
   ],
   "source": [
    "missed_in_first_poll"
   ]
  },
  {
   "cell_type": "code",
   "execution_count": 6,
   "metadata": {},
   "outputs": [
    {
     "name": "stdout",
     "output_type": "stream",
     "text": [
      "(array([1450]),)\n",
      "(array([1473]),)\n",
      "(array([1555]),)\n",
      "(array([1637]),)\n"
     ]
    }
   ],
   "source": [
    "print(np.where(project_ids == 18862))\n",
    "print(np.where(project_ids == 18999))\n",
    "print(np.where(project_ids == 19535))\n",
    "print(np.where(project_ids == 19847))"
   ]
  },
  {
   "cell_type": "code",
   "execution_count": 7,
   "metadata": {},
   "outputs": [],
   "source": [
    "missed_in_third_poll = project_ids[[1450, 1473, 1555, 1637]]"
   ]
  },
  {
   "cell_type": "code",
   "execution_count": 8,
   "metadata": {},
   "outputs": [
    {
     "data": {
      "text/plain": [
       "array([18862, 18999, 19535, 19847])"
      ]
     },
     "execution_count": 8,
     "metadata": {},
     "output_type": "execute_result"
    }
   ],
   "source": [
    "missed_in_third_poll"
   ]
  },
  {
   "cell_type": "code",
   "execution_count": 9,
   "metadata": {},
   "outputs": [],
   "source": [
    "missed_project_ids = np.append(missed_in_first_poll, missed_in_third_poll)"
   ]
  },
  {
   "cell_type": "code",
   "execution_count": 10,
   "metadata": {},
   "outputs": [
    {
     "data": {
      "text/plain": [
       "array([  280,   285,   286,   287,   288,   289,   290,   291,   292,\n",
       "         293,   294,   295,   296,   297,   298,   299,   300,   301,\n",
       "         302,   303,   304,   305,   307,   308,   309,   310,   311,\n",
       "         312, 18862, 18999, 19535, 19847])"
      ]
     },
     "execution_count": 10,
     "metadata": {},
     "output_type": "execute_result"
    }
   ],
   "source": [
    "missed_project_ids"
   ]
  },
  {
   "cell_type": "code",
   "execution_count": 11,
   "metadata": {},
   "outputs": [],
   "source": [
    "np.save('../../data/processed/missed_project_ids', missed_project_ids)"
   ]
  },
  {
   "cell_type": "code",
   "execution_count": 12,
   "metadata": {},
   "outputs": [
    {
     "data": {
      "text/plain": [
       "32"
      ]
     },
     "execution_count": 12,
     "metadata": {},
     "output_type": "execute_result"
    }
   ],
   "source": [
    "len(missed_project_ids)"
   ]
  },
  {
   "cell_type": "code",
   "execution_count": null,
   "metadata": {},
   "outputs": [],
   "source": []
  }
 ],
 "metadata": {
  "kernelspec": {
   "display_name": "Python 3",
   "language": "python",
   "name": "python3"
  },
  "language_info": {
   "codemirror_mode": {
    "name": "ipython",
    "version": 3
   },
   "file_extension": ".py",
   "mimetype": "text/x-python",
   "name": "python",
   "nbconvert_exporter": "python",
   "pygments_lexer": "ipython3",
   "version": "3.7.1"
  }
 },
 "nbformat": 4,
 "nbformat_minor": 2
}
