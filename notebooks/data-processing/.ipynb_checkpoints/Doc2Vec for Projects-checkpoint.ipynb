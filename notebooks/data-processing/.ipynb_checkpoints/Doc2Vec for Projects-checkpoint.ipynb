{
 "cells": [
  {
   "cell_type": "code",
   "execution_count": 30,
   "metadata": {},
   "outputs": [],
   "source": [
    "from gensim.models import doc2vec\n",
    "from collections import namedtuple\n",
    "import pandas as pd\n",
    "from tqdm import tqdm\n",
    "from scipy import spatial"
   ]
  },
  {
   "cell_type": "code",
   "execution_count": 16,
   "metadata": {},
   "outputs": [],
   "source": [
    "projects = pd.read_pickle(\"../../data/raw/project_data\")"
   ]
  },
  {
   "cell_type": "code",
   "execution_count": 17,
   "metadata": {},
   "outputs": [],
   "source": [
    "# Transform data (you can add more data preprocessing steps) \n",
    "docs = []\n",
    "analyzedDocument = namedtuple('AnalyzedDocument', 'words tags')\n",
    "for idx, project in projects.iterrows():\n",
    "    words = project['description'].lower().split()\n",
    "    tags = [project['project_id']]\n",
    "    docs.append(analyzedDocument(words, tags))"
   ]
  },
  {
   "cell_type": "code",
   "execution_count": 18,
   "metadata": {},
   "outputs": [
    {
     "name": "stderr",
     "output_type": "stream",
     "text": [
      "/Users/thomascartwright/miniconda3/envs/cdea/lib/python3.6/site-packages/gensim/models/doc2vec.py:366: UserWarning: The parameter `size` is deprecated, will be removed in 4.0.0, use `vector_size` instead.\n",
      "  warnings.warn(\"The parameter `size` is deprecated, will be removed in 4.0.0, use `vector_size` instead.\")\n"
     ]
    }
   ],
   "source": [
    "model = doc2vec.Doc2Vec(docs, size = 100, window = 300, min_count = 1, workers = 4)"
   ]
  },
  {
   "cell_type": "code",
   "execution_count": 21,
   "metadata": {},
   "outputs": [
    {
     "data": {
      "text/plain": [
       "array([-3.3700238e-03,  5.1867525e-04, -8.6672662e-04, -4.7797239e-03,\n",
       "        3.7958317e-03,  5.0199893e-04, -4.9114991e-03,  4.7688615e-03,\n",
       "       -1.9807431e-03, -2.6078935e-04,  4.0035546e-03,  2.1662889e-03,\n",
       "        1.1984853e-03, -2.5511791e-03, -4.6389089e-03, -3.4755804e-03,\n",
       "        2.6160323e-03, -5.1426952e-04,  2.6656091e-03,  4.9124872e-03,\n",
       "        8.2650520e-05, -6.5113470e-04, -6.6536572e-04,  6.4621441e-04,\n",
       "       -2.6144453e-03,  2.3663228e-03,  1.8376833e-03, -6.8330922e-04,\n",
       "        7.3662042e-05,  2.4637138e-03,  1.5310387e-03, -1.7765001e-03,\n",
       "        4.4988231e-03, -1.9953526e-03, -4.9346667e-03, -1.8031589e-03,\n",
       "       -4.6976511e-03,  2.2518365e-03, -4.1721184e-03, -4.4157649e-03,\n",
       "        3.3388750e-03, -3.0770686e-03,  4.7573387e-03,  1.6977137e-03,\n",
       "       -4.2434018e-03, -4.2122067e-03, -4.0596211e-04, -1.9791289e-03,\n",
       "       -1.0867383e-03,  1.6472709e-03, -1.4859311e-03,  5.0163659e-04,\n",
       "        7.8007943e-06, -1.0441175e-03, -2.6013744e-03, -2.1571780e-03,\n",
       "       -1.5726642e-03,  8.2944857e-04, -3.4966939e-03,  1.8786051e-03,\n",
       "       -3.2625603e-03,  3.4627009e-03,  2.3785969e-03,  4.3984409e-03,\n",
       "       -3.8749548e-03,  1.9489189e-03, -4.9704169e-03, -1.0270942e-03,\n",
       "       -3.9460585e-03, -2.0063880e-03, -4.9711061e-03, -2.4776494e-03,\n",
       "        2.2127682e-03, -1.5689431e-03, -3.0908205e-03, -8.4726349e-04,\n",
       "        2.5553338e-03, -1.5848165e-03, -3.8493720e-03,  2.3837923e-03,\n",
       "        4.9412256e-04,  1.5642284e-03,  1.4915974e-03,  5.9383718e-04,\n",
       "       -2.6607753e-03, -3.6584130e-03, -1.4135218e-04,  1.0786023e-03,\n",
       "       -4.4697704e-04, -2.6664259e-03,  2.2951041e-03,  3.9345562e-03,\n",
       "        2.9659143e-03,  1.4778828e-03,  1.4157055e-03, -2.6896782e-03,\n",
       "       -2.9331318e-03, -1.0602027e-03,  1.4096777e-03,  4.2619673e-03],\n",
       "      dtype=float32)"
      ]
     },
     "execution_count": 21,
     "metadata": {},
     "output_type": "execute_result"
    }
   ],
   "source": [
    "model.docvecs[0]"
   ]
  },
  {
   "cell_type": "code",
   "execution_count": 27,
   "metadata": {},
   "outputs": [],
   "source": [
    "new_vector_1 = model.infer_vector(projects.iloc[0]['description'].split(' '))\n",
    "new_vector_2 = model.infer_vector(projects.iloc[1]['description'].split(' ')) "
   ]
  },
  {
   "cell_type": "code",
   "execution_count": 31,
   "metadata": {},
   "outputs": [],
   "source": [
    "similairty = spatial.distance.cosine(new_vector, new_vector_2)"
   ]
  },
  {
   "cell_type": "code",
   "execution_count": 32,
   "metadata": {},
   "outputs": [
    {
     "data": {
      "text/plain": [
       "1.157662108540535"
      ]
     },
     "execution_count": 32,
     "metadata": {},
     "output_type": "execute_result"
    }
   ],
   "source": [
    "similairty"
   ]
  },
  {
   "cell_type": "code",
   "execution_count": null,
   "metadata": {},
   "outputs": [],
   "source": []
  }
 ],
 "metadata": {
  "kernelspec": {
   "display_name": "Python 3",
   "language": "python",
   "name": "python3"
  },
  "language_info": {
   "codemirror_mode": {
    "name": "ipython",
    "version": 3
   },
   "file_extension": ".py",
   "mimetype": "text/x-python",
   "name": "python",
   "nbconvert_exporter": "python",
   "pygments_lexer": "ipython3",
   "version": "3.6.8"
  }
 },
 "nbformat": 4,
 "nbformat_minor": 2
}
