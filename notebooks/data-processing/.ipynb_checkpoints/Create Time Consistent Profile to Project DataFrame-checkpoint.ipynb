{
 "cells": [
  {
   "cell_type": "markdown",
   "metadata": {},
   "source": [
    "# Create an adjacency matrix that is time consistent"
   ]
  },
  {
   "cell_type": "code",
   "execution_count": 2,
   "metadata": {},
   "outputs": [],
   "source": [
    "import pandas as pd\n",
    "import numpy as np\n",
    "import matplotlib as plt\n",
    "import seaborn as sns\n",
    "import json\n",
    "from pandas.io.json import json_normalize\n",
    "from scipy import sparse"
   ]
  },
  {
   "cell_type": "code",
   "execution_count": 3,
   "metadata": {},
   "outputs": [],
   "source": [
    "# Load our dataframes\n",
    "# participations = pd.read_pickle('../../data/raw/participation_data')\n",
    "participations = pd.read_json('../../data/raw/new-sci-participation-data.txt')\n",
    "projects = pd.read_pickle(\"../../data/raw/project_data\")"
   ]
  },
  {
   "cell_type": "code",
   "execution_count": 4,
   "metadata": {},
   "outputs": [
    {
     "data": {
      "text/html": [
       "<div>\n",
       "<style scoped>\n",
       "    .dataframe tbody tr th:only-of-type {\n",
       "        vertical-align: middle;\n",
       "    }\n",
       "\n",
       "    .dataframe tbody tr th {\n",
       "        vertical-align: top;\n",
       "    }\n",
       "\n",
       "    .dataframe thead th {\n",
       "        text-align: right;\n",
       "    }\n",
       "</style>\n",
       "<table border=\"1\" class=\"dataframe\">\n",
       "  <thead>\n",
       "    <tr style=\"text-align: right;\">\n",
       "      <th></th>\n",
       "      <th>authenticated</th>\n",
       "      <th>duration</th>\n",
       "      <th>extra</th>\n",
       "      <th>magnitude</th>\n",
       "      <th>origin</th>\n",
       "      <th>profile</th>\n",
       "      <th>profile_origin</th>\n",
       "      <th>profile_referrer</th>\n",
       "      <th>profile_utm_campaign</th>\n",
       "      <th>profile_utm_content</th>\n",
       "      <th>profile_utm_medium</th>\n",
       "      <th>profile_utm_source</th>\n",
       "      <th>profile_utm_term</th>\n",
       "      <th>project</th>\n",
       "      <th>repetitions</th>\n",
       "      <th>type</th>\n",
       "      <th>when</th>\n",
       "      <th>where</th>\n",
       "    </tr>\n",
       "  </thead>\n",
       "  <tbody>\n",
       "    <tr>\n",
       "      <th>0</th>\n",
       "      <td>True</td>\n",
       "      <td>0</td>\n",
       "      <td></td>\n",
       "      <td>1</td>\n",
       "      <td>Import</td>\n",
       "      <td>0f67258d-143f-5f35-99b0-13b6a16f6b09</td>\n",
       "      <td>scistarter</td>\n",
       "      <td></td>\n",
       "      <td></td>\n",
       "      <td></td>\n",
       "      <td></td>\n",
       "      <td></td>\n",
       "      <td></td>\n",
       "      <td>75</td>\n",
       "      <td>1</td>\n",
       "      <td>Data collection</td>\n",
       "      <td>2018-12-28 12:07:57</td>\n",
       "      <td>None</td>\n",
       "    </tr>\n",
       "    <tr>\n",
       "      <th>1</th>\n",
       "      <td>True</td>\n",
       "      <td>0</td>\n",
       "      <td></td>\n",
       "      <td>1</td>\n",
       "      <td>Import</td>\n",
       "      <td>0f67258d-143f-5f35-99b0-13b6a16f6b09</td>\n",
       "      <td>scistarter</td>\n",
       "      <td></td>\n",
       "      <td></td>\n",
       "      <td></td>\n",
       "      <td></td>\n",
       "      <td></td>\n",
       "      <td></td>\n",
       "      <td>75</td>\n",
       "      <td>4</td>\n",
       "      <td>Data collection</td>\n",
       "      <td>2018-12-01 11:10:10</td>\n",
       "      <td>None</td>\n",
       "    </tr>\n",
       "    <tr>\n",
       "      <th>2</th>\n",
       "      <td>True</td>\n",
       "      <td>0</td>\n",
       "      <td></td>\n",
       "      <td>1</td>\n",
       "      <td>Import</td>\n",
       "      <td>0848e525-bfc7-5294-be57-8ccc3a0d7ee9</td>\n",
       "      <td></td>\n",
       "      <td>https://scistarter.com/data/streamselfie/map</td>\n",
       "      <td></td>\n",
       "      <td></td>\n",
       "      <td></td>\n",
       "      <td></td>\n",
       "      <td></td>\n",
       "      <td>75</td>\n",
       "      <td>2</td>\n",
       "      <td>Data collection</td>\n",
       "      <td>2016-10-21 21:12:03</td>\n",
       "      <td>None</td>\n",
       "    </tr>\n",
       "    <tr>\n",
       "      <th>3</th>\n",
       "      <td>True</td>\n",
       "      <td>0</td>\n",
       "      <td></td>\n",
       "      <td>1</td>\n",
       "      <td>Import</td>\n",
       "      <td>0848e525-bfc7-5294-be57-8ccc3a0d7ee9</td>\n",
       "      <td></td>\n",
       "      <td>https://scistarter.com/data/streamselfie/map</td>\n",
       "      <td></td>\n",
       "      <td></td>\n",
       "      <td></td>\n",
       "      <td></td>\n",
       "      <td></td>\n",
       "      <td>75</td>\n",
       "      <td>4</td>\n",
       "      <td>Data collection</td>\n",
       "      <td>2016-10-17 20:59:37</td>\n",
       "      <td>None</td>\n",
       "    </tr>\n",
       "    <tr>\n",
       "      <th>4</th>\n",
       "      <td>True</td>\n",
       "      <td>0</td>\n",
       "      <td></td>\n",
       "      <td>1</td>\n",
       "      <td>Import</td>\n",
       "      <td>0848e525-bfc7-5294-be57-8ccc3a0d7ee9</td>\n",
       "      <td></td>\n",
       "      <td>https://scistarter.com/data/streamselfie/map</td>\n",
       "      <td></td>\n",
       "      <td></td>\n",
       "      <td></td>\n",
       "      <td></td>\n",
       "      <td></td>\n",
       "      <td>75</td>\n",
       "      <td>2</td>\n",
       "      <td>Data collection</td>\n",
       "      <td>2016-10-10 14:17:57</td>\n",
       "      <td>None</td>\n",
       "    </tr>\n",
       "  </tbody>\n",
       "</table>\n",
       "</div>"
      ],
      "text/plain": [
       "   authenticated  duration extra  magnitude  origin  \\\n",
       "0           True         0                1  Import   \n",
       "1           True         0                1  Import   \n",
       "2           True         0                1  Import   \n",
       "3           True         0                1  Import   \n",
       "4           True         0                1  Import   \n",
       "\n",
       "                                profile profile_origin  \\\n",
       "0  0f67258d-143f-5f35-99b0-13b6a16f6b09     scistarter   \n",
       "1  0f67258d-143f-5f35-99b0-13b6a16f6b09     scistarter   \n",
       "2  0848e525-bfc7-5294-be57-8ccc3a0d7ee9                  \n",
       "3  0848e525-bfc7-5294-be57-8ccc3a0d7ee9                  \n",
       "4  0848e525-bfc7-5294-be57-8ccc3a0d7ee9                  \n",
       "\n",
       "                               profile_referrer profile_utm_campaign  \\\n",
       "0                                                                      \n",
       "1                                                                      \n",
       "2  https://scistarter.com/data/streamselfie/map                        \n",
       "3  https://scistarter.com/data/streamselfie/map                        \n",
       "4  https://scistarter.com/data/streamselfie/map                        \n",
       "\n",
       "  profile_utm_content profile_utm_medium profile_utm_source profile_utm_term  \\\n",
       "0                                                                              \n",
       "1                                                                              \n",
       "2                                                                              \n",
       "3                                                                              \n",
       "4                                                                              \n",
       "\n",
       "   project  repetitions             type                 when where  \n",
       "0       75            1  Data collection  2018-12-28 12:07:57  None  \n",
       "1       75            4  Data collection  2018-12-01 11:10:10  None  \n",
       "2       75            2  Data collection  2016-10-21 21:12:03  None  \n",
       "3       75            4  Data collection  2016-10-17 20:59:37  None  \n",
       "4       75            2  Data collection  2016-10-10 14:17:57  None  "
      ]
     },
     "execution_count": 4,
     "metadata": {},
     "output_type": "execute_result"
    }
   ],
   "source": [
    "# Examine Participations\n",
    "participations.head()"
   ]
  },
  {
   "cell_type": "code",
   "execution_count": 5,
   "metadata": {},
   "outputs": [
    {
     "name": "stdout",
     "output_type": "stream",
     "text": [
      "42159\n",
      "0\n",
      "42159\n"
     ]
    }
   ],
   "source": [
    "# Find entries where the project_id is nan and remove these elements\n",
    "nan_projects = participations[participations['project'].isnull()]\n",
    "print(len(participations))\n",
    "print(len(nan_projects))\n",
    "participations = participations[~participations['project'].isnull()]\n",
    "print(len(participations))"
   ]
  },
  {
   "cell_type": "code",
   "execution_count": 6,
   "metadata": {},
   "outputs": [],
   "source": [
    "# Remove elements where the type of participation isnt positive\n",
    "# \"Removed a bookmark\", \"Removed from dashboard\"\n",
    "participations = participations[participations['type'] != \"Removed a bookmark\"]\n",
    "participations = participations[participations['type'] != \"Removed from dashboard\"]"
   ]
  },
  {
   "cell_type": "code",
   "execution_count": 7,
   "metadata": {},
   "outputs": [],
   "source": [
    "# Sort by 'when' column\n",
    "participations = participations.sort_values('when')"
   ]
  },
  {
   "cell_type": "code",
   "execution_count": 8,
   "metadata": {},
   "outputs": [],
   "source": [
    "# Get all unique profiles in the participation dataset\n",
    "profiles = participations['profile'].unique()"
   ]
  },
  {
   "cell_type": "code",
   "execution_count": 9,
   "metadata": {},
   "outputs": [],
   "source": [
    "profile_projects = participations.groupby('profile')['project'].agg([list, len]).reset_index()\n",
    "profile_projects = profile_projects.rename(index=str, columns={\"list\": \"projects\", \"len\":\"num_projects\"})    "
   ]
  },
  {
   "cell_type": "code",
   "execution_count": 10,
   "metadata": {},
   "outputs": [
    {
     "data": {
      "text/html": [
       "<div>\n",
       "<style scoped>\n",
       "    .dataframe tbody tr th:only-of-type {\n",
       "        vertical-align: middle;\n",
       "    }\n",
       "\n",
       "    .dataframe tbody tr th {\n",
       "        vertical-align: top;\n",
       "    }\n",
       "\n",
       "    .dataframe thead th {\n",
       "        text-align: right;\n",
       "    }\n",
       "</style>\n",
       "<table border=\"1\" class=\"dataframe\">\n",
       "  <thead>\n",
       "    <tr style=\"text-align: right;\">\n",
       "      <th></th>\n",
       "      <th>profile</th>\n",
       "      <th>projects</th>\n",
       "      <th>num_projects</th>\n",
       "    </tr>\n",
       "  </thead>\n",
       "  <tbody>\n",
       "    <tr>\n",
       "      <th>0</th>\n",
       "      <td>000e1777-660b-56b9-9888-cea36c3548e8</td>\n",
       "      <td>[75, 75, 75, 75, 75, 75, 75, 75, 75, 75, 75, 7...</td>\n",
       "      <td>46</td>\n",
       "    </tr>\n",
       "    <tr>\n",
       "      <th>1</th>\n",
       "      <td>001a6b8c-26d3-51d9-8b49-e58a456be67f</td>\n",
       "      <td>[106]</td>\n",
       "      <td>1</td>\n",
       "    </tr>\n",
       "    <tr>\n",
       "      <th>2</th>\n",
       "      <td>002f0f67-affe-5096-b4fb-082747884075</td>\n",
       "      <td>[131]</td>\n",
       "      <td>1</td>\n",
       "    </tr>\n",
       "    <tr>\n",
       "      <th>3</th>\n",
       "      <td>002f52c8-c618-5260-bd8b-619be5226417</td>\n",
       "      <td>[75, 75, 75, 75, 75, 75, 75, 75, 75, 75, 75, 7...</td>\n",
       "      <td>116</td>\n",
       "    </tr>\n",
       "    <tr>\n",
       "      <th>4</th>\n",
       "      <td>003480d1-dbb5-5698-b7eb-4adf8e9f7c6e</td>\n",
       "      <td>[97]</td>\n",
       "      <td>1</td>\n",
       "    </tr>\n",
       "  </tbody>\n",
       "</table>\n",
       "</div>"
      ],
      "text/plain": [
       "                                profile  \\\n",
       "0  000e1777-660b-56b9-9888-cea36c3548e8   \n",
       "1  001a6b8c-26d3-51d9-8b49-e58a456be67f   \n",
       "2  002f0f67-affe-5096-b4fb-082747884075   \n",
       "3  002f52c8-c618-5260-bd8b-619be5226417   \n",
       "4  003480d1-dbb5-5698-b7eb-4adf8e9f7c6e   \n",
       "\n",
       "                                            projects  num_projects  \n",
       "0  [75, 75, 75, 75, 75, 75, 75, 75, 75, 75, 75, 7...            46  \n",
       "1                                              [106]             1  \n",
       "2                                              [131]             1  \n",
       "3  [75, 75, 75, 75, 75, 75, 75, 75, 75, 75, 75, 7...           116  \n",
       "4                                               [97]             1  "
      ]
     },
     "execution_count": 10,
     "metadata": {},
     "output_type": "execute_result"
    }
   ],
   "source": [
    "profile_projects.head()"
   ]
  },
  {
   "cell_type": "code",
   "execution_count": 11,
   "metadata": {},
   "outputs": [
    {
     "data": {
      "text/plain": [
       "4782"
      ]
     },
     "execution_count": 11,
     "metadata": {},
     "output_type": "execute_result"
    }
   ],
   "source": [
    "len(profile_projects)"
   ]
  },
  {
   "cell_type": "code",
   "execution_count": 12,
   "metadata": {},
   "outputs": [],
   "source": [
    "profile_projects.to_pickle('../../data/processed/profile_projects_time_consistent')"
   ]
  },
  {
   "cell_type": "code",
   "execution_count": null,
   "metadata": {},
   "outputs": [],
   "source": []
  }
 ],
 "metadata": {
  "kernelspec": {
   "display_name": "Python 3",
   "language": "python",
   "name": "python3"
  },
  "language_info": {
   "codemirror_mode": {
    "name": "ipython",
    "version": 3
   },
   "file_extension": ".py",
   "mimetype": "text/x-python",
   "name": "python",
   "nbconvert_exporter": "python",
   "pygments_lexer": "ipython3",
   "version": "3.6.8"
  }
 },
 "nbformat": 4,
 "nbformat_minor": 2
}
