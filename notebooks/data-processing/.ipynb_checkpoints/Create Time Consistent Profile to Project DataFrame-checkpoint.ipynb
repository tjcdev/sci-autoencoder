{
 "cells": [
  {
   "cell_type": "markdown",
   "metadata": {},
   "source": [
    "# Create an adjacency matrix that is time consistent"
   ]
  },
  {
   "cell_type": "code",
   "execution_count": 1,
   "metadata": {},
   "outputs": [],
   "source": [
    "import pandas as pd\n",
    "import numpy as np\n",
    "import matplotlib as plt\n",
    "import seaborn as sns\n",
    "import json\n",
    "from pandas.io.json import json_normalize\n",
    "from scipy import sparse"
   ]
  },
  {
   "cell_type": "code",
   "execution_count": 2,
   "metadata": {},
   "outputs": [],
   "source": [
    "# Load our dataframes\n",
    "participations = pd.read_pickle('../../data/raw/participation_data')\n",
    "projects = pd.read_pickle(\"../../data/raw/project_data\")"
   ]
  },
  {
   "cell_type": "code",
   "execution_count": 3,
   "metadata": {},
   "outputs": [
    {
     "data": {
      "text/html": [
       "<div>\n",
       "<style scoped>\n",
       "    .dataframe tbody tr th:only-of-type {\n",
       "        vertical-align: middle;\n",
       "    }\n",
       "\n",
       "    .dataframe tbody tr th {\n",
       "        vertical-align: top;\n",
       "    }\n",
       "\n",
       "    .dataframe thead th {\n",
       "        text-align: right;\n",
       "    }\n",
       "</style>\n",
       "<table border=\"1\" class=\"dataframe\">\n",
       "  <thead>\n",
       "    <tr style=\"text-align: right;\">\n",
       "      <th></th>\n",
       "      <th>authenticated</th>\n",
       "      <th>duration</th>\n",
       "      <th>extra</th>\n",
       "      <th>index_</th>\n",
       "      <th>magnitude</th>\n",
       "      <th>origin</th>\n",
       "      <th>profile</th>\n",
       "      <th>profile_origin</th>\n",
       "      <th>profile_referrer</th>\n",
       "      <th>profile_utm_campaign</th>\n",
       "      <th>profile_utm_content</th>\n",
       "      <th>profile_utm_medium</th>\n",
       "      <th>profile_utm_source</th>\n",
       "      <th>profile_utm_term</th>\n",
       "      <th>project</th>\n",
       "      <th>repetitions</th>\n",
       "      <th>type</th>\n",
       "      <th>when</th>\n",
       "      <th>where</th>\n",
       "    </tr>\n",
       "  </thead>\n",
       "  <tbody>\n",
       "    <tr>\n",
       "      <th>0</th>\n",
       "      <td>True</td>\n",
       "      <td>0</td>\n",
       "      <td></td>\n",
       "      <td>1</td>\n",
       "      <td>1</td>\n",
       "      <td>Unspecified</td>\n",
       "      <td>c3174748ab29f73d8c6226d0c2171aeb</td>\n",
       "      <td></td>\n",
       "      <td></td>\n",
       "      <td></td>\n",
       "      <td></td>\n",
       "      <td></td>\n",
       "      <td></td>\n",
       "      <td></td>\n",
       "      <td>25.0</td>\n",
       "      <td>1</td>\n",
       "      <td>Participated</td>\n",
       "      <td>2016-07-22 14:07:43</td>\n",
       "      <td>NaN</td>\n",
       "    </tr>\n",
       "    <tr>\n",
       "      <th>1</th>\n",
       "      <td>True</td>\n",
       "      <td>0</td>\n",
       "      <td></td>\n",
       "      <td>2</td>\n",
       "      <td>1</td>\n",
       "      <td>Unspecified</td>\n",
       "      <td>c3174748ab29f73d8c6226d0c2171aeb</td>\n",
       "      <td></td>\n",
       "      <td></td>\n",
       "      <td></td>\n",
       "      <td></td>\n",
       "      <td></td>\n",
       "      <td></td>\n",
       "      <td></td>\n",
       "      <td>25.0</td>\n",
       "      <td>1</td>\n",
       "      <td>Participated</td>\n",
       "      <td>2016-08-26 17:43:54</td>\n",
       "      <td>NaN</td>\n",
       "    </tr>\n",
       "    <tr>\n",
       "      <th>2</th>\n",
       "      <td>True</td>\n",
       "      <td>0</td>\n",
       "      <td></td>\n",
       "      <td>3</td>\n",
       "      <td>1</td>\n",
       "      <td>Unspecified</td>\n",
       "      <td>59d1c4ccba844b6f4722d2967c531441</td>\n",
       "      <td></td>\n",
       "      <td></td>\n",
       "      <td></td>\n",
       "      <td></td>\n",
       "      <td></td>\n",
       "      <td></td>\n",
       "      <td></td>\n",
       "      <td>25.0</td>\n",
       "      <td>1</td>\n",
       "      <td>Participated</td>\n",
       "      <td>2016-08-26 17:46:32</td>\n",
       "      <td>NaN</td>\n",
       "    </tr>\n",
       "    <tr>\n",
       "      <th>3</th>\n",
       "      <td>True</td>\n",
       "      <td>0</td>\n",
       "      <td></td>\n",
       "      <td>4</td>\n",
       "      <td>1</td>\n",
       "      <td>Unspecified</td>\n",
       "      <td>59d1c4ccba844b6f4722d2967c531441</td>\n",
       "      <td></td>\n",
       "      <td></td>\n",
       "      <td></td>\n",
       "      <td></td>\n",
       "      <td></td>\n",
       "      <td></td>\n",
       "      <td></td>\n",
       "      <td>25.0</td>\n",
       "      <td>1</td>\n",
       "      <td>Participated</td>\n",
       "      <td>2016-08-26 17:48:18</td>\n",
       "      <td>NaN</td>\n",
       "    </tr>\n",
       "    <tr>\n",
       "      <th>4</th>\n",
       "      <td>True</td>\n",
       "      <td>0</td>\n",
       "      <td></td>\n",
       "      <td>5</td>\n",
       "      <td>1</td>\n",
       "      <td>Unspecified</td>\n",
       "      <td>59d1c4ccba844b6f4722d2967c531441</td>\n",
       "      <td></td>\n",
       "      <td></td>\n",
       "      <td></td>\n",
       "      <td></td>\n",
       "      <td></td>\n",
       "      <td></td>\n",
       "      <td></td>\n",
       "      <td>25.0</td>\n",
       "      <td>1</td>\n",
       "      <td>Participated</td>\n",
       "      <td>2016-08-28 23:57:25</td>\n",
       "      <td>NaN</td>\n",
       "    </tr>\n",
       "  </tbody>\n",
       "</table>\n",
       "</div>"
      ],
      "text/plain": [
       "   authenticated  duration extra  index_  magnitude       origin  \\\n",
       "0           True         0             1          1  Unspecified   \n",
       "1           True         0             2          1  Unspecified   \n",
       "2           True         0             3          1  Unspecified   \n",
       "3           True         0             4          1  Unspecified   \n",
       "4           True         0             5          1  Unspecified   \n",
       "\n",
       "                            profile profile_origin profile_referrer  \\\n",
       "0  c3174748ab29f73d8c6226d0c2171aeb                                   \n",
       "1  c3174748ab29f73d8c6226d0c2171aeb                                   \n",
       "2  59d1c4ccba844b6f4722d2967c531441                                   \n",
       "3  59d1c4ccba844b6f4722d2967c531441                                   \n",
       "4  59d1c4ccba844b6f4722d2967c531441                                   \n",
       "\n",
       "  profile_utm_campaign profile_utm_content profile_utm_medium  \\\n",
       "0                                                               \n",
       "1                                                               \n",
       "2                                                               \n",
       "3                                                               \n",
       "4                                                               \n",
       "\n",
       "  profile_utm_source profile_utm_term  project  repetitions          type  \\\n",
       "0                                         25.0            1  Participated   \n",
       "1                                         25.0            1  Participated   \n",
       "2                                         25.0            1  Participated   \n",
       "3                                         25.0            1  Participated   \n",
       "4                                         25.0            1  Participated   \n",
       "\n",
       "                  when where  \n",
       "0  2016-07-22 14:07:43   NaN  \n",
       "1  2016-08-26 17:43:54   NaN  \n",
       "2  2016-08-26 17:46:32   NaN  \n",
       "3  2016-08-26 17:48:18   NaN  \n",
       "4  2016-08-28 23:57:25   NaN  "
      ]
     },
     "execution_count": 3,
     "metadata": {},
     "output_type": "execute_result"
    }
   ],
   "source": [
    "# Examine Participations\n",
    "participations.head()"
   ]
  },
  {
   "cell_type": "code",
   "execution_count": 4,
   "metadata": {},
   "outputs": [
    {
     "name": "stdout",
     "output_type": "stream",
     "text": [
      "1474748\n",
      "213179\n",
      "1261569\n"
     ]
    }
   ],
   "source": [
    "# Find entries where the project_id is nan and remove these elements\n",
    "nan_projects = participations[participations['project'].isnull()]\n",
    "print(len(participations))\n",
    "print(len(nan_projects))\n",
    "participations = participations[~participations['project'].isnull()]\n",
    "print(len(participations))"
   ]
  },
  {
   "cell_type": "code",
   "execution_count": 5,
   "metadata": {},
   "outputs": [],
   "source": [
    "# Remove elements where the type of participation isnt positive\n",
    "# \"Removed a bookmark\", \"Removed from dashboard\"\n",
    "participations = participations[participations['type'] != \"Removed a bookmark\"]\n",
    "participations = participations[participations['type'] != \"Removed from dashboard\"]"
   ]
  },
  {
   "cell_type": "code",
   "execution_count": 6,
   "metadata": {},
   "outputs": [],
   "source": [
    "# Sort by 'when' column\n",
    "participations = participations.sort_values('when')"
   ]
  },
  {
   "cell_type": "code",
   "execution_count": 7,
   "metadata": {},
   "outputs": [],
   "source": [
    "# Get all unique profiles in the participation dataset\n",
    "profiles = participations['profile'].unique()"
   ]
  },
  {
   "cell_type": "code",
   "execution_count": 8,
   "metadata": {},
   "outputs": [],
   "source": [
    "profile_projects = participations.groupby('profile')['project'].agg([list, len]).reset_index()\n",
    "profile_projects = profile_projects.rename(index=str, columns={\"list\": \"projects\", \"len\":\"num_projects\"})    "
   ]
  },
  {
   "cell_type": "code",
   "execution_count": 9,
   "metadata": {},
   "outputs": [
    {
     "data": {
      "text/html": [
       "<div>\n",
       "<style scoped>\n",
       "    .dataframe tbody tr th:only-of-type {\n",
       "        vertical-align: middle;\n",
       "    }\n",
       "\n",
       "    .dataframe tbody tr th {\n",
       "        vertical-align: top;\n",
       "    }\n",
       "\n",
       "    .dataframe thead th {\n",
       "        text-align: right;\n",
       "    }\n",
       "</style>\n",
       "<table border=\"1\" class=\"dataframe\">\n",
       "  <thead>\n",
       "    <tr style=\"text-align: right;\">\n",
       "      <th></th>\n",
       "      <th>profile</th>\n",
       "      <th>projects</th>\n",
       "      <th>num_projects</th>\n",
       "    </tr>\n",
       "  </thead>\n",
       "  <tbody>\n",
       "    <tr>\n",
       "      <th>0</th>\n",
       "      <td>000073c3675ea9a1d0fe0ee3ca57e2bf</td>\n",
       "      <td>[413.0, 413.0]</td>\n",
       "      <td>2.0</td>\n",
       "    </tr>\n",
       "    <tr>\n",
       "      <th>1</th>\n",
       "      <td>0002b85e757486c6d80ed6f73f465eaa</td>\n",
       "      <td>[16864.0]</td>\n",
       "      <td>1.0</td>\n",
       "    </tr>\n",
       "    <tr>\n",
       "      <th>2</th>\n",
       "      <td>0003a41bbdb3371df4c1829913f17537</td>\n",
       "      <td>[19794.0]</td>\n",
       "      <td>1.0</td>\n",
       "    </tr>\n",
       "    <tr>\n",
       "      <th>3</th>\n",
       "      <td>000436aaa487e461e6e16e02ab3e89eb</td>\n",
       "      <td>[659.0]</td>\n",
       "      <td>1.0</td>\n",
       "    </tr>\n",
       "    <tr>\n",
       "      <th>4</th>\n",
       "      <td>000476d8680db78d75b3b9edefc4a6d2</td>\n",
       "      <td>[1510.0]</td>\n",
       "      <td>1.0</td>\n",
       "    </tr>\n",
       "  </tbody>\n",
       "</table>\n",
       "</div>"
      ],
      "text/plain": [
       "                            profile        projects  num_projects\n",
       "0  000073c3675ea9a1d0fe0ee3ca57e2bf  [413.0, 413.0]           2.0\n",
       "1  0002b85e757486c6d80ed6f73f465eaa       [16864.0]           1.0\n",
       "2  0003a41bbdb3371df4c1829913f17537       [19794.0]           1.0\n",
       "3  000436aaa487e461e6e16e02ab3e89eb         [659.0]           1.0\n",
       "4  000476d8680db78d75b3b9edefc4a6d2        [1510.0]           1.0"
      ]
     },
     "execution_count": 9,
     "metadata": {},
     "output_type": "execute_result"
    }
   ],
   "source": [
    "profile_projects.head()"
   ]
  },
  {
   "cell_type": "code",
   "execution_count": 10,
   "metadata": {},
   "outputs": [
    {
     "data": {
      "text/plain": [
       "73131"
      ]
     },
     "execution_count": 10,
     "metadata": {},
     "output_type": "execute_result"
    }
   ],
   "source": [
    "len(profile_projects)"
   ]
  },
  {
   "cell_type": "code",
   "execution_count": 11,
   "metadata": {},
   "outputs": [],
   "source": [
    "profile_projects.to_pickle('../../data/processed/profile_projects_time_consistent')"
   ]
  },
  {
   "cell_type": "code",
   "execution_count": null,
   "metadata": {},
   "outputs": [],
   "source": []
  }
 ],
 "metadata": {
  "kernelspec": {
   "display_name": "Python 3",
   "language": "python",
   "name": "python3"
  },
  "language_info": {
   "codemirror_mode": {
    "name": "ipython",
    "version": 3
   },
   "file_extension": ".py",
   "mimetype": "text/x-python",
   "name": "python",
   "nbconvert_exporter": "python",
   "pygments_lexer": "ipython3",
   "version": "3.6.8"
  }
 },
 "nbformat": 4,
 "nbformat_minor": 2
}
