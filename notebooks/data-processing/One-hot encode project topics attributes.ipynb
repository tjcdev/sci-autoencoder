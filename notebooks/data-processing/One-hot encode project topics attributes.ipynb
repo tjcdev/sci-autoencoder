{
 "cells": [
  {
   "cell_type": "markdown",
   "metadata": {},
   "source": [
    "# One-Hot Encode the Topics Attributes"
   ]
  },
  {
   "cell_type": "code",
   "execution_count": 1,
   "metadata": {},
   "outputs": [],
   "source": [
    "import pandas as pd\n",
    "import numpy as np\n",
    "import matplotlib as plt\n",
    "import seaborn as sns"
   ]
  },
  {
   "cell_type": "markdown",
   "metadata": {},
   "source": [
    "### Load in the projects dataframe"
   ]
  },
  {
   "cell_type": "code",
   "execution_count": 2,
   "metadata": {},
   "outputs": [],
   "source": [
    "projects = pd.read_pickle(\"../../data/raw/project_data\")"
   ]
  },
  {
   "cell_type": "markdown",
   "metadata": {},
   "source": [
    "### One-hot Encode Topics"
   ]
  },
  {
   "cell_type": "markdown",
   "metadata": {},
   "source": [
    "<b>Technically</b> - this isn't called one-hot encoding and so, I'll need to write my own stuff for it"
   ]
  },
  {
   "cell_type": "markdown",
   "metadata": {},
   "source": [
    "#### Get a unique list of topics"
   ]
  },
  {
   "cell_type": "code",
   "execution_count": 3,
   "metadata": {},
   "outputs": [
    {
     "data": {
      "text/plain": [
       "27"
      ]
     },
     "execution_count": 3,
     "metadata": {},
     "output_type": "execute_result"
    }
   ],
   "source": [
    "topics = list(projects['topics'])\n",
    "flatten = lambda l: [item for sublist in l for item in sublist]\n",
    "flattened_topics = flatten(topics)\n",
    "unique_topics = list(set(flattened_topics))\n",
    "len(unique_topics)"
   ]
  },
  {
   "cell_type": "code",
   "execution_count": 4,
   "metadata": {},
   "outputs": [
    {
     "name": "stdout",
     "output_type": "stream",
     "text": [
      "['Ecology & Environment', 'Geology & Earth Science', 'Chemistry', 'Sound', 'Insects & Pollinators', 'Social Science', 'Nature & Outdoors', 'Events', 'Education', 'Transportation', 'Biology', 'Climate & Weather', 'Awards', 'Geography', 'Computers & Technology', 'Agriculture', 'Science Policy', 'Animals', 'Astronomy & Space', 'Birds', 'Physics', 'Archeology & Cultural', 'Food', 'Health & Medicine', 'Ocean, Water, Marine & Terrestrial', 'Psychology', 'Crowd Funding']\n"
     ]
    }
   ],
   "source": [
    "print(unique_topics)"
   ]
  },
  {
   "cell_type": "markdown",
   "metadata": {},
   "source": [
    "#### Prepare column names for the dataframe"
   ]
  },
  {
   "cell_type": "code",
   "execution_count": 5,
   "metadata": {},
   "outputs": [],
   "source": [
    "# Clean the topics names\n",
    "def clean_names(topics):\n",
    "    return [topic.replace(' ', '_').replace('&', 'and') for topic in topics]    \n",
    "\n",
    "def add_topics_prefix(topics):  \n",
    "    return ['topics_' + str(topic) for topic in topics] "
   ]
  },
  {
   "cell_type": "code",
   "execution_count": 6,
   "metadata": {},
   "outputs": [],
   "source": [
    "cleaned_topics_names = clean_names(unique_topics)\n",
    "topic_column_names = add_topics_prefix(cleaned_topics_names)"
   ]
  },
  {
   "cell_type": "code",
   "execution_count": 7,
   "metadata": {},
   "outputs": [
    {
     "data": {
      "text/plain": [
       "['topics_Ecology_and_Environment',\n",
       " 'topics_Geology_and_Earth_Science',\n",
       " 'topics_Chemistry',\n",
       " 'topics_Sound',\n",
       " 'topics_Insects_and_Pollinators',\n",
       " 'topics_Social_Science',\n",
       " 'topics_Nature_and_Outdoors',\n",
       " 'topics_Events',\n",
       " 'topics_Education',\n",
       " 'topics_Transportation',\n",
       " 'topics_Biology',\n",
       " 'topics_Climate_and_Weather',\n",
       " 'topics_Awards',\n",
       " 'topics_Geography',\n",
       " 'topics_Computers_and_Technology',\n",
       " 'topics_Agriculture',\n",
       " 'topics_Science_Policy',\n",
       " 'topics_Animals',\n",
       " 'topics_Astronomy_and_Space',\n",
       " 'topics_Birds',\n",
       " 'topics_Physics',\n",
       " 'topics_Archeology_and_Cultural',\n",
       " 'topics_Food',\n",
       " 'topics_Health_and_Medicine',\n",
       " 'topics_Ocean,_Water,_Marine_and_Terrestrial',\n",
       " 'topics_Psychology',\n",
       " 'topics_Crowd_Funding']"
      ]
     },
     "execution_count": 7,
     "metadata": {},
     "output_type": "execute_result"
    }
   ],
   "source": [
    "topic_column_names"
   ]
  },
  {
   "cell_type": "markdown",
   "metadata": {},
   "source": [
    "#### Create and populate dataframe"
   ]
  },
  {
   "cell_type": "code",
   "execution_count": 8,
   "metadata": {},
   "outputs": [],
   "source": [
    "# Add a zero topics column to every row in the dataframe\n",
    "for topic_column_name in topic_column_names:\n",
    "    projects[topic_column_name] = 0"
   ]
  },
  {
   "cell_type": "code",
   "execution_count": 9,
   "metadata": {},
   "outputs": [],
   "source": [
    "projects['topics'] = projects['topics'].apply(clean_names).apply(add_topics_prefix)"
   ]
  },
  {
   "cell_type": "code",
   "execution_count": 10,
   "metadata": {},
   "outputs": [
    {
     "name": "stdout",
     "output_type": "stream",
     "text": [
      "1781\n",
      "1782\n"
     ]
    }
   ],
   "source": [
    "for index, row in projects.iterrows():\n",
    "    row_topics = row['topics']\n",
    "    row[row_topics] = 1\n",
    "    try:\n",
    "        projects.iloc[index] = row\n",
    "    except:\n",
    "        print(index)"
   ]
  },
  {
   "cell_type": "code",
   "execution_count": 11,
   "metadata": {},
   "outputs": [
    {
     "data": {
      "text/html": [
       "<div>\n",
       "<style scoped>\n",
       "    .dataframe tbody tr th:only-of-type {\n",
       "        vertical-align: middle;\n",
       "    }\n",
       "\n",
       "    .dataframe tbody tr th {\n",
       "        vertical-align: top;\n",
       "    }\n",
       "\n",
       "    .dataframe thead th {\n",
       "        text-align: right;\n",
       "    }\n",
       "</style>\n",
       "<table border=\"1\" class=\"dataframe\">\n",
       "  <thead>\n",
       "    <tr style=\"text-align: right;\">\n",
       "      <th></th>\n",
       "      <th>UN_regions</th>\n",
       "      <th>country</th>\n",
       "      <th>description</th>\n",
       "      <th>error</th>\n",
       "      <th>guid</th>\n",
       "      <th>origin</th>\n",
       "      <th>regions</th>\n",
       "      <th>tags</th>\n",
       "      <th>title</th>\n",
       "      <th>topics</th>\n",
       "      <th>...</th>\n",
       "      <th>topics_Animals</th>\n",
       "      <th>topics_Astronomy_and_Space</th>\n",
       "      <th>topics_Birds</th>\n",
       "      <th>topics_Physics</th>\n",
       "      <th>topics_Archeology_and_Cultural</th>\n",
       "      <th>topics_Food</th>\n",
       "      <th>topics_Health_and_Medicine</th>\n",
       "      <th>topics_Ocean,_Water,_Marine_and_Terrestrial</th>\n",
       "      <th>topics_Psychology</th>\n",
       "      <th>topics_Crowd_Funding</th>\n",
       "    </tr>\n",
       "  </thead>\n",
       "  <tbody>\n",
       "    <tr>\n",
       "      <th>0</th>\n",
       "      <td>[]</td>\n",
       "      <td></td>\n",
       "      <td>Foldit is a revolutionary new computer game en...</td>\n",
       "      <td>NaN</td>\n",
       "      <td>5f80760d-8398-5091-b3c6-f34c39216e88</td>\n",
       "      <td>scistarter</td>\n",
       "      <td>[]</td>\n",
       "      <td>[dna, protein]</td>\n",
       "      <td>Foldit</td>\n",
       "      <td>[topics_Computers_and_Technology, topics_Biolo...</td>\n",
       "      <td>...</td>\n",
       "      <td>0</td>\n",
       "      <td>0</td>\n",
       "      <td>0</td>\n",
       "      <td>0</td>\n",
       "      <td>0</td>\n",
       "      <td>0</td>\n",
       "      <td>0</td>\n",
       "      <td>0</td>\n",
       "      <td>0</td>\n",
       "      <td>0</td>\n",
       "    </tr>\n",
       "    <tr>\n",
       "      <th>1</th>\n",
       "      <td>[]</td>\n",
       "      <td></td>\n",
       "      <td>Firefly Watch combines an annual summer evenin...</td>\n",
       "      <td>NaN</td>\n",
       "      <td>c9664e0c-819a-5a42-b4bb-5f25d83a486d</td>\n",
       "      <td>scistarter</td>\n",
       "      <td>[{'geometry': {'type': 'MultiPolygon', 'coordi...</td>\n",
       "      <td>[boston, cambridge, fireflies, insects, lightn...</td>\n",
       "      <td>Firefly Watch</td>\n",
       "      <td>[topics_Nature_and_Outdoors, topics_Animals, t...</td>\n",
       "      <td>...</td>\n",
       "      <td>1</td>\n",
       "      <td>0</td>\n",
       "      <td>0</td>\n",
       "      <td>0</td>\n",
       "      <td>0</td>\n",
       "      <td>0</td>\n",
       "      <td>0</td>\n",
       "      <td>0</td>\n",
       "      <td>0</td>\n",
       "      <td>0</td>\n",
       "    </tr>\n",
       "    <tr>\n",
       "      <th>2</th>\n",
       "      <td>[]</td>\n",
       "      <td></td>\n",
       "      <td>Galaxy Zoo needs your help to classify galaxie...</td>\n",
       "      <td>NaN</td>\n",
       "      <td>11f65e99-b463-5e01-ac11-ae59c021dfe7</td>\n",
       "      <td>scistarter</td>\n",
       "      <td>[]</td>\n",
       "      <td>[astronomy &amp; space, space, space science, zoon...</td>\n",
       "      <td>Galaxy Zoo</td>\n",
       "      <td>[topics_Astronomy_and_Space, topics_Computers_...</td>\n",
       "      <td>...</td>\n",
       "      <td>0</td>\n",
       "      <td>1</td>\n",
       "      <td>0</td>\n",
       "      <td>0</td>\n",
       "      <td>0</td>\n",
       "      <td>0</td>\n",
       "      <td>0</td>\n",
       "      <td>0</td>\n",
       "      <td>0</td>\n",
       "      <td>0</td>\n",
       "    </tr>\n",
       "    <tr>\n",
       "      <th>3</th>\n",
       "      <td>[]</td>\n",
       "      <td>None</td>\n",
       "      <td>Pay attention to the plants and animals in you...</td>\n",
       "      <td>NaN</td>\n",
       "      <td>wilsoncenter:27-107</td>\n",
       "      <td>scistarter</td>\n",
       "      <td>[{'geometry': {'type': 'MultiPolygon', 'coordi...</td>\n",
       "      <td>[android, animal, animals, app, biology, clima...</td>\n",
       "      <td>Nature's Notebook</td>\n",
       "      <td>[topics_Ocean,_Water,_Marine_and_Terrestrial, ...</td>\n",
       "      <td>...</td>\n",
       "      <td>1</td>\n",
       "      <td>0</td>\n",
       "      <td>1</td>\n",
       "      <td>0</td>\n",
       "      <td>0</td>\n",
       "      <td>0</td>\n",
       "      <td>0</td>\n",
       "      <td>1</td>\n",
       "      <td>0</td>\n",
       "      <td>0</td>\n",
       "    </tr>\n",
       "    <tr>\n",
       "      <th>4</th>\n",
       "      <td>[]</td>\n",
       "      <td></td>\n",
       "      <td>A recent issue of Make magazine (http://makezi...</td>\n",
       "      <td>NaN</td>\n",
       "      <td>ae91e967-6eec-5aef-ab3a-7d86ceff737a</td>\n",
       "      <td>scistarter</td>\n",
       "      <td>[]</td>\n",
       "      <td>[]</td>\n",
       "      <td>Laser Harp: Build It Yourself</td>\n",
       "      <td>[topics_Computers_and_Technology, topics_Sound...</td>\n",
       "      <td>...</td>\n",
       "      <td>0</td>\n",
       "      <td>0</td>\n",
       "      <td>0</td>\n",
       "      <td>1</td>\n",
       "      <td>0</td>\n",
       "      <td>0</td>\n",
       "      <td>0</td>\n",
       "      <td>0</td>\n",
       "      <td>0</td>\n",
       "      <td>0</td>\n",
       "    </tr>\n",
       "  </tbody>\n",
       "</table>\n",
       "<p>5 rows × 39 columns</p>\n",
       "</div>"
      ],
      "text/plain": [
       "  UN_regions country                                        description error  \\\n",
       "0         []          Foldit is a revolutionary new computer game en...   NaN   \n",
       "1         []          Firefly Watch combines an annual summer evenin...   NaN   \n",
       "2         []          Galaxy Zoo needs your help to classify galaxie...   NaN   \n",
       "3         []    None  Pay attention to the plants and animals in you...   NaN   \n",
       "4         []          A recent issue of Make magazine (http://makezi...   NaN   \n",
       "\n",
       "                                   guid      origin  \\\n",
       "0  5f80760d-8398-5091-b3c6-f34c39216e88  scistarter   \n",
       "1  c9664e0c-819a-5a42-b4bb-5f25d83a486d  scistarter   \n",
       "2  11f65e99-b463-5e01-ac11-ae59c021dfe7  scistarter   \n",
       "3                   wilsoncenter:27-107  scistarter   \n",
       "4  ae91e967-6eec-5aef-ab3a-7d86ceff737a  scistarter   \n",
       "\n",
       "                                             regions  \\\n",
       "0                                                 []   \n",
       "1  [{'geometry': {'type': 'MultiPolygon', 'coordi...   \n",
       "2                                                 []   \n",
       "3  [{'geometry': {'type': 'MultiPolygon', 'coordi...   \n",
       "4                                                 []   \n",
       "\n",
       "                                                tags  \\\n",
       "0                                     [dna, protein]   \n",
       "1  [boston, cambridge, fireflies, insects, lightn...   \n",
       "2  [astronomy & space, space, space science, zoon...   \n",
       "3  [android, animal, animals, app, biology, clima...   \n",
       "4                                                 []   \n",
       "\n",
       "                           title  \\\n",
       "0                         Foldit   \n",
       "1                  Firefly Watch   \n",
       "2                     Galaxy Zoo   \n",
       "3              Nature's Notebook   \n",
       "4  Laser Harp: Build It Yourself   \n",
       "\n",
       "                                              topics  ... topics_Animals  \\\n",
       "0  [topics_Computers_and_Technology, topics_Biolo...  ...              0   \n",
       "1  [topics_Nature_and_Outdoors, topics_Animals, t...  ...              1   \n",
       "2  [topics_Astronomy_and_Space, topics_Computers_...  ...              0   \n",
       "3  [topics_Ocean,_Water,_Marine_and_Terrestrial, ...  ...              1   \n",
       "4  [topics_Computers_and_Technology, topics_Sound...  ...              0   \n",
       "\n",
       "   topics_Astronomy_and_Space  topics_Birds  topics_Physics  \\\n",
       "0                           0             0               0   \n",
       "1                           0             0               0   \n",
       "2                           1             0               0   \n",
       "3                           0             1               0   \n",
       "4                           0             0               1   \n",
       "\n",
       "   topics_Archeology_and_Cultural  topics_Food  topics_Health_and_Medicine  \\\n",
       "0                               0            0                           0   \n",
       "1                               0            0                           0   \n",
       "2                               0            0                           0   \n",
       "3                               0            0                           0   \n",
       "4                               0            0                           0   \n",
       "\n",
       "   topics_Ocean,_Water,_Marine_and_Terrestrial  topics_Psychology  \\\n",
       "0                                            0                  0   \n",
       "1                                            0                  0   \n",
       "2                                            0                  0   \n",
       "3                                            1                  0   \n",
       "4                                            0                  0   \n",
       "\n",
       "   topics_Crowd_Funding  \n",
       "0                     0  \n",
       "1                     0  \n",
       "2                     0  \n",
       "3                     0  \n",
       "4                     0  \n",
       "\n",
       "[5 rows x 39 columns]"
      ]
     },
     "execution_count": 11,
     "metadata": {},
     "output_type": "execute_result"
    }
   ],
   "source": [
    "projects.head()"
   ]
  },
  {
   "cell_type": "markdown",
   "metadata": {},
   "source": [
    "### Save the data to a pickle file"
   ]
  },
  {
   "cell_type": "code",
   "execution_count": 12,
   "metadata": {},
   "outputs": [],
   "source": [
    "projects.to_pickle('../../data/processed/project_topics_data') "
   ]
  },
  {
   "cell_type": "code",
   "execution_count": null,
   "metadata": {},
   "outputs": [],
   "source": []
  }
 ],
 "metadata": {
  "kernelspec": {
   "display_name": "Python 3",
   "language": "python",
   "name": "python3"
  },
  "language_info": {
   "codemirror_mode": {
    "name": "ipython",
    "version": 3
   },
   "file_extension": ".py",
   "mimetype": "text/x-python",
   "name": "python",
   "nbconvert_exporter": "python",
   "pygments_lexer": "ipython3",
   "version": "3.6.8"
  }
 },
 "nbformat": 4,
 "nbformat_minor": 2
}
