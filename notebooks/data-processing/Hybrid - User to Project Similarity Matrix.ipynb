{
 "cells": [
  {
   "cell_type": "code",
   "execution_count": 7,
   "metadata": {},
   "outputs": [],
   "source": [
    "import os\n",
    "import sys\n",
    "from time import gmtime, strftime\n",
    "\n",
    "from keras.models import load_model\n",
    "from sklearn.metrics import precision_recall_fscore_support, mean_squared_error, average_precision_score\n",
    "import numpy as np\n",
    "import pandas as pd\n",
    "import math\n",
    "import keras.backend as K\n",
    "from scipy import sparse\n",
    "from scipy.sparse import vstack\n",
    "\n",
    "# Content based recommender imports\n",
    "module_path = os.path.abspath(os.path.join('../../'))\n",
    "if module_path not in sys.path:\n",
    "    sys.path.append(module_path)\n",
    "    \n",
    "from src.models.recommenders.content_recommender import ContentRecommender\n",
    "from gensim.models import doc2vec\n",
    "from collections import namedtuple\n",
    "from sklearn.feature_extraction.text import TfidfVectorizer\n",
    "from keras.models import Model\n",
    "from sklearn.metrics.pairwise import cosine_similarity\n",
    "\n",
    "sys.path.append('../../data')\n",
    "sys.path.append('../../src/models')\n",
    "from recommenders.cf_recommender import CFRecommender\n",
    "from autoencoders import hyb2, hyb3"
   ]
  },
  {
   "cell_type": "code",
   "execution_count": 3,
   "metadata": {},
   "outputs": [],
   "source": [
    "field = 'description'"
   ]
  },
  {
   "cell_type": "markdown",
   "metadata": {},
   "source": [
    "# Collaborative Filtering Data"
   ]
  },
  {
   "cell_type": "code",
   "execution_count": 4,
   "metadata": {},
   "outputs": [],
   "source": [
    "def load_users_projects():\n",
    "    cf = pd.read_pickle('../../data/processed/new_cf_projects.pkl')\n",
    "    #cf = pd.read_pickle('data/processed/cf_profiles.pkl')\n",
    "    train_x = sparse.load_npz(\"../../data/processed/new_train_sparse.npz\")\n",
    "    val_x = sparse.load_npz(\"../../data/processed/new_val_sparse.npz\")\n",
    "    test_x = sparse.load_npz(\"../../data/processed/new_test_sparse.npz\")\n",
    "    train_labels = cf\n",
    "    val_labels = cf\n",
    "    test_labels = cf\n",
    "    return train_labels, train_x, val_labels, val_x, test_labels, test_x\n",
    "\n",
    "def load_profile_labels():\n",
    "    cf_profiles = pd.read_pickle('../../data/processed/new_cf_profiles.pkl')\n",
    "    return cf_profiles\n",
    "\n",
    "# Load out time consistent collaborative filtering data\n",
    "train_labels, train_x, val_labels, val_x, test_labels, test_x = load_users_projects()"
   ]
  },
  {
   "cell_type": "markdown",
   "metadata": {},
   "source": [
    "# Content Data"
   ]
  },
  {
   "cell_type": "code",
   "execution_count": 5,
   "metadata": {},
   "outputs": [],
   "source": [
    "def load_projects_tfidf(field):\n",
    "    # Load the full project data from the pickle file\n",
    "    content_projects = pd.read_pickle(\"../../data/processed/cf_projects_data\")\n",
    "\n",
    "    # Get the TF-IDF for the description fields\n",
    "    v = TfidfVectorizer(max_features=3000)\n",
    "    desc_idf = v.fit_transform(content_projects[field])\n",
    "\n",
    "    # Train/Val/Test Split\n",
    "    content_test_split_idx = int(np.floor(desc_idf.shape[0] * 0.8))\n",
    "    content_val_split_idx = int(content_test_split_idx * 0.9)\n",
    "\n",
    "    content_train_x = desc_idf[:content_val_split_idx]\n",
    "    content_val_x = desc_idf[content_val_split_idx:content_test_split_idx]\n",
    "    content_test_x = desc_idf[content_test_split_idx:]\n",
    "\n",
    "    content_train_labels_idx = np.arange(0, content_val_split_idx)\n",
    "    content_val_labels_idx = np.arange(content_val_split_idx, content_test_split_idx)\n",
    "    content_test_labels_idx = np.arange(content_test_split_idx, desc_idf.shape[0])\n",
    "\n",
    "    content_train_labels = pd.DataFrame(content_projects['project_id'].iloc[:content_val_split_idx], index=content_train_labels_idx)\n",
    "    content_val_labels = pd.DataFrame(content_projects['project_id'].iloc[content_val_split_idx:content_test_split_idx], index=content_val_labels_idx)\n",
    "    content_test_labels = pd.DataFrame(content_projects['project_id'].iloc[content_test_split_idx:], index=content_test_labels_idx)\n",
    "\n",
    "    return content_train_labels, content_train_x, content_val_labels, content_val_x, content_test_labels, content_test_x\n",
    "\n",
    "project_train_labels, project_train_x, project_val_labels, project_val_x, project_test_labels, project_test_x = load_projects_tfidf(field)\n",
    "\n",
    "# Generate the embeddings\n",
    "x = vstack([project_train_x, project_val_x, project_test_x]).tocsr()\n",
    "x_projects = project_train_labels + project_val_labels + project_test_labels"
   ]
  },
  {
   "cell_type": "markdown",
   "metadata": {},
   "source": [
    "# Get User-Project Similarity"
   ]
  },
  {
   "cell_type": "markdown",
   "metadata": {},
   "source": [
    "First create the users TF-IDF vector -- should be shape (3000,)"
   ]
  },
  {
   "cell_type": "code",
   "execution_count": 6,
   "metadata": {},
   "outputs": [],
   "source": [
    "users_tf_idf = None\n",
    "for user_index in range(0, train_x.shape[1]):\n",
    "    user_project_idx = np.nonzero(train_x[:, user_index])[0]\n",
    "    user_tf_idf = np.squeeze(np.asarray(x[user_project_idx].sum(axis=0)))\n",
    "    users_tf_idf = vstack([users_tf_idf, user_tf_idf])\n",
    "users_tf_idf = sparse.csr_matrix(users_tf_idf)"
   ]
  },
  {
   "cell_type": "code",
   "execution_count": 13,
   "metadata": {},
   "outputs": [
    {
     "data": {
      "text/plain": [
       "(896, 3000)"
      ]
     },
     "execution_count": 13,
     "metadata": {},
     "output_type": "execute_result"
    }
   ],
   "source": [
    "users_tf_idf.shape"
   ]
  },
  {
   "cell_type": "code",
   "execution_count": 11,
   "metadata": {},
   "outputs": [
    {
     "data": {
      "text/plain": [
       "(1021, 3000)"
      ]
     },
     "execution_count": 11,
     "metadata": {},
     "output_type": "execute_result"
    }
   ],
   "source": [
    "x.shape"
   ]
  },
  {
   "cell_type": "code",
   "execution_count": 47,
   "metadata": {},
   "outputs": [],
   "source": [
    "# Loop over all users\n",
    "cosine_sim = None\n",
    "for i in range(0, users_tf_idf.shape[0]):\n",
    "    # Get the users TF-IDF row\n",
    "    user_row = np.squeeze(np.asarray(users_tf_idf.getrow(0).todense())).reshape((3000, 1)).T\n",
    "    # Get the cosine similarity for every user to every project\n",
    "    user_cosine_sim = cosine_similarity(x.todense(), Y=user_row).T\n",
    "    cosine_sim = vstack([cosine_sim, user_cosine_sim])"
   ]
  },
  {
   "cell_type": "code",
   "execution_count": 48,
   "metadata": {},
   "outputs": [
    {
     "data": {
      "text/plain": [
       "(896, 1021)"
      ]
     },
     "execution_count": 48,
     "metadata": {},
     "output_type": "execute_result"
    }
   ],
   "source": [
    "cosine_sim.shape"
   ]
  },
  {
   "cell_type": "code",
   "execution_count": 49,
   "metadata": {},
   "outputs": [
    {
     "data": {
      "text/plain": [
       "scipy.sparse.coo.coo_matrix"
      ]
     },
     "execution_count": 49,
     "metadata": {},
     "output_type": "execute_result"
    }
   ],
   "source": [
    "type(cosine_sim)"
   ]
  },
  {
   "cell_type": "code",
   "execution_count": 50,
   "metadata": {},
   "outputs": [],
   "source": [
    "cosine_sim_mat = np.asarray(cosine_sim.todense())"
   ]
  },
  {
   "cell_type": "code",
   "execution_count": 51,
   "metadata": {},
   "outputs": [
    {
     "data": {
      "text/plain": [
       "(896, 1021)"
      ]
     },
     "execution_count": 51,
     "metadata": {},
     "output_type": "execute_result"
    }
   ],
   "source": [
    "cosine_sim_mat.shape"
   ]
  },
  {
   "cell_type": "code",
   "execution_count": 52,
   "metadata": {},
   "outputs": [
    {
     "data": {
      "text/plain": [
       "numpy.ndarray"
      ]
     },
     "execution_count": 52,
     "metadata": {},
     "output_type": "execute_result"
    }
   ],
   "source": [
    "type(cosine_sim_mat)"
   ]
  },
  {
   "cell_type": "code",
   "execution_count": 55,
   "metadata": {},
   "outputs": [],
   "source": [
    "np.save('../../data/processed/user-project-similarity.npy', cosine_sim_mat)"
   ]
  },
  {
   "cell_type": "code",
   "execution_count": null,
   "metadata": {},
   "outputs": [],
   "source": []
  }
 ],
 "metadata": {
  "kernelspec": {
   "display_name": "Python 3",
   "language": "python",
   "name": "python3"
  },
  "language_info": {
   "codemirror_mode": {
    "name": "ipython",
    "version": 3
   },
   "file_extension": ".py",
   "mimetype": "text/x-python",
   "name": "python",
   "nbconvert_exporter": "python",
   "pygments_lexer": "ipython3",
   "version": "3.6.8"
  }
 },
 "nbformat": 4,
 "nbformat_minor": 2
}
