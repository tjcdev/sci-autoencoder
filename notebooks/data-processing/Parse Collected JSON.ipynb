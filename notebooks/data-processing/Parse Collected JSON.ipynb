{
 "cells": [
  {
   "cell_type": "code",
   "execution_count": 1,
   "metadata": {},
   "outputs": [],
   "source": [
    "import json\n",
    "import numpy as np"
   ]
  },
  {
   "cell_type": "markdown",
   "metadata": {},
   "source": [
    "#### Experimenting with the locally created file"
   ]
  },
  {
   "cell_type": "code",
   "execution_count": 3,
   "metadata": {},
   "outputs": [],
   "source": [
    "with open('../sci_project_data/projectdata.txt') as json_file:  \n",
    "    data = json.load(json_file)"
   ]
  },
  {
   "cell_type": "code",
   "execution_count": 9,
   "metadata": {},
   "outputs": [
    {
     "data": {
      "text/plain": [
       "\"EnvironMentors provides mentors to high school students from under-represented backgrounds for college degree programs in environmental and related science fields. The program matches minority high school students with college and university faculty, graduate and undergraduate students, and science and environmental professionals, in one-to-one mentoring relationships. Working together, students and mentors develop rigorous environmental science research projects over the course of the academic year.\\r\\n\\r\\nIn the spring, EnvironMentors students present their projects to elementary school classes in their respective school districts and to a team of judges at each chapter's EnvironMentors Fair. The top three students from each chapter travel to Washington, D.C., to present their project at the National EnvironMentors Fair.\\r\\n\\r\\nEnvironMentors' integrative approach to identifying pressing environmental issues through hands-on application of the scientific method supported by a mentor has proven beneficial all students and life-changing for some.\""
      ]
     },
     "execution_count": 9,
     "metadata": {},
     "output_type": "execute_result"
    }
   ],
   "source": [
    "data['projects'][1]['description']"
   ]
  },
  {
   "cell_type": "code",
   "execution_count": null,
   "metadata": {},
   "outputs": [],
   "source": []
  }
 ],
 "metadata": {
  "kernelspec": {
   "display_name": "Python 3",
   "language": "python",
   "name": "python3"
  },
  "language_info": {
   "codemirror_mode": {
    "name": "ipython",
    "version": 3
   },
   "file_extension": ".py",
   "mimetype": "text/x-python",
   "name": "python",
   "nbconvert_exporter": "python",
   "pygments_lexer": "ipython3",
   "version": "3.7.3"
  }
 },
 "nbformat": 4,
 "nbformat_minor": 2
}
