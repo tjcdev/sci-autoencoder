{
 "cells": [
  {
   "cell_type": "code",
   "execution_count": 52,
   "metadata": {},
   "outputs": [],
   "source": [
    "import pandas as pd\n",
    "import json\n",
    "import numpy as np"
   ]
  },
  {
   "cell_type": "code",
   "execution_count": 62,
   "metadata": {},
   "outputs": [
    {
     "data": {
      "text/html": [
       "<div>\n",
       "<style scoped>\n",
       "    .dataframe tbody tr th:only-of-type {\n",
       "        vertical-align: middle;\n",
       "    }\n",
       "\n",
       "    .dataframe tbody tr th {\n",
       "        vertical-align: top;\n",
       "    }\n",
       "\n",
       "    .dataframe thead th {\n",
       "        text-align: right;\n",
       "    }\n",
       "</style>\n",
       "<table border=\"1\" class=\"dataframe\">\n",
       "  <thead>\n",
       "    <tr style=\"text-align: right;\">\n",
       "      <th></th>\n",
       "      <th>user_index</th>\n",
       "      <th>precision</th>\n",
       "      <th>recall</th>\n",
       "      <th>avg_precision</th>\n",
       "      <th>rmse</th>\n",
       "    </tr>\n",
       "  </thead>\n",
       "  <tbody>\n",
       "    <tr>\n",
       "      <th>count</th>\n",
       "      <td>344.000000</td>\n",
       "      <td>344.000000</td>\n",
       "      <td>344.000000</td>\n",
       "      <td>344.000000</td>\n",
       "      <td>3.440000e+02</td>\n",
       "    </tr>\n",
       "    <tr>\n",
       "      <th>mean</th>\n",
       "      <td>171.500000</td>\n",
       "      <td>0.018023</td>\n",
       "      <td>0.154506</td>\n",
       "      <td>0.010487</td>\n",
       "      <td>4.706947e-02</td>\n",
       "    </tr>\n",
       "    <tr>\n",
       "      <th>std</th>\n",
       "      <td>99.448479</td>\n",
       "      <td>0.043474</td>\n",
       "      <td>0.356164</td>\n",
       "      <td>0.026439</td>\n",
       "      <td>8.843143e-02</td>\n",
       "    </tr>\n",
       "    <tr>\n",
       "      <th>min</th>\n",
       "      <td>0.000000</td>\n",
       "      <td>0.000000</td>\n",
       "      <td>0.000000</td>\n",
       "      <td>0.000000</td>\n",
       "      <td>0.000000e+00</td>\n",
       "    </tr>\n",
       "    <tr>\n",
       "      <th>25%</th>\n",
       "      <td>85.750000</td>\n",
       "      <td>0.000000</td>\n",
       "      <td>0.000000</td>\n",
       "      <td>0.000000</td>\n",
       "      <td>3.484513e-36</td>\n",
       "    </tr>\n",
       "    <tr>\n",
       "      <th>50%</th>\n",
       "      <td>171.500000</td>\n",
       "      <td>0.000000</td>\n",
       "      <td>0.000000</td>\n",
       "      <td>0.000000</td>\n",
       "      <td>3.494810e-36</td>\n",
       "    </tr>\n",
       "    <tr>\n",
       "      <th>75%</th>\n",
       "      <td>257.250000</td>\n",
       "      <td>0.000000</td>\n",
       "      <td>0.000000</td>\n",
       "      <td>0.000000</td>\n",
       "      <td>3.494810e-36</td>\n",
       "    </tr>\n",
       "    <tr>\n",
       "      <th>max</th>\n",
       "      <td>343.000000</td>\n",
       "      <td>0.300000</td>\n",
       "      <td>1.000000</td>\n",
       "      <td>0.348148</td>\n",
       "      <td>4.303315e-01</td>\n",
       "    </tr>\n",
       "  </tbody>\n",
       "</table>\n",
       "</div>"
      ],
      "text/plain": [
       "       user_index   precision      recall  avg_precision          rmse\n",
       "count  344.000000  344.000000  344.000000     344.000000  3.440000e+02\n",
       "mean   171.500000    0.018023    0.154506       0.010487  4.706947e-02\n",
       "std     99.448479    0.043474    0.356164       0.026439  8.843143e-02\n",
       "min      0.000000    0.000000    0.000000       0.000000  0.000000e+00\n",
       "25%     85.750000    0.000000    0.000000       0.000000  3.484513e-36\n",
       "50%    171.500000    0.000000    0.000000       0.000000  3.494810e-36\n",
       "75%    257.250000    0.000000    0.000000       0.000000  3.494810e-36\n",
       "max    343.000000    0.300000    1.000000       0.348148  4.303315e-01"
      ]
     },
     "execution_count": 62,
     "metadata": {},
     "output_type": "execute_result"
    }
   ],
   "source": [
    "# Read results\n",
    "autoencoder_name = 'train_autoencoder_128_deep3_new_users_projects_0.8_10'\n",
    "results = pd.read_json('../../data/experiment-results/cf-autoencoder/%s.json' % (autoencoder_name), lines=True)\n",
    "\n",
    "results = results.T\n",
    "results['json'] = results[0]\n",
    "\n",
    "newDataframe = pd.DataFrame(columns=['user_index', 'precision', 'recall', 'y_pred', 'y_true', 'len_yPred', 'len_yTrue', 'avg_precision', 'rmse'])\n",
    "newDataframe['y_pred'] = newDataframe['y_pred'].astype(object)\n",
    "newDataframe['y_true'] = newDataframe['y_true'].astype(object)\n",
    "\n",
    "for index, row in results.iterrows():\n",
    "    newSeries = pd.Series(index=['user_index', 'precision', 'recall', 'y_pred', 'y_true', 'len_yPred', 'len_yTrue'])\n",
    "    newSeries['y_pred'] = newSeries['y_pred'].astype(object)\n",
    "    newSeries['y_true'] = newSeries['y_true'].astype(object)\n",
    "\n",
    "    newSeries['user_index'] = row['json']['user_index']\n",
    "    newSeries['precision'] = row['json']['precision']\n",
    "    newSeries['recall'] = row['json']['recall']\n",
    "\n",
    "    things1 = np.array(row['json']['y_pred']).astype('str')\n",
    "    things2 = np.array(row['json']['y_true']).astype('str')\n",
    "    y_pred_string = '[' + ', '.join(things1) + ']'\n",
    "    y_true_string = '[' + ', '.join(things2) + ']'\n",
    "    \n",
    "    newSeries['y_pred'] = y_pred_string\n",
    "    newSeries['y_true'] = y_true_string\n",
    "    \n",
    "    newSeries['len_yPred'] = len(row['json']['y_pred'])\n",
    "    newSeries['len_yTrue'] = len(row['json']['y_true'])\n",
    "    \n",
    "    newSeries['rmse'] = row['json']['rmse']\n",
    "    newSeries['avg_precision'] = row['json']['avg_precision']\n",
    "    \n",
    "    newDataframe.loc[index] = newSeries\n",
    "    \n",
    "newDataframe.describe()"
   ]
  },
  {
   "cell_type": "code",
   "execution_count": 63,
   "metadata": {},
   "outputs": [
    {
     "data": {
      "text/plain": [
       "10"
      ]
     },
     "execution_count": 63,
     "metadata": {},
     "output_type": "execute_result"
    }
   ],
   "source": [
    "all_preds = np.array([])\n",
    "for i in range(0, newDataframe.shape[1]):\n",
    "    preds = np.asarray(newDataframe.iloc[i]['y_pred'][1:-1].split(', '), dtype=int)\n",
    "    all_preds = np.append(all_preds, preds)\n",
    "    \n",
    "len(set(all_preds))"
   ]
  },
  {
   "cell_type": "code",
   "execution_count": 64,
   "metadata": {},
   "outputs": [
    {
     "data": {
      "text/plain": [
       "{1.0, 2.0, 3.0, 4.0, 5.0, 6.0, 7.0, 8.0, 12.0, 26.0}"
      ]
     },
     "execution_count": 64,
     "metadata": {},
     "output_type": "execute_result"
    }
   ],
   "source": [
    "set(all_preds)"
   ]
  },
  {
   "cell_type": "code",
   "execution_count": 67,
   "metadata": {},
   "outputs": [
    {
     "data": {
      "text/html": [
       "<div>\n",
       "<style scoped>\n",
       "    .dataframe tbody tr th:only-of-type {\n",
       "        vertical-align: middle;\n",
       "    }\n",
       "\n",
       "    .dataframe tbody tr th {\n",
       "        vertical-align: top;\n",
       "    }\n",
       "\n",
       "    .dataframe thead th {\n",
       "        text-align: right;\n",
       "    }\n",
       "</style>\n",
       "<table border=\"1\" class=\"dataframe\">\n",
       "  <thead>\n",
       "    <tr style=\"text-align: right;\">\n",
       "      <th></th>\n",
       "      <th>user_index</th>\n",
       "      <th>precision</th>\n",
       "      <th>recall</th>\n",
       "      <th>y_pred</th>\n",
       "      <th>y_true</th>\n",
       "      <th>len_yPred</th>\n",
       "      <th>len_yTrue</th>\n",
       "      <th>avg_precision</th>\n",
       "      <th>rmse</th>\n",
       "    </tr>\n",
       "  </thead>\n",
       "  <tbody>\n",
       "    <tr>\n",
       "      <th>81</th>\n",
       "      <td>81.0</td>\n",
       "      <td>0.2</td>\n",
       "      <td>0.4</td>\n",
       "      <td>[1, 2, 3, 4, 5, 6, 7, 8, 12, 26]</td>\n",
       "      <td>[1, 6, 9, 10, 20]</td>\n",
       "      <td>10</td>\n",
       "      <td>5</td>\n",
       "      <td>0.348148</td>\n",
       "      <td>0.430331</td>\n",
       "    </tr>\n",
       "  </tbody>\n",
       "</table>\n",
       "</div>"
      ],
      "text/plain": [
       "    user_index  precision  recall                            y_pred  \\\n",
       "81        81.0        0.2     0.4  [1, 2, 3, 4, 5, 6, 7, 8, 12, 26]   \n",
       "\n",
       "               y_true len_yPred len_yTrue  avg_precision      rmse  \n",
       "81  [1, 6, 9, 10, 20]        10         5       0.348148  0.430331  "
      ]
     },
     "execution_count": 67,
     "metadata": {},
     "output_type": "execute_result"
    }
   ],
   "source": [
    "newDataframe[newDataframe['user_index'] == 81.0]"
   ]
  },
  {
   "cell_type": "code",
   "execution_count": null,
   "metadata": {},
   "outputs": [],
   "source": []
  }
 ],
 "metadata": {
  "kernelspec": {
   "display_name": "Python 3",
   "language": "python",
   "name": "python3"
  },
  "language_info": {
   "codemirror_mode": {
    "name": "ipython",
    "version": 3
   },
   "file_extension": ".py",
   "mimetype": "text/x-python",
   "name": "python",
   "nbconvert_exporter": "python",
   "pygments_lexer": "ipython3",
   "version": "3.6.8"
  }
 },
 "nbformat": 4,
 "nbformat_minor": 2
}
