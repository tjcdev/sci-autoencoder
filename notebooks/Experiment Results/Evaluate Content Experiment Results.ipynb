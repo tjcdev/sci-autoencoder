{
 "cells": [
  {
   "cell_type": "code",
   "execution_count": 2,
   "metadata": {},
   "outputs": [],
   "source": [
    "import pandas as pd\n",
    "import json\n",
    "import numpy as np"
   ]
  },
  {
   "cell_type": "code",
   "execution_count": 3,
   "metadata": {},
   "outputs": [],
   "source": [
    "# Read results\n",
    "name = 'results-train_autoencoder_128_cdae_doc2vec_description_10'\n",
    "results = pd.read_json('../../data/experiment-results/content-sci-autoencoder/%s.json' % (name), lines=True)\n"
   ]
  },
  {
   "cell_type": "code",
   "execution_count": 4,
   "metadata": {},
   "outputs": [],
   "source": [
    "results = results.T\n",
    "results['json'] = results[0]"
   ]
  },
  {
   "cell_type": "code",
   "execution_count": 5,
   "metadata": {},
   "outputs": [
    {
     "data": {
      "text/html": [
       "<div>\n",
       "<style scoped>\n",
       "    .dataframe tbody tr th:only-of-type {\n",
       "        vertical-align: middle;\n",
       "    }\n",
       "\n",
       "    .dataframe tbody tr th {\n",
       "        vertical-align: top;\n",
       "    }\n",
       "\n",
       "    .dataframe thead th {\n",
       "        text-align: right;\n",
       "    }\n",
       "</style>\n",
       "<table border=\"1\" class=\"dataframe\">\n",
       "  <thead>\n",
       "    <tr style=\"text-align: right;\">\n",
       "      <th></th>\n",
       "      <th>user_index</th>\n",
       "      <th>precision</th>\n",
       "      <th>recall</th>\n",
       "      <th>refined_precision</th>\n",
       "    </tr>\n",
       "  </thead>\n",
       "  <tbody>\n",
       "    <tr>\n",
       "      <th>count</th>\n",
       "      <td>1618.000000</td>\n",
       "      <td>1618.000000</td>\n",
       "      <td>1618.000000</td>\n",
       "      <td>1618.000000</td>\n",
       "    </tr>\n",
       "    <tr>\n",
       "      <th>mean</th>\n",
       "      <td>809.500000</td>\n",
       "      <td>0.001360</td>\n",
       "      <td>0.007909</td>\n",
       "      <td>0.260934</td>\n",
       "    </tr>\n",
       "    <tr>\n",
       "      <th>std</th>\n",
       "      <td>467.220683</td>\n",
       "      <td>0.011585</td>\n",
       "      <td>0.078566</td>\n",
       "      <td>0.568064</td>\n",
       "    </tr>\n",
       "    <tr>\n",
       "      <th>min</th>\n",
       "      <td>1.000000</td>\n",
       "      <td>0.000000</td>\n",
       "      <td>0.000000</td>\n",
       "      <td>-0.930579</td>\n",
       "    </tr>\n",
       "    <tr>\n",
       "      <th>25%</th>\n",
       "      <td>405.250000</td>\n",
       "      <td>0.000000</td>\n",
       "      <td>0.000000</td>\n",
       "      <td>-0.324292</td>\n",
       "    </tr>\n",
       "    <tr>\n",
       "      <th>50%</th>\n",
       "      <td>809.500000</td>\n",
       "      <td>0.000000</td>\n",
       "      <td>0.000000</td>\n",
       "      <td>0.504210</td>\n",
       "    </tr>\n",
       "    <tr>\n",
       "      <th>75%</th>\n",
       "      <td>1213.750000</td>\n",
       "      <td>0.000000</td>\n",
       "      <td>0.000000</td>\n",
       "      <td>0.718451</td>\n",
       "    </tr>\n",
       "    <tr>\n",
       "      <th>max</th>\n",
       "      <td>1618.000000</td>\n",
       "      <td>0.100000</td>\n",
       "      <td>1.000000</td>\n",
       "      <td>1.083558</td>\n",
       "    </tr>\n",
       "  </tbody>\n",
       "</table>\n",
       "</div>"
      ],
      "text/plain": [
       "        user_index    precision       recall  refined_precision\n",
       "count  1618.000000  1618.000000  1618.000000        1618.000000\n",
       "mean    809.500000     0.001360     0.007909           0.260934\n",
       "std     467.220683     0.011585     0.078566           0.568064\n",
       "min       1.000000     0.000000     0.000000          -0.930579\n",
       "25%     405.250000     0.000000     0.000000          -0.324292\n",
       "50%     809.500000     0.000000     0.000000           0.504210\n",
       "75%    1213.750000     0.000000     0.000000           0.718451\n",
       "max    1618.000000     0.100000     1.000000           1.083558"
      ]
     },
     "execution_count": 5,
     "metadata": {},
     "output_type": "execute_result"
    }
   ],
   "source": [
    "newDataframe = pd.DataFrame(columns=['user_index', 'precision', 'recall', 'refined_precision', 'y_pred', 'y_true'])\n",
    "newDataframe['y_pred'] = newDataframe['y_pred'].astype(object)\n",
    "newDataframe['y_true'] = newDataframe['y_true'].astype(object)\n",
    "\n",
    "for index, row in results.iterrows():\n",
    "    newSeries = pd.Series(index=['user_index', 'precision', 'recall', 'refined_precision', 'y_pred', 'y_true'])\n",
    "    newSeries['y_pred'] = newSeries['y_pred'].astype(object)\n",
    "    newSeries['y_true'] = newSeries['y_true'].astype(object)\n",
    "\n",
    "    newSeries['user_index'] = row['json']['user_index']\n",
    "    newSeries['precision'] = row['json']['precision']\n",
    "    newSeries['recall'] = row['json']['recall']\n",
    "    newSeries['refined_precision'] = row['json']['refined_precision']\n",
    "\n",
    "    things1 = np.array(row['json']['y_pred']).astype('str')\n",
    "    things2 = np.array(row['json']['y_true']).astype('str')\n",
    "    y_pred_string = '[' + ', '.join(things1) + ']'\n",
    "    y_true_string = '[' + ', '.join(things2) + ']'\n",
    "    \n",
    "    newSeries['y_pred'] = y_pred_string\n",
    "    newSeries['y_true'] = y_true_string\n",
    "    \n",
    "    newDataframe.loc[index] = newSeries\n",
    "    \n",
    "newDataframe.describe()"
   ]
  },
  {
   "cell_type": "code",
   "execution_count": 37,
   "metadata": {},
   "outputs": [
    {
     "data": {
      "text/plain": [
       "52"
      ]
     },
     "execution_count": 37,
     "metadata": {},
     "output_type": "execute_result"
    }
   ],
   "source": [
    "all_preds = np.array([])\n",
    "for i in range(0, newDataframe.shape[1]):\n",
    "    preds = np.asarray(newDataframe.iloc[i]['y_pred'][1:-1].split(', '), dtype=int)\n",
    "    all_preds = np.append(all_preds, preds)\n",
    "    \n",
    "len(set(all_preds))"
   ]
  },
  {
   "cell_type": "code",
   "execution_count": 36,
   "metadata": {},
   "outputs": [
    {
     "data": {
      "text/plain": [
       "{17.0,\n",
       " 20.0,\n",
       " 31.0,\n",
       " 93.0,\n",
       " 193.0,\n",
       " 206.0,\n",
       " 212.0,\n",
       " 215.0,\n",
       " 244.0,\n",
       " 258.0,\n",
       " 316.0,\n",
       " 331.0,\n",
       " 361.0,\n",
       " 366.0,\n",
       " 371.0,\n",
       " 391.0,\n",
       " 399.0,\n",
       " 464.0,\n",
       " 475.0,\n",
       " 524.0,\n",
       " 588.0,\n",
       " 616.0,\n",
       " 654.0,\n",
       " 681.0,\n",
       " 686.0,\n",
       " 702.0,\n",
       " 709.0,\n",
       " 716.0,\n",
       " 757.0,\n",
       " 773.0,\n",
       " 794.0,\n",
       " 818.0,\n",
       " 830.0,\n",
       " 862.0,\n",
       " 868.0,\n",
       " 987.0,\n",
       " 1010.0,\n",
       " 1025.0,\n",
       " 1027.0,\n",
       " 1077.0,\n",
       " 1095.0,\n",
       " 1106.0,\n",
       " 1113.0,\n",
       " 1124.0,\n",
       " 1125.0,\n",
       " 1128.0,\n",
       " 1133.0,\n",
       " 1190.0,\n",
       " 1206.0,\n",
       " 1221.0,\n",
       " 1259.0,\n",
       " 1271.0}"
      ]
     },
     "execution_count": 36,
     "metadata": {},
     "output_type": "execute_result"
    }
   ],
   "source": [
    "set(all_preds)"
   ]
  },
  {
   "cell_type": "code",
   "execution_count": null,
   "metadata": {},
   "outputs": [],
   "source": []
  }
 ],
 "metadata": {
  "kernelspec": {
   "display_name": "Python 3",
   "language": "python",
   "name": "python3"
  },
  "language_info": {
   "codemirror_mode": {
    "name": "ipython",
    "version": 3
   },
   "file_extension": ".py",
   "mimetype": "text/x-python",
   "name": "python",
   "nbconvert_exporter": "python",
   "pygments_lexer": "ipython3",
   "version": "3.6.8"
  }
 },
 "nbformat": 4,
 "nbformat_minor": 2
}
