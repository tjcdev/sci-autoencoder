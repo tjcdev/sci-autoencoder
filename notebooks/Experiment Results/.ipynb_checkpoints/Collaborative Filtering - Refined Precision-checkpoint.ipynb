{
 "cells": [
  {
   "cell_type": "code",
   "execution_count": 1,
   "metadata": {},
   "outputs": [],
   "source": [
    "import pandas as pd\n",
    "import json\n",
    "import numpy as np"
   ]
  },
  {
   "cell_type": "markdown",
   "metadata": {},
   "source": [
    "# Load Projects"
   ]
  },
  {
   "cell_type": "code",
   "execution_count": 2,
   "metadata": {},
   "outputs": [
    {
     "name": "stderr",
     "output_type": "stream",
     "text": [
      "Using TensorFlow backend.\n"
     ]
    }
   ],
   "source": [
    "import os\n",
    "import sys\n",
    "from time import gmtime, strftime\n",
    "\n",
    "from keras.models import load_model\n",
    "from sklearn.metrics import precision_recall_fscore_support, mean_squared_error, average_precision_score\n",
    "import numpy as np\n",
    "import pandas as pd\n",
    "import math\n",
    "import keras.backend as K\n",
    "from scipy import sparse\n",
    "from scipy.sparse import vstack\n",
    "\n",
    "# Content based recommender imports\n",
    "module_path = os.path.abspath(os.path.join('../../'))\n",
    "if module_path not in sys.path:\n",
    "    sys.path.append(module_path)\n",
    "    \n",
    "from src.models.recommenders.content_recommender import ContentRecommender\n",
    "from gensim.models import doc2vec\n",
    "from collections import namedtuple\n",
    "from sklearn.feature_extraction.text import TfidfVectorizer\n",
    "from keras.models import Model\n",
    "from sklearn.metrics.pairwise import cosine_similarity\n",
    "\n",
    "sys.path.append('../../data')\n",
    "sys.path.append('../../src/models')\n",
    "from recommenders.cf_recommender import CFRecommender\n",
    "from autoencoders import hyb2, hyb3"
   ]
  },
  {
   "cell_type": "code",
   "execution_count": 3,
   "metadata": {},
   "outputs": [],
   "source": [
    "field = 'description'"
   ]
  },
  {
   "cell_type": "code",
   "execution_count": 4,
   "metadata": {},
   "outputs": [],
   "source": [
    "def load_projects_tfidf(field):\n",
    "    # Load the full project data from the pickle file\n",
    "    content_projects = pd.read_pickle(\"../../data/processed/cf_projects_data\")\n",
    "\n",
    "    # Get the TF-IDF for the description fields\n",
    "    v = TfidfVectorizer(max_features=3000)\n",
    "    desc_idf = v.fit_transform(content_projects[field])\n",
    "\n",
    "    # Train/Val/Test Split\n",
    "    content_test_split_idx = int(np.floor(desc_idf.shape[0] * 0.8))\n",
    "    content_val_split_idx = int(content_test_split_idx * 0.9)\n",
    "\n",
    "    content_train_x = desc_idf[:content_val_split_idx]\n",
    "    content_val_x = desc_idf[content_val_split_idx:content_test_split_idx]\n",
    "    content_test_x = desc_idf[content_test_split_idx:]\n",
    "\n",
    "    content_train_labels_idx = np.arange(0, content_val_split_idx)\n",
    "    content_val_labels_idx = np.arange(content_val_split_idx, content_test_split_idx)\n",
    "    content_test_labels_idx = np.arange(content_test_split_idx, desc_idf.shape[0])\n",
    "\n",
    "    content_train_labels = pd.DataFrame(content_projects['project_id'].iloc[:content_val_split_idx], index=content_train_labels_idx)\n",
    "    content_val_labels = pd.DataFrame(content_projects['project_id'].iloc[content_val_split_idx:content_test_split_idx], index=content_val_labels_idx)\n",
    "    content_test_labels = pd.DataFrame(content_projects['project_id'].iloc[content_test_split_idx:], index=content_test_labels_idx)\n",
    "\n",
    "    return content_train_labels, content_train_x, content_val_labels, content_val_x, content_test_labels, content_test_x\n",
    "\n",
    "project_train_labels, project_train_x, project_val_labels, project_val_x, project_test_labels, project_test_x = load_projects_tfidf(field)\n",
    "\n",
    "# Generate the embeddings\n",
    "x = vstack([project_train_x, project_val_x, project_test_x]).tocsr()\n",
    "x_projects = project_train_labels + project_val_labels + project_test_labels"
   ]
  },
  {
   "cell_type": "markdown",
   "metadata": {},
   "source": [
    "# Calculate Similarity"
   ]
  },
  {
   "cell_type": "code",
   "execution_count": 5,
   "metadata": {},
   "outputs": [],
   "source": [
    "similarity = cosine_similarity(x.todense())"
   ]
  },
  {
   "cell_type": "code",
   "execution_count": null,
   "metadata": {},
   "outputs": [],
   "source": [
    "# Read results\n",
    "autoencoder_name = 'pop_1'\n",
    "results = pd.read_json('../../data/experiment-results/benchmarks/%s.json' % (autoencoder_name), lines=True)\n",
    "\n",
    "results = results.T\n",
    "results['json'] = results[0]\n",
    "\n",
    "newDataframe = pd.DataFrame(columns=['user_index', 'precision', 'recall', 'y_pred', 'y_true', 'len_yPred', 'len_yTrue', 'avg_precision', 'rmse'])\n",
    "newDataframe['y_pred'] = newDataframe['y_pred'].astype(object)\n",
    "newDataframe['y_true'] = newDataframe['y_true'].astype(object)\n",
    "\n",
    "for index, row in results.iterrows():\n",
    "    newSeries = pd.Series(index=['user_index', 'precision', 'recall', 'y_pred', 'y_true', 'len_yPred', 'len_yTrue'])\n",
    "    newSeries['y_pred'] = newSeries['y_pred'].astype(object)\n",
    "    newSeries['y_true'] = newSeries['y_true'].astype(object)\n",
    "\n",
    "    newSeries['user_index'] = row['json']['user_index']\n",
    "    newSeries['precision'] = row['json']['precision']\n",
    "    newSeries['recall'] = row['json']['recall']\n",
    "\n",
    "    things1 = np.array(row['json']['y_pred']).astype('str')\n",
    "    things2 = np.array(row['json']['y_true']).astype('str')\n",
    "    y_pred_string = '[' + ', '.join(things1) + ']'\n",
    "    y_true_string = '[' + ', '.join(things2) + ']'\n",
    "    \n",
    "    newSeries['y_pred'] = y_pred_string\n",
    "    newSeries['y_true'] = y_true_string\n",
    "    \n",
    "    newSeries['len_yPred'] = len(row['json']['y_pred'])\n",
    "    newSeries['len_yTrue'] = len(row['json']['y_true'])\n",
    "    \n",
    "    # newSeries['rmse'] = row['json']['rmse']\n",
    "    # newSeries['avg_precision'] = row['json']['avg_precision']\n",
    "    \n",
    "    newDataframe.loc[index] = newSeries\n",
    "   \n",
    "# Calulate similarity\n",
    "refined_precisions = []\n",
    "for i in range(0, newDataframe.shape[0]):\n",
    "    user_row = newDataframe.iloc[i]\n",
    "    if len(user_row['y_true'][1:-1]) > 0:\n",
    "        y_pred = np.array([int(s) for s in user_row['y_pred'][1:-1].split(',')])\n",
    "        y_true = np.array([int(s) for s in user_row['y_true'][1:-1].split(',')])\n",
    "\n",
    "        pred_sim_matrix = similarity[y_pred]\n",
    "\n",
    "        masked_pred_sim_matrix = pred_sim_matrix[:, y_true]\n",
    "\n",
    "        precision = user_row['precision']\n",
    "\n",
    "        refined_precision = np.mean(masked_pred_sim_matrix.max(axis=0)) + precision\n",
    "        refined_precisions = refined_precisions + [refined_precision]\n",
    "\n",
    "np.mean(refined_precisions)"
   ]
  },
  {
   "cell_type": "code",
   "execution_count": null,
   "metadata": {},
   "outputs": [],
   "source": []
  }
 ],
 "metadata": {
  "kernelspec": {
   "display_name": "Python 3",
   "language": "python",
   "name": "python3"
  },
  "language_info": {
   "codemirror_mode": {
    "name": "ipython",
    "version": 3
   },
   "file_extension": ".py",
   "mimetype": "text/x-python",
   "name": "python",
   "nbconvert_exporter": "python",
   "pygments_lexer": "ipython3",
   "version": "3.6.8"
  }
 },
 "nbformat": 4,
 "nbformat_minor": 2
}
