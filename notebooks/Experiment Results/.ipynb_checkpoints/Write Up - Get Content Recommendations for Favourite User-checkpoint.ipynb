{
 "cells": [
  {
   "cell_type": "code",
   "execution_count": 1,
   "metadata": {},
   "outputs": [
    {
     "name": "stderr",
     "output_type": "stream",
     "text": [
      "Using TensorFlow backend.\n"
     ]
    }
   ],
   "source": [
    "from keras.models import load_model\n",
    "from sklearn.metrics.pairwise import cosine_similarity\n",
    "import pandas as pd\n",
    "import numpy as np\n",
    "np.random.seed(0)\n",
    "from time import gmtime, strftime\n",
    "from keras.models import Model\n",
    "from scipy.sparse import vstack\n",
    "import math\n",
    "from scipy import sparse\n",
    "\n",
    "import sys\n",
    "import os \n",
    "\n",
    "dirpath = os.getcwd()\n",
    "dir_path = dirpath[:-28]\n",
    "\n",
    "sys.path.append(dir_path + 'data/data_models')\n",
    "sys.path.append(dir_path + 'src/models/recommenders')\n",
    "\n",
    "from content_recommender import ContentRecommender as Recommender\n",
    "from cf_data import load_users_projects\n",
    "from content_data import load_projects_tfidf, load_projects_doc2vec"
   ]
  },
  {
   "cell_type": "code",
   "execution_count": 2,
   "metadata": {},
   "outputs": [
    {
     "name": "stdout",
     "output_type": "stream",
     "text": [
      "WARNING:tensorflow:From /Users/thomascartwright/miniconda3/envs/cdea/lib/python3.6/site-packages/tensorflow/python/ops/control_flow_ops.py:423: colocate_with (from tensorflow.python.framework.ops) is deprecated and will be removed in a future version.\n",
      "Instructions for updating:\n",
      "Colocations handled automatically by placer.\n",
      "WARNING:tensorflow:From /Users/thomascartwright/miniconda3/envs/cdea/lib/python3.6/site-packages/keras/backend/tensorflow_backend.py:3445: calling dropout (from tensorflow.python.ops.nn_ops) with keep_prob is deprecated and will be removed in a future version.\n",
      "Instructions for updating:\n",
      "Please use `rate` instead of `keep_prob`. Rate should be set to `rate = 1 - keep_prob`.\n",
      "WARNING:tensorflow:From /Users/thomascartwright/miniconda3/envs/cdea/lib/python3.6/site-packages/tensorflow/python/ops/math_ops.py:3066: to_int32 (from tensorflow.python.ops.math_ops) is deprecated and will be removed in a future version.\n",
      "Instructions for updating:\n",
      "Use tf.cast instead.\n",
      "Recommender\n"
     ]
    }
   ],
   "source": [
    "k = 1 #int(sys.argv[1])\n",
    "autoencoder_model = 'train_autoencoder_32_cdae_tfidf_description' #str(sys.argv[2]) # 'autoencoder_32_cdae_tfidf_desc'\n",
    "dataSource = 'tfidf'  #str(sys.argv[3]) # 'tfidf' \n",
    "field = 'description' # str(sys.argv[4])\n",
    "\n",
    "# Load the autoencoder to use\n",
    "autoencoder = load_model('../../data/autoencoders/' + autoencoder_model + '.h5')\n",
    "\n",
    "# Load the project data\n",
    "loadData = None\n",
    "\n",
    "loadData = load_projects_tfidf\n",
    "\n",
    "\n",
    "project_train_labels, project_train_x, project_val_labels, project_val_x, project_test_labels, project_test_x = loadData(field, base_folder ='../../')\n",
    "\n",
    "# Generate the embeddings\n",
    "embed_model = Model(inputs=autoencoder.input, outputs=autoencoder.get_layer('embedding_layer').output)\n",
    "x = vstack([project_train_x, project_val_x, project_test_x]).tocsr()\n",
    "x_projects = project_train_labels + project_val_labels + project_test_labels\n",
    "embedding_size = autoencoder.get_layer('embedding_layer').output_shape[2]\n",
    "other_x = np.array(x_projects.index, dtype=np.int32).reshape(len(x_projects), 1).flatten()\n",
    "embeddings = embed_model.predict(x=[x, other_x])\n",
    "embeddings = embeddings.reshape(len(x_projects), embedding_size)\n",
    "\n",
    "# Build our recommender and similarity matrix\n",
    "recommender = Recommender()\n",
    "similarity_matrix = recommender.similarity(embeddings)"
   ]
  },
  {
   "cell_type": "code",
   "execution_count": 5,
   "metadata": {},
   "outputs": [],
   "source": [
    "# Get relevant projects\n",
    "projects = pd.read_pickle('../../data/processed/project_data')"
   ]
  },
  {
   "cell_type": "code",
   "execution_count": 7,
   "metadata": {},
   "outputs": [
    {
     "data": {
      "text/plain": [
       "Int64Index([44, 52, 60, 63, 672], dtype='int64')"
      ]
     },
     "execution_count": 7,
     "metadata": {},
     "output_type": "execute_result"
    }
   ],
   "source": [
    "projects[projects['title'].isin(['The Genographic Project', 'Maine Amphibian Monitoring Program',\n",
    "       'Perfect Pitch Test',\n",
    "       'Citizens and Remote Sensing Observational Network',\n",
    "       'Yellowhammer Dialects'])].index"
   ]
  },
  {
   "cell_type": "code",
   "execution_count": 8,
   "metadata": {},
   "outputs": [
    {
     "data": {
      "text/plain": [
       "(1781, 1781)"
      ]
     },
     "execution_count": 8,
     "metadata": {},
     "output_type": "execute_result"
    }
   ],
   "source": [
    "similarity_matrix.shape"
   ]
  },
  {
   "cell_type": "code",
   "execution_count": 9,
   "metadata": {},
   "outputs": [],
   "source": [
    "train_projects = np.zeros((similarity_matrix.shape[0]))"
   ]
  },
  {
   "cell_type": "code",
   "execution_count": 10,
   "metadata": {},
   "outputs": [
    {
     "data": {
      "text/plain": [
       "(1781,)"
      ]
     },
     "execution_count": 10,
     "metadata": {},
     "output_type": "execute_result"
    }
   ],
   "source": [
    "train_projects.shape"
   ]
  },
  {
   "cell_type": "code",
   "execution_count": 11,
   "metadata": {},
   "outputs": [],
   "source": [
    "train_projects[[44, 52, 60, 63, 672]] = 1"
   ]
  },
  {
   "cell_type": "code",
   "execution_count": 13,
   "metadata": {},
   "outputs": [],
   "source": [
    "user_projects_sim = np.sum(train_projects * similarity_matrix.values, axis=0) / 5"
   ]
  },
  {
   "cell_type": "code",
   "execution_count": 15,
   "metadata": {},
   "outputs": [],
   "source": [
    "# TODO: Remove items from the list that are already done\n",
    "# We can do this through masking\n",
    "projects_to_not_suggest_again = train_projects.nonzero()"
   ]
  },
  {
   "cell_type": "code",
   "execution_count": 16,
   "metadata": {},
   "outputs": [
    {
     "data": {
      "text/plain": [
       "(array([ 44,  52,  60,  63, 672]),)"
      ]
     },
     "execution_count": 16,
     "metadata": {},
     "output_type": "execute_result"
    }
   ],
   "source": [
    "projects_to_not_suggest_again"
   ]
  },
  {
   "cell_type": "code",
   "execution_count": 17,
   "metadata": {},
   "outputs": [],
   "source": [
    "user_projects_sim[projects_to_not_suggest_again] = -1"
   ]
  },
  {
   "cell_type": "code",
   "execution_count": 29,
   "metadata": {},
   "outputs": [],
   "source": [
    "# Order the projects by similarity\n",
    "similar_items = pd.DataFrame(user_projects_sim)\n",
    "similar_items.columns = ['similarity_score']\n",
    "similar_items['project_id'] = similarity_matrix.columns\n",
    "similar_items = similar_items.sort_values('similarity_score', ascending=False)\n",
    "\n",
    "# Pick the Top-K new items\n",
    "similar_items = similar_items.head(12)"
   ]
  },
  {
   "cell_type": "code",
   "execution_count": 30,
   "metadata": {},
   "outputs": [
    {
     "data": {
      "text/html": [
       "<div>\n",
       "<style scoped>\n",
       "    .dataframe tbody tr th:only-of-type {\n",
       "        vertical-align: middle;\n",
       "    }\n",
       "\n",
       "    .dataframe tbody tr th {\n",
       "        vertical-align: top;\n",
       "    }\n",
       "\n",
       "    .dataframe thead th {\n",
       "        text-align: right;\n",
       "    }\n",
       "</style>\n",
       "<table border=\"1\" class=\"dataframe\">\n",
       "  <thead>\n",
       "    <tr style=\"text-align: right;\">\n",
       "      <th></th>\n",
       "      <th>similarity_score</th>\n",
       "      <th>project_id</th>\n",
       "    </tr>\n",
       "  </thead>\n",
       "  <tbody>\n",
       "    <tr>\n",
       "      <th>0</th>\n",
       "      <td>0.0</td>\n",
       "      <td>0</td>\n",
       "    </tr>\n",
       "    <tr>\n",
       "      <th>1184</th>\n",
       "      <td>0.0</td>\n",
       "      <td>1184</td>\n",
       "    </tr>\n",
       "    <tr>\n",
       "      <th>1195</th>\n",
       "      <td>0.0</td>\n",
       "      <td>1195</td>\n",
       "    </tr>\n",
       "    <tr>\n",
       "      <th>1194</th>\n",
       "      <td>0.0</td>\n",
       "      <td>1194</td>\n",
       "    </tr>\n",
       "    <tr>\n",
       "      <th>1193</th>\n",
       "      <td>0.0</td>\n",
       "      <td>1193</td>\n",
       "    </tr>\n",
       "    <tr>\n",
       "      <th>1192</th>\n",
       "      <td>0.0</td>\n",
       "      <td>1192</td>\n",
       "    </tr>\n",
       "    <tr>\n",
       "      <th>1191</th>\n",
       "      <td>0.0</td>\n",
       "      <td>1191</td>\n",
       "    </tr>\n",
       "    <tr>\n",
       "      <th>1190</th>\n",
       "      <td>0.0</td>\n",
       "      <td>1190</td>\n",
       "    </tr>\n",
       "    <tr>\n",
       "      <th>1189</th>\n",
       "      <td>0.0</td>\n",
       "      <td>1189</td>\n",
       "    </tr>\n",
       "    <tr>\n",
       "      <th>1188</th>\n",
       "      <td>0.0</td>\n",
       "      <td>1188</td>\n",
       "    </tr>\n",
       "    <tr>\n",
       "      <th>1187</th>\n",
       "      <td>0.0</td>\n",
       "      <td>1187</td>\n",
       "    </tr>\n",
       "    <tr>\n",
       "      <th>1186</th>\n",
       "      <td>0.0</td>\n",
       "      <td>1186</td>\n",
       "    </tr>\n",
       "  </tbody>\n",
       "</table>\n",
       "</div>"
      ],
      "text/plain": [
       "      similarity_score  project_id\n",
       "0                  0.0           0\n",
       "1184               0.0        1184\n",
       "1195               0.0        1195\n",
       "1194               0.0        1194\n",
       "1193               0.0        1193\n",
       "1192               0.0        1192\n",
       "1191               0.0        1191\n",
       "1190               0.0        1190\n",
       "1189               0.0        1189\n",
       "1188               0.0        1188\n",
       "1187               0.0        1187\n",
       "1186               0.0        1186"
      ]
     },
     "execution_count": 30,
     "metadata": {},
     "output_type": "execute_result"
    }
   ],
   "source": [
    "similar_items"
   ]
  },
  {
   "cell_type": "code",
   "execution_count": 31,
   "metadata": {},
   "outputs": [
    {
     "data": {
      "text/plain": [
       "array(['Salida Trail Project Ditch Creek Water Quality Testing',\n",
       "       'Testing the waters in Negril, Jamaica', 'n/a',\n",
       "       'UK Ladybird Survey', 'Makers Local 256',\n",
       "       'The Microbiome and Oral Health', 'BioCurious', 'Track a Tree',\n",
       "       'Connecticut Turtle Atlas', 'Counter Culture Labs'], dtype=object)"
      ]
     },
     "execution_count": 31,
     "metadata": {},
     "output_type": "execute_result"
    }
   ],
   "source": [
    "projects[projects['project_id'].isin(similar_items['project_id'].values)]['title'].values"
   ]
  },
  {
   "cell_type": "code",
   "execution_count": null,
   "metadata": {},
   "outputs": [],
   "source": []
  }
 ],
 "metadata": {
  "kernelspec": {
   "display_name": "Python 3",
   "language": "python",
   "name": "python3"
  },
  "language_info": {
   "codemirror_mode": {
    "name": "ipython",
    "version": 3
   },
   "file_extension": ".py",
   "mimetype": "text/x-python",
   "name": "python",
   "nbconvert_exporter": "python",
   "pygments_lexer": "ipython3",
   "version": "3.6.8"
  }
 },
 "nbformat": 4,
 "nbformat_minor": 2
}
