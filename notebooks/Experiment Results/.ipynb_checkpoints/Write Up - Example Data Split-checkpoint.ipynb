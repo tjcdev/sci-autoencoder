{
 "cells": [
  {
   "cell_type": "code",
   "execution_count": 4,
   "metadata": {},
   "outputs": [],
   "source": [
    "import pandas as pd\n",
    "import scipy.sparse as sparse"
   ]
  },
  {
   "cell_type": "code",
   "execution_count": 5,
   "metadata": {},
   "outputs": [],
   "source": [
    "cf = pd.read_pickle('../../data/processed/new_cf_projects.pkl')\n",
    "#cf = pd.read_pickle('data/processed/cf_profiles.pkl')\n",
    "\n",
    "train_x = sparse.load_npz(\"../../data/processed/new_train_sparse.npz\")\n",
    "val_x = sparse.load_npz(\"../../data/processed/new_val_sparse.npz\")\n",
    "test_x = sparse.load_npz(\"../../data/processed/new_test_sparse.npz\")"
   ]
  },
  {
   "cell_type": "code",
   "execution_count": 10,
   "metadata": {},
   "outputs": [],
   "source": [
    "train_x_pkl = pd.read_pickle('../../data/processed/new_train_cf.pkl')\n",
    "val_x_pkl = pd.read_pickle('../../data/processed/new_val_cf.pkl')\n",
    "test_x_pkl = pd.read_pickle('../../data/processed/new_test_cf.pkl')"
   ]
  },
  {
   "cell_type": "code",
   "execution_count": 11,
   "metadata": {},
   "outputs": [
    {
     "data": {
      "text/plain": [
       "92      0\n",
       "94      0\n",
       "95      0\n",
       "97      1\n",
       "102     0\n",
       "103     0\n",
       "106     1\n",
       "112     0\n",
       "114     0\n",
       "115     0\n",
       "119     1\n",
       "150     0\n",
       "164     0\n",
       "205     1\n",
       "278     0\n",
       "474     0\n",
       "585     0\n",
       "825     0\n",
       "827     0\n",
       "828     0\n",
       "1025    0\n",
       "1034    0\n",
       "1039    0\n",
       "1044    0\n",
       "1306    0\n",
       "1400    0\n",
       "1401    0\n",
       "Name: 418b1106-d566-581d-8141-3d0b8f213ed3, dtype: object"
      ]
     },
     "execution_count": 11,
     "metadata": {},
     "output_type": "execute_result"
    }
   ],
   "source": [
    "train_x_pkl['418b1106-d566-581d-8141-3d0b8f213ed3']"
   ]
  },
  {
   "cell_type": "code",
   "execution_count": null,
   "metadata": {},
   "outputs": [],
   "source": []
  }
 ],
 "metadata": {
  "kernelspec": {
   "display_name": "Python 3",
   "language": "python",
   "name": "python3"
  },
  "language_info": {
   "codemirror_mode": {
    "name": "ipython",
    "version": 3
   },
   "file_extension": ".py",
   "mimetype": "text/x-python",
   "name": "python",
   "nbconvert_exporter": "python",
   "pygments_lexer": "ipython3",
   "version": "3.6.8"
  }
 },
 "nbformat": 4,
 "nbformat_minor": 2
}
