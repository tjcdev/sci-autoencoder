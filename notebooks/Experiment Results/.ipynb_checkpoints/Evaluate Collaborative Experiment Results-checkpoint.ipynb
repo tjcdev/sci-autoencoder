{
 "cells": [
  {
   "cell_type": "code",
   "execution_count": 2,
   "metadata": {},
   "outputs": [],
   "source": [
    "import pandas as pd\n",
    "import json\n",
    "import numpy as np"
   ]
  },
  {
   "cell_type": "code",
   "execution_count": null,
   "metadata": {},
   "outputs": [],
   "source": [
    "# Read results\n",
    "results = pd.read_json('../../data/experiment-results/cf-autoencoder/train_autoencoder_0_deep2_users_projects_10.json', lines=True)\n",
    "\n",
    "results = results.T\n",
    "results['json'] = results[0]\n",
    "\n",
    "newDataframe = pd.DataFrame(columns=['user_index', 'precision', 'recall', 'y_pred', 'y_true', 'len_yPred', 'len_yTrue'])\n",
    "newDataframe['y_pred'] = newDataframe['y_pred'].astype(object)\n",
    "newDataframe['y_true'] = newDataframe['y_true'].astype(object)\n",
    "\n",
    "for index, row in results.iterrows():\n",
    "    newSeries = pd.Series(index=['user_index', 'precision', 'recall', 'y_pred', 'y_true', 'len_yPred', 'len_yTrue'])\n",
    "    newSeries['y_pred'] = newSeries['y_pred'].astype(object)\n",
    "    newSeries['y_true'] = newSeries['y_true'].astype(object)\n",
    "\n",
    "    newSeries['user_index'] = row['json']['user_index']\n",
    "    newSeries['precision'] = row['json']['precision']\n",
    "    newSeries['recall'] = row['json']['recall']\n",
    "\n",
    "    things1 = np.array(row['json']['y_pred']).astype('str')\n",
    "    things2 = np.array(row['json']['y_true']).astype('str')\n",
    "    y_pred_string = '[' + ', '.join(things1) + ']'\n",
    "    y_true_string = '[' + ', '.join(things2) + ']'\n",
    "    \n",
    "    newSeries['y_pred'] = y_pred_string\n",
    "    newSeries['y_true'] = y_true_string\n",
    "    \n",
    "    newSeries['len_yPred'] = len(row['json']['y_pred'])\n",
    "    newSeries['len_yTrue'] = len(row['json']['y_true'])\n",
    "    \n",
    "    newDataframe.loc[index] = newSeries\n",
    "    \n",
    "newDataframe.describe()"
   ]
  },
  {
   "cell_type": "code",
   "execution_count": null,
   "metadata": {},
   "outputs": [],
   "source": [
    "print('The number of different projects suggested is %d' % (len(set(newDataframe['y_pred']))))"
   ]
  },
  {
   "cell_type": "code",
   "execution_count": null,
   "metadata": {},
   "outputs": [],
   "source": []
  }
 ],
 "metadata": {
  "kernelspec": {
   "display_name": "Python 3",
   "language": "python",
   "name": "python3"
  },
  "language_info": {
   "codemirror_mode": {
    "name": "ipython",
    "version": 3
   },
   "file_extension": ".py",
   "mimetype": "text/x-python",
   "name": "python",
   "nbconvert_exporter": "python",
   "pygments_lexer": "ipython3",
   "version": "3.6.8"
  }
 },
 "nbformat": 4,
 "nbformat_minor": 2
}
