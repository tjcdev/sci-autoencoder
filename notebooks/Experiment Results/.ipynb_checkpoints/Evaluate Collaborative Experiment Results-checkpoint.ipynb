{
 "cells": [
  {
   "cell_type": "code",
   "execution_count": 1,
   "metadata": {},
   "outputs": [],
   "source": [
    "import pandas as pd\n",
    "import json\n",
    "import numpy as np"
   ]
  },
  {
   "cell_type": "code",
   "execution_count": 10,
   "metadata": {},
   "outputs": [
    {
     "data": {
      "text/html": [
       "<div>\n",
       "<style scoped>\n",
       "    .dataframe tbody tr th:only-of-type {\n",
       "        vertical-align: middle;\n",
       "    }\n",
       "\n",
       "    .dataframe tbody tr th {\n",
       "        vertical-align: top;\n",
       "    }\n",
       "\n",
       "    .dataframe thead th {\n",
       "        text-align: right;\n",
       "    }\n",
       "</style>\n",
       "<table border=\"1\" class=\"dataframe\">\n",
       "  <thead>\n",
       "    <tr style=\"text-align: right;\">\n",
       "      <th></th>\n",
       "      <th>user_index</th>\n",
       "      <th>precision</th>\n",
       "      <th>recall</th>\n",
       "      <th>avg_precision</th>\n",
       "      <th>rmse</th>\n",
       "    </tr>\n",
       "  </thead>\n",
       "  <tbody>\n",
       "    <tr>\n",
       "      <th>count</th>\n",
       "      <td>943.000000</td>\n",
       "      <td>943.000000</td>\n",
       "      <td>943.000000</td>\n",
       "      <td>943.000000</td>\n",
       "      <td>943.000000</td>\n",
       "    </tr>\n",
       "    <tr>\n",
       "      <th>mean</th>\n",
       "      <td>471.000000</td>\n",
       "      <td>0.085684</td>\n",
       "      <td>0.085684</td>\n",
       "      <td>0.067458</td>\n",
       "      <td>0.080021</td>\n",
       "    </tr>\n",
       "    <tr>\n",
       "      <th>std</th>\n",
       "      <td>272.364951</td>\n",
       "      <td>0.093622</td>\n",
       "      <td>0.093622</td>\n",
       "      <td>0.065977</td>\n",
       "      <td>0.003681</td>\n",
       "    </tr>\n",
       "    <tr>\n",
       "      <th>min</th>\n",
       "      <td>0.000000</td>\n",
       "      <td>0.000000</td>\n",
       "      <td>0.000000</td>\n",
       "      <td>0.005190</td>\n",
       "      <td>0.073127</td>\n",
       "    </tr>\n",
       "    <tr>\n",
       "      <th>25%</th>\n",
       "      <td>235.500000</td>\n",
       "      <td>0.000000</td>\n",
       "      <td>0.000000</td>\n",
       "      <td>0.020317</td>\n",
       "      <td>0.077083</td>\n",
       "    </tr>\n",
       "    <tr>\n",
       "      <th>50%</th>\n",
       "      <td>471.000000</td>\n",
       "      <td>0.100000</td>\n",
       "      <td>0.100000</td>\n",
       "      <td>0.041872</td>\n",
       "      <td>0.080845</td>\n",
       "    </tr>\n",
       "    <tr>\n",
       "      <th>75%</th>\n",
       "      <td>706.500000</td>\n",
       "      <td>0.100000</td>\n",
       "      <td>0.100000</td>\n",
       "      <td>0.095286</td>\n",
       "      <td>0.084440</td>\n",
       "    </tr>\n",
       "    <tr>\n",
       "      <th>max</th>\n",
       "      <td>942.000000</td>\n",
       "      <td>0.500000</td>\n",
       "      <td>0.500000</td>\n",
       "      <td>0.435641</td>\n",
       "      <td>0.084440</td>\n",
       "    </tr>\n",
       "  </tbody>\n",
       "</table>\n",
       "</div>"
      ],
      "text/plain": [
       "       user_index   precision      recall  avg_precision        rmse\n",
       "count  943.000000  943.000000  943.000000     943.000000  943.000000\n",
       "mean   471.000000    0.085684    0.085684       0.067458    0.080021\n",
       "std    272.364951    0.093622    0.093622       0.065977    0.003681\n",
       "min      0.000000    0.000000    0.000000       0.005190    0.073127\n",
       "25%    235.500000    0.000000    0.000000       0.020317    0.077083\n",
       "50%    471.000000    0.100000    0.100000       0.041872    0.080845\n",
       "75%    706.500000    0.100000    0.100000       0.095286    0.084440\n",
       "max    942.000000    0.500000    0.500000       0.435641    0.084440"
      ]
     },
     "execution_count": 10,
     "metadata": {},
     "output_type": "execute_result"
    }
   ],
   "source": [
    "# Read results\n",
    "autoencoder_name = 'train_autoencoder_0_deep3_movies_0.8_10'\n",
    "results = pd.read_json('../../data/experiment-results/cf-autoencoder/%s.json' % (autoencoder_name), lines=True)\n",
    "\n",
    "results = results.T\n",
    "results['json'] = results[0]\n",
    "\n",
    "newDataframe = pd.DataFrame(columns=['user_index', 'precision', 'recall', 'y_pred', 'y_true', 'len_yPred', 'len_yTrue', 'avg_precision', 'rmse'])\n",
    "newDataframe['y_pred'] = newDataframe['y_pred'].astype(object)\n",
    "newDataframe['y_true'] = newDataframe['y_true'].astype(object)\n",
    "\n",
    "for index, row in results.iterrows():\n",
    "    newSeries = pd.Series(index=['user_index', 'precision', 'recall', 'y_pred', 'y_true', 'len_yPred', 'len_yTrue'])\n",
    "    newSeries['y_pred'] = newSeries['y_pred'].astype(object)\n",
    "    newSeries['y_true'] = newSeries['y_true'].astype(object)\n",
    "\n",
    "    newSeries['user_index'] = row['json']['user_index']\n",
    "    newSeries['precision'] = row['json']['precision']\n",
    "    newSeries['recall'] = row['json']['recall']\n",
    "\n",
    "    things1 = np.array(row['json']['y_pred']).astype('str')\n",
    "    things2 = np.array(row['json']['y_true']).astype('str')\n",
    "    y_pred_string = '[' + ', '.join(things1) + ']'\n",
    "    y_true_string = '[' + ', '.join(things2) + ']'\n",
    "    \n",
    "    newSeries['y_pred'] = y_pred_string\n",
    "    newSeries['y_true'] = y_true_string\n",
    "    \n",
    "    newSeries['len_yPred'] = len(row['json']['y_pred'])\n",
    "    newSeries['len_yTrue'] = len(row['json']['y_true'])\n",
    "    \n",
    "    newSeries['rmse'] = row['json']['rmse']\n",
    "    newSeries['avg_precision'] = row['json']['avg_precision']\n",
    "    \n",
    "    newDataframe.loc[index] = newSeries\n",
    "    \n",
    "newDataframe.describe()"
   ]
  },
  {
   "cell_type": "code",
   "execution_count": 7,
   "metadata": {},
   "outputs": [
    {
     "name": "stdout",
     "output_type": "stream",
     "text": [
      "The number of different projects suggested is 679\n"
     ]
    }
   ],
   "source": [
    "print('The number of different projects suggested is %d' % (len(set(newDataframe['y_pred']))))"
   ]
  },
  {
   "cell_type": "code",
   "execution_count": null,
   "metadata": {},
   "outputs": [],
   "source": []
  }
 ],
 "metadata": {
  "kernelspec": {
   "display_name": "Python 3",
   "language": "python",
   "name": "python3"
  },
  "language_info": {
   "codemirror_mode": {
    "name": "ipython",
    "version": 3
   },
   "file_extension": ".py",
   "mimetype": "text/x-python",
   "name": "python",
   "nbconvert_exporter": "python",
   "pygments_lexer": "ipython3",
   "version": "3.6.8"
  }
 },
 "nbformat": 4,
 "nbformat_minor": 2
}
