{
 "cells": [
  {
   "cell_type": "code",
   "execution_count": 1,
   "metadata": {},
   "outputs": [],
   "source": [
    "import pandas as pd"
   ]
  },
  {
   "cell_type": "code",
   "execution_count": 2,
   "metadata": {},
   "outputs": [],
   "source": [
    "projects = pd.read_pickle('../../data/processed/project_data')"
   ]
  },
  {
   "cell_type": "code",
   "execution_count": 3,
   "metadata": {},
   "outputs": [
    {
     "data": {
      "text/plain": [
       "UN_regions                                                    []\n",
       "country                                            United States\n",
       "description    At The Marine Mammal Center, we are guided and...\n",
       "error                                                        NaN\n",
       "guid                        d6d3b4a9-423b-51f2-a436-96ec87de3470\n",
       "origin                                                scistarter\n",
       "regions                                                       []\n",
       "tags                                   [animals, mammal, marine]\n",
       "title                      Volunteer at The Marine Mammal Center\n",
       "topics         [Nature & Outdoors, Animals, Ocean, Water, Mar...\n",
       "url            https://scistarter.com/project/97-Volunteer-at...\n",
       "project_id                                                    97\n",
       "Name: 47, dtype: object"
      ]
     },
     "execution_count": 3,
     "metadata": {},
     "output_type": "execute_result"
    }
   ],
   "source": [
    "projects.iloc[47]"
   ]
  },
  {
   "cell_type": "code",
   "execution_count": 4,
   "metadata": {},
   "outputs": [],
   "source": [
    "cf_projects = pd.read_pickle('../../data/processed/cf_projects_data')"
   ]
  },
  {
   "cell_type": "code",
   "execution_count": 5,
   "metadata": {},
   "outputs": [
    {
     "data": {
      "text/plain": [
       "UN_regions                                                    []\n",
       "country                                           United Kingdom\n",
       "description    Project aims to compare distribution of yellow...\n",
       "error                                                        NaN\n",
       "guid                        b4218d52-d1e2-5b13-977f-1cdfba041e03\n",
       "origin                                                scistarter\n",
       "regions                                                       []\n",
       "tags                          [birdsong, dialects, yellowhammer]\n",
       "title                                      Yellowhammer Dialects\n",
       "topics         [Nature & Outdoors, Animals, Birds, Computers ...\n",
       "url            https://scistarter.com/project/1025-Yellowhamm...\n",
       "project_id                                                  1025\n",
       "Name: 672, dtype: object"
      ]
     },
     "execution_count": 5,
     "metadata": {},
     "output_type": "execute_result"
    }
   ],
   "source": [
    "cf_projects.iloc[20]"
   ]
  },
  {
   "cell_type": "code",
   "execution_count": null,
   "metadata": {},
   "outputs": [],
   "source": []
  }
 ],
 "metadata": {
  "kernelspec": {
   "display_name": "Python 3",
   "language": "python",
   "name": "python3"
  },
  "language_info": {
   "codemirror_mode": {
    "name": "ipython",
    "version": 3
   },
   "file_extension": ".py",
   "mimetype": "text/x-python",
   "name": "python",
   "nbconvert_exporter": "python",
   "pygments_lexer": "ipython3",
   "version": "3.6.8"
  }
 },
 "nbformat": 4,
 "nbformat_minor": 2
}
