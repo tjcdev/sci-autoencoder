{
 "cells": [
  {
   "cell_type": "code",
   "execution_count": 1,
   "metadata": {},
   "outputs": [],
   "source": [
    "import pandas as pd\n",
    "import json\n",
    "import numpy as np\n",
    "import matplotlib.pyplot as plt\n",
    "import seaborn as sns"
   ]
  },
  {
   "cell_type": "code",
   "execution_count": null,
   "metadata": {},
   "outputs": [],
   "source": [
    "autoencoder_name = 'train_autoencoder_%s__new_users_projects_%s'\n",
    "results = pd.read_json('../../data/experiment-results/autoencoders/%s.json' % (autoencoder_name), lines=True)\n",
    "losses = results.iloc[0]['loss']\n",
    "val_losses = results.iloc[0]['val_loss']\n",
    "epochs = np.arange(1, len(losses)+1)\n",
    "if min(val_losses) < lowest_val_loss:\n",
    "    print('---------')\n",
    "    print(embed_size)\n",
    "    print(drop_prob)\n",
    "    print(min(val_losses))\n",
    "    lowest_val_loss = min(val_losses)"
   ]
  },
  {
   "cell_type": "code",
   "execution_count": null,
   "metadata": {},
   "outputs": [],
   "source": [
    "# Visualize loss history\n",
    "plt.plot(epochs, losses, 'r--')\n",
    "plt.plot(epochs, val_losses, 'b-')\n",
    "plt.legend(['Training Loss', 'Validation Loss'])\n",
    "plt.xlabel('Epoch')\n",
    "plt.ylabel('Loss')\n",
    "thisplot = plt.gcf()\n",
    "thisplot.savefig('../../data/experiment-results/autoencoders/graphs/%s.pdf' % (autoencoder_name))\n",
    "plt.show();"
   ]
  },
  {
   "cell_type": "code",
   "execution_count": 33,
   "metadata": {},
   "outputs": [
    {
     "name": "stdout",
     "output_type": "stream",
     "text": [
      "---------\n",
      "32\n",
      "0.1\n",
      "0.025438460454876\n",
      "---------\n",
      "64\n",
      "0.1\n",
      "0.024663047731987003\n",
      "---------\n",
      "128\n",
      "0.1\n",
      "0.023705352330580003\n"
     ]
    }
   ],
   "source": [
    "# Read results\n",
    "lowest_val_loss = 1\n",
    "for embed_size in ['32', '64', '128']:\n",
    "    for drop_prob in ['0.1', '0.5', '0.65', '0.8']:\n",
    "        autoencoder_name = 'train_autoencoder_%s__new_users_projects_%s' % (embed_size, drop_prob)\n",
    "        results = pd.read_json('../../data/experiment-results/autoencoders/%s.json' % (autoencoder_name), lines=True)\n",
    "        losses = results.iloc[0]['loss']\n",
    "        val_losses = results.iloc[0]['val_loss']\n",
    "        epochs = np.arange(1, len(losses)+1)\n",
    "        if min(val_losses) < lowest_val_loss:\n",
    "            print('---------')\n",
    "            print(embed_size)\n",
    "            print(drop_prob)\n",
    "            print(min(val_losses))\n",
    "            lowest_val_loss = min(val_losses)"
   ]
  },
  {
   "cell_type": "code",
   "execution_count": 31,
   "metadata": {},
   "outputs": [
    {
     "data": {
      "image/png": "[encoded data removed]",
      "text/plain": [
       "<Figure size 432x288 with 1 Axes>"
      ]
     },
     "metadata": {
      "needs_background": "light"
     },
     "output_type": "display_data"
    }
   ],
   "source": [
    "# Visualize loss history\n",
    "plt.plot(epochs, losses, 'r--')\n",
    "plt.plot(epochs, val_losses, 'b-')\n",
    "plt.legend(['Training Loss', 'Validation Loss'])\n",
    "plt.xlabel('Epoch')\n",
    "plt.ylabel('Loss')\n",
    "thisplot = plt.gcf()\n",
    "thisplot.savefig('../../data/experiment-results/autoencoders/graphs/%s.pdf' % (autoencoder_name))\n",
    "plt.show();"
   ]
  },
  {
   "cell_type": "code",
   "execution_count": null,
   "metadata": {},
   "outputs": [],
   "source": []
  }
 ],
 "metadata": {
  "kernelspec": {
   "display_name": "Python 3",
   "language": "python",
   "name": "python3"
  },
  "language_info": {
   "codemirror_mode": {
    "name": "ipython",
    "version": 3
   },
   "file_extension": ".py",
   "mimetype": "text/x-python",
   "name": "python",
   "nbconvert_exporter": "python",
   "pygments_lexer": "ipython3",
   "version": "3.6.8"
  }
 },
 "nbformat": 4,
 "nbformat_minor": 2
}
