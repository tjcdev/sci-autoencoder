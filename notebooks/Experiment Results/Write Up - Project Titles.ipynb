{
 "cells": [
  {
   "cell_type": "code",
   "execution_count": 2,
   "metadata": {},
   "outputs": [],
   "source": [
    "import pandas as pd"
   ]
  },
  {
   "cell_type": "code",
   "execution_count": 2,
   "metadata": {},
   "outputs": [],
   "source": [
    "projects = pd.read_pickle('../../data/processed/project_data')"
   ]
  },
  {
   "cell_type": "code",
   "execution_count": 3,
   "metadata": {},
   "outputs": [
    {
     "data": {
      "text/plain": [
       "UN_regions                                                    []\n",
       "country                                            United States\n",
       "description    At The Marine Mammal Center, we are guided and...\n",
       "error                                                        NaN\n",
       "guid                        d6d3b4a9-423b-51f2-a436-96ec87de3470\n",
       "origin                                                scistarter\n",
       "regions                                                       []\n",
       "tags                                   [animals, mammal, marine]\n",
       "title                      Volunteer at The Marine Mammal Center\n",
       "topics         [Nature & Outdoors, Animals, Ocean, Water, Mar...\n",
       "url            https://scistarter.com/project/97-Volunteer-at...\n",
       "project_id                                                    97\n",
       "Name: 47, dtype: object"
      ]
     },
     "execution_count": 3,
     "metadata": {},
     "output_type": "execute_result"
    }
   ],
   "source": [
    "projects.iloc[47]"
   ]
  },
  {
   "cell_type": "code",
   "execution_count": 3,
   "metadata": {},
   "outputs": [],
   "source": [
    "cf_projects = pd.read_pickle('../../data/processed/cf_projects_data')"
   ]
  },
  {
   "cell_type": "code",
   "execution_count": 10,
   "metadata": {},
   "outputs": [
    {
     "data": {
      "text/plain": [
       "array(['The Genographic Project', 'Maine Amphibian Monitoring Program',\n",
       "       'Perfect Pitch Test',\n",
       "       'Citizens and Remote Sensing Observational Network',\n",
       "       'Yellowhammer Dialects'], dtype=object)"
      ]
     },
     "execution_count": 10,
     "metadata": {},
     "output_type": "execute_result"
    }
   ],
   "source": [
    "cf_projects.iloc[[1, 6, 9, 10, 20]]['title'].values"
   ]
  },
  {
   "cell_type": "code",
   "execution_count": 8,
   "metadata": {},
   "outputs": [
    {
     "data": {
      "text/plain": [
       "\"The Genographic Project is a ten-year old anthropological study that uses DNA voluntarily contributed by hundreds of thousands of people to answer the oldest questions we have about ourselves: Who are we and where did we come from? In doing so, the project has created the world's largest survey of DNA samples to map how humankind populated the planet. Today, this database serve as an invaluable scientific resource for the research community and may ultimately underscore how closely related we are to one another as part of the extended human family. The Genographic Project uses sophisticated computer analysis of DNA voluntarily contributed by people—including indigenous and traditional populations and the general public—to reveal our migratory history and to better understand the connections and differences that make up humankind. Members of the general public can being to take part in the project by purchasing a Genographic Project Public Participation Kit and submitting their own cheek-swab sample.\\r\\n\\r\\nIn 2015 alone we launched four projects across the world (Palau, Aleutian Islands, Chile, and the Dominican Republic), and published six new papers, including populations studies on the Lesser Antilles, the European Roma, and Australian Aboriginal groups. This past year we also launched our new participation kit called Geno 2.0 Next Generation, and we opened up the Genographic Project database to researchers Maine Amphibian Monitoring Program volunteers collect information about the abundance and distribution of calling amphibians (frogs and toads) on road-side survey routes across the state every spring. Volunteers are assigned a road route with ten survey stops identified at or near wetlands. At each survey stop, volunteers listen for five minutes and record the relative abundance and the species of amphibians they hear.\\r\\n\\r\\nThe program is part of a larger national effort, the North American Amphibian Monitoring Program, which coordinates similar surveys in more than 25 states. Maine was one of the first participants and remains one of its most successful partners, with over 60 routes across the state, most of which are run every year by dedicated and enthusiastic volunteers like you. The Perfect Pitch Test is a study to determine whether absolute pitch differs systematically for different timbres. Your participation involves a brief survey and a pitch-naming test and will make an important contribution to auditory research.\\r\\n\\r\\nDo you have absolute pitch, the ability to identify or recreate a musical note without any reference? If so, researchers at the Perfect Pitch Test need your help. The Citizens and Remote Sensing Observational Network is a central network of citizen scientists who share and communicate data. Environmental groups, science-focused institutions, and any individuals who are interested in environmental observations can participate. \\r\\n\\r\\nParticipants make important observations of their local environment based on their personal interest. In many cases, these observations may be helpful in improving a participant's community and quality of life. The network also gives citizen scientists a place to share and discuss their observations and ideas. Participants may also attend monthly meetings to share ideas, hear speakers, and network with other citizen scientists and professionals. Project aims to compare distribution of yellowhammer dialects in the UK and in New  Zealand, where were yellowhammers imported in the 19th century. Whether any new songs evolved during isolation is only one of the questions that intrigue us. The other is, whether current distribution of dialects reflects well the known history, reconstructed from the available information about introduction events (when, where and in which numbers were yellowhammers released) and about subsequent spread.\""
      ]
     },
     "execution_count": 8,
     "metadata": {},
     "output_type": "execute_result"
    }
   ],
   "source": [
    "\" \".join(cf_projects.iloc[[1, 6, 9, 10, 20]]['description'].values)"
   ]
  },
  {
   "cell_type": "code",
   "execution_count": null,
   "metadata": {},
   "outputs": [],
   "source": []
  }
 ],
 "metadata": {
  "kernelspec": {
   "display_name": "Python 3",
   "language": "python",
   "name": "python3"
  },
  "language_info": {
   "codemirror_mode": {
    "name": "ipython",
    "version": 3
   },
   "file_extension": ".py",
   "mimetype": "text/x-python",
   "name": "python",
   "nbconvert_exporter": "python",
   "pygments_lexer": "ipython3",
   "version": "3.6.8"
  }
 },
 "nbformat": 4,
 "nbformat_minor": 2
}
