{
 "cells": [
  {
   "cell_type": "code",
   "execution_count": 4,
   "metadata": {},
   "outputs": [],
   "source": [
    "import pandas as pd\n",
    "import scipy.sparse as sparse"
   ]
  },
  {
   "cell_type": "code",
   "execution_count": 17,
   "metadata": {},
   "outputs": [],
   "source": [
    "projects = pd.read_pickle('../../data/processed/project_data')"
   ]
  },
  {
   "cell_type": "code",
   "execution_count": 5,
   "metadata": {},
   "outputs": [],
   "source": [
    "cf = pd.read_pickle('../../data/processed/new_cf_projects.pkl')\n",
    "#cf = pd.read_pickle('data/processed/cf_profiles.pkl')\n",
    "\n",
    "train_x = sparse.load_npz(\"../../data/processed/new_train_sparse.npz\")\n",
    "val_x = sparse.load_npz(\"../../data/processed/new_val_sparse.npz\")\n",
    "test_x = sparse.load_npz(\"../../data/processed/new_test_sparse.npz\")"
   ]
  },
  {
   "cell_type": "code",
   "execution_count": 10,
   "metadata": {},
   "outputs": [],
   "source": [
    "train_x_pkl = pd.read_pickle('../../data/processed/new_train_cf.pkl')\n",
    "val_x_pkl = pd.read_pickle('../../data/processed/new_val_cf.pkl')\n",
    "test_x_pkl = pd.read_pickle('../../data/processed/new_test_cf.pkl')"
   ]
  },
  {
   "cell_type": "code",
   "execution_count": 20,
   "metadata": {},
   "outputs": [
    {
     "data": {
      "text/plain": [
       "[97, 106, 119, 205]"
      ]
     },
     "execution_count": 20,
     "metadata": {},
     "output_type": "execute_result"
    }
   ],
   "source": [
    "list(train_x_pkl[train_x_pkl['418b1106-d566-581d-8141-3d0b8f213ed3'] == 1].index)"
   ]
  },
  {
   "cell_type": "code",
   "execution_count": 22,
   "metadata": {},
   "outputs": [],
   "source": [
    "# Projects that were done\n",
    "train_projects = projects[projects['project_id'].isin(list(train_x_pkl[train_x_pkl['418b1106-d566-581d-8141-3d0b8f213ed3'] == 1].index))]\n",
    "val_projects = projects[projects['project_id'].isin(list(val_x_pkl[val_x_pkl['418b1106-d566-581d-8141-3d0b8f213ed3'] == 1].index))]\n",
    "test_projects = projects[projects['project_id'].isin(list(test_x_pkl[test_x_pkl['418b1106-d566-581d-8141-3d0b8f213ed3'] == 1].index))]\n",
    "\n"
   ]
  },
  {
   "cell_type": "code",
   "execution_count": 27,
   "metadata": {},
   "outputs": [
    {
     "data": {
      "text/plain": [
       "array(['Volunteer at The Marine Mammal Center',\n",
       "       'Maine Amphibian Monitoring Program',\n",
       "       'Citizens and Remote Sensing Observational Network', 'Snow Tweets'],\n",
       "      dtype=object)"
      ]
     },
     "execution_count": 27,
     "metadata": {},
     "output_type": "execute_result"
    }
   ],
   "source": [
    "train_projects['title'].values"
   ]
  },
  {
   "cell_type": "code",
   "execution_count": 29,
   "metadata": {},
   "outputs": [
    {
     "data": {
      "text/plain": [
       "array(['The Genographic Project'], dtype=object)"
      ]
     },
     "execution_count": 29,
     "metadata": {},
     "output_type": "execute_result"
    }
   ],
   "source": [
    "val_projects['title'].values"
   ]
  },
  {
   "cell_type": "code",
   "execution_count": 28,
   "metadata": {},
   "outputs": [
    {
     "data": {
      "text/plain": [
       "array(['Maine Amphibian Monitoring Program', 'Perfect Pitch Test',\n",
       "       'Citizens and Remote Sensing Observational Network',\n",
       "       'Yellowhammer Dialects'], dtype=object)"
      ]
     },
     "execution_count": 28,
     "metadata": {},
     "output_type": "execute_result"
    }
   ],
   "source": [
    "test_projects['title'].values"
   ]
  },
  {
   "cell_type": "code",
   "execution_count": null,
   "metadata": {},
   "outputs": [],
   "source": []
  }
 ],
 "metadata": {
  "kernelspec": {
   "display_name": "Python 3",
   "language": "python",
   "name": "python3"
  },
  "language_info": {
   "codemirror_mode": {
    "name": "ipython",
    "version": 3
   },
   "file_extension": ".py",
   "mimetype": "text/x-python",
   "name": "python",
   "nbconvert_exporter": "python",
   "pygments_lexer": "ipython3",
   "version": "3.6.8"
  }
 },
 "nbformat": 4,
 "nbformat_minor": 2
}
