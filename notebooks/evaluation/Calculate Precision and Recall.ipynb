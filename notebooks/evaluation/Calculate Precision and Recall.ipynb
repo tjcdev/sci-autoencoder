{
 "cells": [
  {
   "cell_type": "code",
   "execution_count": 1,
   "metadata": {},
   "outputs": [],
   "source": [
    "from UserProfileHelper import UserProfileHelper \n",
    "import pandas as pd\n",
    "import time\n",
    "from sklearn.feature_extraction.text import TfidfVectorizer\n",
    "from sklearn.metrics.pairwise import cosine_similarity\n",
    "import numpy as np"
   ]
  },
  {
   "cell_type": "markdown",
   "metadata": {},
   "source": [
    "### Method that generates the profile for a user"
   ]
  },
  {
   "cell_type": "code",
   "execution_count": 2,
   "metadata": {},
   "outputs": [],
   "source": [
    "def generateProfile(projects, userProjects):\n",
    "    # Get the ids of projects that the user has interacted with\n",
    "    project_ids = list(userProjects[userProjects == 1].index)\n",
    "\n",
    "    project_titles = []\n",
    "\n",
    "    for project in project_ids:       \n",
    "        project_titles.extend(projects[projects['project_id'] == int(project)]['title'].tolist())\n",
    "\n",
    "    # Make a 'user profile' out of these projects\n",
    "    projects_fields_combined = ' '.join(project_titles)\n",
    "\n",
    "    # Set this part of the profile to the user profile\n",
    "    return projects_fields_combined"
   ]
  },
  {
   "cell_type": "markdown",
   "metadata": {},
   "source": [
    "### Setup or tf-idf vectorization"
   ]
  },
  {
   "cell_type": "code",
   "execution_count": 3,
   "metadata": {},
   "outputs": [],
   "source": [
    "# Setup our TF-IDF model\n",
    "tf = TfidfVectorizer(analyzer='word', ngram_range=(1, 3), min_df=0, stop_words='english')"
   ]
  },
  {
   "cell_type": "markdown",
   "metadata": {},
   "source": [
    "### Load Projects Data"
   ]
  },
  {
   "cell_type": "code",
   "execution_count": 4,
   "metadata": {},
   "outputs": [],
   "source": [
    "projectsFile = '../Data/project_data'\n",
    "all_projects = pd.read_pickle(projectsFile)"
   ]
  },
  {
   "cell_type": "code",
   "execution_count": 5,
   "metadata": {},
   "outputs": [],
   "source": [
    "# Filter out the project we are going to test using\n",
    "test_project_id = 169\n",
    "filtered_projects = all_projects[all_projects['project_id'] != test_project_id]"
   ]
  },
  {
   "cell_type": "markdown",
   "metadata": {},
   "source": [
    "### Load the projects and profiles links"
   ]
  },
  {
   "cell_type": "code",
   "execution_count": 6,
   "metadata": {},
   "outputs": [],
   "source": [
    "profilesProjects = pd.read_pickle('../Data/useful_profile_project_adj')"
   ]
  },
  {
   "cell_type": "code",
   "execution_count": 7,
   "metadata": {},
   "outputs": [],
   "source": [
    "# Generate the meta_title for each profile\n",
    "profilesProjects['profile_titles'] = profilesProjects.apply(lambda x: generateProfile(filtered_projects, x), axis=1)\n",
    "profilesProjects = profilesProjects.reset_index()"
   ]
  },
  {
   "cell_type": "code",
   "execution_count": 8,
   "metadata": {},
   "outputs": [
    {
     "data": {
      "text/html": [
       "<div>\n",
       "<style scoped>\n",
       "    .dataframe tbody tr th:only-of-type {\n",
       "        vertical-align: middle;\n",
       "    }\n",
       "\n",
       "    .dataframe tbody tr th {\n",
       "        vertical-align: top;\n",
       "    }\n",
       "\n",
       "    .dataframe thead th {\n",
       "        text-align: right;\n",
       "    }\n",
       "</style>\n",
       "<table border=\"1\" class=\"dataframe\">\n",
       "  <thead>\n",
       "    <tr style=\"text-align: right;\">\n",
       "      <th>project</th>\n",
       "      <th>profile</th>\n",
       "      <th>4.0</th>\n",
       "      <th>5.0</th>\n",
       "      <th>6.0</th>\n",
       "      <th>7.0</th>\n",
       "      <th>8.0</th>\n",
       "      <th>19.0</th>\n",
       "      <th>20.0</th>\n",
       "      <th>22.0</th>\n",
       "      <th>24.0</th>\n",
       "      <th>...</th>\n",
       "      <th>20568.0</th>\n",
       "      <th>20569.0</th>\n",
       "      <th>20571.0</th>\n",
       "      <th>20572.0</th>\n",
       "      <th>20573.0</th>\n",
       "      <th>20577.0</th>\n",
       "      <th>20591.0</th>\n",
       "      <th>20603.0</th>\n",
       "      <th>20650.0</th>\n",
       "      <th>profile_titles</th>\n",
       "    </tr>\n",
       "  </thead>\n",
       "  <tbody>\n",
       "    <tr>\n",
       "      <th>0</th>\n",
       "      <td>001bedb58aa43c8d3596b5b522ba1040</td>\n",
       "      <td>0</td>\n",
       "      <td>0</td>\n",
       "      <td>0</td>\n",
       "      <td>0</td>\n",
       "      <td>0</td>\n",
       "      <td>0</td>\n",
       "      <td>0</td>\n",
       "      <td>0</td>\n",
       "      <td>0</td>\n",
       "      <td>...</td>\n",
       "      <td>0</td>\n",
       "      <td>0</td>\n",
       "      <td>0</td>\n",
       "      <td>0</td>\n",
       "      <td>0</td>\n",
       "      <td>0</td>\n",
       "      <td>0</td>\n",
       "      <td>0</td>\n",
       "      <td>0</td>\n",
       "      <td>Journey North Pollinators.info Bumble Bee Phot...</td>\n",
       "    </tr>\n",
       "    <tr>\n",
       "      <th>1</th>\n",
       "      <td>0021e5df03d7feb6ba9558cc2828d616</td>\n",
       "      <td>0</td>\n",
       "      <td>0</td>\n",
       "      <td>0</td>\n",
       "      <td>0</td>\n",
       "      <td>0</td>\n",
       "      <td>0</td>\n",
       "      <td>0</td>\n",
       "      <td>0</td>\n",
       "      <td>0</td>\n",
       "      <td>...</td>\n",
       "      <td>0</td>\n",
       "      <td>0</td>\n",
       "      <td>0</td>\n",
       "      <td>0</td>\n",
       "      <td>0</td>\n",
       "      <td>0</td>\n",
       "      <td>0</td>\n",
       "      <td>0</td>\n",
       "      <td>0</td>\n",
       "      <td>Project Implicit MAPPER AgeGuess The Royal Soc...</td>\n",
       "    </tr>\n",
       "    <tr>\n",
       "      <th>2</th>\n",
       "      <td>00300cba5401183830a6a82b80c8ff7f</td>\n",
       "      <td>0</td>\n",
       "      <td>0</td>\n",
       "      <td>0</td>\n",
       "      <td>1</td>\n",
       "      <td>0</td>\n",
       "      <td>0</td>\n",
       "      <td>0</td>\n",
       "      <td>0</td>\n",
       "      <td>0</td>\n",
       "      <td>...</td>\n",
       "      <td>0</td>\n",
       "      <td>0</td>\n",
       "      <td>0</td>\n",
       "      <td>0</td>\n",
       "      <td>0</td>\n",
       "      <td>0</td>\n",
       "      <td>0</td>\n",
       "      <td>0</td>\n",
       "      <td>0</td>\n",
       "      <td>Nature's Notebook ISeeChange GLOBE Observer: C...</td>\n",
       "    </tr>\n",
       "    <tr>\n",
       "      <th>3</th>\n",
       "      <td>0033882471572a66322d0747c6a4b12d</td>\n",
       "      <td>0</td>\n",
       "      <td>0</td>\n",
       "      <td>0</td>\n",
       "      <td>0</td>\n",
       "      <td>0</td>\n",
       "      <td>0</td>\n",
       "      <td>0</td>\n",
       "      <td>0</td>\n",
       "      <td>0</td>\n",
       "      <td>...</td>\n",
       "      <td>0</td>\n",
       "      <td>0</td>\n",
       "      <td>0</td>\n",
       "      <td>0</td>\n",
       "      <td>0</td>\n",
       "      <td>0</td>\n",
       "      <td>0</td>\n",
       "      <td>0</td>\n",
       "      <td>0</td>\n",
       "      <td>Project Squirrel Stream Selfie</td>\n",
       "    </tr>\n",
       "    <tr>\n",
       "      <th>4</th>\n",
       "      <td>00536e1575193e409e255cd02ed9d205</td>\n",
       "      <td>0</td>\n",
       "      <td>0</td>\n",
       "      <td>0</td>\n",
       "      <td>0</td>\n",
       "      <td>0</td>\n",
       "      <td>0</td>\n",
       "      <td>0</td>\n",
       "      <td>0</td>\n",
       "      <td>0</td>\n",
       "      <td>...</td>\n",
       "      <td>0</td>\n",
       "      <td>0</td>\n",
       "      <td>0</td>\n",
       "      <td>0</td>\n",
       "      <td>0</td>\n",
       "      <td>0</td>\n",
       "      <td>0</td>\n",
       "      <td>0</td>\n",
       "      <td>0</td>\n",
       "      <td>GRB cosmology project Backyard Worlds: Planet 9</td>\n",
       "    </tr>\n",
       "  </tbody>\n",
       "</table>\n",
       "<p>5 rows × 1222 columns</p>\n",
       "</div>"
      ],
      "text/plain": [
       "project                           profile  4.0  5.0  6.0  7.0  8.0  19.0  \\\n",
       "0        001bedb58aa43c8d3596b5b522ba1040    0    0    0    0    0     0   \n",
       "1        0021e5df03d7feb6ba9558cc2828d616    0    0    0    0    0     0   \n",
       "2        00300cba5401183830a6a82b80c8ff7f    0    0    0    1    0     0   \n",
       "3        0033882471572a66322d0747c6a4b12d    0    0    0    0    0     0   \n",
       "4        00536e1575193e409e255cd02ed9d205    0    0    0    0    0     0   \n",
       "\n",
       "project  20.0  22.0  24.0  ...  20568.0  20569.0  20571.0  20572.0  20573.0  \\\n",
       "0           0     0     0  ...        0        0        0        0        0   \n",
       "1           0     0     0  ...        0        0        0        0        0   \n",
       "2           0     0     0  ...        0        0        0        0        0   \n",
       "3           0     0     0  ...        0        0        0        0        0   \n",
       "4           0     0     0  ...        0        0        0        0        0   \n",
       "\n",
       "project  20577.0  20591.0  20603.0  20650.0  \\\n",
       "0              0        0        0        0   \n",
       "1              0        0        0        0   \n",
       "2              0        0        0        0   \n",
       "3              0        0        0        0   \n",
       "4              0        0        0        0   \n",
       "\n",
       "project                                     profile_titles  \n",
       "0        Journey North Pollinators.info Bumble Bee Phot...  \n",
       "1        Project Implicit MAPPER AgeGuess The Royal Soc...  \n",
       "2        Nature's Notebook ISeeChange GLOBE Observer: C...  \n",
       "3                           Project Squirrel Stream Selfie  \n",
       "4          GRB cosmology project Backyard Worlds: Planet 9  \n",
       "\n",
       "[5 rows x 1222 columns]"
      ]
     },
     "execution_count": 8,
     "metadata": {},
     "output_type": "execute_result"
    }
   ],
   "source": [
    "profilesProjects.head()"
   ]
  },
  {
   "cell_type": "markdown",
   "metadata": {},
   "source": [
    "### Generate Predictions "
   ]
  },
  {
   "cell_type": "code",
   "execution_count": 9,
   "metadata": {},
   "outputs": [
    {
     "name": "stdout",
     "output_type": "stream",
     "text": [
      "Globe at Night\n"
     ]
    }
   ],
   "source": [
    "# Convert all the user profile titles into a list of strings\n",
    "fields = profilesProjects['profile_titles'].tolist()\n",
    "\n",
    "# Get the title of the project that we are trying to predict\n",
    "new_project_title = str(all_projects[all_projects['project_id'] == test_project_id].iloc[0]['title'])\n",
    "print(new_project_title)\n",
    "\n",
    "# Complete the list of titles\n",
    "fields = fields + [new_project_title]"
   ]
  },
  {
   "cell_type": "code",
   "execution_count": 10,
   "metadata": {},
   "outputs": [
    {
     "data": {
      "text/plain": [
       "True"
      ]
     },
     "execution_count": 10,
     "metadata": {},
     "output_type": "execute_result"
    }
   ],
   "source": [
    "# Check that the last field is the project title we are trying to predict\n",
    "fields[-1] == new_project_title"
   ]
  },
  {
   "cell_type": "markdown",
   "metadata": {},
   "source": [
    "### Generate cosine similarities for ALL profiles"
   ]
  },
  {
   "cell_type": "code",
   "execution_count": 28,
   "metadata": {},
   "outputs": [
    {
     "name": "stdout",
     "output_type": "stream",
     "text": [
      "<class 'scipy.sparse.csr.csr_matrix'>\n"
     ]
    }
   ],
   "source": [
    "# Generate the cosine similarities for all the fields\n",
    "tfidf_matrix = tf.fit_transform(fields)\n",
    "print(type(tfidf_matrix))\n",
    "cosine_similarities = cosine_similarity(tfidf_matrix, Y=None, dense_output=True)"
   ]
  },
  {
   "cell_type": "code",
   "execution_count": 12,
   "metadata": {},
   "outputs": [
    {
     "data": {
      "text/plain": [
       "True"
      ]
     },
     "execution_count": 12,
     "metadata": {},
     "output_type": "execute_result"
    }
   ],
   "source": [
    "# Check that the cosine similarity is symmetrical\n",
    "def check_symmetric(a, rtol=1e-05, atol=1e-08):\n",
    "    return np.allclose(a, a.T, rtol=rtol, atol=atol)\n",
    "check_symmetric(cosine_similarities)"
   ]
  },
  {
   "cell_type": "markdown",
   "metadata": {},
   "source": [
    "### Extract the top 10 predictions"
   ]
  },
  {
   "cell_type": "code",
   "execution_count": 13,
   "metadata": {},
   "outputs": [],
   "source": [
    "# Get the predictions for each user profiles and their likelihood of picking the new project\n",
    "predictions = cosine_similarities[-1][:-1]"
   ]
  },
  {
   "cell_type": "code",
   "execution_count": 14,
   "metadata": {},
   "outputs": [
    {
     "name": "stdout",
     "output_type": "stream",
     "text": [
      "(4866,)\n",
      "(4866, 1222)\n"
     ]
    }
   ],
   "source": [
    "print(predictions.shape)\n",
    "print(profilesProjects.shape)"
   ]
  },
  {
   "cell_type": "code",
   "execution_count": 15,
   "metadata": {},
   "outputs": [
    {
     "name": "stdout",
     "output_type": "stream",
     "text": [
      "[2092 2252 4099 1745 3961 2461  672 4312  602 2846]\n"
     ]
    }
   ],
   "source": [
    "# Get the index of the top 10 likely projects\n",
    "top_10_idx = predictions.argsort()[-10:][::-1]\n",
    "print(top_10_idx)"
   ]
  },
  {
   "cell_type": "code",
   "execution_count": 16,
   "metadata": {},
   "outputs": [],
   "source": [
    "# Get the IDs of the profiles that would pick this project\n",
    "topMatchedProfiles = profilesProjects.iloc[top_10_idx]['profile'].tolist()"
   ]
  },
  {
   "cell_type": "code",
   "execution_count": 17,
   "metadata": {},
   "outputs": [
    {
     "data": {
      "text/plain": [
       "['6d5c9634642fc196d0bd9ff4363fdc74',\n",
       " '76adf5149e8b84299df0fdd846225bbb',\n",
       " 'd7e88c594631815d34955309f22ec329',\n",
       " '5afd76d8d1dccf78c2612404f1a7eebc',\n",
       " 'd072e2f6220eeface469d7030df08e74',\n",
       " '829fba241248a3edf995c7ea601dcfc7',\n",
       " '24384a5d0f2239b9c56fd7cc85ce00fe',\n",
       " 'e24d9e0917deafdac2ce9bd16d6f2bdd',\n",
       " '2074f4ce0ab57aafc32d20f6d59d6ce8',\n",
       " '94310374ddbe2cd489c9ab09e92d86b3']"
      ]
     },
     "execution_count": 17,
     "metadata": {},
     "output_type": "execute_result"
    }
   ],
   "source": [
    "topMatchedProfiles"
   ]
  },
  {
   "cell_type": "markdown",
   "metadata": {},
   "source": [
    "### Extract all > 0.1 predictions"
   ]
  },
  {
   "cell_type": "code",
   "execution_count": 18,
   "metadata": {},
   "outputs": [
    {
     "name": "stdout",
     "output_type": "stream",
     "text": [
      "[ 602  612  672 1111 1649 1745 2092 2252 2461 2846 3665 3961 4099 4312\n",
      " 4423]\n"
     ]
    }
   ],
   "source": [
    "# Get the index of all the profiles that are greater than 0.1 likelihood\n",
    "pred = (predictions > 0.1)*1\n",
    "pred_idx = np.argwhere(pred).flatten()\n",
    "print(pred_idx)"
   ]
  },
  {
   "cell_type": "code",
   "execution_count": 19,
   "metadata": {},
   "outputs": [],
   "source": [
    "# Get the IDs of the profiles that would pick this project\n",
    "matchedProfiles = profilesProjects.iloc[pred_idx]['profile'].tolist()"
   ]
  },
  {
   "cell_type": "code",
   "execution_count": 20,
   "metadata": {},
   "outputs": [
    {
     "data": {
      "text/plain": [
       "['2074f4ce0ab57aafc32d20f6d59d6ce8',\n",
       " '2141c910dea1e351510b821203bc1261',\n",
       " '24384a5d0f2239b9c56fd7cc85ce00fe',\n",
       " '3a2ceee160a0ae1f5798c965dac3e2e1',\n",
       " '55c3a0cfdfdb149092f28db9b76bb2da',\n",
       " '5afd76d8d1dccf78c2612404f1a7eebc',\n",
       " '6d5c9634642fc196d0bd9ff4363fdc74',\n",
       " '76adf5149e8b84299df0fdd846225bbb',\n",
       " '829fba241248a3edf995c7ea601dcfc7',\n",
       " '94310374ddbe2cd489c9ab09e92d86b3',\n",
       " 'c03caceeb4ac5ec796271393194e5b90',\n",
       " 'd072e2f6220eeface469d7030df08e74',\n",
       " 'd7e88c594631815d34955309f22ec329',\n",
       " 'e24d9e0917deafdac2ce9bd16d6f2bdd',\n",
       " 'e8f6cb3b7cb818ee8e0fee62937a2f48']"
      ]
     },
     "execution_count": 20,
     "metadata": {},
     "output_type": "execute_result"
    }
   ],
   "source": [
    "matchedProfiles"
   ]
  },
  {
   "cell_type": "markdown",
   "metadata": {},
   "source": [
    "# Precision and Recall"
   ]
  },
  {
   "cell_type": "code",
   "execution_count": 21,
   "metadata": {},
   "outputs": [
    {
     "name": "stdout",
     "output_type": "stream",
     "text": [
      "169\n"
     ]
    }
   ],
   "source": [
    "print(test_project_id)"
   ]
  },
  {
   "cell_type": "code",
   "execution_count": 22,
   "metadata": {},
   "outputs": [],
   "source": [
    "# Extract the true values for this project\n",
    "y_true = profilesProjects[test_project_id]"
   ]
  },
  {
   "cell_type": "code",
   "execution_count": 23,
   "metadata": {},
   "outputs": [],
   "source": [
    "# Get the predicted values for this project\n",
    "y_pred =  "
   ]
  },
  {
   "cell_type": "code",
   "execution_count": 24,
   "metadata": {},
   "outputs": [
    {
     "name": "stdout",
     "output_type": "stream",
     "text": [
      "True\n"
     ]
    }
   ],
   "source": [
    "# Check the sizes\n",
    "print(y_true.shape == y_pred.shape)"
   ]
  },
  {
   "cell_type": "code",
   "execution_count": 25,
   "metadata": {},
   "outputs": [
    {
     "data": {
      "text/plain": [
       "(0.790599876314162, 0.5068573335413131, 0.47302859264587055, None)"
      ]
     },
     "execution_count": 25,
     "metadata": {},
     "output_type": "execute_result"
    }
   ],
   "source": [
    "from sklearn.metrics import precision_recall_fscore_support\n",
    "precision_recall_fscore_support(y_true, y_pred, average='macro')"
   ]
  },
  {
   "cell_type": "markdown",
   "metadata": {},
   "source": [
    "### Review the IDs of the profiles for y_true and y_pred"
   ]
  },
  {
   "cell_type": "code",
   "execution_count": 26,
   "metadata": {},
   "outputs": [
    {
     "name": "stdout",
     "output_type": "stream",
     "text": [
      "['001bedb58aa43c8d3596b5b522ba1040', '00536e1575193e409e255cd02ed9d205', '009e5dfe604e3dc2568717dccc438392', '00d4005887bcce01071866724babfe28', '012c7142fd399d7eaf7cb0e933d27593', '02ef22d6e0457a15e725755722fd1ae9', '031620af1a9bf80899f701432ea1fe78', '0348d3fd3368aec4c52f54ca6347555d', '040cac92698a77a5e1e999fdd65d3121', '0455a6da9d6491a526c87062681b22a5', '04b445275781a10310b19fed6ee94172', '0504ffa689ac23ca0ab0d5553f07cbfd', '0510761b7894865537070a1511629c99', '055d2fe39f4c06a8c6c3ae1c4c336d33', '0573cab0f18af5b59dce30bcbac61bc8', '0574aac1b04ac557c1ec936a2f94c0e8', '06218b96c81734acf53ca0be9428758f', '064ed8e79a321aa1b352c799348eba6e', '075b86d756561f8eedce820564db87f3', '07c5f66554a2e9697ed7a413bae2247c', '07f91ce1ac65934c95a83f78ec82d65e', '0858addc162ee5d95aa5d21887984e7f', '087df1d77a390412129203fa5b39ce1b', '094906e6a2d185ea0d1d9e644386a85b', '095c506355e8ffb386433f18f57f9d00', '0972d5ac1f7bdfbb0cf5605fbfbfdd77', '09d134a07f769f2da2b425b5129c3e10', '0a31886a18b1637f3a1333461cbc9a6f', '0a50b364143f230aa999575133f68c77', '0a5847ac66dde5f168bbbdebe57303a4', '0b4b3da2e834c6a9cf2d65a66801b2af', '0b7ce178531a9db949a5d192c8e12ca6', '0bf825c41dd581ec3c639cb8e5ff53c4', '0c2f78ce6f0f07a85e8e24950da30562', '0c48287f0affadf9ad6840295373baab', '0c6a4a950068cf5a100231f2939e6ee0', '0c736077a9ec09e2ec93ec775732fbc4', '0cbb38be1f73cb15bd2e6d79e29c19f1', '0d943cddee098f02ec0e84c527ca607c', '0e181b83d54abe5ed53779a90f7b471e', '0e52525734f57247b39fb83fff8b2733', '0edd26ad15b5787d0d53f722a4f37e7d', '0f663714e41172a5f828828ce999b6da', '1074ce05454136788fb4812e1ef6ea7c', '10a34a5fa885bd9162a6ddd634dc00fc', '10b83569669ce68bb466898f6ccb58e3', '110f8681185bf35e6b9b274f921df37d', '1113640aa4d5a70dec461d85deba2df5', '114da8c3511c36ba02eeba48a03d299c', '1211caec5018a0e82c81004aae22fce8', '128691b2b0fb90f09ba7e4a3088e02e6', '12c24a9ff3f84fc447e1341956e909cd', '134b3c0c9a51d050709d6df426b730f8', '136591631c4f745c86c8a33fb3dc90fd', '13f6a2cbc7a1c16ff2c7d8b057498fe1', '14283d0e06d41b1d63de1dfae57348a2', '1512e7fae37b547527e157d219335f24', '1566cbaab382bcdf9dd190350e55c9c7', '15f17df65d30a8deb20446f0f9d07cdc', '160326df9f9b127dd0f19b9413ff7db0', '169baebdc1625ae8f5fb9f4e3e834cd0', '16cb7f3a7c82bb56995f422b32037a8a', '170b103e715596af8db021d44852f396', '1717550c19ec68523a53e00ce103c0a2', '182a63b9d8c9b6908d3c1afd020ec7fa', '184a09b2ebedb87b961961beda7f78be', '197772725592aa23ce79bb934e4e7fc9', '1a223fb79e20f9e5aefa3e96b32952fc', '1a5bcbb6018074fdecb686c4efe9568d', '1a7fcba2f38215c1a6036ed9d92d37a9', '1ab72d36fef787a41ef93aee6d84412f', '1b3a6f58cdec972348b75933b8f30c33', '1b9e79191451e8edcfb04789c3a60db0', '1bb705f58ab341f2bd8a7cd65d0766b3', '1c2affa838c52cdaebcd1fa554ff76b4', '1c92ca3430cc506e420204ce9d102b6c', '1c9f4a548bbb67af0b5a94e35cd11be9', '1d1254978297bb04d373b9a34c09d8f8', '1d1fe56de305692db47e060e2792b7e2', '1d76d09aea69b065b9d65012ebbfe346', '1d7dddaa088496373800930d91f4aa14', '1da013ae2647fff7fb60d33b236d06d8', '1e90c129c0fe47f834dd641a14f76b36', '1f75b275f1fbbe58b14c43d2c6e44e8b', '1f9a799ab0394e65b903b55100188e99', '1f9f304a44f14e8b421770e6875b6f86', '1fa96d2b4731cca9cc3d356123a58787', '20a4a44b4e7a316ac0718f5166efd807', '2141c910dea1e351510b821203bc1261', '2145674ab3d1bd4e2d12e1719688c121', '21525d374b7b67788eb037b510c3ebb5', '21b03610ef682fe9142cbf7c72689e50', '21dc2e1bb9ba1b79bd0bd41422eb74c9', '2244b9cc9ee6afd6463aee38ef7c31ea', '2262c1e84a6ee6770755d01962af08ba', '229a82057c578b8c3be56318cbb19b3b', '22ab4fdca1d700e715295461bdaf5dd1', '238327386faf183017d2c94f32a7a3cf', '23cadcd809e84202e69cfe11092dab2a', '24384a5d0f2239b9c56fd7cc85ce00fe', '24c45c1cd4c147537148ed17be791d01', '24f190e6462baa8a703955e6ae26e414', '252a742804b12bf45f35d06a0c4c6638', '25424316f7c09c843c2ad9ae4e06fa16', '256a2bdd146045a531244fde4da212d3', '25a5900dd1b4514d0316bb13d9f7a34e', '25b75b7fbd6979a44bb2aee3ed55130b', '25ead23592e443ba6c2058912b02da56', '2609e9e279748668672de691e4e6a7c9', '26a3546dc6f7b2e0f3643e8390691ffe', '27b7636927f1bd0ffcbb3e69b93d391f', '27bba25fbc12c16265bbc2ad62e1cf94', '285698a0da43afddf8dced46be9fbc44', '28ebe037abe0a66af06cbe8fbf247de7', '290eec50da004629a641760d73b56bc1', '29a1b84f1dcf921a38b24a448f289c29', '29f443366c915665b58f6ac822a5156d', '2a3470547d62c8a9a37d2370fea54983', '2a809fe7eb4c52cac7b57fc277ad1450', '2a8a8b6ea79a6f93049df68e66b8c397', '2ac7d7baec367098c5b08f30e9f9d9a0', '2afe02b2e09d69a99eb6abc0231f3a06', '2c6e8938232b8c59e0e191339ef819d4', '2c9f9bd1786c13b74998bc32ce2aff13', '2cd18e9ff7757517f9e68b468b2efa8b', '2d528eecd3f11e1e032259a2c35360f0', '2e2a802ca4c311956e67c11da093289e', '2e42161f00544666ab9887f7ebddf606', '2e555391c4fe0ff44520c0c6bbcb8235', '2eea381c4d414efd6e02cf3c06702562', '2f6c15c5c912616a0d8798c487161b6e', '2f86fc7958bd1c25239c80ab739b5bf5', '2f99b35da8956b6e048be293d5f8354a', '301a1c85a56550b23ba99a19f14e71fe', '3066b2b045c274975914c171747dd779', '30b51a0976b6c37dcca2f7b6ccce48f0', '30c236039ac39043fd24857263bfa53f', '30e7641fbb46b8034c0d2dd73c61b2d3', '320ddd6c1bfbc07555166553e0e0895b', '32d6e63a92306a376e75f7b484e59c0e', '3311e1e2fe5e3ecc93ee3a44b04b5864', '339c625784dd6a2d7682b1cd0aac0f7e', '33a0317375c12e080d0714a1902ee45e', '348cd8ac76e62a78fe9dfd6817fe1b61', '34be6f251030a55498a1a85286718c92', '3562303db509868110b10e5ce582ac58', '35655d8c50c868655bd02912dc66778b', '3619147f320a2d2e858cdb9c7760e1b2', '362a09937b159364cd13e2c023483a62', '362c96454a21e28518504fe92ede2d71', '36396abe53e951a0efa4cdada8be5f83', '36a42dee4ef8384b3f4769633c7c361a', '36d7235b4bc2f485c10bfc6ed1833d19', '36ee56f05d74a196e49ffb1c7bc3b5af', '371d675c9c1e07fac4ebb1de67d1d620', '3765e64f66b542d5988b160d603f9d88', '3789f736a56a55cb7482fd9389764cab', '37d27db854b8b12da0d8891fe2fb1ee3', '38699511b30c3471b8f8863a9cd6c373', '386c0db1b34678f7137ff2f659f05e07', '38d5fdf008cf4644170b1fa0798aa18c', '3905c63c4be09605a2ded27d21b21ccc', '3a163ce24f1e58054f342113e8364033', '3a2ceee160a0ae1f5798c965dac3e2e1', '3a7b0d3d76307e1fbaef4d44a63124aa', '3ac2940e1567242ca01598862ce70dcc', '3ae993f5c47be1a4ae9ccd238b539ab9', '3b1db92b481ae4ebf234aa69df58806f', '3b6a08a3fd3ea4e4cff79e08d66754ba', '3b8e139ca3921718050a9bcbd4bf378c', '3c157e2df145675cddb8914447286e63', '3cc8fb13d4c382012f35ceaaf40e8162', '3da03127f3f9fa1181d73306bc4aa6d5', '3e15f2c438360bc266c9492bf011e0d1', '3e6c7c8e8b0c082dce74a090475b7977', '3ee644e1f2179ea8b9f5f8020b5248b3', '3f86773dd99cf4c25d21be49a9771a77', '3f91075be3eefc53c153ebea5798c4a3', '3fb45b731728737f4d38e02062e50d6f', '401aa9b3843be584710efb8e4223a501', '4024d954dd54814014a8f453efc13334', '40446e268ddb2f0ceecd3f5980d44b24', '41662b0cc1f6a7e8913a491841d665e2', '417c302b01db2d93ffdd46a0a93f0620', '41abb8b6c251b3eb7e2e111a6bf67448', '41e5a81c8af7515bb87dc15f8aff7193', '424472695fe396dc36ef0074c0e3fa9c', '425e668070181c1d82caf68b7e7a6774', '426d0f83eac12dad1d7cd698072b07ae', '427eee8ce117ee048793f4ae4179d3da', '43185e6bab8c41e91c43d5ee51e754aa', '43577f7dc37e91ee74937bede5b73f22', '43e022da6b3664e4cd34aba2c36f5fd1', '43f4aedfbbc7a7471011b388415d34f0', '445aabf3f85bb9dd41ac4f5bac15575e', '448274c761204f96f2c9c22fdd62ade0', '44843582a41673546c40c726a7e50ea0', '44a69752c34f856f7c1f2214338a7a10', '4561a3a610ba9f55c53cd1079da3aea8', '456ac33eb69f1967e148434043b19492', '4618230f38492b2d7753f5d047659d6e', '46649d4398d78999db430135bc1a5906', '46cc60ae411b951a3d0517b9bcdd11e0', '4775f33d137751a57fd95cff76fb3ea3', '4823b6994c64f8097342b8d47c57e563', '487280adfe564c7e7f1147b15bd72b28', '48ca703dd41562bd07fb8b690e33354c', '4925897538d3fdae6e43778e22b7c286', '494bc442d7a2864b8550bf188f358b15', '495b934067ec556f9309c19aea5048bc', '4969d1a6c013774aca6c4fa9557fa59c', '498575ec6d6a94f217f92a9b77902d10', '4ace284b2f26be0fca09eb3136d50634', '4bfe1c4801645f64a42ee5bb469bdb76', '4cf1014da9d2816be9b0986ef9c584bf', '4d08a860fc5ef47e8adcd56f734d17dd', '4d0d5774949b13984972f6ee58dcaaac', '4e1f7aef8465b5eeb8b564be0add0cff', '4ecda409d2182e674e16029ea25783da', '4eee1e5b8518a8467c9e786f39df226a', '4f03f319b7e3ac69a5be0eee6cd39331', '4f3922c17b1c07252f9e0e8db49c517b', '4f5ba63f47e84b65ce823680fa2c3924', '4f610f2efa4268736b3ffacc6e59006f', '4fb1c5704b16e1a2ca837bf4a2ff1dba', '50074cd73366b97ec769a7ba90360571', '508cad369bbccd9ed5f22bf9f0b680eb', '508f051e02a784f149744a001ff56b9a', '50d5b705ee8f7f9796c0970dd9bfca3d', '51c592a53cc7a8bf8729085e0ad82a29', '5203cb3abac4c7d541e6d8c9bad9de37', '528777f2b131d2738bf6f2a85669b311', '536609fbb9db2eeeebdd6407013a0eee', '53dabe9a505f5d25b3f70cfc31a926a3', '542a9c9ab7737b324f134ac48c56d53c', '54eb3c23082265a0fb92024cf460b803', '55367407f5b494129addcd93b0e17607', '557edacb7cf350db2d24b5ba5a94ae47', '55c3a0cfdfdb149092f28db9b76bb2da', '562c3a2506346346fbac2557927db0f6', '569fb6f819aed87ea3d471941c608bcd', '573f15b0932ec033c3d39def1b6f6246', '577845eb13a05d62357c2eef00a8c392', '57fa254282c431805cd775e699db021f', '57fd523f66106e315c99fc0b1d911cd9', '58175c112f803fb64d3310a55560c719', '582fe83d633e023b9fb3defbb812d93e', '587477fb6bdd4736646c531bc55f880c', '593dc00faff5ab0b6651851f1336d538', '5949731d6d6dda75aa61c0d1c8530e8f', '594fc6f69d8fb2e2006310d9148158b3', '595abf1e686fc6fd1918397d50d25866', '59eb7d20a8874d1166579f76aba81db4', '5a83a1a3cc8910eb7d7f6de0255b7d6c', '5a9d7541d463820fa65e8ad1c08745dc', '5af0e8556e7295a1786c3bdf041bb976', '5afd76d8d1dccf78c2612404f1a7eebc', '5b01db9ef424c3c65ab7e592f7faecb4', '5b609af2f8233b56781c7de27a982f94', '5b98b0fca71c579acd062fc615f42560', '5c13f37f8984188ee2b3e3b37a51c024', '5c2132265d52a2e1fe081437cdac5458', '5c736b28668257a660a438f20c1a781c', '5c7de092458ea5ec6c609453db045284', '5d768d26b123519b4667d7f3030ad530', '5d8648cc96517fcd440ae4aa723dea33', '5db0a19b6ad2b8ce6e657eb789d19c4d', '5db79232d2547857b04cb25b9be80fab', '5e13b33d9387df3cee582fbd4cbc5c33', '5e48cbe5adc4ecac12e2e07f703d8e3f', '5e6b0b6f9a1a974409d512d0e284aa7a', '5efef13241d36bba0a9b69663a72a48b', '5f038ce7544bebebf783714e2fe6b48f', '5f376d74075a91dfd438449cd27295e7', '60d73ab56115b83df17bdaf356c0c717', '6114781504d68dfe6d47f05294673179', '61f7dbf90d1398cb7060d0355baa4589', '62854cc0a9513f3dfce8ebd2c0cd52f3', '62ddc3536cacf73f83986b419abdef99', '62f554e22d2b14dbac549399509c9c8d', '63b23d0b4621e6b53553129f3515c8da', '63bb76bcd0e417e2e20ce3052904a492', '63dc6cb7f3aad758b43558d0226fbb8a', '63f4108833bddfa56eec68123da1fce6', '63fafe8b8196569b11fe89b9b582c4d2', '64287abd94fc444a89bbd55c5777591c', '6438d506c667b28f9ed9e10b13de0909', '64c7cc28bf30439534ea606697aec2c7', '64d4eb41786f4b8cfd837db9daca9042', '6525620550e044c55017168aafe8ca12', '65e5e617fce50b7e4523accf646a2426', '6617a2f82e82ff6bac5cb3a7311ffaa1', '66d71a6c6e588c805ac03240eae926e0', '671d5e9050d7decba834c56703e10dd4', '678a16119443ff96155061f08179fa18', '67a92fd440a7e6bef5c9449140d74ee5', '68613aeb5f20ba9a15840575ec0eb56a', '68a16b6d7df66c84745b83d65a4a5ae8', '68d7ac0413c5341b2d0991883236faaf', '69481418c2e1cc526436aa0085b82a93', '694cd9c405f39cd6034c3183665a0763', '69fd101ea4c6f64edbaa3ff3fe35443b', '6a0fc0546d680e58f5c63a7fabfcf5d9', '6a4cb1b11e337d3ba89a938584cebf5c', '6aac830c669e76270fa8c7272d7e9e1d', '6b75bbe1013f256c8b57ab89b6af354b', '6ba40928ecc02d6fd9c0d37c7295b0bb', '6bd6568e921d89a7e83b4deaa56a5e35', '6c2b24e32324a86c29bd45d6f84c9c27', '6c59e3aef3f0e62a4ff1cac88750041e', '6c81aee701b5fdf6b1107945b726dd62', '6c8deddbb476d2236174d9088d6969d1', '6cdfa9d833b6734a7f692a73d99edd1b', '6cfea1b58f569eeb2257ec4320b94468', '6d47d34d95e910b0608b3368ef47be58', '6d5c9634642fc196d0bd9ff4363fdc74', '6d5e3ddd93a0c0b35f81b9834235debc', '6d7cbb83e9aca2d08126d6d64f0a0dbe', '6d90519a603743e2b9be276ed4385572', '6dbef01945618f0e9bc6613b619b40ec', '6e09fdcdf724f32bbfea3e67d698f001', '6e0c7a83263cecadf933cfd25cca1142', '6ee9b781902a0b8b6e8ebf551f1bec5b', '6f13148b32cf63053cf35f4402fe449f', '6f3e91ff0999feedf5fc598870af250f', '6f873f537454b47d26aaa391de850618', '6f9c56886cbf05a3294eecd77e4e4561', '6fcb61165bb27166385d20b40955945e', '700e5d846f948fdfc44f3f98bda88305', '702505edbaa0037ad658bd2104b1864d', '70cbc4bfc9c1cda24406e7572c95e85b', '7177b6423de46c08bec2d3ec0c165bf9', '7181740f98f86b4a33c7ddec4dc8f1b6', '718e92a0a86f4b89f0a16294a83f5f9f', '71b252ec6b7889674b7e2e0d935bd9cd', '72fb1b15c27c773dbaa3562558d9ba3b', '731d68052481afad679caa52e610dd7e', '7364abfea5cbe11673175341571ce7b3', '737933401922685f3ec01bb3f82520e2', '73ae845ce3250fcc79b5c56a348870a8', '73dffa53041fcfbf18b7cbb728868bc1', '73e12c8c8a9c12305cf49c96f8b74286', '7459e4f61957727ad7460c93dfad2c0c', '75a0398230a518d4c1c234e18bf972ca', '75c9089301dfa669896016c32ba2d15e', '76adf5149e8b84299df0fdd846225bbb', '76c8a2ce4c3de4c6b593635f2137ba80', '772268f474d77ccc059c0740e351a052', '77efca8893c28e8ad01bee5bbe170195', '78725acfb0ef6df28641741660abda65', '7883ef9793fbbddb413d013113d07035', '7897a147f3269b580781ad7f7285fac6', '78fe03847c74b01ec5c3e761dd522329', '7a2287702528c1f4d4c179e9c3045609', '7a4fc454f12b9a069d9d5d56081827a8', '7a62d98d99dbd24c194f625f2259d418', '7aef786a6eab7b9ea89ba4d87c836ec8', '7b29f410c8ae964578d60745561235c4', '7bd5dd2f0eee1118f442446e2ab93f5e', '7dd2a38fe2a99bf352de02f8d0117aa0', '7de7cc378b333a09b9064afd85dc5302', '7e5a320d782280e5464bb3fd3e9c270d', '7e872e9439ba04a06648b81b89575a50', '7f0743f028a6c79043c8adb37a7f3aab', '7f13b83753d4986dcad3dd057f1307ed', '7f809edda518ce988b62739335c12b61', '80d6cc3287387ea62823124e4dec70dd', '80dc075255b105019ea49b6896efafb9', '811a25ce9f9d8405782b959e2ffa8f60', '817637a06d067e89a1f890fee60522c1', '81add2e448c9083f512a3abc528ee701', '81e0584f1f59e6192b0f150879f0a3ad', '820abfb59a7d2344032576bb2aa72f1c', '8228f4e57f940688d597b4e5321839cc', '823ee13d2454c937d412c3ed22565d78', '825aebb67f0e09708e69fb0b56015358', '829fba241248a3edf995c7ea601dcfc7', '82ae3f897d19e79c464df71124e177e6', '82d1f5c821eca70d177afab652a67e1a', '8307d494b43ca42c995119c4bf8cead5', '836523ac27f403499f595a3a481b171e', '837e4d6f8265a8c4e064e93eb99e79a0', '83dbcd19cd4ef2e137aa9e8e7997a152', '83e5dedbd3b47c21f197daf0f780fdbe', '83eb50bb1d70c125d7ecb2d304228671', '83eb7218c7c32264f06316c947fd9caf', '83fac6714be6828147eb5caa6b98bfc0', '840a71f20a429de66b284a68363b8700', '8493c30924ea87c45d2fe8041131935d', '84c55f89a0309660b688cdf101ac085f', '84cad42499701c7af54d72846dd3013b', '855f41304a5d830901d96f9c24c91694', '85bd8c5330eb78667258554470e6de22', '85dfb7c32a20318ce589423ecdb4bae1', '85ef2731c9bbe52d02c763ae01b8d24b', '8602560264582460521d16e12d1053af', '8673176e590c868455e796f45442e647', '86a60d67c0076c592ced3dac1d9dc973', '86c49ff1d8d84a81bfb5b672669c807a', '87996b7c07381fb43371ea7ab6c05387', '87ae9298f6bfb85cb429ec6844592452', '87ff97ad3eea5043afb4a233c142a354', '88007221604868832fbff44eb76fae66', '88670ab59a71a58ffa5d0fc455100811', '896fd3d3f421df1fbc8c8f7dfcd580ae', '8a77ef895288542a8eabb816badf1312', '8a83ec292df5812fec50315067dccee5', '8b2fb4f828038320221511819f181012', '8b31f2f30ef50bf4a0ace5a6b7e774a5', '8b9af52dda3ff008a3450c4e3ef39077', '8bdfe984b2293ce8585c998f05034d87', '8d1f3f07a8b4b4a4aad7c2d4a83f6ba7', '8d2eebf375781acdde3afc1ef6f06bf7', '8d5526a918701fcf32627c7fbc5197b7', '8e0a0331bfbefd0aa6552f6655f86793', '8ee21bffd8054f2b54a4cdd319077b64', '8f439f0c1f81f98a85cb375a69c5203d', '8f45ccefe6869371968fdb0457d0862d', '8fb9fcce71de745cdb9e8c9133ab7ed8', '8fc88cff417af9a8e08f9733148c1559', '8fc935538aca73ccee0b0eb9cd346ac8', '90085eb83afcc3405e9867c586d2a953', '90a63805f169d1c1b1e95efbb96f8b52', '90af0109ba84c68d7109f3cd8840325e', '90b8821d1b643b49a7fc42f3ab54ec29', '91b3712c4949f347ee8ca55251c4239a', '926abef41c17fbd010a3548afd2a1964', '927436fb520216fc72a92e1054b17548', '92acb69fe2e73b9acef7baa0236e3cbf', '92b4e5b81ef54fa40a3fbebe3e2637b6', '92e12e9db5b31a31bf4c22238e7bd75d', '934750fdb81f64860fe479342df4d909', '937e33dee35035b504fcb1770570bfbf', '93f071a16fc1ac97a15e20a6cf565b25', '9407f25c5739c404c473cc1468134456', '9414119b4bb85794a3a8fcb8f10dcbe3', '956200929059466253da93b3c4946f5b', '962feaa28e7ad729856888a30553da2f', '967781dce8acad8bb3c5818e4cf11e8c', '9697b0bb97cb75c138d58d6b0e19f023', '97266c3f9f3af560748f0191236cdf18', '972b784dae418512dbb1c8515256b644', '97c15e91e90f3960d540e3a2af067f1c', '97de647f1381d58774895f458e191ff6', '97ef3fe34b38af03de258b91c60ead17', '9826674ad5a91f170bd238510c81b0c0', '986c6805649694fc5330738f64893009', '9aaa2da74084e47bb458891739519919', '9aeb15de7a5694758833f40497a7125c', '9b28f8d02aa4b8aed6967a51bf302b17', '9b87d0ba20250309615e939ad9497748', '9ba449b6f51c1f2b2dbcc3138a995c1c', '9bc83e9764d2b29d8f3195ec261fdf90', '9bd70928d64f1e8cbcfee02f95b7ffc2', '9c73f08a88ba93a8ecca0c7d9733e976', '9ce2fbb4852722b1d59149521806bb45', '9cf74eb0bec647e0209dd7554ed6ab4f', '9cfafef6b5f286bed22693c188dd5c10', '9d6efa4750327c32d8a14898315f4384', '9da0da30f7a10db194c48eba8db8326e', '9dbd87f1617a7d6a27f445efa1fe76dd', '9e6bf565a79f552f4f53898b2f63c36b', '9ee02e48c1fd7f4f8f5d295ea4abb3fd', '9f450080f5056c225b6e13e76e6f8e07', '9f9ed291f406c98d26bad0a3fc2817d6', '9fcf168f93075fcec78c8483bb091586', '9fe41e3ada8cd8cdd30be386d879a24d', '9ffef508e9646ad0042bff41998430aa', 'a01294455eb1c11cb3f7d0ad48729e37', 'a02096b6962b20dc4d68db1f70332800', 'a04a475d133642faa302a81d4e75cd14', 'a051c00937a02c6fc9033cb8f6d54c1a', 'a0675af41d7448c04caf47f00c2631ab', 'a07418b6490dcbd400ccfbead28bd0dc', 'a07cfaf4ae01f83dc7823e8aa960f18e', 'a08d716135f3742033869d6071d27adc', 'a0b0decfc62557c7544efd3077c0d9d9', 'a0e7434eac6b816421bcc14a8fae90b3', 'a181a96274445615f94044bb431bb49f', 'a18b55212590eff75954ae9e1e67b58d', 'a1a216588b87c01df7447fd3aaded06e', 'a1f9f6ec561b90b67cb09956dadbb628', 'a23a1bdc6e121ddea44083b83321a4f5', 'a24a3d764c239dd82370d6ac38d79d6e', 'a2a3fb68afd4758194e3aff8b693347d', 'a2b83bed161dbba5aa401d24e0107246', 'a2f11481347aa24bb3091a9264b56e8e', 'a31dac9d098c6c6b3fa12200250efad8', 'a331da318e42196cbc6a94689957987c', 'a33d6c08928b7ff8989bb57b932e4e30', 'a3cd6e40986acbfe39127900cde138db', 'a3d7f633876dc4a3107ede8516742108', 'a4a317af0b9ea15e26e5cb9b7f34beb3', 'a4c59379c8e956372b715217dc99b8eb', 'a55f2a07b4494e6a253fd14f3dae21ee', 'a5eeefc575b6d63cadd00784439d7794', 'a6570c2327348c40f2a23e1fe3b9e9ab', 'a6d3933e9cff443c94a5fca610c095d4', 'a6f12ecb13cf2c367508d912970c736f', 'a6f4482a23ab3e783e438b1a4d2fb98e', 'a72bc2e1566cd1484ce52a4da78ce45b', 'a7cdae1f15218ddb57e1c712735c9356', 'a88e51ac0b8eaa9f058778dee37487cf', 'a90e597d94e8647e36e6dd0f67640ba6', 'a91a735a1b1be6c5532ff5ce83568db2', 'a9813389c157adab3c6dd069d609b26b', 'a98eb6381e6af9f20710cec669224f09', 'a991c4c8c56d10a209e654faf31627e2', 'aa097a13dd51895f548643ebed716c1e', 'aacf54b33055516dbdf8096bb68875e5', 'aad644294729364cf49290e993a6c689', 'ab3c065a883d62e650d5bde6cb76d235', 'abe1f2b7bb8f25d837f5e0b1b1a03e30', 'ac0dd6960b8ea3007e93b4257e12f106', 'acba4c27181e38c092eef446fe5b56a9', 'ad3757a244f39529aae57e3209e13f55', 'ad661e367b8afd675a4754449dd01836', 'adc3d7baeb1ed51866f2fd4324905036', 'ae4215a06bf55e5a14c281f9c72c1cce', 'ae5916c00e821ec180ae9c4e939628ef', 'af1be8e6286062e306b1bc408a55acdf', 'af4bc52efd47109eb314f5bcf5ba2460', 'afd83fe806415807d6c343eddda5a54e', 'afefcbbba2d5afd1ae8ca2d0ee18fa0b', 'b05ed1f00b6f2721fffbc6cad026efe3', 'b075a2de97318b7acf1211c5977919b6', 'b1426abb09d622e9b17974aa8e1dadad', 'b173c4882e3e0078cd111187a1e9361b', 'b1aeb0e5b658cb6aca3f8d40e6ff0e21', 'b1bd2374ac4867be209de38d3fc29b30', 'b1d7ac8639e0a8e67a42cb0afc111913', 'b1e9eaea5a6cd860f129813f595bc0bb', 'b2e1ad43eb6e9bf22d8a953c5937810d', 'b312bcba7bff239a1876e7c3e53d9f5f', 'b322346ddbe14d8310f76d24c370553d', 'b36b7020f126452e8aef1cbfe15ed644', 'b37619e944c885517619d88f427cfd76', 'b3ca5b787ff1938605a503f3e68eaad6', 'b44b026112f59b37f978ef1c93d92408', 'b50cdad287b97d5ae96b16c2ea5550a2', 'b56bb8ff3918b4a943395adc47f2ffcd', 'b63e71ec87ced828c5ff6989f2d2c441', 'b66467693b7ef5cb26b49ce7df7d1253', 'b732fe08a20aa27ad0ca6690d2ed06e2', 'b78acd3c566071a02b5e594f843f56ae', 'b87cf85f26c505978d6f09849aab24a3', 'b8971cbde7e8e307d23146eb084a3996', 'b9a817295263f551cb41170dd863f0a7', 'b9ac1992130af8b7fc169956ec14999b', 'ba33988e1bae308e22a8c18dea119532', 'ba452925d692ee4f42d93e34de26ed77', 'ba562b78e97a9229a8136f6d6edeee57', 'ba730d8c4884d44078bfb1393dd7eebe', 'ba841e08f54b4620d391f80f5f90a4ff', 'bab5f59f373579ea484b3244f4b16bd6', 'babde0d85fa4c0d0683369ad06d90ae1', 'bb2900362dd9893bb210f541a5f01fc6', 'bb586e2c71c456b0433ff8607c98a334', 'bc30bb28a94477d02aafeac977172f56', 'bc59b11b14d8dbbf3eddf15efa3de297', 'bd2065170b909a3c709271ebd138a34f', 'be4ac702d2264c32bcd7afdc68b4bd31', 'be649a681e691819ee1b083f365a8654', 'be671945d76353507aa0d5613e29d572', 'be71da37f3edfd2d430af89818ef1241', 'bed1133c5732f1660fc2175bf3067417', 'bedb0dd04c36045dace914f83ca59684', 'bef9ad7487fe2fc6d32820206c573d66', 'bf0a0307a799413361b3d992f56a33fb', 'bf143ea50b986e557935dfc7b05de89d', 'bf6300c94e0467560ac4ab4f56a599fe', 'bf7fa714fa06c71fc7295b79da2cb843', 'bfb231c42e613ec73f1a02728a1b8182', 'bfb713ade5d643bbd4dd75a4d16e6417', 'bff96a8246911a416f423f5e49430628', 'c0609cdb5a1ab2f1cd20d5f933ee2f94', 'c0a227cd27f8613e21b0e99a63620895', 'c12d062c8b3d3f6a16d7ea6b483cb571', 'c1c4641b9141284651603b36ab9234b0', 'c1d253f16e2661e5692ebe644ceae4b6', 'c1fbfee59f75674aefc0ea170476ae9c', 'c249d9ea06816a7faf8ab5fe957549b3', 'c258d1c4482a4039eb70fa5fcc444dd9', 'c26d9bb4e76e2b3f63bc8d8ada5ad6b3', 'c2f1764ad77564bae577a80baf59bcc6', 'c35625b7805400a27812a1a3d542bc05', 'c373e168ef84e1e666d2df43b4822e10', 'c457ed8e45750082fefba2e00ca2d55b', 'c45fd1b03269496fbc43de1fec0b05a7', 'c46b0a56303ab1dca74b147bdb2e02b7', 'c4b7952a3b9f6a4f1230e744ba425351', 'c502b6e783d9ab948c49a46c4910813d', 'c517b1ca65690afb52773907bcdd9f54', 'c5a7dbf70b5c58450630257dafc505ae', 'c644f6cdc42ee4b71f4fcb37de0c55de', 'c698a520504afd044420cc6ae5f87d30', 'c6c17be26efbfe9b6eb81d11392323b0', 'c7844fac26e9ebd156f1b611349d452f', 'c80efe789f8fe22341d5eb7e0bc9637a', 'c87b626cc62f726f4d391916dbbdbe5d', 'c8b3423fbe6a90c6081aa74db8657d31', 'c99d447a59a31a560acaab68b2b4490a', 'c9c2e625cf90f4507e20f2fbe91156ec', 'c9cdb843bca34bdf1e025481bcc30e88', 'ca04e425357c5c2fa9c3ea28f2f318bf', 'ca3c00fd7453e67bec1247451355c5f9', 'cb31b8a3d6b5beb537fc566c218156db', 'cb42f458cf0f319f41662ee657a7b322', 'cb925f25cba11d35f25718871eaea76e', 'cbc47b755f60f6ba22af46ffd50a4cce', 'cc3e3bc26345ed944cfec718c4422778', 'cdbf6512e7182c88e4f59b9ef4fe4eaa', 'ce83ee4c91048a930f62f05e4ccbe809', 'cee472bff9b4f919584d4943549e3216', 'cf187f21d04ea8462ecc1812f0a855cf', 'cf772246daeda9d1f9cf2a20be5e2ee4', 'cf9d318bb59f0b1c1977be50b09e8ab0', 'cfe653cc400a93c16af9dea15b00a9e3', 'd047f09e4e626042b2a4bb9257a3269f', 'd05aaae4301ed6116fd406395d31fbb2', 'd072e2f6220eeface469d7030df08e74', 'd0a4b0fe765996eee773a29ca026d61a', 'd0ba504abb67d1ef251280e6e84546de', 'd0bea61ddf16454fc21194a0f933b7ee', 'd120c73e3f57fa2f97df38b2177b1d3b', 'd13493d66dac3e5a34167eb74ed5aa85', 'd235c1eb5de05b61b098b5e18b091059', 'd272185a396171b6966d3e3fe97f16ad', 'd43f93b027c216cae292af47713148b5', 'd463f1a3377827b043d3e5277e5680ac', 'd49aa647d782f7987a9a78514f0d450c', 'd57d75a074f419084395042673fb6531', 'd5b9293005317e4984505bb8950294ad', 'd5fe37447d700d14af665a1566902e40', 'd64308a965eac12400b23d430b815247', 'd672c29f871595c6c7124f3dded75acf', 'd689a4578ac70e0e3d71667e975dbb7d', 'd68a874ed08af300cea6b69294d7ac17', 'd6e1cbc4ce0f341fa78e1c5d83cdecb4', 'd7823ba1197053d5c8b43205d957716c', 'd7a2f2ad3d21b2e4dcde6e9de6dfb4c0', 'd7e88c594631815d34955309f22ec329', 'd88dc07e37dfd387efd29c8166452eb9', 'd8defeb2c84f91bc355e251880950124', 'd92c9b37c268b4daf451e7f5bb15bbbf', 'd94875c150266417dc5e83e1b9ebf2eb', 'd98a816f1cd07275fe35e1e78046c722', 'd9a741051bf1ac4a284828145f494ca7', 'da57d345368068a6e5947dc1966733e3', 'da64129fe2dbf00c241fb2a7f8fae14a', 'da6d04200dbf440ae51146254c983946', 'da7516244e8b38d71d94f52054cd816d', 'da7571e00d725818dffefad24d84bdc6', 'db29d15f24a6ca3638e52b2cafd8ec50', 'db6dbc58806398a985863681f9888590', 'dbbb9c9b3aca520433073e034a8806d6', 'dbef6b1eb047ccbf12230b66a224e733', 'dc47a479c3c4e3d040fcd470d2f50b24', 'dd42e1a0b923c7e972035b4c7ff669c9', 'de36ca591ede5a2dc481afc82edcd0d3', 'def4aec6dcccd7cdb13c0c7b56da77fb', 'df409b7887cd044b30bd8cc5276a7431', 'df4acc3b86625efb9191624272e3a892', 'dfc95dff2db3a016a3d08435c4eec84d', 'e08ab4155adf371b50e7df6d2442c3ae', 'e24d9e0917deafdac2ce9bd16d6f2bdd', 'e387577891f81e8173c176ac7b17d057', 'e3897616310d36e0be171786e097e887', 'e3c02594e559a83af3a1050722021582', 'e59d8189e05621f72e29c3894da5d71e', 'e59f8f455f525e130394c655eeb831dd', 'e5fdab1f23d885fa6553498cc23d386d', 'e62a52c53f867c03d134ea831975bdea', 'e641e0d5d109d7b549d0f75980e7d09f', 'e69dd1d0b82245d466502fb642e0c0fe', 'e6b7a5da0ca4c7cd7e60d37b2b1665eb', 'e6d2ca92a33ca7fb67de08c26f679cfa', 'e70d898a75db924235ab24d7564c9778', 'e7571a68cfcc459ac832c2862e188b20', 'e7b364b04b789585dc847066cf259bcd', 'e7b86908b2ba9afde9eaefa961b402d5', 'e806b0de699f35c2f6c1921e0bfb33de', 'e8e81c8db5d4dc9348d6bb20f3845089', 'e9c2f2470038168f9726a9e9e87ba2e9', 'ea202259a0b0e1b43bcb88e792105a17', 'ea46d5c28ae2acc2765db3c94ed82ec9', 'ea5ef90b575a2025b0f7323c65013548', 'ea8ffdfd3a9ebe228f0dda8db6459509', 'eb24a74312da96806e0b0f9d158f5a31', 'eb555b27d3de37dccb882b4125023a64', 'eb6c40c5b38f2dc53509b314588e5faa', 'eb8d64ba08ab31f24e5ba279ee8ad13b', 'ec4bce9ddcea6feb9fd94b055b822ed7', 'ecdd670770385c6a0e18f9cfb25cd272', 'ed2fd6ff8c6730c9e84039d744343b52', 'eda9c11c8e9686359ee6f0312600b18a', 'ee20ebfc34f1ba4b07740e6eb4f418cf', 'ee40f48db4e225d9ecd55be495308af9', 'ee8587a14bdc88d93cd3e3bb7f1daa52', 'eeaf45d869834d2147eec1ef5f6c1604', 'eeba8c1534ffbe5e13236c2edb17004b', 'eee5846276565ebe40fa72047f3f5b0c', 'ef3280d72ba3bde59494b644b998031e', 'ef6d6b7956388d2fe1e8060f3b02f6d1', 'ef8247713bd9abfe6ae41c0d0c7275a2', 'f053bd95d375acb6f2bcca3d47c41e0b', 'f063718841decbe579fec12e4a52a365', 'f0ad9df816b97ac90896ca9be1d96cb7', 'f2fbf17c84a9dcbb8df6a6a3f5bc6d9f', 'f34aa61e12e6361e3a41cde26bdf6e45', 'f39060c5afc5dc38a4d53019e2f287a4', 'f3a79cff42cc73fd6b034aed95074654', 'f4b047ab356dfe21e19bf6d0dd51e12e', 'f4de87d81eb98740d973c3dce1134334', 'f567178fb91d41dcdbbbdd552f9b45aa', 'f5bf499e951e05ae0f355ca40ee315eb', 'f6218041df121b8561380f99f9cea502', 'f6a6487005199c014ffd8a56b8e49f6c', 'f6e1786a6c68e8d8d85a1d2d1dcddd64', 'f6f8b8758ee07cc7a338784c0cdd35b3', 'f7029b27860041e46b36c029a17c9648', 'f73ec0fa45a9636791875b0df948d230', 'f7cc9f62c6147b2f270449359ff5d93a', 'f85f867d49b46c8998c4172cd439bc0a', 'f87435868589bb0cbc4fcf6c2e49af28', 'f8f71c83285e0c0c4eaab98b16a9efae', 'f9005bb4eda76cf2e675a7e878959d6c', 'f917e4e2a5c27723c819132f3dd3ed76', 'f93be58498ca17bddeec121603e1f0f1', 'f994641f9fb2bc26073e0e85e7743c54', 'fa6411a536e85260c72a19e5d402cef2', 'fa8007c471a4f01db1288fef96c8acb2', 'fa8be740b87f2264aada61a38120f2b0', 'fa9e27b5ea558a65483a0109d856ca00', 'fabd9ed553190b7041665071f91cf5ab', 'fae183ce03789e7cc2b4df36a84e501e', 'fb73fc698f47466c9329c6954b60c236', 'fbac2ab90106ecb777d61a6ace035419', 'fbb8fe7170db4b75e5a08250cac73c47', 'fc4e08e97c12fef1d7f342f003bf671c', 'fc727c44f8ca75d03554345bb8e481b0', 'fc98de1887c9d5c41d304dee643433a0', 'fd91411aff3c69927bce822c397669a3', 'fdca3a571becd9869cc82220ef63f3fd', 'fde4a68aabd66519780cea850bb03d5e', 'fe0027eb5555f025d22758d1622ffc4c', 'ff31414078e7767dea96800e96c7feb6', 'ff50878a59238f4c88a8486f6ab47b49', 'ff70bce85efc3fbf2960d47d99a40a68']\n"
     ]
    },
    {
     "name": "stderr",
     "output_type": "stream",
     "text": [
      "/Users/thomascartwright/miniconda3/envs/sci/lib/python3.7/site-packages/numpy/core/fromnumeric.py:56: FutureWarning: Series.nonzero() is deprecated and will be removed in a future version.Use Series.to_numpy().nonzero() instead\n",
      "  return getattr(obj, method)(*args, **kwds)\n"
     ]
    }
   ],
   "source": [
    "# Get the index of profiles that actually participated in the project\n",
    "y_true_idx = np.argwhere(y_true).flatten()\n",
    "\n",
    "# Get the IDs of the profiles that would pick this project\n",
    "trueProfiles = profilesProjects.iloc[y_true_idx]['profile'].tolist()\n",
    "print(trueProfiles)"
   ]
  },
  {
   "cell_type": "code",
   "execution_count": 27,
   "metadata": {},
   "outputs": [
    {
     "name": "stdout",
     "output_type": "stream",
     "text": [
      "['2074f4ce0ab57aafc32d20f6d59d6ce8', '2141c910dea1e351510b821203bc1261', '24384a5d0f2239b9c56fd7cc85ce00fe', '3a2ceee160a0ae1f5798c965dac3e2e1', '55c3a0cfdfdb149092f28db9b76bb2da', '5afd76d8d1dccf78c2612404f1a7eebc', '6d5c9634642fc196d0bd9ff4363fdc74', '76adf5149e8b84299df0fdd846225bbb', '829fba241248a3edf995c7ea601dcfc7', '94310374ddbe2cd489c9ab09e92d86b3', 'c03caceeb4ac5ec796271393194e5b90', 'd072e2f6220eeface469d7030df08e74', 'd7e88c594631815d34955309f22ec329', 'e24d9e0917deafdac2ce9bd16d6f2bdd', 'e8f6cb3b7cb818ee8e0fee62937a2f48']\n"
     ]
    }
   ],
   "source": [
    "# Get the index of profiles that actually participated in the project\n",
    "y_pred_idx = np.argwhere(y_pred).flatten()\n",
    "\n",
    "# Get the IDs of the profiles that would pick this project\n",
    "predProfiles = profilesProjects.iloc[y_pred_idx]['profile'].tolist()\n",
    "print(predProfiles)"
   ]
  },
  {
   "cell_type": "code",
   "execution_count": null,
   "metadata": {},
   "outputs": [],
   "source": []
  }
 ],
 "metadata": {
  "kernelspec": {
   "display_name": "Python 3",
   "language": "python",
   "name": "python3"
  },
  "language_info": {
   "codemirror_mode": {
    "name": "ipython",
    "version": 3
   },
   "file_extension": ".py",
   "mimetype": "text/x-python",
   "name": "python",
   "nbconvert_exporter": "python",
   "pygments_lexer": "ipython3",
   "version": "3.7.3"
  }
 },
 "nbformat": 4,
 "nbformat_minor": 2
}
