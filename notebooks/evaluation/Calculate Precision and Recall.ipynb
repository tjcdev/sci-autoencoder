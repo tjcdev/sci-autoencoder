{
 "cells": [
  {
   "cell_type": "code",
   "execution_count": 1,
   "metadata": {},
   "outputs": [],
   "source": [
    "# from UserProfileHelper import UserProfileHelper \n",
    "import pandas as pd\n",
    "import time\n",
    "from sklearn.feature_extraction.text import TfidfVectorizer\n",
    "from sklearn.metrics.pairwise import cosine_similarity\n",
    "import numpy as np"
   ]
  },
  {
   "cell_type": "markdown",
   "metadata": {},
   "source": [
    "### Method that generates the profile for a user"
   ]
  },
  {
   "cell_type": "code",
   "execution_count": 2,
   "metadata": {},
   "outputs": [],
   "source": [
    "def generateProfile(projects, userProjects):\n",
    "    # Get the ids of projects that the user has interacted with\n",
    "    project_ids = list(userProjects[userProjects == 1].index)\n",
    "\n",
    "    project_titles = []\n",
    "\n",
    "    for project in project_ids:       \n",
    "        project_titles.extend(projects[projects['project_id'] == int(project)]['title'].tolist())\n",
    "\n",
    "    # Make a 'user profile' out of these projects\n",
    "    projects_fields_combined = ' '.join(project_titles)\n",
    "\n",
    "    # Set this part of the profile to the user profile\n",
    "    return projects_fields_combined"
   ]
  },
  {
   "cell_type": "markdown",
   "metadata": {},
   "source": [
    "### Setup or tf-idf vectorization"
   ]
  },
  {
   "cell_type": "code",
   "execution_count": 3,
   "metadata": {},
   "outputs": [],
   "source": [
    "# Setup our TF-IDF model\n",
    "tf = TfidfVectorizer(analyzer='word', ngram_range=(1, 3), min_df=0, stop_words='english')"
   ]
  },
  {
   "cell_type": "markdown",
   "metadata": {},
   "source": [
    "### Load Projects Data"
   ]
  },
  {
   "cell_type": "code",
   "execution_count": 4,
   "metadata": {},
   "outputs": [],
   "source": [
    "projectsFile = '../../data/raw/project_data'\n",
    "all_projects = pd.read_pickle(projectsFile)"
   ]
  },
  {
   "cell_type": "code",
   "execution_count": 5,
   "metadata": {},
   "outputs": [],
   "source": [
    "# Filter out the project we are going to test using\n",
    "test_project_id = 169\n",
    "filtered_projects = all_projects[all_projects['project_id'] != test_project_id]"
   ]
  },
  {
   "cell_type": "markdown",
   "metadata": {},
   "source": [
    "### Load the projects and profiles links"
   ]
  },
  {
   "cell_type": "code",
   "execution_count": 6,
   "metadata": {},
   "outputs": [],
   "source": [
    "profilesProjects = pd.read_pickle('../../data/processed/useful_profile_project_adj')"
   ]
  },
  {
   "cell_type": "code",
   "execution_count": 7,
   "metadata": {},
   "outputs": [],
   "source": [
    "# Generate the meta_title for each profile\n",
    "profilesProjects['profile_titles'] = profilesProjects.apply(lambda x: generateProfile(filtered_projects, x), axis=1)\n",
    "profilesProjects = profilesProjects.reset_index()"
   ]
  },
  {
   "cell_type": "code",
   "execution_count": 8,
   "metadata": {},
   "outputs": [
    {
     "data": {
      "text/html": [
       "<div>\n",
       "<style scoped>\n",
       "    .dataframe tbody tr th:only-of-type {\n",
       "        vertical-align: middle;\n",
       "    }\n",
       "\n",
       "    .dataframe tbody tr th {\n",
       "        vertical-align: top;\n",
       "    }\n",
       "\n",
       "    .dataframe thead th {\n",
       "        text-align: right;\n",
       "    }\n",
       "</style>\n",
       "<table border=\"1\" class=\"dataframe\">\n",
       "  <thead>\n",
       "    <tr style=\"text-align: right;\">\n",
       "      <th>project</th>\n",
       "      <th>profile</th>\n",
       "      <th>4.0</th>\n",
       "      <th>5.0</th>\n",
       "      <th>6.0</th>\n",
       "      <th>7.0</th>\n",
       "      <th>8.0</th>\n",
       "      <th>19.0</th>\n",
       "      <th>20.0</th>\n",
       "      <th>22.0</th>\n",
       "      <th>24.0</th>\n",
       "      <th>...</th>\n",
       "      <th>20568.0</th>\n",
       "      <th>20569.0</th>\n",
       "      <th>20571.0</th>\n",
       "      <th>20572.0</th>\n",
       "      <th>20573.0</th>\n",
       "      <th>20577.0</th>\n",
       "      <th>20591.0</th>\n",
       "      <th>20603.0</th>\n",
       "      <th>20650.0</th>\n",
       "      <th>profile_titles</th>\n",
       "    </tr>\n",
       "  </thead>\n",
       "  <tbody>\n",
       "    <tr>\n",
       "      <th>0</th>\n",
       "      <td>001bedb58aa43c8d3596b5b522ba1040</td>\n",
       "      <td>0</td>\n",
       "      <td>0</td>\n",
       "      <td>0</td>\n",
       "      <td>0</td>\n",
       "      <td>0</td>\n",
       "      <td>0</td>\n",
       "      <td>0</td>\n",
       "      <td>0</td>\n",
       "      <td>0</td>\n",
       "      <td>...</td>\n",
       "      <td>0</td>\n",
       "      <td>0</td>\n",
       "      <td>0</td>\n",
       "      <td>0</td>\n",
       "      <td>0</td>\n",
       "      <td>0</td>\n",
       "      <td>0</td>\n",
       "      <td>0</td>\n",
       "      <td>0</td>\n",
       "      <td>Journey North Pollinators.info Bumble Bee Phot...</td>\n",
       "    </tr>\n",
       "    <tr>\n",
       "      <th>1</th>\n",
       "      <td>0021e5df03d7feb6ba9558cc2828d616</td>\n",
       "      <td>0</td>\n",
       "      <td>0</td>\n",
       "      <td>0</td>\n",
       "      <td>0</td>\n",
       "      <td>0</td>\n",
       "      <td>0</td>\n",
       "      <td>0</td>\n",
       "      <td>0</td>\n",
       "      <td>0</td>\n",
       "      <td>...</td>\n",
       "      <td>0</td>\n",
       "      <td>0</td>\n",
       "      <td>0</td>\n",
       "      <td>0</td>\n",
       "      <td>0</td>\n",
       "      <td>0</td>\n",
       "      <td>0</td>\n",
       "      <td>0</td>\n",
       "      <td>0</td>\n",
       "      <td>Project Implicit MAPPER AgeGuess The Royal Soc...</td>\n",
       "    </tr>\n",
       "    <tr>\n",
       "      <th>2</th>\n",
       "      <td>00300cba5401183830a6a82b80c8ff7f</td>\n",
       "      <td>0</td>\n",
       "      <td>0</td>\n",
       "      <td>0</td>\n",
       "      <td>1</td>\n",
       "      <td>0</td>\n",
       "      <td>0</td>\n",
       "      <td>0</td>\n",
       "      <td>0</td>\n",
       "      <td>0</td>\n",
       "      <td>...</td>\n",
       "      <td>0</td>\n",
       "      <td>0</td>\n",
       "      <td>0</td>\n",
       "      <td>0</td>\n",
       "      <td>0</td>\n",
       "      <td>0</td>\n",
       "      <td>0</td>\n",
       "      <td>0</td>\n",
       "      <td>0</td>\n",
       "      <td>Nature's Notebook ISeeChange GLOBE Observer: C...</td>\n",
       "    </tr>\n",
       "    <tr>\n",
       "      <th>3</th>\n",
       "      <td>0033882471572a66322d0747c6a4b12d</td>\n",
       "      <td>0</td>\n",
       "      <td>0</td>\n",
       "      <td>0</td>\n",
       "      <td>0</td>\n",
       "      <td>0</td>\n",
       "      <td>0</td>\n",
       "      <td>0</td>\n",
       "      <td>0</td>\n",
       "      <td>0</td>\n",
       "      <td>...</td>\n",
       "      <td>0</td>\n",
       "      <td>0</td>\n",
       "      <td>0</td>\n",
       "      <td>0</td>\n",
       "      <td>0</td>\n",
       "      <td>0</td>\n",
       "      <td>0</td>\n",
       "      <td>0</td>\n",
       "      <td>0</td>\n",
       "      <td>Project Squirrel Stream Selfie</td>\n",
       "    </tr>\n",
       "    <tr>\n",
       "      <th>4</th>\n",
       "      <td>00536e1575193e409e255cd02ed9d205</td>\n",
       "      <td>0</td>\n",
       "      <td>0</td>\n",
       "      <td>0</td>\n",
       "      <td>0</td>\n",
       "      <td>0</td>\n",
       "      <td>0</td>\n",
       "      <td>0</td>\n",
       "      <td>0</td>\n",
       "      <td>0</td>\n",
       "      <td>...</td>\n",
       "      <td>0</td>\n",
       "      <td>0</td>\n",
       "      <td>0</td>\n",
       "      <td>0</td>\n",
       "      <td>0</td>\n",
       "      <td>0</td>\n",
       "      <td>0</td>\n",
       "      <td>0</td>\n",
       "      <td>0</td>\n",
       "      <td>GRB cosmology project Backyard Worlds: Planet 9</td>\n",
       "    </tr>\n",
       "  </tbody>\n",
       "</table>\n",
       "<p>5 rows × 1222 columns</p>\n",
       "</div>"
      ],
      "text/plain": [
       "project                           profile  4.0  5.0  6.0  7.0  8.0  19.0  \\\n",
       "0        001bedb58aa43c8d3596b5b522ba1040    0    0    0    0    0     0   \n",
       "1        0021e5df03d7feb6ba9558cc2828d616    0    0    0    0    0     0   \n",
       "2        00300cba5401183830a6a82b80c8ff7f    0    0    0    1    0     0   \n",
       "3        0033882471572a66322d0747c6a4b12d    0    0    0    0    0     0   \n",
       "4        00536e1575193e409e255cd02ed9d205    0    0    0    0    0     0   \n",
       "\n",
       "project  20.0  22.0  24.0  ...  20568.0  20569.0  20571.0  20572.0  20573.0  \\\n",
       "0           0     0     0  ...        0        0        0        0        0   \n",
       "1           0     0     0  ...        0        0        0        0        0   \n",
       "2           0     0     0  ...        0        0        0        0        0   \n",
       "3           0     0     0  ...        0        0        0        0        0   \n",
       "4           0     0     0  ...        0        0        0        0        0   \n",
       "\n",
       "project  20577.0  20591.0  20603.0  20650.0  \\\n",
       "0              0        0        0        0   \n",
       "1              0        0        0        0   \n",
       "2              0        0        0        0   \n",
       "3              0        0        0        0   \n",
       "4              0        0        0        0   \n",
       "\n",
       "project                                     profile_titles  \n",
       "0        Journey North Pollinators.info Bumble Bee Phot...  \n",
       "1        Project Implicit MAPPER AgeGuess The Royal Soc...  \n",
       "2        Nature's Notebook ISeeChange GLOBE Observer: C...  \n",
       "3                           Project Squirrel Stream Selfie  \n",
       "4          GRB cosmology project Backyard Worlds: Planet 9  \n",
       "\n",
       "[5 rows x 1222 columns]"
      ]
     },
     "execution_count": 8,
     "metadata": {},
     "output_type": "execute_result"
    }
   ],
   "source": [
    "profilesProjects.head()"
   ]
  },
  {
   "cell_type": "markdown",
   "metadata": {},
   "source": [
    "### Generate Predictions "
   ]
  },
  {
   "cell_type": "code",
   "execution_count": 9,
   "metadata": {},
   "outputs": [
    {
     "name": "stdout",
     "output_type": "stream",
     "text": [
      "Globe at Night\n"
     ]
    }
   ],
   "source": [
    "# Convert all the user profile titles into a list of strings\n",
    "fields = profilesProjects['profile_titles'].tolist()\n",
    "\n",
    "# Get the title of the project that we are trying to predict\n",
    "new_project_title = str(all_projects[all_projects['project_id'] == test_project_id].iloc[0]['title'])\n",
    "print(new_project_title)\n",
    "\n",
    "# Complete the list of titles\n",
    "fields = fields + [new_project_title]"
   ]
  },
  {
   "cell_type": "code",
   "execution_count": 10,
   "metadata": {},
   "outputs": [
    {
     "data": {
      "text/plain": [
       "True"
      ]
     },
     "execution_count": 10,
     "metadata": {},
     "output_type": "execute_result"
    }
   ],
   "source": [
    "# Check that the last field is the project title we are trying to predict\n",
    "fields[-1] == new_project_title"
   ]
  },
  {
   "cell_type": "markdown",
   "metadata": {},
   "source": [
    "### Generate cosine similarities for ALL profiles"
   ]
  },
  {
   "cell_type": "code",
   "execution_count": 11,
   "metadata": {},
   "outputs": [
    {
     "name": "stdout",
     "output_type": "stream",
     "text": [
      "<class 'scipy.sparse.csr.csr_matrix'>\n"
     ]
    }
   ],
   "source": [
    "# Generate the cosine similarities for all the fields\n",
    "tfidf_matrix = tf.fit_transform(fields)\n",
    "print(type(tfidf_matrix))\n",
    "cosine_similarities = cosine_similarity(tfidf_matrix, Y=None, dense_output=True)"
   ]
  },
  {
   "cell_type": "code",
   "execution_count": 12,
   "metadata": {},
   "outputs": [
    {
     "data": {
      "text/plain": [
       "True"
      ]
     },
     "execution_count": 12,
     "metadata": {},
     "output_type": "execute_result"
    }
   ],
   "source": [
    "# Check that the cosine similarity is symmetrical\n",
    "def check_symmetric(a, rtol=1e-05, atol=1e-08):\n",
    "    return np.allclose(a, a.T, rtol=rtol, atol=atol)\n",
    "check_symmetric(cosine_similarities)"
   ]
  },
  {
   "cell_type": "markdown",
   "metadata": {},
   "source": [
    "### Extract the top 10 predictions"
   ]
  },
  {
   "cell_type": "code",
   "execution_count": 13,
   "metadata": {},
   "outputs": [],
   "source": [
    "# Get the predictions for each user profiles and their likelihood of picking the new project\n",
    "predictions = cosine_similarities[-1][:-1]"
   ]
  },
  {
   "cell_type": "code",
   "execution_count": 14,
   "metadata": {},
   "outputs": [
    {
     "name": "stdout",
     "output_type": "stream",
     "text": [
      "(4866,)\n",
      "(4866, 1222)\n"
     ]
    }
   ],
   "source": [
    "print(predictions.shape)\n",
    "print(profilesProjects.shape)"
   ]
  },
  {
   "cell_type": "code",
   "execution_count": 15,
   "metadata": {},
   "outputs": [
    {
     "name": "stdout",
     "output_type": "stream",
     "text": [
      "[2092 2252 4099 1745 3961 2461  672 4312  602 2846]\n"
     ]
    }
   ],
   "source": [
    "# Get the index of the top 10 likely projects\n",
    "top_10_idx = predictions.argsort()[-10:][::-1]\n",
    "print(top_10_idx)"
   ]
  },
  {
   "cell_type": "code",
   "execution_count": 16,
   "metadata": {},
   "outputs": [],
   "source": [
    "# Get the IDs of the profiles that would pick this project\n",
    "topMatchedProfiles = profilesProjects.iloc[top_10_idx]['profile'].tolist()"
   ]
  },
  {
   "cell_type": "code",
   "execution_count": 17,
   "metadata": {},
   "outputs": [
    {
     "data": {
      "text/plain": [
       "['6d5c9634642fc196d0bd9ff4363fdc74',\n",
       " '76adf5149e8b84299df0fdd846225bbb',\n",
       " 'd7e88c594631815d34955309f22ec329',\n",
       " '5afd76d8d1dccf78c2612404f1a7eebc',\n",
       " 'd072e2f6220eeface469d7030df08e74',\n",
       " '829fba241248a3edf995c7ea601dcfc7',\n",
       " '24384a5d0f2239b9c56fd7cc85ce00fe',\n",
       " 'e24d9e0917deafdac2ce9bd16d6f2bdd',\n",
       " '2074f4ce0ab57aafc32d20f6d59d6ce8',\n",
       " '94310374ddbe2cd489c9ab09e92d86b3']"
      ]
     },
     "execution_count": 17,
     "metadata": {},
     "output_type": "execute_result"
    }
   ],
   "source": [
    "topMatchedProfiles"
   ]
  },
  {
   "cell_type": "markdown",
   "metadata": {},
   "source": [
    "### Extract all > 0.1 predictions"
   ]
  },
  {
   "cell_type": "code",
   "execution_count": 18,
   "metadata": {},
   "outputs": [
    {
     "name": "stdout",
     "output_type": "stream",
     "text": [
      "[ 602  612  672 1111 1649 1745 2092 2252 2461 2846 3665 3961 4099 4312\n",
      " 4423]\n"
     ]
    }
   ],
   "source": [
    "# Get the index of all the profiles that are greater than 0.1 likelihood\n",
    "pred = (predictions > 0.1)*1\n",
    "pred_idx = np.argwhere(pred).flatten()\n",
    "print(pred_idx)"
   ]
  },
  {
   "cell_type": "code",
   "execution_count": 19,
   "metadata": {},
   "outputs": [],
   "source": [
    "# Get the IDs of the profiles that would pick this project\n",
    "matchedProfiles = profilesProjects.iloc[pred_idx]['profile'].tolist()"
   ]
  },
  {
   "cell_type": "code",
   "execution_count": 20,
   "metadata": {},
   "outputs": [
    {
     "data": {
      "text/plain": [
       "['2074f4ce0ab57aafc32d20f6d59d6ce8',\n",
       " '2141c910dea1e351510b821203bc1261',\n",
       " '24384a5d0f2239b9c56fd7cc85ce00fe',\n",
       " '3a2ceee160a0ae1f5798c965dac3e2e1',\n",
       " '55c3a0cfdfdb149092f28db9b76bb2da',\n",
       " '5afd76d8d1dccf78c2612404f1a7eebc',\n",
       " '6d5c9634642fc196d0bd9ff4363fdc74',\n",
       " '76adf5149e8b84299df0fdd846225bbb',\n",
       " '829fba241248a3edf995c7ea601dcfc7',\n",
       " '94310374ddbe2cd489c9ab09e92d86b3',\n",
       " 'c03caceeb4ac5ec796271393194e5b90',\n",
       " 'd072e2f6220eeface469d7030df08e74',\n",
       " 'd7e88c594631815d34955309f22ec329',\n",
       " 'e24d9e0917deafdac2ce9bd16d6f2bdd',\n",
       " 'e8f6cb3b7cb818ee8e0fee62937a2f48']"
      ]
     },
     "execution_count": 20,
     "metadata": {},
     "output_type": "execute_result"
    }
   ],
   "source": [
    "matchedProfiles"
   ]
  },
  {
   "cell_type": "markdown",
   "metadata": {},
   "source": [
    "# Precision and Recall"
   ]
  },
  {
   "cell_type": "code",
   "execution_count": 21,
   "metadata": {},
   "outputs": [
    {
     "name": "stdout",
     "output_type": "stream",
     "text": [
      "169\n"
     ]
    }
   ],
   "source": [
    "print(test_project_id)"
   ]
  },
  {
   "cell_type": "code",
   "execution_count": 22,
   "metadata": {},
   "outputs": [],
   "source": [
    "# Extract the true values for this project\n",
    "y_true = profilesProjects[test_project_id]"
   ]
  },
  {
   "cell_type": "code",
   "execution_count": 23,
   "metadata": {},
   "outputs": [
    {
     "ename": "SyntaxError",
     "evalue": "invalid syntax (<ipython-input-23-724f40370e68>, line 2)",
     "output_type": "error",
     "traceback": [
      "\u001b[0;36m  File \u001b[0;32m\"<ipython-input-23-724f40370e68>\"\u001b[0;36m, line \u001b[0;32m2\u001b[0m\n\u001b[0;31m    y_pred =\u001b[0m\n\u001b[0m              ^\u001b[0m\n\u001b[0;31mSyntaxError\u001b[0m\u001b[0;31m:\u001b[0m invalid syntax\n"
     ]
    }
   ],
   "source": [
    "# Get the predicted values for this project\n",
    "y_pred =  "
   ]
  },
  {
   "cell_type": "code",
   "execution_count": null,
   "metadata": {},
   "outputs": [],
   "source": [
    "# Check the sizes\n",
    "print(y_true.shape == y_pred.shape)"
   ]
  },
  {
   "cell_type": "code",
   "execution_count": null,
   "metadata": {},
   "outputs": [],
   "source": [
    "from sklearn.metrics import precision_recall_fscore_support\n",
    "precision_recall_fscore_support(y_true, y_pred, average='macro')"
   ]
  },
  {
   "cell_type": "markdown",
   "metadata": {},
   "source": [
    "### Review the IDs of the profiles for y_true and y_pred"
   ]
  },
  {
   "cell_type": "code",
   "execution_count": null,
   "metadata": {},
   "outputs": [],
   "source": [
    "# Get the index of profiles that actually participated in the project\n",
    "y_true_idx = np.argwhere(y_true).flatten()\n",
    "\n",
    "# Get the IDs of the profiles that would pick this project\n",
    "trueProfiles = profilesProjects.iloc[y_true_idx]['profile'].tolist()\n",
    "print(trueProfiles)"
   ]
  },
  {
   "cell_type": "code",
   "execution_count": null,
   "metadata": {},
   "outputs": [],
   "source": [
    "# Get the index of profiles that actually participated in the project\n",
    "y_pred_idx = np.argwhere(y_pred).flatten()\n",
    "\n",
    "# Get the IDs of the profiles that would pick this project\n",
    "predProfiles = profilesProjects.iloc[y_pred_idx]['profile'].tolist()\n",
    "print(predProfiles)"
   ]
  },
  {
   "cell_type": "code",
   "execution_count": null,
   "metadata": {},
   "outputs": [],
   "source": []
  }
 ],
 "metadata": {
  "kernelspec": {
   "display_name": "Python 3",
   "language": "python",
   "name": "python3"
  },
  "language_info": {
   "codemirror_mode": {
    "name": "ipython",
    "version": 3
   },
   "file_extension": ".py",
   "mimetype": "text/x-python",
   "name": "python",
   "nbconvert_exporter": "python",
   "pygments_lexer": "ipython3",
   "version": "3.6.8"
  }
 },
 "nbformat": 4,
 "nbformat_minor": 2
}
